{
 "cells": [
  {
   "cell_type": "code",
   "execution_count": 68,
   "metadata": {
    "ExecuteTime": {
     "end_time": "2019-05-26T03:41:30.955417Z",
     "start_time": "2019-05-26T03:41:30.948386Z"
    }
   },
   "outputs": [],
   "source": [
    "class Solution:\n",
    "    def rearrangeBarcodes(self, barcodes: list) -> list:\n",
    "        from collections import Counter\n",
    "        cnter = dict(Counter(barcodes))\n",
    "        ret = [0 * len(barcodes)]\n",
    "        cnter = [(i,cnter[i]) for i in cnter.keys()]\n",
    "        cnter = sorted(cnter,key=lambda x:x[1])\n",
    "        ret = [cnter[-1][0] for _ in range(cnter[-1][1])]\n",
    "        cnter.pop()\n",
    "        p = 1\n",
    "        while cnter:\n",
    "            c = cnter.pop()\n",
    "            for _ in range(c[1]):\n",
    "                ret.insert(p, c[0])\n",
    "                p += 2\n",
    "                if p > len(ret)-1:\n",
    "                    p = 0\n",
    "        return ret"
   ]
  },
  {
   "cell_type": "code",
   "execution_count": 69,
   "metadata": {
    "ExecuteTime": {
     "end_time": "2019-05-26T03:41:31.176077Z",
     "start_time": "2019-05-26T03:41:31.171062Z"
    }
   },
   "outputs": [
    {
     "name": "stdout",
     "output_type": "stream",
     "text": [
      "[2, 1, 3, 1, 3, 1, 2, 1] [1, 3, 1, 3, 2, 1, 2, 1]\n",
      "[2, 3, 1, 3, 1, 3, 2, 3] [1, 3, 1, 3, 2, 1, 2, 1]\n",
      "[3, 1, 2, 3, 2, 1]\n",
      "[1, 2, 1]\n"
     ]
    }
   ],
   "source": [
    "so = Solution()\n",
    "print(so.rearrangeBarcodes([1,1,1,1,2,2,3,3]),[1,3,1,3,2,1,2,1])\n",
    "print(so.rearrangeBarcodes([2,2,3,3,3,3,1,1]),[1,3,1,3,2,1,2,1])\n",
    "print(so.rearrangeBarcodes([2,2,3,3,1,1]))\n",
    "print(so.rearrangeBarcodes([2,1,1]))"
   ]
  }
 ],
 "metadata": {
  "kernelspec": {
   "display_name": "Python 3",
   "language": "python",
   "name": "python3"
  },
  "language_info": {
   "codemirror_mode": {
    "name": "ipython",
    "version": 3
   },
   "file_extension": ".py",
   "mimetype": "text/x-python",
   "name": "python",
   "nbconvert_exporter": "python",
   "pygments_lexer": "ipython3",
   "version": "3.7.0"
  },
  "latex_envs": {
   "LaTeX_envs_menu_present": true,
   "autoclose": false,
   "autocomplete": true,
   "bibliofile": "biblio.bib",
   "cite_by": "apalike",
   "current_citInitial": 1,
   "eqLabelWithNumbers": true,
   "eqNumInitial": 1,
   "hotkeys": {
    "equation": "Ctrl-E",
    "itemize": "Ctrl-I"
   },
   "labels_anchors": false,
   "latex_user_defs": false,
   "report_style_numbering": false,
   "user_envs_cfg": false
  }
 },
 "nbformat": 4,
 "nbformat_minor": 2
}
