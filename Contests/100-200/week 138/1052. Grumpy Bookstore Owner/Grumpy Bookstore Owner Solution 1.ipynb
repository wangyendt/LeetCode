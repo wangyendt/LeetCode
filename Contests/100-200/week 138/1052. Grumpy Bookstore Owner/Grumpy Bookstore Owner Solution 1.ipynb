{
 "cells": [
  {
   "cell_type": "code",
   "execution_count": 58,
   "metadata": {
    "ExecuteTime": {
     "end_time": "2019-05-26T03:01:28.188356Z",
     "start_time": "2019-05-26T03:01:28.180372Z"
    }
   },
   "outputs": [],
   "source": [
    "class Solution:\n",
    "    def maxSatisfied(self, customers: list, grumpy: list, X: int) -> int:\n",
    "        m, n = len(customers), X\n",
    "        if m == X:\n",
    "            return sum(customers)\n",
    "        preSum = ret = sum([customers[i]*(1-grumpy[i]) for i in range(m)])\n",
    "#         print(m,n,ret)\n",
    "        for xStart in range(m-n+1):\n",
    "            if xStart == 0:\n",
    "                preSum = preSum+sum(customers[i] for i in range(n) if grumpy[i] == 1)\n",
    "                ret = max(ret, preSum)\n",
    "            else:\n",
    "                preSum = preSum - customers[xStart-1]*grumpy[xStart-1] + customers[xStart+n-1]*grumpy[xStart+n-1]\n",
    "                ret = max(ret, preSum)\n",
    "#             print(xStart, ret, preSum)\n",
    "        return ret"
   ]
  },
  {
   "cell_type": "code",
   "execution_count": 59,
   "metadata": {
    "ExecuteTime": {
     "end_time": "2019-05-26T03:01:28.384715Z",
     "start_time": "2019-05-26T03:01:28.379698Z"
    }
   },
   "outputs": [
    {
     "name": "stdout",
     "output_type": "stream",
     "text": [
      "16 16\n",
      "1 1\n",
      "3 3\n",
      "16 16\n",
      "13 13\n"
     ]
    }
   ],
   "source": [
    "so = Solution()\n",
    "print(so.maxSatisfied([1,0,1,2,1,1,7,5],[0,1,0,1,0,1,0,1],3),16)\n",
    "print(so.maxSatisfied([1],[1],1),1)\n",
    "print(so.maxSatisfied([1,2],[1,0],1),3)\n",
    "print(so.maxSatisfied([8,8],[1,0],2),16)\n",
    "print(so.maxSatisfied([5,8],[0,1],1),13)"
   ]
  }
 ],
 "metadata": {
  "kernelspec": {
   "display_name": "Python 3",
   "language": "python",
   "name": "python3"
  },
  "language_info": {
   "codemirror_mode": {
    "name": "ipython",
    "version": 3
   },
   "file_extension": ".py",
   "mimetype": "text/x-python",
   "name": "python",
   "nbconvert_exporter": "python",
   "pygments_lexer": "ipython3",
   "version": "3.7.0"
  },
  "latex_envs": {
   "LaTeX_envs_menu_present": true,
   "autoclose": false,
   "autocomplete": true,
   "bibliofile": "biblio.bib",
   "cite_by": "apalike",
   "current_citInitial": 1,
   "eqLabelWithNumbers": true,
   "eqNumInitial": 1,
   "hotkeys": {
    "equation": "Ctrl-E",
    "itemize": "Ctrl-I"
   },
   "labels_anchors": false,
   "latex_user_defs": false,
   "report_style_numbering": false,
   "user_envs_cfg": false
  }
 },
 "nbformat": 4,
 "nbformat_minor": 2
}
