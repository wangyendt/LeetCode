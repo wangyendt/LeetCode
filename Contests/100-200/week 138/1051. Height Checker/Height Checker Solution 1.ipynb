{
 "cells": [
  {
   "cell_type": "code",
   "execution_count": 12,
   "metadata": {
    "ExecuteTime": {
     "end_time": "2019-05-26T02:37:07.829719Z",
     "start_time": "2019-05-26T02:37:07.826711Z"
    }
   },
   "outputs": [],
   "source": [
    "class Solution:\n",
    "    def heightChecker(self, heights: list) -> int:\n",
    "        if len(heights) < 2:\n",
    "            return 0\n",
    "        return sum(heights[i]!=sorted(heights)[i] for i in range(len(heights)))"
   ]
  },
  {
   "cell_type": "code",
   "execution_count": 13,
   "metadata": {
    "ExecuteTime": {
     "end_time": "2019-05-26T02:37:08.047918Z",
     "start_time": "2019-05-26T02:37:08.042905Z"
    }
   },
   "outputs": [
    {
     "name": "stdout",
     "output_type": "stream",
     "text": [
      "3\n",
      "4\n"
     ]
    }
   ],
   "source": [
    "so = Solution()\n",
    "print(so.heightChecker([1,1,4,2,1,3]))\n",
    "print(so.heightChecker([2,1,2,1,1,2,2,1]))"
   ]
  }
 ],
 "metadata": {
  "kernelspec": {
   "display_name": "Python 3",
   "language": "python",
   "name": "python3"
  },
  "language_info": {
   "codemirror_mode": {
    "name": "ipython",
    "version": 3
   },
   "file_extension": ".py",
   "mimetype": "text/x-python",
   "name": "python",
   "nbconvert_exporter": "python",
   "pygments_lexer": "ipython3",
   "version": "3.7.0"
  },
  "latex_envs": {
   "LaTeX_envs_menu_present": true,
   "autoclose": false,
   "autocomplete": true,
   "bibliofile": "biblio.bib",
   "cite_by": "apalike",
   "current_citInitial": 1,
   "eqLabelWithNumbers": true,
   "eqNumInitial": 1,
   "hotkeys": {
    "equation": "Ctrl-E",
    "itemize": "Ctrl-I"
   },
   "labels_anchors": false,
   "latex_user_defs": false,
   "report_style_numbering": false,
   "user_envs_cfg": false
  }
 },
 "nbformat": 4,
 "nbformat_minor": 2
}
