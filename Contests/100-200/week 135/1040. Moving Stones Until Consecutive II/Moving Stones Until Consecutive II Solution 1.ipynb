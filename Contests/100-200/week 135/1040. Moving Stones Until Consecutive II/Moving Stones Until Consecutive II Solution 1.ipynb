{
 "cells": [
  {
   "cell_type": "code",
   "execution_count": 8,
   "metadata": {
    "ExecuteTime": {
     "end_time": "2019-05-08T14:05:06.876728Z",
     "start_time": "2019-05-08T14:05:06.866702Z"
    }
   },
   "outputs": [],
   "source": [
    "class Solution:\n",
    "    def numMovesStonesII(self, stones: list) -> list:\n",
    "        stones.sort()\n",
    "        n = len(stones)\n",
    "        if stones[-1] - stones[0] == n-1:\n",
    "            return [0,0]\n",
    "        if stones[-2]-stones[0] == n-2:\n",
    "            if stones[-1]-stones[-2] == 2:\n",
    "                m, M = 1, stones[-1]-stones[-2]-1\n",
    "            else:\n",
    "                m, M = 2, stones[-1]-stones[-2]-1\n",
    "        elif stones[-1]-stones[1] == n-2:\n",
    "            if stones[1]-stones[0] == 2:\n",
    "                m, M = 1, stones[1]-stones[0]-1\n",
    "            else:\n",
    "                m, M = 2, stones[1]-stones[0]-1\n",
    "        else:\n",
    "            m, M = n-1, stones[1]-stones[0]-1 if stones[1]-stones[0] > stones[-1]-stones[-2] else stones[-1]-stones[-2]-1\n",
    "            maxGap = 0\n",
    "            for i in range(n-1):\n",
    "                if stones[i+1]-stones[i] < n:\n",
    "                    gap = maxGap+1\n",
    "                    while i+gap<n:\n",
    "                        if stones[i+gap]-stones[i] < n:\n",
    "                            maxGap = max(maxGap, gap)\n",
    "                        else:\n",
    "                            break\n",
    "                        gap += 1\n",
    "                if 0 < i < n-2:\n",
    "                    M += stones[i+1]-stones[i]-1\n",
    "            m -= maxGap\n",
    "        return [m, M]"
   ]
  },
  {
   "cell_type": "code",
   "execution_count": 9,
   "metadata": {
    "ExecuteTime": {
     "end_time": "2019-05-08T14:05:07.376193Z",
     "start_time": "2019-05-08T14:05:07.370178Z"
    }
   },
   "outputs": [
    {
     "name": "stdout",
     "output_type": "stream",
     "text": [
      "[1, 2] [1, 2]\n",
      "[2, 5] [2, 5]\n",
      "[3, 17] [3, 17]\n",
      "[3, 12] [3, 12]\n",
      "[2, 3] [2, 3]\n",
      "[0, 0] [0, 0]\n",
      "[1, 1] [1, 1]\n"
     ]
    }
   ],
   "source": [
    "so = Solution()\n",
    "print(so.numMovesStonesII([7,4,9]),[1,2])\n",
    "print(so.numMovesStonesII([1,5,8,10]),[2,5])\n",
    "print(so.numMovesStonesII([1,8,17,27]),[3,17])\n",
    "print(so.numMovesStonesII([1,4,8,9,11,20]),[3,12])\n",
    "print(so.numMovesStonesII([6,5,4,3,10]),[2,3])\n",
    "print(so.numMovesStonesII([100,101,104,102,103]),[0,0])\n",
    "print(so.numMovesStonesII([8,7,6,5,10]),[1,1])"
   ]
  }
 ],
 "metadata": {
  "kernelspec": {
   "display_name": "Python 3",
   "language": "python",
   "name": "python3"
  },
  "language_info": {
   "codemirror_mode": {
    "name": "ipython",
    "version": 3
   },
   "file_extension": ".py",
   "mimetype": "text/x-python",
   "name": "python",
   "nbconvert_exporter": "python",
   "pygments_lexer": "ipython3",
   "version": "3.7.0"
  },
  "latex_envs": {
   "LaTeX_envs_menu_present": true,
   "autoclose": false,
   "autocomplete": true,
   "bibliofile": "biblio.bib",
   "cite_by": "apalike",
   "current_citInitial": 1,
   "eqLabelWithNumbers": true,
   "eqNumInitial": 1,
   "hotkeys": {
    "equation": "Ctrl-E",
    "itemize": "Ctrl-I"
   },
   "labels_anchors": false,
   "latex_user_defs": false,
   "report_style_numbering": false,
   "user_envs_cfg": false
  }
 },
 "nbformat": 4,
 "nbformat_minor": 2
}
