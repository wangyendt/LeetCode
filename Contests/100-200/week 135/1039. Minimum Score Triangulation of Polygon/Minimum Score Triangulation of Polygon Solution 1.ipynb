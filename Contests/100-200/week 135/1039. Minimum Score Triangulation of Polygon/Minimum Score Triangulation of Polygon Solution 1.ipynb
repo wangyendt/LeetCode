{
 "cells": [
  {
   "cell_type": "code",
   "execution_count": 29,
   "metadata": {
    "ExecuteTime": {
     "end_time": "2019-05-07T14:56:39.978177Z",
     "start_time": "2019-05-07T14:56:39.973167Z"
    }
   },
   "outputs": [],
   "source": [
    "class Solution:\n",
    "    def minScoreTriangulation(self, A: list) -> int:\n",
    "        # fix edge solution\n",
    "        n = len(A)\n",
    "        dp = [[0 for _ in range(n)] for _ in range(n)]\n",
    "        for gap in range(2, n):\n",
    "            for start in range(n-gap):\n",
    "                i, j = start, start+gap\n",
    "                if j-i == 2:\n",
    "                    # gap == 2\n",
    "                    dp[i][j] = A[i]*A[i+1]*A[j]\n",
    "                else:\n",
    "                    dp[i][j] = float('Inf')\n",
    "                    for k in range(i+1, j):\n",
    "                        dp[i][j] = min(dp[i][j], dp[i][k]+dp[k][j]+A[i]*A[j]*A[k])\n",
    "        [print(d) for d in dp]\n",
    "        return dp[0][n-1]"
   ]
  },
  {
   "cell_type": "code",
   "execution_count": 32,
   "metadata": {
    "ExecuteTime": {
     "end_time": "2019-05-07T14:58:16.745454Z",
     "start_time": "2019-05-07T14:58:16.740443Z"
    }
   },
   "outputs": [
    {
     "name": "stdout",
     "output_type": "stream",
     "text": [
      "[0, 0, 3, 7, 8, 13]\n",
      "[0, 0, 0, 12, 7, 22]\n",
      "[0, 0, 0, 0, 4, 9]\n",
      "[0, 0, 0, 0, 0, 20]\n",
      "[0, 0, 0, 0, 0, 0]\n",
      "[0, 0, 0, 0, 0, 0]\n",
      "13 13\n",
      "[0, 0]\n",
      "[0, 0]\n",
      "0 0\n",
      "[0]\n",
      "0 0\n"
     ]
    }
   ],
   "source": [
    "so = Solution()\n",
    "print(so.minScoreTriangulation([1,3,1,4,1,5]), 13)\n",
    "print(so.minScoreTriangulation([1,3]), 0)\n",
    "print(so.minScoreTriangulation([1]), 0)"
   ]
  }
 ],
 "metadata": {
  "kernelspec": {
   "display_name": "Python 3",
   "language": "python",
   "name": "python3"
  },
  "language_info": {
   "codemirror_mode": {
    "name": "ipython",
    "version": 3
   },
   "file_extension": ".py",
   "mimetype": "text/x-python",
   "name": "python",
   "nbconvert_exporter": "python",
   "pygments_lexer": "ipython3",
   "version": "3.7.0"
  },
  "latex_envs": {
   "LaTeX_envs_menu_present": true,
   "autoclose": false,
   "autocomplete": true,
   "bibliofile": "biblio.bib",
   "cite_by": "apalike",
   "current_citInitial": 1,
   "eqLabelWithNumbers": true,
   "eqNumInitial": 1,
   "hotkeys": {
    "equation": "Ctrl-E",
    "itemize": "Ctrl-I"
   },
   "labels_anchors": false,
   "latex_user_defs": false,
   "report_style_numbering": false,
   "user_envs_cfg": false
  }
 },
 "nbformat": 4,
 "nbformat_minor": 2
}
