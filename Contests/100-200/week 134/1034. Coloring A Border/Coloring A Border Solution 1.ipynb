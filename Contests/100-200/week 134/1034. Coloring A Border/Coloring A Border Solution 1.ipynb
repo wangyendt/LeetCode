{
 "cells": [
  {
   "cell_type": "code",
   "execution_count": 93,
   "metadata": {
    "ExecuteTime": {
     "end_time": "2019-04-28T04:10:47.924352Z",
     "start_time": "2019-04-28T04:10:47.906276Z"
    }
   },
   "outputs": [],
   "source": [
    "class Solution:\n",
    "    def colorBorder(self, grid: list(list()), r0: int, c0: int, color: int) -> list(list()):\n",
    "        newGrid = [[grid[r][c] for c in range(len(grid[0]))] for r in range(len(grid))]\n",
    "        mainColor = grid[r0][c0]\n",
    "        rows, cols = len(grid), len(grid[0])\n",
    "        markedGrid = [[[0 for _ in range(4)] for _ in range(cols)] for _ in range(rows)]\n",
    "#         print(markedGrid)\n",
    "        # up down left right\n",
    "        stack = [(r0, c0)]\n",
    "        while stack:\n",
    "            sq = stack.pop(0)\n",
    "            print(sq, markedGrid[sq[0]][sq[1]][0])\n",
    "            if not markedGrid[sq[0]][sq[1]][0]:\n",
    "                r, c = sq[0], sq[1]\n",
    "                if c != 0 and grid[r][c] == grid[r][c-1]:\n",
    "                    stack.append((r, c-1))\n",
    "                if c != cols-1 and grid[r][c] == grid[r][c+1]:\n",
    "                    stack.append((r, c+1))\n",
    "                if r == 0:\n",
    "                    newGrid[r][c] = color\n",
    "                else:\n",
    "                    if grid[r-1][c] == grid[r][c]:\n",
    "                        stack.append((r-1,c))\n",
    "                    else:\n",
    "                        newGrid[r][c] = color\n",
    "                    markedGrid[r-1][c][1] = 1\n",
    "                markedGrid[r][c][0] = 1\n",
    "            if not markedGrid[sq[0]][sq[1]][1]:\n",
    "                r, c= sq[0], sq[1]\n",
    "                if c != 0 and grid[r][c] == grid[r][c-1]:\n",
    "                    stack.append((r, c-1))\n",
    "                if c != cols-1 and grid[r][c] == grid[r][c+1]:\n",
    "                    stack.append((r, c+1))\n",
    "                if r == rows-1:\n",
    "                    newGrid[r][c] = color\n",
    "                else:\n",
    "                    if grid[r+1][c] == grid[r][c]:\n",
    "                        stack.append((r+1,c))\n",
    "                    else:\n",
    "                        newGrid[r][c] = color\n",
    "                    markedGrid[r+1][c][0] = 1\n",
    "                markedGrid[r][c][1] = 1\n",
    "            if not markedGrid[sq[0]][sq[1]][2]:\n",
    "                r, c= sq[0], sq[1]\n",
    "                if r != 0 and grid[r][c] == grid[r-1][c]:\n",
    "                    stack.append((r-1,c))\n",
    "                if r != rows-1 and grid[r][c] == grid[r+1][c]:\n",
    "                    stack.append((r+1,c))\n",
    "                if c == 0:\n",
    "                    newGrid[r][c] = color\n",
    "                else:\n",
    "                    if grid[r][c-1] == grid[r][c]:\n",
    "                        stack.append((r,c-1))\n",
    "                    else:\n",
    "                        newGrid[r][c] = color\n",
    "                    markedGrid[r][c-1][3] = 1\n",
    "                markedGrid[r][c][2] = 1\n",
    "            if not markedGrid[sq[0]][sq[1]][3]:\n",
    "                r, c= sq[0], sq[1]\n",
    "                if r != 0 and grid[r][c] == grid[r-1][c]:\n",
    "                    stack.append((r-1,c))\n",
    "                if r != rows-1 and grid[r][c] == grid[r+1][c]:\n",
    "                    stack.append((r+1,c))\n",
    "                if c == cols-1:\n",
    "                    newGrid[r][c] = color\n",
    "                else:\n",
    "                    if grid[r][c+1] == grid[r][c]:\n",
    "                        stack.append((r,c+1))\n",
    "                    else:\n",
    "                        newGrid[r][c] = color\n",
    "                    markedGrid[r][c+1][2] = 1\n",
    "                markedGrid[r][c][3] = 1\n",
    "        return newGrid"
   ]
  },
  {
   "cell_type": "code",
   "execution_count": 94,
   "metadata": {
    "ExecuteTime": {
     "end_time": "2019-04-28T04:10:48.169995Z",
     "start_time": "2019-04-28T04:10:48.162961Z"
    }
   },
   "outputs": [
    {
     "name": "stdout",
     "output_type": "stream",
     "text": [
      "(4, 4) 0\n",
      "(3, 4) 0\n",
      "(3, 4) 1\n",
      "(3, 4) 1\n",
      "(3, 3) 0\n",
      "(3, 5) 0\n",
      "(2, 4) 0\n",
      "(2, 4) 1\n",
      "(4, 4) 1\n",
      "(3, 3) 1\n",
      "(2, 4) 1\n",
      "(4, 4) 1\n",
      "(3, 5) 1\n",
      "(3, 2) 0\n",
      "(3, 4) 1\n",
      "(2, 3) 0\n",
      "(3, 2) 1\n",
      "(3, 4) 1\n",
      "(2, 3) 1\n",
      "(3, 2) 1\n",
      "(3, 4) 1\n",
      "(3, 6) 0\n",
      "(2, 5) 0\n",
      "(3, 4) 1\n",
      "(3, 6) 1\n",
      "(2, 5) 1\n",
      "(3, 6) 1\n",
      "(2, 3) 1\n",
      "(2, 5) 1\n",
      "(1, 4) 0\n",
      "(1, 4) 1\n",
      "(3, 4) 1\n",
      "(2, 3) 1\n",
      "(1, 4) 1\n",
      "(3, 4) 1\n",
      "(2, 5) 1\n",
      "(3, 3) 1\n",
      "(3, 3) 1\n",
      "(2, 4) 1\n",
      "(3, 3) 1\n",
      "(3, 5) 1\n",
      "(2, 6) 0\n",
      "(3, 5) 1\n",
      "(4, 6) 1\n",
      "(2, 6) 1\n",
      "(4, 6) 1\n",
      "(2, 4) 1\n",
      "(2, 6) 1\n",
      "(3, 5) 1\n",
      "(2, 6) 1\n",
      "(2, 4) 1\n",
      "(2, 4) 1\n",
      "(2, 5) 1\n",
      "(1, 6) 0\n",
      "(1, 6) 1\n",
      "(3, 6) 1\n",
      "(3, 6) 1\n",
      "(3, 6) 1\n",
      "(0, 6) 0\n",
      "(0, 6) 1\n",
      "(2, 6) 1\n",
      "(0, 6) 1\n",
      "(2, 6) 1\n",
      "(1, 6) 1\n",
      "(1, 6) 1\n",
      "[[2, 1, 3, 2, 1, 1, 3], [1, 2, 3, 1, 3, 1, 3], [1, 2, 1, 3, 2, 3, 3], [2, 1, 3, 3, 2, 3, 3], [2, 3, 3, 3, 3, 1, 3]]\n",
      "[[2, 1, 3, 2, 1, 1, 3], [1, 2, 3, 1, 3, 1, 3], [1, 2, 1, 3, 2, 3, 3], [2, 1, 3, 3, 2, 3, 3], [2, 3, 3, 3, 3, 1, 3]]\n"
     ]
    }
   ],
   "source": [
    "so = Solution()\n",
    "# print(so.colorBorder([[1,2,2],[2,3,2]], 0, 1, 3), [[1, 3, 3], [2, 3, 3]])\n",
    "# print(so.colorBorder([[1,1],[1,2]], 0, 0, 3), [[3,3],[3,2]])\n",
    "print(so.colorBorder([[2,1,3,2,1,1,2],[1,2,3,1,2,1,2],[1,2,1,2,2,2,2],[2,1,2,2,2,2,2],[2,3,3,3,2,1,2]],4,4,3))\n",
    "print([[2,1,3,2,1,1,3],[1,2,3,1,3,1,3],[1,2,1,3,2,3,3],[2,1,3,3,2,3,3],[2,3,3,3,3,1,3]])"
   ]
  }
 ],
 "metadata": {
  "kernelspec": {
   "display_name": "Python 3",
   "language": "python",
   "name": "python3"
  },
  "language_info": {
   "codemirror_mode": {
    "name": "ipython",
    "version": 3
   },
   "file_extension": ".py",
   "mimetype": "text/x-python",
   "name": "python",
   "nbconvert_exporter": "python",
   "pygments_lexer": "ipython3",
   "version": "3.6.7"
  },
  "latex_envs": {
   "LaTeX_envs_menu_present": true,
   "autoclose": false,
   "autocomplete": true,
   "bibliofile": "biblio.bib",
   "cite_by": "apalike",
   "current_citInitial": 1,
   "eqLabelWithNumbers": true,
   "eqNumInitial": 1,
   "hotkeys": {
    "equation": "Ctrl-E",
    "itemize": "Ctrl-I"
   },
   "labels_anchors": false,
   "latex_user_defs": false,
   "report_style_numbering": false,
   "user_envs_cfg": false
  },
  "varInspector": {
   "cols": {
    "lenName": 16,
    "lenType": 16,
    "lenVar": 40
   },
   "kernels_config": {
    "python": {
     "delete_cmd_postfix": "",
     "delete_cmd_prefix": "del ",
     "library": "var_list.py",
     "varRefreshCmd": "print(var_dic_list())"
    },
    "r": {
     "delete_cmd_postfix": ") ",
     "delete_cmd_prefix": "rm(",
     "library": "var_list.r",
     "varRefreshCmd": "cat(var_dic_list()) "
    }
   },
   "types_to_exclude": [
    "module",
    "function",
    "builtin_function_or_method",
    "instance",
    "_Feature"
   ],
   "window_display": false
  }
 },
 "nbformat": 4,
 "nbformat_minor": 2
}
