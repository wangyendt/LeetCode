{
 "cells": [
  {
   "cell_type": "code",
   "execution_count": 5,
   "metadata": {
    "ExecuteTime": {
     "end_time": "2019-05-19T04:25:09.315838Z",
     "start_time": "2019-05-19T04:25:09.311829Z"
    }
   },
   "outputs": [],
   "source": [
    "class Solution:\n",
    "    def lastStoneWeightII(self, stones: list) -> int:\n",
    "        # Same problem as:\n",
    "        # Divide all numbers into two groups,\n",
    "        # what is the minimum difference between the sum of two groups.    def lastStoneWeightII(self, A):\n",
    "        dp, sumA = {0}, sum(stones)\n",
    "        for a in stones:\n",
    "            dp = {a + x for x in dp} | {a - x for x in dp}\n",
    "            print(dp)\n",
    "        return min(abs(x) for x in dp)"
   ]
  },
  {
   "cell_type": "code",
   "execution_count": 7,
   "metadata": {
    "ExecuteTime": {
     "end_time": "2019-05-19T04:25:17.831443Z",
     "start_time": "2019-05-19T04:25:17.827432Z"
    }
   },
   "outputs": [
    {
     "name": "stdout",
     "output_type": "stream",
     "text": [
      "{2}\n",
      "{9, 5}\n",
      "{9, -5, 13, -1}\n",
      "{0, 2, 6, 10, 14, -12, -8, -4}\n",
      "{0, 2, 4, 6, 8, 10, 12, 14, 16, 18, 20, 22, -6, -4, -2}\n",
      "{1, 3, 5, 7, 9, 11, 13, 15, 17, 19, 21, 23, -21, -19, -17, -15, -13, -11, -9, -7, -5, -3, -1}\n",
      "1 1\n"
     ]
    }
   ],
   "source": [
    "so = Solution()\n",
    "print(so.lastStoneWeightII([2,7,4,1,8,1]),1)\n",
    "# print(so.lastStoneWeightII([1,2,4,8,16,32,64,12,25,51]),1)"
   ]
  }
 ],
 "metadata": {
  "kernelspec": {
   "display_name": "Python 3",
   "language": "python",
   "name": "python3"
  },
  "language_info": {
   "codemirror_mode": {
    "name": "ipython",
    "version": 3
   },
   "file_extension": ".py",
   "mimetype": "text/x-python",
   "name": "python",
   "nbconvert_exporter": "python",
   "pygments_lexer": "ipython3",
   "version": "3.7.0"
  },
  "latex_envs": {
   "LaTeX_envs_menu_present": true,
   "autoclose": false,
   "autocomplete": true,
   "bibliofile": "biblio.bib",
   "cite_by": "apalike",
   "current_citInitial": 1,
   "eqLabelWithNumbers": true,
   "eqNumInitial": 1,
   "hotkeys": {
    "equation": "Ctrl-E",
    "itemize": "Ctrl-I"
   },
   "labels_anchors": false,
   "latex_user_defs": false,
   "report_style_numbering": false,
   "user_envs_cfg": false
  }
 },
 "nbformat": 4,
 "nbformat_minor": 2
}
