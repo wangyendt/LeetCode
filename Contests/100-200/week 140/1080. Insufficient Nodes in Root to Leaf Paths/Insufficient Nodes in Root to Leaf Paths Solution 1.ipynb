{
 "cells": [
  {
   "cell_type": "code",
   "execution_count": 3,
   "metadata": {
    "ExecuteTime": {
     "end_time": "2019-06-09T16:25:06.333047Z",
     "start_time": "2019-06-09T16:25:06.330038Z"
    }
   },
   "outputs": [],
   "source": [
    "# Definition for a binary tree node.\n",
    "class TreeNode:\n",
    "    def __init__(self, x):\n",
    "        self.val = x\n",
    "        self.left = None\n",
    "        self.right = None"
   ]
  },
  {
   "cell_type": "code",
   "execution_count": 35,
   "metadata": {
    "ExecuteTime": {
     "end_time": "2019-06-09T17:33:57.756955Z",
     "start_time": "2019-06-09T17:33:57.753947Z"
    }
   },
   "outputs": [],
   "source": [
    "class Solution:\n",
    "    def sufficientSubset(self, root: TreeNode, limit: int) -> TreeNode:\n",
    "        if not root.left and not root.right:\n",
    "            return None if root.val < limit else root\n",
    "        if root.left:\n",
    "            root.left = self.sufficientSubset(root.left, limit-root.val)\n",
    "        if root.right:\n",
    "            root.right = self.sufficientSubset(root.right, limit-root.val)\n",
    "        return root if root.left or root.right else None"
   ]
  },
  {
   "cell_type": "code",
   "execution_count": 36,
   "metadata": {
    "ExecuteTime": {
     "end_time": "2019-06-09T17:33:58.028011Z",
     "start_time": "2019-06-09T17:33:58.025016Z"
    }
   },
   "outputs": [
    {
     "name": "stdout",
     "output_type": "stream",
     "text": [
      "[5, 4, 8, 11, 'null', 17, 4, 7, 1, 'null', 'null', 'null', 'null', 5, 3]\n",
      "[5, 4, 8, 11, 'null', 17, 'null', 7, 'null', 'null', 'null', 'null', 'null', 'null', 'null']\n"
     ]
    }
   ],
   "source": [
    "so = Solution()\n",
    "root = parseTreeNode([5,4,8,11,'null',17,4,7,1,'null','null',5,3])\n",
    "print(showTreeNode(so.sufficientSubset(root, 11)))\n",
    "root = parseTreeNode([5,4,8,11,'null',17,4,7,1,'null','null',4])\n",
    "print(showTreeNode(so.sufficientSubset(root, 22)))"
   ]
  },
  {
   "cell_type": "code",
   "execution_count": 4,
   "metadata": {
    "ExecuteTime": {
     "end_time": "2019-06-09T16:25:07.832585Z",
     "start_time": "2019-06-09T16:25:07.827579Z"
    }
   },
   "outputs": [],
   "source": [
    "def maxDepth(root: TreeNode) -> int:\n",
    "    def recursive(tr, dep):\n",
    "        if not tr:\n",
    "            return dep\n",
    "        else:\n",
    "            return max(recursive(tr.left, dep+1), recursive(tr.right, dep+1))\n",
    "    return recursive(root, 0)\n",
    "\n",
    "def parseTreeNode(l):\n",
    "    if not l:\n",
    "        return None\n",
    "    tree = TreeNode(l[0])\n",
    "    leaves = [tree]\n",
    "    l.pop(0)\n",
    "    while l:\n",
    "        leavesTmp = []\n",
    "        for t in leaves:\n",
    "            if l[0] == 'null':\n",
    "                t.left = None\n",
    "            else:\n",
    "                t.left = TreeNode(l[0])\n",
    "                leavesTmp.append(t.left)\n",
    "            l.pop(0)\n",
    "            if l:\n",
    "                if l[0] == 'null':\n",
    "                    t.right = None\n",
    "                else:\n",
    "                    t.right = TreeNode(l[0])\n",
    "                    leavesTmp.append(t.right)\n",
    "                l.pop(0)\n",
    "            if not l:\n",
    "                break\n",
    "            leaves = leavesTmp\n",
    "    return tree        \n",
    "\n",
    "def showTreeNode(tree: TreeNode):\n",
    "    stack = [tree]\n",
    "    ret = []\n",
    "    while stack and len(ret) < 2**maxDepth(tree)-1:\n",
    "        tr = stack.pop(0)\n",
    "        if not tr:\n",
    "            ret.append('null')\n",
    "            stack.append(None)\n",
    "            stack.append(None)\n",
    "        else:\n",
    "            ret.append(tr.val)\n",
    "            stack.append(tr.left)\n",
    "            stack.append(tr.right)\n",
    "    return ret"
   ]
  }
 ],
 "metadata": {
  "kernelspec": {
   "display_name": "Python 3",
   "language": "python",
   "name": "python3"
  },
  "language_info": {
   "codemirror_mode": {
    "name": "ipython",
    "version": 3
   },
   "file_extension": ".py",
   "mimetype": "text/x-python",
   "name": "python",
   "nbconvert_exporter": "python",
   "pygments_lexer": "ipython3",
   "version": "3.6.5"
  },
  "latex_envs": {
   "LaTeX_envs_menu_present": true,
   "autoclose": false,
   "autocomplete": true,
   "bibliofile": "biblio.bib",
   "cite_by": "apalike",
   "current_citInitial": 1,
   "eqLabelWithNumbers": true,
   "eqNumInitial": 1,
   "hotkeys": {
    "equation": "Ctrl-E",
    "itemize": "Ctrl-I"
   },
   "labels_anchors": false,
   "latex_user_defs": false,
   "report_style_numbering": false,
   "user_envs_cfg": false
  },
  "nbTranslate": {
   "displayLangs": [
    "*"
   ],
   "hotkey": "alt-t",
   "langInMainMenu": true,
   "sourceLang": "en",
   "targetLang": "fr",
   "useGoogleTranslate": true
  },
  "toc": {
   "base_numbering": 1,
   "nav_menu": {},
   "number_sections": true,
   "sideBar": true,
   "skip_h1_title": false,
   "title_cell": "Table of Contents",
   "title_sidebar": "Contents",
   "toc_cell": false,
   "toc_position": {},
   "toc_section_display": true,
   "toc_window_display": false
  },
  "varInspector": {
   "cols": {
    "lenName": 16,
    "lenType": 16,
    "lenVar": 40
   },
   "kernels_config": {
    "python": {
     "delete_cmd_postfix": "",
     "delete_cmd_prefix": "del ",
     "library": "var_list.py",
     "varRefreshCmd": "print(var_dic_list())"
    },
    "r": {
     "delete_cmd_postfix": ") ",
     "delete_cmd_prefix": "rm(",
     "library": "var_list.r",
     "varRefreshCmd": "cat(var_dic_list()) "
    }
   },
   "types_to_exclude": [
    "module",
    "function",
    "builtin_function_or_method",
    "instance",
    "_Feature"
   ],
   "window_display": false
  }
 },
 "nbformat": 4,
 "nbformat_minor": 2
}
