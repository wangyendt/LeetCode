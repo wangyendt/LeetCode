{
 "cells": [
  {
   "cell_type": "code",
   "execution_count": 102,
   "metadata": {
    "ExecuteTime": {
     "end_time": "2019-06-02T17:15:06.916471Z",
     "start_time": "2019-06-02T17:15:06.908448Z"
    }
   },
   "outputs": [],
   "source": [
    "class Solution:\n",
    "    def numSubmatrixSumTarget(self, matrix: list(list()), target: int) -> int:\n",
    "        m,n = len(matrix),len(matrix[0])\n",
    "        dic = {}\n",
    "        ret = 0\n",
    "        # i row, j column\n",
    "        for iLeft in range(m):\n",
    "            for iRight in range(iLeft,m):\n",
    "                for jLeft in range(n):\n",
    "                    for jRight in range(jLeft,n):\n",
    "                        dic[(iLeft,iRight,jLeft,jRight)] = 0\n",
    "                        if dic.get((iLeft,iRight-1,jLeft,jRight-1)):\n",
    "                            dic[(iLeft,iRight,jLeft,jRight)] += dic[(iLeft,iRight-1,jLeft,jRight-1)]\n",
    "                        if iRight > 0:\n",
    "                            if not dic.get((iLeft,iRight-1,jRight,jRight)):\n",
    "                                dic[(iLeft,iRight-1,jRight,jRight)] = sum([matrix[i][jRight] for i in range(iLeft,iRight)])\n",
    "                            dic[(iLeft,iRight,jLeft,jRight)] += dic[(iLeft,iRight-1,jRight,jRight)]\n",
    "                        if jRight > 0:\n",
    "                            if not dic.get((iRight,iRight,jLeft,iRight-1)):\n",
    "                                dic[(iRight,iRight,jLeft,jRight-1)] = sum([matrix[iRight][j] for j in range(jLeft, jRight)])\n",
    "                        for j in range(jLeft,jRight):\n",
    "                            dic[(iLeft,iRight,jLeft,jRight)] += matrix[iRight][j]\n",
    "                        dic[(iLeft,iRight,jLeft,jRight)] += matrix[iRight][jRight]\n",
    "                        if dic[(iLeft,iRight,jLeft,jRight)] == target:\n",
    "                            ret += 1\n",
    "#         [print(k,dic[k]) for k in dic]\n",
    "        return ret"
   ]
  },
  {
   "cell_type": "code",
   "execution_count": 103,
   "metadata": {
    "ExecuteTime": {
     "end_time": "2019-06-02T17:15:07.176955Z",
     "start_time": "2019-06-02T17:15:07.171944Z"
    }
   },
   "outputs": [
    {
     "name": "stdout",
     "output_type": "stream",
     "text": [
      "4\n",
      "5\n"
     ]
    }
   ],
   "source": [
    "so = Solution()\n",
    "print(so.numSubmatrixSumTarget([[0,1,0],[1,1,1],[0,1,0]],0))\n",
    "print(so.numSubmatrixSumTarget([[1,-1],[-1,1]],0))"
   ]
  }
 ],
 "metadata": {
  "hide_input": false,
  "kernelspec": {
   "display_name": "Python 3",
   "language": "python",
   "name": "python3"
  },
  "language_info": {
   "codemirror_mode": {
    "name": "ipython",
    "version": 3
   },
   "file_extension": ".py",
   "mimetype": "text/x-python",
   "name": "python",
   "nbconvert_exporter": "python",
   "pygments_lexer": "ipython3",
   "version": "3.6.5"
  },
  "latex_envs": {
   "LaTeX_envs_menu_present": true,
   "autoclose": false,
   "autocomplete": true,
   "bibliofile": "biblio.bib",
   "cite_by": "apalike",
   "current_citInitial": 1,
   "eqLabelWithNumbers": true,
   "eqNumInitial": 1,
   "hotkeys": {
    "equation": "Ctrl-E",
    "itemize": "Ctrl-I"
   },
   "labels_anchors": false,
   "latex_user_defs": false,
   "report_style_numbering": false,
   "user_envs_cfg": false
  },
  "nbTranslate": {
   "displayLangs": [
    "*"
   ],
   "hotkey": "alt-t",
   "langInMainMenu": true,
   "sourceLang": "en",
   "targetLang": "fr",
   "useGoogleTranslate": true
  },
  "toc": {
   "base_numbering": 1,
   "nav_menu": {},
   "number_sections": true,
   "sideBar": true,
   "skip_h1_title": false,
   "title_cell": "Table of Contents",
   "title_sidebar": "Contents",
   "toc_cell": false,
   "toc_position": {},
   "toc_section_display": true,
   "toc_window_display": false
  },
  "varInspector": {
   "cols": {
    "lenName": 16,
    "lenType": 16,
    "lenVar": 40
   },
   "kernels_config": {
    "python": {
     "delete_cmd_postfix": "",
     "delete_cmd_prefix": "del ",
     "library": "var_list.py",
     "varRefreshCmd": "print(var_dic_list())"
    },
    "r": {
     "delete_cmd_postfix": ") ",
     "delete_cmd_prefix": "rm(",
     "library": "var_list.r",
     "varRefreshCmd": "cat(var_dic_list()) "
    }
   },
   "types_to_exclude": [
    "module",
    "function",
    "builtin_function_or_method",
    "instance",
    "_Feature"
   ],
   "window_display": false
  }
 },
 "nbformat": 4,
 "nbformat_minor": 2
}
