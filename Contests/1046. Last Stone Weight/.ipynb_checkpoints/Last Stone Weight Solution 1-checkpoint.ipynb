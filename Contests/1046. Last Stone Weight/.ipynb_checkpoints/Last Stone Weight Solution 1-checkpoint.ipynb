{
 "cells": [
  {
   "cell_type": "code",
   "execution_count": 4,
   "metadata": {
    "ExecuteTime": {
     "end_time": "2019-05-19T02:37:45.881455Z",
     "start_time": "2019-05-19T02:37:45.876440Z"
    }
   },
   "outputs": [],
   "source": [
    "class Solution:\n",
    "    def lastStoneWeight(self, stones: list) -> int:\n",
    "        stones.sort()\n",
    "        while len(stones) > 1:\n",
    "            x, y = stones[-2], stones[-1]\n",
    "            stones.pop()\n",
    "            stones.pop()\n",
    "            if x != y:\n",
    "                if stones:\n",
    "                    for i in range(len(stones)):\n",
    "                        if stones[i] > y-x:\n",
    "                            stones.insert(i, y-x)\n",
    "                            break\n",
    "                    else:\n",
    "                        stones.append(y-x)\n",
    "                else:\n",
    "                    stones.append(y-x)                    \n",
    "                \n",
    "        if stones:\n",
    "            return stones[0]\n",
    "        else:\n",
    "            return 0"
   ]
  },
  {
   "cell_type": "code",
   "execution_count": 7,
   "metadata": {
    "ExecuteTime": {
     "end_time": "2019-05-19T02:38:09.208566Z",
     "start_time": "2019-05-19T02:38:09.203552Z"
    }
   },
   "outputs": [
    {
     "name": "stdout",
     "output_type": "stream",
     "text": [
      "1\n",
      "1\n",
      "0\n"
     ]
    }
   ],
   "source": [
    "so = Solution()\n",
    "print(so.lastStoneWeight([2,7,4,1,8,1]))\n",
    "print(so.lastStoneWeight([2,7,1,8,2,9]))\n",
    "print(so.lastStoneWeight([2,2]))"
   ]
  }
 ],
 "metadata": {
  "kernelspec": {
   "display_name": "Python 3",
   "language": "python",
   "name": "python3"
  },
  "language_info": {
   "codemirror_mode": {
    "name": "ipython",
    "version": 3
   },
   "file_extension": ".py",
   "mimetype": "text/x-python",
   "name": "python",
   "nbconvert_exporter": "python",
   "pygments_lexer": "ipython3",
   "version": "3.7.0"
  },
  "latex_envs": {
   "LaTeX_envs_menu_present": true,
   "autoclose": false,
   "autocomplete": true,
   "bibliofile": "biblio.bib",
   "cite_by": "apalike",
   "current_citInitial": 1,
   "eqLabelWithNumbers": true,
   "eqNumInitial": 1,
   "hotkeys": {
    "equation": "Ctrl-E",
    "itemize": "Ctrl-I"
   },
   "labels_anchors": false,
   "latex_user_defs": false,
   "report_style_numbering": false,
   "user_envs_cfg": false
  }
 },
 "nbformat": 4,
 "nbformat_minor": 2
}
