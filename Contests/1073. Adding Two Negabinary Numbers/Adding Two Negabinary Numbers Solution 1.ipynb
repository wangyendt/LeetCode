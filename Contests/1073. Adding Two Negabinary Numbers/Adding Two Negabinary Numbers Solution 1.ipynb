{
 "cells": [
  {
   "cell_type": "code",
   "execution_count": 5,
   "metadata": {
    "ExecuteTime": {
     "end_time": "2019-06-02T04:46:21.415173Z",
     "start_time": "2019-06-02T04:46:21.407151Z"
    }
   },
   "outputs": [],
   "source": [
    "class Solution:\n",
    "    def addNegabinary(self, arr1: list, arr2: list) -> list:\n",
    "        n1,n2 = 0,0\n",
    "        for i,a in enumerate(arr1):\n",
    "            if a:\n",
    "                n1 += (-2)**(len(arr1)-1-i)\n",
    "        for i,a in enumerate(arr2):\n",
    "            if a:\n",
    "                n2 += (-2)**(len(arr2)-1-i)\n",
    "        def EncodeNegBase(num, base=-2):\n",
    "            ans = ''\n",
    "            if num == 0:\n",
    "                return '0'\n",
    "            while num != 0:\n",
    "                rem = num % base\n",
    "                n = num // base\n",
    "                if rem < 0:\n",
    "                    rem += 2\n",
    "                    n += 1\n",
    "                num = n\n",
    "                ans += str(rem)\n",
    "            return ans[::-1]               \n",
    "        return [int(s) for s in str(EncodeNegBase(n1+n2))]"
   ]
  },
  {
   "cell_type": "code",
   "execution_count": 6,
   "metadata": {
    "ExecuteTime": {
     "end_time": "2019-06-02T04:46:21.726388Z",
     "start_time": "2019-06-02T04:46:21.722381Z"
    }
   },
   "outputs": [
    {
     "name": "stdout",
     "output_type": "stream",
     "text": [
      "-2\n",
      "[1, 0]\n"
     ]
    }
   ],
   "source": [
    "so = Solution()\n",
    "# print(so.addNegabinary([1,1,1,1,1],[1,0,1]))\n",
    "# print(so.addNegabinary([1],[1]))\n",
    "print(so.addNegabinary([0],[1,0]))"
   ]
  }
 ],
 "metadata": {
  "hide_input": false,
  "kernelspec": {
   "display_name": "Python 3",
   "language": "python",
   "name": "python3"
  },
  "language_info": {
   "codemirror_mode": {
    "name": "ipython",
    "version": 3
   },
   "file_extension": ".py",
   "mimetype": "text/x-python",
   "name": "python",
   "nbconvert_exporter": "python",
   "pygments_lexer": "ipython3",
   "version": "3.6.5"
  },
  "latex_envs": {
   "LaTeX_envs_menu_present": true,
   "autoclose": false,
   "autocomplete": true,
   "bibliofile": "biblio.bib",
   "cite_by": "apalike",
   "current_citInitial": 1,
   "eqLabelWithNumbers": true,
   "eqNumInitial": 1,
   "hotkeys": {
    "equation": "Ctrl-E",
    "itemize": "Ctrl-I"
   },
   "labels_anchors": false,
   "latex_user_defs": false,
   "report_style_numbering": false,
   "user_envs_cfg": false
  },
  "nbTranslate": {
   "displayLangs": [
    "*"
   ],
   "hotkey": "alt-t",
   "langInMainMenu": true,
   "sourceLang": "en",
   "targetLang": "fr",
   "useGoogleTranslate": true
  },
  "toc": {
   "base_numbering": 1,
   "nav_menu": {},
   "number_sections": true,
   "sideBar": true,
   "skip_h1_title": false,
   "title_cell": "Table of Contents",
   "title_sidebar": "Contents",
   "toc_cell": false,
   "toc_position": {},
   "toc_section_display": true,
   "toc_window_display": false
  },
  "varInspector": {
   "cols": {
    "lenName": 16,
    "lenType": 16,
    "lenVar": 40
   },
   "kernels_config": {
    "python": {
     "delete_cmd_postfix": "",
     "delete_cmd_prefix": "del ",
     "library": "var_list.py",
     "varRefreshCmd": "print(var_dic_list())"
    },
    "r": {
     "delete_cmd_postfix": ") ",
     "delete_cmd_prefix": "rm(",
     "library": "var_list.r",
     "varRefreshCmd": "cat(var_dic_list()) "
    }
   },
   "types_to_exclude": [
    "module",
    "function",
    "builtin_function_or_method",
    "instance",
    "_Feature"
   ],
   "window_display": false
  }
 },
 "nbformat": 4,
 "nbformat_minor": 2
}
