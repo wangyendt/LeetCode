{
 "cells": [
  {
   "cell_type": "code",
   "execution_count": 42,
   "metadata": {
    "ExecuteTime": {
     "end_time": "2019-05-19T03:09:05.334526Z",
     "start_time": "2019-05-19T03:09:05.328514Z"
    }
   },
   "outputs": [],
   "source": [
    "class Solution:\n",
    "    def longestStrChain(self, words: list) -> int:\n",
    "        if len(words) <= 1:\n",
    "            return len(words)\n",
    "        words = sorted(words, key=lambda x: len(x))\n",
    "        dp = [1] * len(words)\n",
    "        def isPredecessor(s1, s2):\n",
    "            # return whether s1 is predecessor of s2\n",
    "            if len(s1) + 1 != len(s2):\n",
    "                return False\n",
    "            else:\n",
    "                p, q = 0, 0\n",
    "                while p < len(s1) and q-1 <= p <= q:\n",
    "                    if s1[p] == s2[q]:\n",
    "                        p += 1\n",
    "                        q += 1\n",
    "                    else:\n",
    "                        q += 1\n",
    "                return q - p <= 1\n",
    "        for i in range(1, len(words)):\n",
    "            dps = []\n",
    "            for j in range(i):\n",
    "#                 print(words[j], words[i],' aaaaaaaaa')\n",
    "                if isPredecessor(words[j], words[i]):\n",
    "#                     print(words[j], words[i])\n",
    "                    dps.append(dp[j])\n",
    "            dp[i] = max(dps) + 1 if dps else 1\n",
    "#         print(dp)\n",
    "#         print(isPredecessor('ks', 'kss'))\n",
    "        return max(dp)"
   ]
  },
  {
   "cell_type": "code",
   "execution_count": 43,
   "metadata": {
    "ExecuteTime": {
     "end_time": "2019-05-19T03:09:05.588552Z",
     "start_time": "2019-05-19T03:09:05.583540Z"
    }
   },
   "outputs": [
    {
     "name": "stdout",
     "output_type": "stream",
     "text": [
      "[1, 1, 2, 2, 1, 3, 3, 2, 4, 4, 3, 5, 5, 6, 4, 6, 5, 6, 7]\n",
      "True\n",
      "7 7\n"
     ]
    }
   ],
   "source": [
    "so = Solution()\n",
    "# print(so.longestStrChain([\"a\",\"b\",\"ba\",\"bca\",\"bda\",\"bdca\"]), 4)\n",
    "print(so.longestStrChain([\"ksqvsyq\",\"ks\",\"kss\",\"czvh\",\"zczpzvdhx\",\"zczpzvh\",\"zczpzvhx\",\"zcpzvh\",\"zczvh\",\"gr\",\"grukmj\",\"ksqvsq\",\"gruj\",\"kssq\",\"ksqsq\",\"grukkmj\",\"grukj\",\"zczpzfvdhx\",\"gru\"]),7)"
   ]
  }
 ],
 "metadata": {
  "kernelspec": {
   "display_name": "Python 3",
   "language": "python",
   "name": "python3"
  },
  "language_info": {
   "codemirror_mode": {
    "name": "ipython",
    "version": 3
   },
   "file_extension": ".py",
   "mimetype": "text/x-python",
   "name": "python",
   "nbconvert_exporter": "python",
   "pygments_lexer": "ipython3",
   "version": "3.7.0"
  },
  "latex_envs": {
   "LaTeX_envs_menu_present": true,
   "autoclose": false,
   "autocomplete": true,
   "bibliofile": "biblio.bib",
   "cite_by": "apalike",
   "current_citInitial": 1,
   "eqLabelWithNumbers": true,
   "eqNumInitial": 1,
   "hotkeys": {
    "equation": "Ctrl-E",
    "itemize": "Ctrl-I"
   },
   "labels_anchors": false,
   "latex_user_defs": false,
   "report_style_numbering": false,
   "user_envs_cfg": false
  }
 },
 "nbformat": 4,
 "nbformat_minor": 2
}
