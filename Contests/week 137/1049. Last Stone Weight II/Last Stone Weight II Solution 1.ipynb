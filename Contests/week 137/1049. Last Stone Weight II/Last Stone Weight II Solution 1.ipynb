{
 "cells": [
  {
   "cell_type": "code",
   "execution_count": 63,
   "metadata": {
    "ExecuteTime": {
     "end_time": "2019-05-19T04:25:27.116780Z",
     "start_time": "2019-05-19T04:25:27.112769Z"
    }
   },
   "outputs": [],
   "source": [
    "class Solution:\n",
    "    def lastStoneWeightII(self, stones: list) -> int:\n",
    "        # Same problem as:\n",
    "        # Divide all numbers into two groups,\n",
    "        # what is the minimum difference between the sum of two groups.\n",
    "        dp = {0}\n",
    "        sumA = sum(stones)\n",
    "        for a in stones:\n",
    "            dp |= {a + i for i in dp}\n",
    "            print(dp)\n",
    "        return min(abs(sumA - i - i) for i in dp)"
   ]
  },
  {
   "cell_type": "code",
   "execution_count": 65,
   "metadata": {
    "ExecuteTime": {
     "end_time": "2019-05-19T04:25:32.380423Z",
     "start_time": "2019-05-19T04:25:32.376414Z"
    }
   },
   "outputs": [
    {
     "name": "stdout",
     "output_type": "stream",
     "text": [
      "{0, 2}\n",
      "{0, 9, 2, 7}\n",
      "{0, 2, 4, 6, 7, 9, 11, 13}\n",
      "{0, 1, 2, 3, 4, 5, 6, 7, 8, 9, 10, 11, 12, 13, 14}\n",
      "{0, 1, 2, 3, 4, 5, 6, 7, 8, 9, 10, 11, 12, 13, 14, 15, 16, 17, 18, 19, 20, 21, 22}\n",
      "{0, 1, 2, 3, 4, 5, 6, 7, 8, 9, 10, 11, 12, 13, 14, 15, 16, 17, 18, 19, 20, 21, 22, 23}\n",
      "1 1\n"
     ]
    }
   ],
   "source": [
    "so = Solution()\n",
    "print(so.lastStoneWeightII([2,7,4,1,8,1]),1)\n",
    "# print(so.lastStoneWeightII([1,2,4,8,16,32,64,12,25,51]),1)"
   ]
  }
 ],
 "metadata": {
  "kernelspec": {
   "display_name": "Python 3",
   "language": "python",
   "name": "python3"
  },
  "language_info": {
   "codemirror_mode": {
    "name": "ipython",
    "version": 3
   },
   "file_extension": ".py",
   "mimetype": "text/x-python",
   "name": "python",
   "nbconvert_exporter": "python",
   "pygments_lexer": "ipython3",
   "version": "3.7.0"
  },
  "latex_envs": {
   "LaTeX_envs_menu_present": true,
   "autoclose": false,
   "autocomplete": true,
   "bibliofile": "biblio.bib",
   "cite_by": "apalike",
   "current_citInitial": 1,
   "eqLabelWithNumbers": true,
   "eqNumInitial": 1,
   "hotkeys": {
    "equation": "Ctrl-E",
    "itemize": "Ctrl-I"
   },
   "labels_anchors": false,
   "latex_user_defs": false,
   "report_style_numbering": false,
   "user_envs_cfg": false
  }
 },
 "nbformat": 4,
 "nbformat_minor": 2
}
