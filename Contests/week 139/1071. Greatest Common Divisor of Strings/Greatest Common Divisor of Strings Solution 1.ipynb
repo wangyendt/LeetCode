{
 "cells": [
  {
   "cell_type": "code",
   "execution_count": 31,
   "metadata": {
    "ExecuteTime": {
     "end_time": "2019-06-02T03:05:00.191895Z",
     "start_time": "2019-06-02T03:05:00.183873Z"
    }
   },
   "outputs": [],
   "source": [
    "class Solution:\n",
    "    def gcdOfStrings(self, str1: str, str2: str) -> str:\n",
    "        m,n = len(str1),len(str2)\n",
    "        def gcd(a,b):\n",
    "            a, b = (a, b) if a >=b else (b, a)\n",
    "            while b:\n",
    "                a,b = b,a%b\n",
    "            return a\n",
    "        def allFactor(n):\n",
    "            if n == 0: return [0]\n",
    "            if n == 1: return [1]\n",
    "            rlist = []\n",
    "            i = 1\n",
    "            while i <= n:\n",
    "                if n % i == 0:\n",
    "                    rlist.append(i)\n",
    "                    n = n // i\n",
    "                    i = 2\n",
    "                    continue\n",
    "                i += 1\n",
    "            return rlist\n",
    "        g = gcd(m,n)\n",
    "        retL = allFactor(g)\n",
    "        retL.append(g)\n",
    "        for l in retL[::-1]:\n",
    "            if str1 == str1[:l]*(m//l) and str2 == str1[:l]*(n//l):\n",
    "                return str1[:l]\n",
    "        return ''"
   ]
  },
  {
   "cell_type": "code",
   "execution_count": 32,
   "metadata": {
    "ExecuteTime": {
     "end_time": "2019-06-02T03:05:00.427486Z",
     "start_time": "2019-06-02T03:05:00.423478Z"
    }
   },
   "outputs": [
    {
     "name": "stdout",
     "output_type": "stream",
     "text": [
      "6 3 [1, 3, 3] 3\n",
      "3\n",
      "ABC\n",
      "30 54 [1, 2, 3, 6] 6\n",
      "6\n",
      "FBFKOX\n",
      "4 4 [1, 2, 2, 4] 4\n",
      "4\n",
      "2\n",
      "2\n",
      "1\n",
      "\n"
     ]
    }
   ],
   "source": [
    "so = Solution()\n",
    "print(so.gcdOfStrings('ABCABC','ABC'))\n",
    "print(so.gcdOfStrings(\"FBFKOXFBFKOXFBFKOXFBFKOXFBFKOX\",\"FBFKOXFBFKOXFBFKOXFBFKOXFBFKOXFBFKOXFBFKOXFBFKOXFBFKOX\"))\n",
    "print(so.gcdOfStrings(\"LEET\",\"CODE\"))"
   ]
  }
 ],
 "metadata": {
  "hide_input": false,
  "kernelspec": {
   "display_name": "Python 3",
   "language": "python",
   "name": "python3"
  },
  "language_info": {
   "codemirror_mode": {
    "name": "ipython",
    "version": 3
   },
   "file_extension": ".py",
   "mimetype": "text/x-python",
   "name": "python",
   "nbconvert_exporter": "python",
   "pygments_lexer": "ipython3",
   "version": "3.6.5"
  },
  "latex_envs": {
   "LaTeX_envs_menu_present": true,
   "autoclose": false,
   "autocomplete": true,
   "bibliofile": "biblio.bib",
   "cite_by": "apalike",
   "current_citInitial": 1,
   "eqLabelWithNumbers": true,
   "eqNumInitial": 1,
   "hotkeys": {
    "equation": "Ctrl-E",
    "itemize": "Ctrl-I"
   },
   "labels_anchors": false,
   "latex_user_defs": false,
   "report_style_numbering": false,
   "user_envs_cfg": false
  },
  "nbTranslate": {
   "displayLangs": [
    "*"
   ],
   "hotkey": "alt-t",
   "langInMainMenu": true,
   "sourceLang": "en",
   "targetLang": "fr",
   "useGoogleTranslate": true
  },
  "toc": {
   "base_numbering": 1,
   "nav_menu": {},
   "number_sections": true,
   "sideBar": true,
   "skip_h1_title": false,
   "title_cell": "Table of Contents",
   "title_sidebar": "Contents",
   "toc_cell": false,
   "toc_position": {},
   "toc_section_display": true,
   "toc_window_display": false
  },
  "varInspector": {
   "cols": {
    "lenName": 16,
    "lenType": 16,
    "lenVar": 40
   },
   "kernels_config": {
    "python": {
     "delete_cmd_postfix": "",
     "delete_cmd_prefix": "del ",
     "library": "var_list.py",
     "varRefreshCmd": "print(var_dic_list())"
    },
    "r": {
     "delete_cmd_postfix": ") ",
     "delete_cmd_prefix": "rm(",
     "library": "var_list.r",
     "varRefreshCmd": "cat(var_dic_list()) "
    }
   },
   "types_to_exclude": [
    "module",
    "function",
    "builtin_function_or_method",
    "instance",
    "_Feature"
   ],
   "window_display": false
  }
 },
 "nbformat": 4,
 "nbformat_minor": 2
}
