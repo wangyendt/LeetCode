{
 "cells": [
  {
   "cell_type": "code",
   "execution_count": 96,
   "metadata": {
    "ExecuteTime": {
     "end_time": "2019-06-04T15:11:30.713574Z",
     "start_time": "2019-06-04T15:11:30.705584Z"
    }
   },
   "outputs": [],
   "source": [
    "class Solution:\n",
    "    def numSubmatrixSumTarget(self, A: list(list()), target: int) -> int:\n",
    "        m, n = len(A), len(A[0])\n",
    "        for i in range(1,m):\n",
    "            for j in range(n):\n",
    "                A[i][j]+=A[i-1][j]\n",
    "        for j in range(1,n):\n",
    "            for i in range(m):\n",
    "                A[i][j]+=A[i][j-1]\n",
    "        ret = 0\n",
    "        for i in range(n):\n",
    "            for j in range(i,n):\n",
    "                dic = {}\n",
    "                for k in range(m):\n",
    "                    if k == 0:\n",
    "                        dic[0] = 1\n",
    "                    tmp = (A[k][j]-A[k][i-1]) if i>0 else A[k][j]\n",
    "                    if dic.get(tmp-target):\n",
    "                        ret += dic[tmp-target]\n",
    "                    dic[tmp] = dic[tmp] + 1 if dic.get(tmp) else 1\n",
    "        return ret"
   ]
  },
  {
   "cell_type": "code",
   "execution_count": 97,
   "metadata": {
    "ExecuteTime": {
     "end_time": "2019-06-04T15:11:30.989479Z",
     "start_time": "2019-06-04T15:11:30.985471Z"
    }
   },
   "outputs": [
    {
     "name": "stdout",
     "output_type": "stream",
     "text": [
      "4\n",
      "5\n"
     ]
    }
   ],
   "source": [
    "so = Solution()\n",
    "print(so.numSubmatrixSumTarget([[0,1,0],[1,1,1],[0,1,0]],0))\n",
    "print(so.numSubmatrixSumTarget([[-1,1],[1,-1]],0))"
   ]
  }
 ],
 "metadata": {
  "hide_input": false,
  "kernelspec": {
   "display_name": "Python 3",
   "language": "python",
   "name": "python3"
  },
  "language_info": {
   "codemirror_mode": {
    "name": "ipython",
    "version": 3
   },
   "file_extension": ".py",
   "mimetype": "text/x-python",
   "name": "python",
   "nbconvert_exporter": "python",
   "pygments_lexer": "ipython3",
   "version": "3.6.5"
  },
  "latex_envs": {
   "LaTeX_envs_menu_present": true,
   "autoclose": false,
   "autocomplete": true,
   "bibliofile": "biblio.bib",
   "cite_by": "apalike",
   "current_citInitial": 1,
   "eqLabelWithNumbers": true,
   "eqNumInitial": 1,
   "hotkeys": {
    "equation": "Ctrl-E",
    "itemize": "Ctrl-I"
   },
   "labels_anchors": false,
   "latex_user_defs": false,
   "report_style_numbering": false,
   "user_envs_cfg": false
  },
  "nbTranslate": {
   "displayLangs": [
    "*"
   ],
   "hotkey": "alt-t",
   "langInMainMenu": true,
   "sourceLang": "en",
   "targetLang": "fr",
   "useGoogleTranslate": true
  },
  "toc": {
   "base_numbering": 1,
   "nav_menu": {},
   "number_sections": true,
   "sideBar": true,
   "skip_h1_title": false,
   "title_cell": "Table of Contents",
   "title_sidebar": "Contents",
   "toc_cell": false,
   "toc_position": {},
   "toc_section_display": true,
   "toc_window_display": false
  },
  "varInspector": {
   "cols": {
    "lenName": 16,
    "lenType": 16,
    "lenVar": 40
   },
   "kernels_config": {
    "python": {
     "delete_cmd_postfix": "",
     "delete_cmd_prefix": "del ",
     "library": "var_list.py",
     "varRefreshCmd": "print(var_dic_list())"
    },
    "r": {
     "delete_cmd_postfix": ") ",
     "delete_cmd_prefix": "rm(",
     "library": "var_list.r",
     "varRefreshCmd": "cat(var_dic_list()) "
    }
   },
   "types_to_exclude": [
    "module",
    "function",
    "builtin_function_or_method",
    "instance",
    "_Feature"
   ],
   "window_display": false
  }
 },
 "nbformat": 4,
 "nbformat_minor": 2
}
