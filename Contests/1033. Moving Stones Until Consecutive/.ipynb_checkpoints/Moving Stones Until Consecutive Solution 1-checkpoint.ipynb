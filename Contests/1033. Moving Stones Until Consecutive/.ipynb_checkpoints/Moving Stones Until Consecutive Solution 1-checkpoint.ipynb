{
 "cells": [
  {
   "cell_type": "code",
   "execution_count": 13,
   "metadata": {
    "ExecuteTime": {
     "end_time": "2019-04-28T02:40:35.235562Z",
     "start_time": "2019-04-28T02:40:35.231552Z"
    }
   },
   "outputs": [],
   "source": [
    "class Solution:\n",
    "    def numMovesStones(self, a: int, b: int, c: int) -> list:\n",
    "        x, y, z = sorted([a, b, c])\n",
    "        minNum = 2\n",
    "        if z - y == 2 or y - x == 2:\n",
    "            minNum -= 1\n",
    "        else:\n",
    "            if y - x == 1:\n",
    "                minNum -= 1\n",
    "            if z - y == 1:\n",
    "                minNum -= 1\n",
    "        maxNum = y-x-1 + z-y-1\n",
    "        return [minNum, maxNum]"
   ]
  },
  {
   "cell_type": "code",
   "execution_count": 14,
   "metadata": {
    "ExecuteTime": {
     "end_time": "2019-04-28T02:40:35.561774Z",
     "start_time": "2019-04-28T02:40:35.558766Z"
    }
   },
   "outputs": [
    {
     "name": "stdout",
     "output_type": "stream",
     "text": [
      "[1, 2]\n",
      "[0, 0]\n",
      "[1, 2]\n",
      "[1, 1]\n"
     ]
    }
   ],
   "source": [
    "so = Solution()\n",
    "print(so.numMovesStones(1,2,5))\n",
    "print(so.numMovesStones(4,3,2))\n",
    "print(so.numMovesStones(3,5,1))\n",
    "print(so.numMovesStones(2,4,1))"
   ]
  }
 ],
 "metadata": {
  "kernelspec": {
   "display_name": "Python 3",
   "language": "python",
   "name": "python3"
  },
  "language_info": {
   "codemirror_mode": {
    "name": "ipython",
    "version": 3
   },
   "file_extension": ".py",
   "mimetype": "text/x-python",
   "name": "python",
   "nbconvert_exporter": "python",
   "pygments_lexer": "ipython3",
   "version": "3.6.7"
  },
  "latex_envs": {
   "LaTeX_envs_menu_present": true,
   "autoclose": false,
   "autocomplete": true,
   "bibliofile": "biblio.bib",
   "cite_by": "apalike",
   "current_citInitial": 1,
   "eqLabelWithNumbers": true,
   "eqNumInitial": 1,
   "hotkeys": {
    "equation": "Ctrl-E",
    "itemize": "Ctrl-I"
   },
   "labels_anchors": false,
   "latex_user_defs": false,
   "report_style_numbering": false,
   "user_envs_cfg": false
  },
  "varInspector": {
   "cols": {
    "lenName": 16,
    "lenType": 16,
    "lenVar": 40
   },
   "kernels_config": {
    "python": {
     "delete_cmd_postfix": "",
     "delete_cmd_prefix": "del ",
     "library": "var_list.py",
     "varRefreshCmd": "print(var_dic_list())"
    },
    "r": {
     "delete_cmd_postfix": ") ",
     "delete_cmd_prefix": "rm(",
     "library": "var_list.r",
     "varRefreshCmd": "cat(var_dic_list()) "
    }
   },
   "types_to_exclude": [
    "module",
    "function",
    "builtin_function_or_method",
    "instance",
    "_Feature"
   ],
   "window_display": false
  }
 },
 "nbformat": 4,
 "nbformat_minor": 2
}
