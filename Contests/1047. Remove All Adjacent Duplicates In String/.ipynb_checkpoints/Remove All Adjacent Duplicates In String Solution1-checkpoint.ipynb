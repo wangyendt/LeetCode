{
 "cells": [
  {
   "cell_type": "code",
   "execution_count": 18,
   "metadata": {
    "ExecuteTime": {
     "end_time": "2019-05-19T02:48:34.295932Z",
     "start_time": "2019-05-19T02:48:34.290883Z"
    }
   },
   "outputs": [],
   "source": [
    "class Solution:\n",
    "    def removeDuplicates(self, S: str) -> str:\n",
    "        n = len(S)\n",
    "        if n <= 1:\n",
    "            return n\n",
    "        p = 0\n",
    "        while p < len(S)-1:\n",
    "            if S[p] == S[p+1]:\n",
    "                S = S[:p] + S[p+2:]\n",
    "                l, r = p-1, p\n",
    "                while 0 <= l and r <= len(S)-1:\n",
    "                    if S[l] == S[r]:\n",
    "                        S = S[:l]+S[r+1:]\n",
    "                        l,r = l-1, l\n",
    "                    else:\n",
    "                        break\n",
    "                p = max(0, l)\n",
    "            else:\n",
    "                p += 1\n",
    "        return S               "
   ]
  },
  {
   "cell_type": "code",
   "execution_count": 19,
   "metadata": {
    "ExecuteTime": {
     "end_time": "2019-05-19T02:48:34.497690Z",
     "start_time": "2019-05-19T02:48:34.473628Z"
    }
   },
   "outputs": [
    {
     "name": "stdout",
     "output_type": "stream",
     "text": [
      "ca ca\n",
      " ca\n"
     ]
    }
   ],
   "source": [
    "so = Solution()\n",
    "print(so.removeDuplicates('abbaca'),'ca')\n",
    "print(so.removeDuplicates('a'*20000),'ca')"
   ]
  }
 ],
 "metadata": {
  "kernelspec": {
   "display_name": "Python 3",
   "language": "python",
   "name": "python3"
  },
  "language_info": {
   "codemirror_mode": {
    "name": "ipython",
    "version": 3
   },
   "file_extension": ".py",
   "mimetype": "text/x-python",
   "name": "python",
   "nbconvert_exporter": "python",
   "pygments_lexer": "ipython3",
   "version": "3.7.0"
  },
  "latex_envs": {
   "LaTeX_envs_menu_present": true,
   "autoclose": false,
   "autocomplete": true,
   "bibliofile": "biblio.bib",
   "cite_by": "apalike",
   "current_citInitial": 1,
   "eqLabelWithNumbers": true,
   "eqNumInitial": 1,
   "hotkeys": {
    "equation": "Ctrl-E",
    "itemize": "Ctrl-I"
   },
   "labels_anchors": false,
   "latex_user_defs": false,
   "report_style_numbering": false,
   "user_envs_cfg": false
  }
 },
 "nbformat": 4,
 "nbformat_minor": 2
}
