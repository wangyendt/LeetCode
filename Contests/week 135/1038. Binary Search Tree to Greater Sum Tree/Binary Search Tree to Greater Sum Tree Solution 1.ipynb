{
 "cells": [
  {
   "cell_type": "code",
   "execution_count": 1,
   "metadata": {
    "ExecuteTime": {
     "end_time": "2019-05-07T11:31:27.961353Z",
     "start_time": "2019-05-07T11:31:27.957344Z"
    },
    "code_folding": []
   },
   "outputs": [],
   "source": [
    "# Definition for a binary tree node.\n",
    "class TreeNode:\n",
    "    def __init__(self, x):\n",
    "        self.val = x\n",
    "        self.left = None\n",
    "        self.right = None"
   ]
  },
  {
   "cell_type": "code",
   "execution_count": 39,
   "metadata": {
    "ExecuteTime": {
     "end_time": "2019-05-07T11:53:37.747429Z",
     "start_time": "2019-05-07T11:53:37.740410Z"
    }
   },
   "outputs": [],
   "source": [
    "class Solution:\n",
    "    def bstToGst(self, root: TreeNode) -> TreeNode:\n",
    "        def modifyTree(tree, parentVal):\n",
    "            if not tree:\n",
    "                return float('-Inf')\n",
    "            if not tree.right:\n",
    "                if parentVal != float('-Inf'):\n",
    "                    tree.val = parentVal + tree.val\n",
    "            else:\n",
    "                tree.val = max(parentVal, modifyTree(tree.right, parentVal)) + tree.val\n",
    "            if not tree.left:\n",
    "                leftSum = float('-Inf')\n",
    "            else:\n",
    "                leftSum = modifyTree(tree.left, tree.val)\n",
    "            return max(leftSum, tree.val)\n",
    "        modifyTree(root, float('-Inf'))\n",
    "        return root"
   ]
  },
  {
   "cell_type": "code",
   "execution_count": 40,
   "metadata": {
    "ExecuteTime": {
     "end_time": "2019-05-07T11:53:38.007430Z",
     "start_time": "2019-05-07T11:53:38.002418Z"
    }
   },
   "outputs": [
    {
     "name": "stdout",
     "output_type": "stream",
     "text": [
      "[4, 1, 6, 0, 2, 5, 7, 'null', 'null', 'null', 3, 'null', 'null', 'null', 8]\n",
      "[30, 36, 21, 36, 35, 26, 15, 'null', 'null', 'null', 33, 'null', 'null', 'null', 8]\n",
      "[30, 36, 21, 36, 35, 26, 15, 'null', 'null', 'null', 33, 'null', 'null', 'null', 8]\n"
     ]
    }
   ],
   "source": [
    "so = Solution()\n",
    "tree = parseTreeNode([4,1,6,0,2,5,7,'null','null','null',3,'null','null','null',8])\n",
    "print(showTreeNode(tree))\n",
    "print(showTreeNode(so.bstToGst(tree)))\n",
    "print([30,36,21,36,35,26,15,'null','null','null',33,'null','null','null',8])"
   ]
  },
  {
   "cell_type": "code",
   "execution_count": 3,
   "metadata": {
    "ExecuteTime": {
     "end_time": "2019-05-07T11:31:34.241614Z",
     "start_time": "2019-05-07T11:31:34.238605Z"
    },
    "code_folding": [
     0
    ]
   },
   "outputs": [],
   "source": [
    "def maxDepth(root: TreeNode) -> int:\n",
    "    def recursive(tr, dep):\n",
    "        if not tr:\n",
    "            return dep\n",
    "        else:\n",
    "            return max(recursive(tr.left, dep+1), recursive(tr.right, dep+1))\n",
    "    return recursive(root, 0)"
   ]
  },
  {
   "cell_type": "code",
   "execution_count": 4,
   "metadata": {
    "ExecuteTime": {
     "end_time": "2019-05-07T11:31:34.635178Z",
     "start_time": "2019-05-07T11:31:34.629164Z"
    },
    "code_folding": [
     0
    ]
   },
   "outputs": [],
   "source": [
    "def parseTreeNode(l):\n",
    "    if not l:\n",
    "        return None\n",
    "    tree = TreeNode(l[0])\n",
    "    leaves = [tree]\n",
    "    l.pop(0)\n",
    "    while l:\n",
    "        leavesTmp = []\n",
    "        for t in leaves:\n",
    "            if l[0] == 'null':\n",
    "                t.left = None\n",
    "            else:\n",
    "                t.left = TreeNode(l[0])\n",
    "                leavesTmp.append(t.left)\n",
    "            l.pop(0)\n",
    "            if l:\n",
    "                if l[0] == 'null':\n",
    "                    t.right = None\n",
    "                else:\n",
    "                    t.right = TreeNode(l[0])\n",
    "                    leavesTmp.append(t.right)\n",
    "                l.pop(0)\n",
    "            if not l:\n",
    "                break\n",
    "            leaves = leavesTmp\n",
    "    return tree        "
   ]
  },
  {
   "cell_type": "code",
   "execution_count": 31,
   "metadata": {
    "ExecuteTime": {
     "end_time": "2019-05-07T11:51:12.278444Z",
     "start_time": "2019-05-07T11:51:12.273433Z"
    },
    "code_folding": []
   },
   "outputs": [],
   "source": [
    "def showTreeNode(tree: TreeNode):\n",
    "    stack = [tree]\n",
    "    ret = []\n",
    "    while stack and len(ret) < 2**maxDepth(tree)-1:\n",
    "        tr = stack.pop(0)\n",
    "        if not tr:\n",
    "            ret.append('null')\n",
    "            stack.append(None)\n",
    "            stack.append(None)\n",
    "        else:\n",
    "            ret.append(tr.val)\n",
    "            stack.append(tr.left)\n",
    "            stack.append(tr.right)\n",
    "    return ret"
   ]
  }
 ],
 "metadata": {
  "kernelspec": {
   "display_name": "Python 3",
   "language": "python",
   "name": "python3"
  },
  "language_info": {
   "codemirror_mode": {
    "name": "ipython",
    "version": 3
   },
   "file_extension": ".py",
   "mimetype": "text/x-python",
   "name": "python",
   "nbconvert_exporter": "python",
   "pygments_lexer": "ipython3",
   "version": "3.7.0"
  },
  "latex_envs": {
   "LaTeX_envs_menu_present": true,
   "autoclose": false,
   "autocomplete": true,
   "bibliofile": "biblio.bib",
   "cite_by": "apalike",
   "current_citInitial": 1,
   "eqLabelWithNumbers": true,
   "eqNumInitial": 1,
   "hotkeys": {
    "equation": "Ctrl-E",
    "itemize": "Ctrl-I"
   },
   "labels_anchors": false,
   "latex_user_defs": false,
   "report_style_numbering": false,
   "user_envs_cfg": false
  }
 },
 "nbformat": 4,
 "nbformat_minor": 2
}
