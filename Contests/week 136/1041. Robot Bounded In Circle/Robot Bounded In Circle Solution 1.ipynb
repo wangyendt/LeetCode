{
 "cells": [
  {
   "cell_type": "code",
   "execution_count": 1,
   "metadata": {
    "ExecuteTime": {
     "end_time": "2019-05-12T02:43:47.287526Z",
     "start_time": "2019-05-12T02:43:47.281510Z"
    }
   },
   "outputs": [],
   "source": [
    "class Solution:\n",
    "    def isRobotBounded(self, instructions: str) -> bool:\n",
    "        x, y = 0, 0\n",
    "        forward = 1 # 1-U, 2-L, 3-R, 4-D\n",
    "        for i in instructions:\n",
    "            if i == 'G':\n",
    "                if forward == 1:\n",
    "                    y += 1\n",
    "                elif forward == 2:\n",
    "                    x -= 1\n",
    "                elif forward == 3:\n",
    "                    x += 1\n",
    "                else:\n",
    "                    y -= 1\n",
    "            if i == 'L':\n",
    "                if forward == 1:\n",
    "                    forward = 2\n",
    "                elif forward == 2:\n",
    "                    forward = 4\n",
    "                elif forward == 3:\n",
    "                    forward = 1\n",
    "                else:\n",
    "                    forward = 3\n",
    "            if i == 'R':\n",
    "                if forward == 1:\n",
    "                    forward = 3\n",
    "                elif forward == 2:\n",
    "                    forward = 1\n",
    "                elif forward == 3:\n",
    "                    forward = 4\n",
    "                else:\n",
    "                    forward = 2\n",
    "        if forward == 1:\n",
    "            if x == 0 and y == 0:\n",
    "                return True\n",
    "            else:\n",
    "                return False\n",
    "        else:\n",
    "            return True"
   ]
  },
  {
   "cell_type": "code",
   "execution_count": 3,
   "metadata": {
    "ExecuteTime": {
     "end_time": "2019-05-12T02:44:40.411495Z",
     "start_time": "2019-05-12T02:44:40.407485Z"
    }
   },
   "outputs": [
    {
     "name": "stdout",
     "output_type": "stream",
     "text": [
      "True True\n",
      "False False\n",
      "True True\n"
     ]
    }
   ],
   "source": [
    "so = Solution()\n",
    "print(so.isRobotBounded('GGLLGG'),True)\n",
    "print(so.isRobotBounded('GG'),False)\n",
    "print(so.isRobotBounded('GL'),True)"
   ]
  }
 ],
 "metadata": {
  "kernelspec": {
   "display_name": "Python 3",
   "language": "python",
   "name": "python3"
  },
  "language_info": {
   "codemirror_mode": {
    "name": "ipython",
    "version": 3
   },
   "file_extension": ".py",
   "mimetype": "text/x-python",
   "name": "python",
   "nbconvert_exporter": "python",
   "pygments_lexer": "ipython3",
   "version": "3.7.0"
  },
  "latex_envs": {
   "LaTeX_envs_menu_present": true,
   "autoclose": false,
   "autocomplete": true,
   "bibliofile": "biblio.bib",
   "cite_by": "apalike",
   "current_citInitial": 1,
   "eqLabelWithNumbers": true,
   "eqNumInitial": 1,
   "hotkeys": {
    "equation": "Ctrl-E",
    "itemize": "Ctrl-I"
   },
   "labels_anchors": false,
   "latex_user_defs": false,
   "report_style_numbering": false,
   "user_envs_cfg": false
  }
 },
 "nbformat": 4,
 "nbformat_minor": 2
}
