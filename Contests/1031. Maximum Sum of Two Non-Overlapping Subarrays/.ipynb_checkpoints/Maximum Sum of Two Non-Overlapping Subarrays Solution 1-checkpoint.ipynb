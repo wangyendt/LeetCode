{
 "cells": [
  {
   "cell_type": "code",
   "execution_count": 47,
   "metadata": {
    "ExecuteTime": {
     "end_time": "2019-04-21T03:35:30.919373Z",
     "start_time": "2019-04-21T03:35:30.912355Z"
    }
   },
   "outputs": [],
   "source": [
    "class Solution:\n",
    "    def maxSumTwoNoOverlap(self, A: list, L: int, M: int) -> int:\n",
    "        if L < M:\n",
    "            L, M = M, L\n",
    "        assert L >= M\n",
    "        mSort = [(0, sum(A[:M]))]\n",
    "        for i in range(1, len(A)-M+1):\n",
    "            mSort.append((i, mSort[-1][1]-A[i-1]+A[i+M-1]))\n",
    "        mSort = sorted(mSort, key=lambda x: -x[1])\n",
    "        lSort = []\n",
    "        ret = 0\n",
    "        for i in range(len(A)-L+1):\n",
    "            if i == 0:\n",
    "                lSort.append(sum(A[:L]))\n",
    "            else:\n",
    "                lSort.append(lSort[-1]-A[i-1]+A[i+L-1])\n",
    "            for m in mSort:\n",
    "                if i+L-1 < m[0] or m[0]+M-1 < i:\n",
    "                    ret = max(ret, lSort[-1]+m[1])\n",
    "                    break\n",
    "        return ret"
   ]
  },
  {
   "cell_type": "code",
   "execution_count": 48,
   "metadata": {
    "ExecuteTime": {
     "end_time": "2019-04-21T03:35:31.210337Z",
     "start_time": "2019-04-21T03:35:31.207329Z"
    }
   },
   "outputs": [
    {
     "name": "stdout",
     "output_type": "stream",
     "text": [
      "31 31\n"
     ]
    }
   ],
   "source": [
    "so = Solution()\n",
    "print(so.maxSumTwoNoOverlap([2,1,5,6,0,9,5,0,3,8], 4, 3), 31)"
   ]
  }
 ],
 "metadata": {
  "kernelspec": {
   "display_name": "Python 3",
   "language": "python",
   "name": "python3"
  },
  "language_info": {
   "codemirror_mode": {
    "name": "ipython",
    "version": 3
   },
   "file_extension": ".py",
   "mimetype": "text/x-python",
   "name": "python",
   "nbconvert_exporter": "python",
   "pygments_lexer": "ipython3",
   "version": "3.6.7"
  },
  "latex_envs": {
   "LaTeX_envs_menu_present": true,
   "autoclose": false,
   "autocomplete": true,
   "bibliofile": "biblio.bib",
   "cite_by": "apalike",
   "current_citInitial": 1,
   "eqLabelWithNumbers": true,
   "eqNumInitial": 1,
   "hotkeys": {
    "equation": "Ctrl-E",
    "itemize": "Ctrl-I"
   },
   "labels_anchors": false,
   "latex_user_defs": false,
   "report_style_numbering": false,
   "user_envs_cfg": false
  },
  "varInspector": {
   "cols": {
    "lenName": 16,
    "lenType": 16,
    "lenVar": 40
   },
   "kernels_config": {
    "python": {
     "delete_cmd_postfix": "",
     "delete_cmd_prefix": "del ",
     "library": "var_list.py",
     "varRefreshCmd": "print(var_dic_list())"
    },
    "r": {
     "delete_cmd_postfix": ") ",
     "delete_cmd_prefix": "rm(",
     "library": "var_list.r",
     "varRefreshCmd": "cat(var_dic_list()) "
    }
   },
   "types_to_exclude": [
    "module",
    "function",
    "builtin_function_or_method",
    "instance",
    "_Feature"
   ],
   "window_display": false
  }
 },
 "nbformat": 4,
 "nbformat_minor": 2
}
