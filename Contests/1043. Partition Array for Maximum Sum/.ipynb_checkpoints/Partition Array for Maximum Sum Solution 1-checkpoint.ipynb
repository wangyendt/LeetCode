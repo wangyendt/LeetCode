{
 "cells": [
  {
   "cell_type": "code",
   "execution_count": 29,
   "metadata": {
    "ExecuteTime": {
     "end_time": "2019-05-13T02:05:22.407198Z",
     "start_time": "2019-05-13T02:05:22.402187Z"
    }
   },
   "outputs": [],
   "source": [
    "class Solution:\n",
    "    def maxSumAfterPartitioning(self, A: list, K: int) -> int:\n",
    "        n = len(A)\n",
    "        dp = [0]*n\n",
    "        for i in range(n):\n",
    "            if i < K:\n",
    "                dp[i] = (i+1)*max(A[:i+1])\n",
    "            else:\n",
    "                candidates = [dp[i-1-j] + (j+1)*max(A[i-j:i+1]) for j in range(K)]\n",
    "                dp[i] = max(candidates)\n",
    "        return dp[-1]\n",
    "        "
   ]
  },
  {
   "cell_type": "code",
   "execution_count": 30,
   "metadata": {
    "ExecuteTime": {
     "end_time": "2019-05-13T02:05:22.750111Z",
     "start_time": "2019-05-13T02:05:22.746101Z"
    }
   },
   "outputs": [
    {
     "name": "stdout",
     "output_type": "stream",
     "text": [
      "84\n"
     ]
    }
   ],
   "source": [
    "so = Solution()\n",
    "print(so.maxSumAfterPartitioning([1,15,7,9,2,5,10],3))"
   ]
  }
 ],
 "metadata": {
  "kernelspec": {
   "display_name": "Python 3",
   "language": "python",
   "name": "python3"
  },
  "language_info": {
   "codemirror_mode": {
    "name": "ipython",
    "version": 3
   },
   "file_extension": ".py",
   "mimetype": "text/x-python",
   "name": "python",
   "nbconvert_exporter": "python",
   "pygments_lexer": "ipython3",
   "version": "3.7.0"
  },
  "latex_envs": {
   "LaTeX_envs_menu_present": true,
   "autoclose": false,
   "autocomplete": true,
   "bibliofile": "biblio.bib",
   "cite_by": "apalike",
   "current_citInitial": 1,
   "eqLabelWithNumbers": true,
   "eqNumInitial": 1,
   "hotkeys": {
    "equation": "Ctrl-E",
    "itemize": "Ctrl-I"
   },
   "labels_anchors": false,
   "latex_user_defs": false,
   "report_style_numbering": false,
   "user_envs_cfg": false
  }
 },
 "nbformat": 4,
 "nbformat_minor": 2
}
