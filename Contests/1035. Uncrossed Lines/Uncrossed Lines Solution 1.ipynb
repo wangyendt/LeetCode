{
 "cells": [
  {
   "cell_type": "code",
   "execution_count": 21,
   "metadata": {
    "ExecuteTime": {
     "end_time": "2019-04-28T08:39:41.946445Z",
     "start_time": "2019-04-28T08:39:41.941432Z"
    }
   },
   "outputs": [],
   "source": [
    "class Solution:\n",
    "    def maxUncrossedLines(self, A: list, B: list) -> int:\n",
    "        m, n = len(A), len(B)\n",
    "        dp = [[0 for j in range(n+1)] for i in range(m+1)]\n",
    "        for i in range(1, m+1):\n",
    "            for j in range(1, n+1):\n",
    "                if A[i-1] == B[j-1]:\n",
    "                    dp[i][j] = 1+dp[i-1][j-1]\n",
    "                else:\n",
    "                    dp[i][j] = max(dp[i-1][j], dp[i][j-1])\n",
    "        return dp[m][n]"
   ]
  },
  {
   "cell_type": "code",
   "execution_count": 23,
   "metadata": {
    "ExecuteTime": {
     "end_time": "2019-04-28T08:39:52.421633Z",
     "start_time": "2019-04-28T08:39:52.414579Z"
    },
    "scrolled": false
   },
   "outputs": [
    {
     "name": "stdout",
     "output_type": "stream",
     "text": [
      "2 2\n",
      "3 3\n",
      "0 0\n",
      "2 2\n",
      "2 2\n",
      "3 3\n",
      "7 7\n"
     ]
    }
   ],
   "source": [
    "so = Solution()\n",
    "print(so.maxUncrossedLines([1,3,7,1,7,5],[1,9,2,5,1]),2)\n",
    "print(so.maxUncrossedLines([2,5,1,2,5], [10,5,2,1,5,2]),3)\n",
    "print(so.maxUncrossedLines([1], [3]),0)\n",
    "print(so.maxUncrossedLines([1,4,2],[1,2,4]),2)\n",
    "print(so.maxUncrossedLines([2,1],[1,2,1,3,3,2]),2)\n",
    "print(so.maxUncrossedLines([2,1,3],[2,1,2,3,1]),3)\n",
    "print(so.maxUncrossedLines([4,1,2,5,1,5,3,4,1,5],[3,1,1,3,2,5,2,4,1,3,2,2,5,5,3,5,5,1,2,1]), 7)\n",
    "# print(so.findMaxLengthOfIncendingSubArray([2,0,3,5,1,1]))"
   ]
  }
 ],
 "metadata": {
  "kernelspec": {
   "display_name": "Python 3",
   "language": "python",
   "name": "python3"
  },
  "language_info": {
   "codemirror_mode": {
    "name": "ipython",
    "version": 3
   },
   "file_extension": ".py",
   "mimetype": "text/x-python",
   "name": "python",
   "nbconvert_exporter": "python",
   "pygments_lexer": "ipython3",
   "version": "3.6.7"
  },
  "latex_envs": {
   "LaTeX_envs_menu_present": true,
   "autoclose": false,
   "autocomplete": true,
   "bibliofile": "biblio.bib",
   "cite_by": "apalike",
   "current_citInitial": 1,
   "eqLabelWithNumbers": true,
   "eqNumInitial": 1,
   "hotkeys": {
    "equation": "Ctrl-E",
    "itemize": "Ctrl-I"
   },
   "labels_anchors": false,
   "latex_user_defs": false,
   "report_style_numbering": false,
   "user_envs_cfg": false
  },
  "varInspector": {
   "cols": {
    "lenName": 16,
    "lenType": 16,
    "lenVar": 40
   },
   "kernels_config": {
    "python": {
     "delete_cmd_postfix": "",
     "delete_cmd_prefix": "del ",
     "library": "var_list.py",
     "varRefreshCmd": "print(var_dic_list())"
    },
    "r": {
     "delete_cmd_postfix": ") ",
     "delete_cmd_prefix": "rm(",
     "library": "var_list.r",
     "varRefreshCmd": "cat(var_dic_list()) "
    }
   },
   "types_to_exclude": [
    "module",
    "function",
    "builtin_function_or_method",
    "instance",
    "_Feature"
   ],
   "window_display": false
  }
 },
 "nbformat": 4,
 "nbformat_minor": 2
}
