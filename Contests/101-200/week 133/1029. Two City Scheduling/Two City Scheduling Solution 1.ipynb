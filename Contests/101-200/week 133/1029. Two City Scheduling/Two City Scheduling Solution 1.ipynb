{
 "cells": [
  {
   "cell_type": "code",
   "execution_count": 28,
   "metadata": {
    "ExecuteTime": {
     "end_time": "2019-04-21T03:08:22.079416Z",
     "start_time": "2019-04-21T03:08:22.071399Z"
    }
   },
   "outputs": [],
   "source": [
    "class Solution:\n",
    "    def twoCitySchedCost(self, costs: list(list())) -> int:\n",
    "        n = len(costs)\n",
    "        ret = 0\n",
    "        cnt = 0\n",
    "        modifyListA = []\n",
    "        modifyListB = []\n",
    "        for c in costs:\n",
    "            if c[0] > c[1]:\n",
    "                cnt += 1\n",
    "                ret += c[1]\n",
    "                modifyListA.append(c)\n",
    "            else:\n",
    "                ret += c[0]\n",
    "                modifyListB.append(c)\n",
    "        print(cnt, n, modifyListA, modifyListB)\n",
    "        if cnt == n / 2:\n",
    "            return ret\n",
    "        if cnt > n / 2:\n",
    "            adjustList = sorted(modifyListA, key=lambda x: x[0]-x[1])\n",
    "        else:\n",
    "            adjustList = sorted(modifyListB, key=lambda x: x[1]-x[0])\n",
    "        if cnt > n / 2:\n",
    "            i = 0\n",
    "            while cnt > n / 2:\n",
    "                ret += adjustList[i][0]\n",
    "                ret -= adjustList[i][1]\n",
    "                i += 1\n",
    "                cnt -= 1\n",
    "        else:\n",
    "            i = 0\n",
    "            while cnt < n / 2:\n",
    "                ret += adjustList[i][1]\n",
    "                ret -= adjustList[i][0]\n",
    "                i += 1\n",
    "                cnt += 1\n",
    "        print(cnt)\n",
    "        return ret"
   ]
  },
  {
   "cell_type": "code",
   "execution_count": 29,
   "metadata": {
    "ExecuteTime": {
     "end_time": "2019-04-21T03:08:22.435286Z",
     "start_time": "2019-04-21T03:08:22.432279Z"
    }
   },
   "outputs": [
    {
     "name": "stdout",
     "output_type": "stream",
     "text": [
      "5 6 [[448, 54], [926, 667], [184, 139], [840, 118], [577, 469]] [[259, 770]]\n",
      "[[184, 139], [577, 469], [926, 667], [448, 54], [840, 118]]\n",
      "3\n",
      "1859 1859\n"
     ]
    }
   ],
   "source": [
    "so = Solution()\n",
    "# print(so.twoCitySchedCost([[20,10],[30,200],[400,50],[30,20]]), 110)\n",
    "print(so.twoCitySchedCost([[259,770],[448,54],[926,667],[184,139],[840,118],[577,469]]), 1859)"
   ]
  }
 ],
 "metadata": {
  "kernelspec": {
   "display_name": "Python 3",
   "language": "python",
   "name": "python3"
  },
  "language_info": {
   "codemirror_mode": {
    "name": "ipython",
    "version": 3
   },
   "file_extension": ".py",
   "mimetype": "text/x-python",
   "name": "python",
   "nbconvert_exporter": "python",
   "pygments_lexer": "ipython3",
   "version": "3.6.7"
  },
  "latex_envs": {
   "LaTeX_envs_menu_present": true,
   "autoclose": false,
   "autocomplete": true,
   "bibliofile": "biblio.bib",
   "cite_by": "apalike",
   "current_citInitial": 1,
   "eqLabelWithNumbers": true,
   "eqNumInitial": 1,
   "hotkeys": {
    "equation": "Ctrl-E",
    "itemize": "Ctrl-I"
   },
   "labels_anchors": false,
   "latex_user_defs": false,
   "report_style_numbering": false,
   "user_envs_cfg": false
  },
  "varInspector": {
   "cols": {
    "lenName": 16,
    "lenType": 16,
    "lenVar": 40
   },
   "kernels_config": {
    "python": {
     "delete_cmd_postfix": "",
     "delete_cmd_prefix": "del ",
     "library": "var_list.py",
     "varRefreshCmd": "print(var_dic_list())"
    },
    "r": {
     "delete_cmd_postfix": ") ",
     "delete_cmd_prefix": "rm(",
     "library": "var_list.r",
     "varRefreshCmd": "cat(var_dic_list()) "
    }
   },
   "types_to_exclude": [
    "module",
    "function",
    "builtin_function_or_method",
    "instance",
    "_Feature"
   ],
   "window_display": false
  }
 },
 "nbformat": 4,
 "nbformat_minor": 2
}
