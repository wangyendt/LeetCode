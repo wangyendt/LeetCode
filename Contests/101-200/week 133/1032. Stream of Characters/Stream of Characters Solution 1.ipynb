{
 "cells": [
  {
   "cell_type": "code",
   "execution_count": 127,
   "metadata": {
    "ExecuteTime": {
     "end_time": "2019-04-21T05:28:33.607424Z",
     "start_time": "2019-04-21T05:28:33.601389Z"
    }
   },
   "outputs": [],
   "source": [
    "class StreamChecker:\n",
    "    def __init__(self, words: list):\n",
    "        words = list(set(words))\n",
    "        self.maxLen = max([len(w) for w in words])\n",
    "        self.wordsList = [[] for _ in range(self.maxLen)]\n",
    "        for w in words:\n",
    "            self.wordsList[len(w)-1].append(w)\n",
    "        self.queryStr = ''\n",
    "        self.lastRet = False\n",
    "\n",
    "    def query(self, letter: str) -> bool:\n",
    "        self.queryStr += letter\n",
    "        if len(self.queryStr) > self.maxLen:\n",
    "            if len(set(self.queryStr)) == 1 and self.queryStr[0] == letter:\n",
    "                self.queryStr = self.queryStr[1:]\n",
    "                return self.lastRet\n",
    "            else:\n",
    "                self.queryStr = self.queryStr[1:]\n",
    "#         print(self.queryStr)\n",
    "        for i, w in enumerate(self.wordsList):\n",
    "            for wi in w:\n",
    "                if wi == self.queryStr[-1-i:]:\n",
    "                    self.lastRet = True\n",
    "                    return True\n",
    "        else:\n",
    "            self.lastRet = False\n",
    "            return False\n",
    "\n",
    "\n",
    "# Your StreamChecker object will be instantiated and called as such:\n",
    "# obj = StreamChecker(words)\n",
    "# param_1 = obj.query(letter)"
   ]
  },
  {
   "cell_type": "code",
   "execution_count": 131,
   "metadata": {
    "ExecuteTime": {
     "end_time": "2019-04-21T05:29:19.015697Z",
     "start_time": "2019-04-21T05:29:18.549363Z"
    }
   },
   "outputs": [],
   "source": [
    "# words = [\"cd\",\"f\",\"kl\",\"kl\"]\n",
    "# queries = ['a','b','c','d','e','f','g','h','i','j','k','l']\n",
    "# [\"StreamChecker\",\"query\",\"query\",\"query\",\"query\",\"query\",\"query\",\"query\",\"query\",\"query\",\"query\",\"query\",\"query\",\"query\",\"query\",\"query\",\"query\",\"query\",\"query\",\"query\",\"query\",\"query\",\"query\",\"query\",\"query\",\"query\",\"query\",\"query\",\"query\",\"query\",\"query\"]\n",
    "# words = [\"ab\",\"ba\",\"aaab\",\"abab\",\"baa\"]\n",
    "# queries = [\"a\",\"a\",\"a\",\"a\",\"a\",\"b\",\"a\",\"b\",\"a\",\"b\",\"b\",\"b\",\"a\",\"b\",\"a\",\"b\",\"b\",\"b\",\"b\",\"a\",\"b\",\"a\",\"b\",\"a\",\"a\",\"a\",\"b\",\"a\",\"a\",\"a\"]\n",
    "obj = StreamChecker(words)\n",
    "for qu in queries:\n",
    "    obj.query(qu)"
   ]
  },
  {
   "cell_type": "code",
   "execution_count": 129,
   "metadata": {
    "ExecuteTime": {
     "end_time": "2019-04-21T05:29:08.298097Z",
     "start_time": "2019-04-21T05:29:08.281011Z"
    }
   },
   "outputs": [
    {
     "name": "stdout",
     "output_type": "stream",
     "text": [
      "2000 40000\n"
     ]
    },
    {
     "data": {
      "text/plain": [
       "485"
      ]
     },
     "execution_count": 129,
     "metadata": {},
     "output_type": "execute_result"
    }
   ],
   "source": [
    "with open('words2.txt', 'r') as f:\n",
    "    words = f.readlines()[0].split(',')\n",
    "with open('queries2.txt', 'r') as f:\n",
    "    queries = f.readlines()[0].split(',')\n",
    "print(len(words), len(queries))\n",
    "len(set([len(w) for w in words]))"
   ]
  }
 ],
 "metadata": {
  "kernelspec": {
   "display_name": "Python 3",
   "language": "python",
   "name": "python3"
  },
  "language_info": {
   "codemirror_mode": {
    "name": "ipython",
    "version": 3
   },
   "file_extension": ".py",
   "mimetype": "text/x-python",
   "name": "python",
   "nbconvert_exporter": "python",
   "pygments_lexer": "ipython3",
   "version": "3.6.7"
  },
  "latex_envs": {
   "LaTeX_envs_menu_present": true,
   "autoclose": false,
   "autocomplete": true,
   "bibliofile": "biblio.bib",
   "cite_by": "apalike",
   "current_citInitial": 1,
   "eqLabelWithNumbers": true,
   "eqNumInitial": 1,
   "hotkeys": {
    "equation": "Ctrl-E",
    "itemize": "Ctrl-I"
   },
   "labels_anchors": false,
   "latex_user_defs": false,
   "report_style_numbering": false,
   "user_envs_cfg": false
  },
  "varInspector": {
   "cols": {
    "lenName": 16,
    "lenType": 16,
    "lenVar": 40
   },
   "kernels_config": {
    "python": {
     "delete_cmd_postfix": "",
     "delete_cmd_prefix": "del ",
     "library": "var_list.py",
     "varRefreshCmd": "print(var_dic_list())"
    },
    "r": {
     "delete_cmd_postfix": ") ",
     "delete_cmd_prefix": "rm(",
     "library": "var_list.r",
     "varRefreshCmd": "cat(var_dic_list()) "
    }
   },
   "types_to_exclude": [
    "module",
    "function",
    "builtin_function_or_method",
    "instance",
    "_Feature"
   ],
   "window_display": false
  }
 },
 "nbformat": 4,
 "nbformat_minor": 2
}
