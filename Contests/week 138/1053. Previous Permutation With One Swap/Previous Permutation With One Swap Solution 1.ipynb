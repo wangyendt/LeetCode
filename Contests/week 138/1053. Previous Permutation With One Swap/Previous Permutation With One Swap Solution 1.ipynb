{
 "cells": [
  {
   "cell_type": "code",
   "execution_count": 23,
   "metadata": {
    "ExecuteTime": {
     "end_time": "2019-05-26T03:18:18.192525Z",
     "start_time": "2019-05-26T03:18:18.187502Z"
    }
   },
   "outputs": [],
   "source": [
    "class Solution:\n",
    "    def prevPermOpt1(self, A: list) -> list:\n",
    "        for i in range(len(A))[:0:-1]:\n",
    "            if A[i]-A[i-1]<0:\n",
    "                if i == len(A)-1:\n",
    "                    return A[:i-1]+[A[i]]+[A[i-1]]\n",
    "                M, Mi = A[i], i\n",
    "                for j in range(i+1,len(A)):\n",
    "                    if A[j] < A[i-1] and A[j] > M:\n",
    "                        M, Mi = A[j], j\n",
    "                print(M,Mi)\n",
    "                newArr = [M] + sorted(A[i-1:Mi]+A[Mi+1:])\n",
    "                return A[:i-1]+newArr\n",
    "        else:\n",
    "            return A"
   ]
  },
  {
   "cell_type": "code",
   "execution_count": 25,
   "metadata": {
    "ExecuteTime": {
     "end_time": "2019-05-26T03:18:22.001023Z",
     "start_time": "2019-05-26T03:18:21.996010Z"
    }
   },
   "outputs": [
    {
     "name": "stdout",
     "output_type": "stream",
     "text": [
      "7 4\n",
      "[1, 7, 4, 6, 9] [1, 7, 4, 6, 9]\n",
      "[1, 2, 3, 4, 5] [1, 2, 3, 4, 5]\n",
      "[3, 1, 2] [3, 1, 2]\n",
      "1 1\n",
      "[1, 1, 3, 3] [1, 1, 3, 3]\n",
      "[1] [1]\n"
     ]
    }
   ],
   "source": [
    "so = Solution()\n",
    "print(so.prevPermOpt1([1,9,4,6,7]),[1,7,4,6,9])\n",
    "print(so.prevPermOpt1([1,2,3,4,5]),[1,2,3,4,5])\n",
    "print(so.prevPermOpt1([3,2,1]),[3,1,2])\n",
    "print(so.prevPermOpt1([3,1,1,3]),[1,1,3,3])\n",
    "print(so.prevPermOpt1([1]),[1])"
   ]
  }
 ],
 "metadata": {
  "kernelspec": {
   "display_name": "Python 3",
   "language": "python",
   "name": "python3"
  },
  "language_info": {
   "codemirror_mode": {
    "name": "ipython",
    "version": 3
   },
   "file_extension": ".py",
   "mimetype": "text/x-python",
   "name": "python",
   "nbconvert_exporter": "python",
   "pygments_lexer": "ipython3",
   "version": "3.7.0"
  },
  "latex_envs": {
   "LaTeX_envs_menu_present": true,
   "autoclose": false,
   "autocomplete": true,
   "bibliofile": "biblio.bib",
   "cite_by": "apalike",
   "current_citInitial": 1,
   "eqLabelWithNumbers": true,
   "eqNumInitial": 1,
   "hotkeys": {
    "equation": "Ctrl-E",
    "itemize": "Ctrl-I"
   },
   "labels_anchors": false,
   "latex_user_defs": false,
   "report_style_numbering": false,
   "user_envs_cfg": false
  }
 },
 "nbformat": 4,
 "nbformat_minor": 2
}
