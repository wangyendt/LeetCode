{
 "cells": [
  {
   "cell_type": "markdown",
   "metadata": {},
   "source": [
    "\\begin{equation}\n",
    "\\begin{aligned}\n",
    "F_{n+2}&=\\operatorname*{\\Sigma}\\limits_{i=0}^{\\lfloor\\frac{n+2}{2}\\rfloor}\\binom{n+2-i}{i} \\\\\n",
    "&=1+\\operatorname*{\\Sigma}\\limits_{i=1}^{\\lfloor\\frac{n+2}{2}\\rfloor}\\big[\\binom{n+1-i}{i}+\\binom{n+1-i}{i-1}\\big] \\\\\n",
    "&=1+\\operatorname*{\\Sigma}\\limits_{i=1}^{\\lfloor\\frac{n+2}{2}\\rfloor}\\binom{n+1-i}{i}+\\operatorname*{\\Sigma}\\limits_{i=0}^{\\lfloor\\frac{n}{2}\\rfloor}\\binom{n-i}{i} \\\\\n",
    "&=\\operatorname*{\\Sigma}\\limits_{i=0}^{\\lfloor\\frac{n+1}{2}\\rfloor}\\binom{n+1-i}{i}+\\operatorname*{\\Sigma}\\limits_{i=0}^{\\lfloor\\frac{n}{2}\\rfloor}\\binom{n-i}{i} \\\\\n",
    "&= F_{n+1} + F_{n}\n",
    "\\end{aligned}\n",
    "\\end{equation}\n",
    "\\begin{equation}\n",
    "F_n = \\frac{1}{\\sqrt5}\\big[\\big(\\frac{1+\\sqrt5}{2}\\big)^{n+1}+\\big(\\frac{1-\\sqrt5}{2}\\big)^{n+1}\\big]\n",
    "\\end{equation}"
   ]
  },
  {
   "cell_type": "code",
   "execution_count": 10,
   "metadata": {
    "ExecuteTime": {
     "end_time": "2019-04-01T08:32:04.407620Z",
     "start_time": "2019-04-01T08:32:04.402634Z"
    }
   },
   "outputs": [],
   "source": [
    "import math\n",
    "\n",
    "class Solution:\n",
    "    def climbStairs(self, n: int) -> int:\n",
    "        a, b = (1+math.sqrt(5))/2, (1-math.sqrt(5))/2\n",
    "        return int((a**(n+1)-b**(n+1))/math.sqrt(5))"
   ]
  },
  {
   "cell_type": "code",
   "execution_count": 11,
   "metadata": {
    "ExecuteTime": {
     "end_time": "2019-04-01T08:32:04.726213Z",
     "start_time": "2019-04-01T08:32:04.723215Z"
    }
   },
   "outputs": [
    {
     "name": "stdout",
     "output_type": "stream",
     "text": [
      "1\n",
      "1\n",
      "2\n",
      "3\n",
      "5\n",
      "8\n",
      "13\n",
      "21\n",
      "34\n",
      "55\n"
     ]
    }
   ],
   "source": [
    "so = Solution()\n",
    "for i in range(10):\n",
    "    print(so.climbStairs(i))"
   ]
  }
 ],
 "metadata": {
  "kernelspec": {
   "display_name": "Python 3",
   "language": "python",
   "name": "python3"
  },
  "language_info": {
   "codemirror_mode": {
    "name": "ipython",
    "version": 3
   },
   "file_extension": ".py",
   "mimetype": "text/x-python",
   "name": "python",
   "nbconvert_exporter": "python",
   "pygments_lexer": "ipython3",
   "version": "3.6.7"
  },
  "latex_envs": {
   "LaTeX_envs_menu_present": true,
   "autoclose": false,
   "autocomplete": true,
   "bibliofile": "biblio.bib",
   "cite_by": "apalike",
   "current_citInitial": 1,
   "eqLabelWithNumbers": true,
   "eqNumInitial": 1,
   "hotkeys": {
    "equation": "Ctrl-E",
    "itemize": "Ctrl-I"
   },
   "labels_anchors": false,
   "latex_user_defs": false,
   "report_style_numbering": false,
   "user_envs_cfg": false
  },
  "varInspector": {
   "cols": {
    "lenName": 16,
    "lenType": 16,
    "lenVar": 40
   },
   "kernels_config": {
    "python": {
     "delete_cmd_postfix": "",
     "delete_cmd_prefix": "del ",
     "library": "var_list.py",
     "varRefreshCmd": "print(var_dic_list())"
    },
    "r": {
     "delete_cmd_postfix": ") ",
     "delete_cmd_prefix": "rm(",
     "library": "var_list.r",
     "varRefreshCmd": "cat(var_dic_list()) "
    }
   },
   "types_to_exclude": [
    "module",
    "function",
    "builtin_function_or_method",
    "instance",
    "_Feature"
   ],
   "window_display": false
  }
 },
 "nbformat": 4,
 "nbformat_minor": 2
}
