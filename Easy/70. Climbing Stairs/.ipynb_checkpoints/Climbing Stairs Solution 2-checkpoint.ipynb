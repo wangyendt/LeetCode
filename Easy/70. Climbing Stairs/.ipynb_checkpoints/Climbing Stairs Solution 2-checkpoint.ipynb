{
 "cells": [
  {
   "cell_type": "markdown",
   "metadata": {},
   "source": [
    "\\begin{equation}\n",
    "\\begin{aligned}\n",
    "F_{n+2}&=\\operatorname*{\\Sigma}\\limits_{i=0}^{\\lfloor\\frac{n+2}{2}\\rfloor}\\binom{n+2-i}{i} \\\\\n",
    "&=1+\\operatorname*{\\Sigma}\\limits_{i=1}^{\\lfloor\\frac{n+2}{2}\\rfloor}\\big[\\binom{n+1-i}{i}+\\binom{n+1-i}{i-1}\\big] \\\\\n",
    "&=1+\\operatorname*{\\Sigma}\\limits_{i=0}^{\\lfloor\\frac{n+2}{2}\\rfloor}\\binom{n+1-i}{i}+\\operatorname*{\\Sigma}\\limits_{i=0}^{\\lfloor\\frac{n}{2}\\rfloor}\\binom{n-i}{i} \\\\\n",
    "&=\\operatorname*{\\Sigma}\\limits_{i=0}^{\\lfloor\\frac{n+1}{2}\\rfloor}\\binom{n+1-i}{i}+\\operatorname*{\\Sigma}\\limits_{i=0}^{\\lfloor\\frac{n}{2}\\rfloor}\\binom{n-i}{i} \\\\\n",
    "&= F_{n+1} + F_{n}\n",
    "\\end{aligned}\n",
    "\\end{equation}\n",
    "\\begin{equation}\n",
    "F_n = \\frac{1}{\\sqrt5}\\big[\\big(\\frac{1+\\sqrt5}{2}\\big)^{n+1}+\\big(\\frac{1-\\sqrt5}{2}\\big)^{n+1}\\big]\n",
    "\\end{equation}"
   ]
  },
  {
   "cell_type": "code",
   "execution_count": 1,
   "metadata": {
    "ExecuteTime": {
     "end_time": "2019-04-01T08:21:40.520236Z",
     "start_time": "2019-04-01T08:21:40.517279Z"
    }
   },
   "outputs": [],
   "source": [
    "class Solution:\n",
    "    def climbStairs(self, n: int) -> int:\n",
    "        a, b = 1, 1\n",
    "        for i in range(n):\n",
    "            a, b = b, a+b\n",
    "        return a"
   ]
  },
  {
   "cell_type": "code",
   "execution_count": 2,
   "metadata": {
    "ExecuteTime": {
     "end_time": "2019-04-01T08:21:45.644172Z",
     "start_time": "2019-04-01T08:21:45.636193Z"
    }
   },
   "outputs": [
    {
     "name": "stdout",
     "output_type": "stream",
     "text": [
      "1\n",
      "1\n",
      "2\n",
      "3\n",
      "5\n",
      "8\n",
      "13\n",
      "21\n",
      "34\n",
      "55\n"
     ]
    }
   ],
   "source": [
    "so = Solution()\n",
    "for i in range(10):\n",
    "    print(so.climbStairs(i))"
   ]
  }
 ],
 "metadata": {
  "kernelspec": {
   "display_name": "Python 3",
   "language": "python",
   "name": "python3"
  },
  "language_info": {
   "codemirror_mode": {
    "name": "ipython",
    "version": 3
   },
   "file_extension": ".py",
   "mimetype": "text/x-python",
   "name": "python",
   "nbconvert_exporter": "python",
   "pygments_lexer": "ipython3",
   "version": "3.6.7"
  }
 },
 "nbformat": 4,
 "nbformat_minor": 2
}
