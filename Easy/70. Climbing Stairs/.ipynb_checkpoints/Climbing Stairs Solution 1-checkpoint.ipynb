{
 "cells": [
  {
   "cell_type": "markdown",
   "metadata": {},
   "source": [
    "\\begin{equation}\n",
    "\\begin{aligned}\n",
    "F_{n+2}&=\\operatorname*{\\Sigma}\\limits_{i=0}^{\\lfloor\\frac{n+2}{2}\\rfloor}\\binom{n+2-i}{i} \\\\\n",
    "&=1+\\operatorname*{\\Sigma}\\limits_{i=1}^{\\lfloor\\frac{n+2}{2}\\rfloor}\\big[\\binom{n+1-i}{i}+\\binom{n+1-i}{i-1}\\big] \\\\\n",
    "&=1+\\operatorname*{\\Sigma}\\limits_{i=0}^{\\lfloor\\frac{n+2}{2}\\rfloor}\\binom{n+1-i}{i}+\\operatorname*{\\Sigma}\\limits_{i=0}^{\\lfloor\\frac{n}{2}\\rfloor}\\binom{n-i}{i} \\\\\n",
    "&=\\operatorname*{\\Sigma}\\limits_{i=0}^{\\lfloor\\frac{n+1}{2}\\rfloor}\\binom{n+1-i}{i}+\\operatorname*{\\Sigma}\\limits_{i=0}^{\\lfloor\\frac{n}{2}\\rfloor}\\binom{n-i}{i} \\\\\n",
    "&= F_{n+1} + F_{n}\n",
    "\\end{aligned}\n",
    "\\end{equation}\n",
    "\\begin{equation}\n",
    "F_n = \\frac{1}{\\sqrt5}\\big[\\big(\\frac{1+\\sqrt5}{2}\\big)^{n+1}+\\big(\\frac{1-\\sqrt5}{2}\\big)^{n+1}\\big]\n",
    "\\end{equation}"
   ]
  },
  {
   "cell_type": "code",
   "execution_count": 6,
   "metadata": {
    "ExecuteTime": {
     "end_time": "2019-04-01T07:23:11.475326Z",
     "start_time": "2019-04-01T07:23:11.472324Z"
    }
   },
   "outputs": [],
   "source": [
    "class Solution:\n",
    "    def climbStairs(self, n: int) -> int:\n",
    "        ret = 0\n",
    "        for i in range(n // 2 + 1):\n",
    "            ret += self.nChooseK(n-i, i)\n",
    "        return ret\n",
    "    \n",
    "    def nChooseK(self, n, k):\n",
    "        return self.factorial_(n) // (self.factorial_(n-k) * self.factorial_(k))\n",
    "    \n",
    "    def factorial_(self, n):\n",
    "        result = 1\n",
    "        for i in range(2,n+1):\n",
    "            result *= i\n",
    "        return result"
   ]
  },
  {
   "cell_type": "code",
   "execution_count": 9,
   "metadata": {
    "ExecuteTime": {
     "end_time": "2019-04-01T07:44:11.461704Z",
     "start_time": "2019-04-01T07:44:11.457706Z"
    }
   },
   "outputs": [
    {
     "name": "stdout",
     "output_type": "stream",
     "text": [
      "1\n",
      "1\n",
      "2\n",
      "3\n",
      "5\n",
      "8\n",
      "13\n",
      "21\n",
      "34\n",
      "55\n"
     ]
    }
   ],
   "source": [
    "so = Solution()\n",
    "for i in range(10):\n",
    "    print(so.climbStairs(i))"
   ]
  }
 ],
 "metadata": {
  "kernelspec": {
   "display_name": "Python 3",
   "language": "python",
   "name": "python3"
  },
  "language_info": {
   "codemirror_mode": {
    "name": "ipython",
    "version": 3
   },
   "file_extension": ".py",
   "mimetype": "text/x-python",
   "name": "python",
   "nbconvert_exporter": "python",
   "pygments_lexer": "ipython3",
   "version": "3.6.7"
  }
 },
 "nbformat": 4,
 "nbformat_minor": 2
}
