{
 "cells": [
  {
   "cell_type": "code",
   "execution_count": 3,
   "metadata": {
    "ExecuteTime": {
     "end_time": "2019-05-25T14:17:45.205865Z",
     "start_time": "2019-05-25T14:17:45.200852Z"
    }
   },
   "outputs": [],
   "source": [
    "class Solution:\n",
    "    def isUgly(self, num: int) -> bool:\n",
    "        if num <= 0:\n",
    "            return False\n",
    "        while num % 2 == 0:\n",
    "            num //= 2\n",
    "        while num % 3 == 0:\n",
    "            num //= 3\n",
    "        while num % 5 == 0:\n",
    "            num //= 5\n",
    "        return num == 1"
   ]
  },
  {
   "cell_type": "code",
   "execution_count": 4,
   "metadata": {
    "ExecuteTime": {
     "end_time": "2019-05-25T14:17:45.399863Z",
     "start_time": "2019-05-25T14:17:45.393845Z"
    }
   },
   "outputs": [
    {
     "name": "stdout",
     "output_type": "stream",
     "text": [
      "0 False\n",
      "1 True\n",
      "2 True\n",
      "3 True\n",
      "4 True\n",
      "5 True\n",
      "6 True\n",
      "7 False\n",
      "8 True\n",
      "9 True\n",
      "10 True\n",
      "11 False\n",
      "12 True\n",
      "13 False\n",
      "14 False\n",
      "15 True\n",
      "16 True\n",
      "17 False\n",
      "18 True\n",
      "19 False\n",
      "20 True\n",
      "21 False\n",
      "22 False\n",
      "23 False\n",
      "24 True\n",
      "25 True\n",
      "26 False\n",
      "27 True\n",
      "28 False\n",
      "29 False\n"
     ]
    }
   ],
   "source": [
    "so = Solution()\n",
    "for i in range(30):\n",
    "    print(i, so.isUgly(i))"
   ]
  }
 ],
 "metadata": {
  "kernelspec": {
   "display_name": "Python 3",
   "language": "python",
   "name": "python3"
  },
  "language_info": {
   "codemirror_mode": {
    "name": "ipython",
    "version": 3
   },
   "file_extension": ".py",
   "mimetype": "text/x-python",
   "name": "python",
   "nbconvert_exporter": "python",
   "pygments_lexer": "ipython3",
   "version": "3.7.0"
  },
  "latex_envs": {
   "LaTeX_envs_menu_present": true,
   "autoclose": false,
   "autocomplete": true,
   "bibliofile": "biblio.bib",
   "cite_by": "apalike",
   "current_citInitial": 1,
   "eqLabelWithNumbers": true,
   "eqNumInitial": 1,
   "hotkeys": {
    "equation": "Ctrl-E",
    "itemize": "Ctrl-I"
   },
   "labels_anchors": false,
   "latex_user_defs": false,
   "report_style_numbering": false,
   "user_envs_cfg": false
  }
 },
 "nbformat": 4,
 "nbformat_minor": 2
}
