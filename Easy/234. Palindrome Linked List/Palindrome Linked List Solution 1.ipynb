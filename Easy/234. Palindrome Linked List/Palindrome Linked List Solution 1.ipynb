{
 "cells": [
  {
   "cell_type": "code",
   "execution_count": 1,
   "metadata": {
    "ExecuteTime": {
     "end_time": "2019-05-25T11:29:32.318001Z",
     "start_time": "2019-05-25T11:29:32.299112Z"
    }
   },
   "outputs": [],
   "source": [
    "# Definition for singly-linked list.\n",
    "class ListNode:\n",
    "    def __init__(self, x):\n",
    "        self.val = x\n",
    "        self.next = None"
   ]
  },
  {
   "cell_type": "code",
   "execution_count": 42,
   "metadata": {
    "ExecuteTime": {
     "end_time": "2019-05-25T11:38:02.198014Z",
     "start_time": "2019-05-25T11:38:02.193003Z"
    }
   },
   "outputs": [],
   "source": [
    "class Solution:\n",
    "    def isPalindrome(self, head: ListNode) -> bool:\n",
    "        fast, slow = head, head\n",
    "        while fast and fast.next:\n",
    "            slow = slow.next\n",
    "            fast = fast.next.next\n",
    "            print(printListNode(slow),printListNode(fast))\n",
    "        pre, cur = None, slow\n",
    "        while cur:\n",
    "            cur.next, pre, cur = pre, cur, cur.next\n",
    "        l, r = pre, head\n",
    "        print(printListNode(pre),printListNode(head))        \n",
    "        while l:\n",
    "            if l.val == r.val:\n",
    "                l, r = l.next, r.next\n",
    "            else:\n",
    "                return False\n",
    "        return True"
   ]
  },
  {
   "cell_type": "code",
   "execution_count": 45,
   "metadata": {
    "ExecuteTime": {
     "end_time": "2019-05-25T11:38:53.438974Z",
     "start_time": "2019-05-25T11:38:53.431955Z"
    }
   },
   "outputs": [
    {
     "name": "stdout",
     "output_type": "stream",
     "text": [
      "2 -> 3 -> 4 -> 5 -> 4 -> 6 -> 2 -> 1 3 -> 4 -> 5 -> 4 -> 6 -> 2 -> 1\n",
      "3 -> 4 -> 5 -> 4 -> 6 -> 2 -> 1 5 -> 4 -> 6 -> 2 -> 1\n",
      "4 -> 5 -> 4 -> 6 -> 2 -> 1 6 -> 2 -> 1\n",
      "5 -> 4 -> 6 -> 2 -> 1 1\n",
      "1 -> 2 -> 6 -> 4 -> 5 1 -> 2 -> 3 -> 4 -> 5\n",
      "False False\n",
      "2 -> 3 -> 4 -> 5 -> 4 -> 3 -> 2 -> 1 3 -> 4 -> 5 -> 4 -> 3 -> 2 -> 1\n",
      "3 -> 4 -> 5 -> 4 -> 3 -> 2 -> 1 5 -> 4 -> 3 -> 2 -> 1\n",
      "4 -> 5 -> 4 -> 3 -> 2 -> 1 3 -> 2 -> 1\n",
      "5 -> 4 -> 3 -> 2 -> 1 1\n",
      "1 -> 2 -> 3 -> 4 -> 5 1 -> 2 -> 3 -> 4 -> 5\n",
      "True True\n",
      "2 -> 3 -> 4 -> 4 -> 3 -> 2 -> 1 3 -> 4 -> 4 -> 3 -> 2 -> 1\n",
      "3 -> 4 -> 4 -> 3 -> 2 -> 1 4 -> 3 -> 2 -> 1\n",
      "4 -> 4 -> 3 -> 2 -> 1 2 -> 1\n",
      "4 -> 3 -> 2 -> 1 \n",
      "1 -> 2 -> 3 -> 4 1 -> 2 -> 3 -> 4 -> 4\n",
      "True True\n",
      "2 -> 3 -> 4 -> 4 -> 3 -> 2 -> 2 3 -> 4 -> 4 -> 3 -> 2 -> 2\n",
      "3 -> 4 -> 4 -> 3 -> 2 -> 2 4 -> 3 -> 2 -> 2\n",
      "4 -> 4 -> 3 -> 2 -> 2 2 -> 2\n",
      "4 -> 3 -> 2 -> 2 \n",
      "2 -> 2 -> 3 -> 4 1 -> 2 -> 3 -> 4 -> 4\n",
      "False False\n"
     ]
    }
   ],
   "source": [
    "so = Solution()\n",
    "ln = generateListNode(1,2,3,4,5,4,6,2,1)\n",
    "print(so.isPalindrome(ln),False)\n",
    "ln = generateListNode(1,2,3,4,5,4,3,2,1)\n",
    "print(so.isPalindrome(ln),True)\n",
    "ln = generateListNode(1,2,3,4,4,3,2,1)\n",
    "print(so.isPalindrome(ln),True)\n",
    "ln = generateListNode(1,2,3,4,4,3,2,2)\n",
    "print(so.isPalindrome(ln),False)"
   ]
  },
  {
   "cell_type": "code",
   "execution_count": 10,
   "metadata": {
    "ExecuteTime": {
     "end_time": "2019-05-25T11:31:03.478082Z",
     "start_time": "2019-05-25T11:31:03.473069Z"
    }
   },
   "outputs": [],
   "source": [
    "def generateListNode(*x):\n",
    "    ret, tmp = None, None\n",
    "    x = x[::-1]\n",
    "    for t in x:\n",
    "        ret = ListNode(t)\n",
    "        ret.next = tmp\n",
    "        tmp = ret\n",
    "    return ret\n",
    "\n",
    "def printListNode(listNode):\n",
    "    ret = ''\n",
    "    while listNode:\n",
    "        ret += str(listNode.val)\n",
    "        if listNode.next != None:\n",
    "            ret += ' -> '\n",
    "        listNode = listNode.next\n",
    "    return ret"
   ]
  }
 ],
 "metadata": {
  "kernelspec": {
   "display_name": "Python 3",
   "language": "python",
   "name": "python3"
  },
  "language_info": {
   "codemirror_mode": {
    "name": "ipython",
    "version": 3
   },
   "file_extension": ".py",
   "mimetype": "text/x-python",
   "name": "python",
   "nbconvert_exporter": "python",
   "pygments_lexer": "ipython3",
   "version": "3.7.0"
  },
  "latex_envs": {
   "LaTeX_envs_menu_present": true,
   "autoclose": false,
   "autocomplete": true,
   "bibliofile": "biblio.bib",
   "cite_by": "apalike",
   "current_citInitial": 1,
   "eqLabelWithNumbers": true,
   "eqNumInitial": 1,
   "hotkeys": {
    "equation": "Ctrl-E",
    "itemize": "Ctrl-I"
   },
   "labels_anchors": false,
   "latex_user_defs": false,
   "report_style_numbering": false,
   "user_envs_cfg": false
  }
 },
 "nbformat": 4,
 "nbformat_minor": 2
}
