{
 "cells": [
  {
   "cell_type": "code",
   "execution_count": 13,
   "metadata": {
    "ExecuteTime": {
     "end_time": "2019-04-17T03:23:40.520003Z",
     "start_time": "2019-04-17T03:23:40.514019Z"
    }
   },
   "outputs": [],
   "source": [
    "class Solution:\n",
    "    def isPalindrome(self, s: str) -> bool:\n",
    "        l, r = 0, len(s)-1\n",
    "        ret = True\n",
    "        while l<r:\n",
    "            while not (s[l].isalpha() or s[l].isdigit()) and l < r:\n",
    "                l+=1\n",
    "            while not (s[r].isalpha() or s[r].isdigit()) and l < r:\n",
    "                r-=1\n",
    "            if l < r:\n",
    "                if s[l].lower() != s[r].lower():\n",
    "                    ret = False\n",
    "                    break\n",
    "            l+=1\n",
    "            r-=1\n",
    "        return ret"
   ]
  },
  {
   "cell_type": "code",
   "execution_count": 14,
   "metadata": {
    "ExecuteTime": {
     "end_time": "2019-04-17T03:23:40.756631Z",
     "start_time": "2019-04-17T03:23:40.754629Z"
    }
   },
   "outputs": [
    {
     "name": "stdout",
     "output_type": "stream",
     "text": [
      "True True\n",
      "False False\n",
      "False False\n"
     ]
    }
   ],
   "source": [
    "so = Solution()\n",
    "print(so.isPalindrome(\"A man, a plan, a canal: Panama\"), True)\n",
    "print(so.isPalindrome(\"race a car\"), False)\n",
    "print(so.isPalindrome(\"0P\"), False)"
   ]
  }
 ],
 "metadata": {
  "kernelspec": {
   "display_name": "Python 3",
   "language": "python",
   "name": "python3"
  },
  "language_info": {
   "codemirror_mode": {
    "name": "ipython",
    "version": 3
   },
   "file_extension": ".py",
   "mimetype": "text/x-python",
   "name": "python",
   "nbconvert_exporter": "python",
   "pygments_lexer": "ipython3",
   "version": "3.6.7"
  }
 },
 "nbformat": 4,
 "nbformat_minor": 2
}
