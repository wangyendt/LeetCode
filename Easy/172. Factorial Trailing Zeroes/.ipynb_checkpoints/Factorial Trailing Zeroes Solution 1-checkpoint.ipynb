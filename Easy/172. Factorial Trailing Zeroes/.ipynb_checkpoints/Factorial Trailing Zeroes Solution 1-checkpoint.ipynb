{
 "cells": [
  {
   "cell_type": "code",
   "execution_count": 18,
   "metadata": {
    "ExecuteTime": {
     "end_time": "2019-04-18T08:21:49.128523Z",
     "start_time": "2019-04-18T08:21:49.124533Z"
    }
   },
   "outputs": [],
   "source": [
    "class Solution:\n",
    "    def trailingZeroes(self, n: int) -> int:\n",
    "        k, cnt = n, 0\n",
    "        while k >= 5:\n",
    "            cnt += 1\n",
    "            k = k / 5\n",
    "        ret = sum([n // 5**(i+1) for i in range(cnt)])\n",
    "        return ret"
   ]
  },
  {
   "cell_type": "code",
   "execution_count": 19,
   "metadata": {
    "ExecuteTime": {
     "end_time": "2019-04-18T08:21:49.344011Z",
     "start_time": "2019-04-18T08:21:49.340041Z"
    }
   },
   "outputs": [
    {
     "name": "stdout",
     "output_type": "stream",
     "text": [
      "0 0\n",
      "1 1\n",
      "31 None\n"
     ]
    }
   ],
   "source": [
    "so = Solution()\n",
    "print(so.trailingZeroes(3), 0)\n",
    "print(so.trailingZeroes(5), 1)\n",
    "print(so.trailingZeroes(126), 31)"
   ]
  }
 ],
 "metadata": {
  "kernelspec": {
   "display_name": "Python 3",
   "language": "python",
   "name": "python3"
  },
  "language_info": {
   "codemirror_mode": {
    "name": "ipython",
    "version": 3
   },
   "file_extension": ".py",
   "mimetype": "text/x-python",
   "name": "python",
   "nbconvert_exporter": "python",
   "pygments_lexer": "ipython3",
   "version": "3.6.7"
  }
 },
 "nbformat": 4,
 "nbformat_minor": 2
}
