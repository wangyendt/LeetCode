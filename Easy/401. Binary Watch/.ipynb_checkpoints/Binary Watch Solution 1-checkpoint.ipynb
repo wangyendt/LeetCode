{
 "cells": [
  {
   "cell_type": "code",
   "execution_count": 41,
   "metadata": {
    "ExecuteTime": {
     "end_time": "2019-05-30T16:34:20.982120Z",
     "start_time": "2019-05-30T16:34:20.976102Z"
    },
    "code_folding": [
     2
    ]
   },
   "outputs": [],
   "source": [
    "class Solution:\n",
    "    def readBinaryWatch(self, num: int) -> list:\n",
    "        import itertools\n",
    "        ret = []\n",
    "        for i in range(num+1):\n",
    "            for p in itertools.combinations(range(4),i):\n",
    "                for q in itertools.combinations(range(6),num-i):\n",
    "                    if not p:\n",
    "                        h = '0'\n",
    "                    else:\n",
    "                        h = 0\n",
    "                        for pp in p:\n",
    "                            h += 1 << pp\n",
    "                        if h >= 12:\n",
    "                            continue\n",
    "                        h = str(h)\n",
    "                    if not q:\n",
    "                        m = '00'\n",
    "                    else:\n",
    "                        m = 0\n",
    "                        for qq in q:\n",
    "                            m += 1 << qq\n",
    "                        if m >= 60:\n",
    "                            continue\n",
    "                        m = str(m) if m >= 10 else '0'+str(m)\n",
    "                    ret.append(':'.join((h, m)))\n",
    "        return ret"
   ]
  },
  {
   "cell_type": "code",
   "execution_count": 46,
   "metadata": {
    "ExecuteTime": {
     "end_time": "2019-05-30T16:35:56.639982Z",
     "start_time": "2019-05-30T16:35:56.633968Z"
    }
   },
   "outputs": [
    {
     "name": "stdout",
     "output_type": "stream",
     "text": [
      "['0:03', '0:05', '0:09', '0:17', '0:33', '0:06', '0:10', '0:18', '0:34', '0:12', '0:20', '0:36', '0:24', '0:40', '0:48', '1:01', '1:02', '1:04', '1:08', '1:16', '1:32', '2:01', '2:02', '2:04', '2:08', '2:16', '2:32', '4:01', '4:02', '4:04', '4:08', '4:16', '4:32', '8:01', '8:02', '8:04', '8:08', '8:16', '8:32', '3:00', '5:00', '9:00', '6:00', '10:00', '12:00']\n",
      "['0:03', '0:05', '0:06', '0:09', '0:10', '0:12', '0:17', '0:18', '0:20', '0:24', '0:33', '0:34', '0:36', '0:40', '0:48', '1:01', '1:02', '1:04', '1:08', '1:16', '1:32', '2:01', '2:02', '2:04', '2:08', '2:16', '2:32', '3:00', '4:01', '4:02', '4:04', '4:08', '4:16', '4:32', '5:00', '6:00', '8:01', '8:02', '8:04', '8:08', '8:16', '8:32', '9:00', '10:00']\n",
      "['0:03', '0:05', '0:09', '0:17', '0:33', '0:06', '0:10', '0:18', '0:34', '0:12', '0:20', '0:36', '0:24', '0:40', '0:48', '1:01', '1:02', '1:04', '1:08', '1:16', '1:32', '2:01', '2:02', '2:04', '2:08', '2:16', '2:32', '4:01', '4:02', '4:04', '4:08', '4:16', '4:32', '8:01', '8:02', '8:04', '8:08', '8:16', '8:32', '3:00', '5:00', '9:00', '6:00', '10:00', '12:00']\n"
     ]
    }
   ],
   "source": [
    "so = Solution()\n",
    "print(so.readBinaryWatch(2))\n",
    "print([\"0:03\",\"0:05\",\"0:06\",\"0:09\",\"0:10\",\"0:12\",\"0:17\",\"0:18\",\"0:20\",\"0:24\",\"0:33\",\"0:34\",\"0:36\",\"0:40\",\"0:48\",\"1:01\",\"1:02\",\"1:04\",\"1:08\",\"1:16\",\"1:32\",\"2:01\",\"2:02\",\"2:04\",\"2:08\",\"2:16\",\"2:32\",\"3:00\",\"4:01\",\"4:02\",\"4:04\",\"4:08\",\"4:16\",\"4:32\",\"5:00\",\"6:00\",\"8:01\",\"8:02\",\"8:04\",\"8:08\",\"8:16\",\"8:32\",\"9:00\",\"10:00\"])\n",
    "print([\"0:03\",\"0:05\",\"0:09\",\"0:17\",\"0:33\",\"0:06\",\"0:10\",\"0:18\",\"0:34\",\"0:12\",\"0:20\",\"0:36\",\"0:24\",\"0:40\",\"0:48\",\"1:01\",\"1:02\",\"1:04\",\"1:08\",\"1:16\",\"1:32\",\"2:01\",\"2:02\",\"2:04\",\"2:08\",\"2:16\",\"2:32\",\"4:01\",\"4:02\",\"4:04\",\"4:08\",\"4:16\",\"4:32\",\"8:01\",\"8:02\",\"8:04\",\"8:08\",\"8:16\",\"8:32\",\"3:00\",\"5:00\",\"9:00\",\"6:00\",\"10:00\",\"12:00\"])"
   ]
  }
 ],
 "metadata": {
  "hide_input": false,
  "kernelspec": {
   "display_name": "Python 3",
   "language": "python",
   "name": "python3"
  },
  "language_info": {
   "codemirror_mode": {
    "name": "ipython",
    "version": 3
   },
   "file_extension": ".py",
   "mimetype": "text/x-python",
   "name": "python",
   "nbconvert_exporter": "python",
   "pygments_lexer": "ipython3",
   "version": "3.6.5"
  },
  "latex_envs": {
   "LaTeX_envs_menu_present": true,
   "autoclose": false,
   "autocomplete": true,
   "bibliofile": "biblio.bib",
   "cite_by": "apalike",
   "current_citInitial": 1,
   "eqLabelWithNumbers": true,
   "eqNumInitial": 1,
   "hotkeys": {
    "equation": "Ctrl-E",
    "itemize": "Ctrl-I"
   },
   "labels_anchors": false,
   "latex_user_defs": false,
   "report_style_numbering": false,
   "user_envs_cfg": false
  },
  "nbTranslate": {
   "displayLangs": [
    "*"
   ],
   "hotkey": "alt-t",
   "langInMainMenu": true,
   "sourceLang": "en",
   "targetLang": "fr",
   "useGoogleTranslate": true
  },
  "toc": {
   "base_numbering": 1,
   "nav_menu": {},
   "number_sections": true,
   "sideBar": true,
   "skip_h1_title": false,
   "title_cell": "Table of Contents",
   "title_sidebar": "Contents",
   "toc_cell": false,
   "toc_position": {},
   "toc_section_display": true,
   "toc_window_display": false
  },
  "varInspector": {
   "cols": {
    "lenName": 16,
    "lenType": 16,
    "lenVar": 40
   },
   "kernels_config": {
    "python": {
     "delete_cmd_postfix": "",
     "delete_cmd_prefix": "del ",
     "library": "var_list.py",
     "varRefreshCmd": "print(var_dic_list())"
    },
    "r": {
     "delete_cmd_postfix": ") ",
     "delete_cmd_prefix": "rm(",
     "library": "var_list.r",
     "varRefreshCmd": "cat(var_dic_list()) "
    }
   },
   "oldHeight": 122.4,
   "position": {
    "height": "144px",
    "left": "722.6px",
    "right": "20px",
    "top": "121px",
    "width": "350px"
   },
   "types_to_exclude": [
    "module",
    "function",
    "builtin_function_or_method",
    "instance",
    "_Feature"
   ],
   "varInspector_section_display": "block",
   "window_display": false
  }
 },
 "nbformat": 4,
 "nbformat_minor": 2
}
