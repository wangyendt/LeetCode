{
 "cells": [
  {
   "cell_type": "code",
   "execution_count": 18,
   "metadata": {
    "ExecuteTime": {
     "end_time": "2019-04-18T02:07:52.620554Z",
     "start_time": "2019-04-18T02:07:52.616537Z"
    }
   },
   "outputs": [],
   "source": [
    "class Solution:\n",
    "    def titleToNumber(self, s: str) -> int:\n",
    "        return sum([dict(zip('ABCDEFGHIJKLMNOPQRSTUVWXYZ', range(1,27)))[l]*26**(len(s)-1-i) for i,l in enumerate(s)])"
   ]
  },
  {
   "cell_type": "code",
   "execution_count": 19,
   "metadata": {
    "ExecuteTime": {
     "end_time": "2019-04-18T02:07:53.590962Z",
     "start_time": "2019-04-18T02:07:53.585976Z"
    }
   },
   "outputs": [
    {
     "name": "stdout",
     "output_type": "stream",
     "text": [
      "1 1\n",
      "28 28\n",
      "701 701\n"
     ]
    }
   ],
   "source": [
    "so = Solution()\n",
    "print(so.titleToNumber('A'),1)\n",
    "print(so.titleToNumber('AB'),28)\n",
    "print(so.titleToNumber('ZY'),701)"
   ]
  }
 ],
 "metadata": {
  "kernelspec": {
   "display_name": "Python 3",
   "language": "python",
   "name": "python3"
  },
  "language_info": {
   "codemirror_mode": {
    "name": "ipython",
    "version": 3
   },
   "file_extension": ".py",
   "mimetype": "text/x-python",
   "name": "python",
   "nbconvert_exporter": "python",
   "pygments_lexer": "ipython3",
   "version": "3.6.7"
  }
 },
 "nbformat": 4,
 "nbformat_minor": 2
}
