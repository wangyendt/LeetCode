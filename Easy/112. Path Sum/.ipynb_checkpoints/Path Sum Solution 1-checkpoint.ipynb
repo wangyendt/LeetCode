{
 "cells": [
  {
   "cell_type": "code",
   "execution_count": 1,
   "metadata": {
    "ExecuteTime": {
     "end_time": "2019-04-10T08:07:34.459597Z",
     "start_time": "2019-04-10T08:07:34.455607Z"
    }
   },
   "outputs": [],
   "source": [
    "# Definition for a binary tree node.\n",
    "class TreeNode:\n",
    "    def __init__(self, x):\n",
    "        self.val = x\n",
    "        self.left = None\n",
    "        self.right = None"
   ]
  },
  {
   "cell_type": "code",
   "execution_count": 10,
   "metadata": {
    "ExecuteTime": {
     "end_time": "2019-04-10T08:14:09.376401Z",
     "start_time": "2019-04-10T08:14:09.371414Z"
    }
   },
   "outputs": [],
   "source": [
    "class Solution:\n",
    "    def hasPathSum(self, root: TreeNode, s: int) -> bool:\n",
    "        if not root:\n",
    "            return False\n",
    "        if not (root.left or root.right):\n",
    "            if root.val == s:\n",
    "                return True\n",
    "        return self.hasPathSum(root.left, s - root.val) or self.hasPathSum(root.right, s - root.val)    "
   ]
  },
  {
   "cell_type": "code",
   "execution_count": 11,
   "metadata": {
    "ExecuteTime": {
     "end_time": "2019-04-10T08:14:09.962832Z",
     "start_time": "2019-04-10T08:14:09.956848Z"
    },
    "code_folding": [
     0
    ]
   },
   "outputs": [],
   "source": [
    "def parseTreeNode(l):\n",
    "    if not l:\n",
    "        return None\n",
    "    tree = TreeNode(l[0])\n",
    "    leaves = [tree]\n",
    "    l.pop(0)\n",
    "    while l:\n",
    "        leavesTmp = []\n",
    "        for t in leaves:\n",
    "            if l[0] == 'null':\n",
    "                t.left = None\n",
    "            else:\n",
    "                t.left = TreeNode(l[0])\n",
    "                leavesTmp.append(t.left)\n",
    "            l.pop(0)\n",
    "            if l:\n",
    "                if l[0] == 'null':\n",
    "                    t.right = None\n",
    "                else:\n",
    "                    t.right = TreeNode(l[0])\n",
    "                    leavesTmp.append(t.right)\n",
    "                l.pop(0)\n",
    "            if not l:\n",
    "                break\n",
    "            leaves = leavesTmp\n",
    "    return tree"
   ]
  },
  {
   "cell_type": "code",
   "execution_count": 12,
   "metadata": {
    "ExecuteTime": {
     "end_time": "2019-04-10T08:14:10.560370Z",
     "start_time": "2019-04-10T08:14:10.556380Z"
    }
   },
   "outputs": [
    {
     "name": "stdout",
     "output_type": "stream",
     "text": [
      "True True\n"
     ]
    }
   ],
   "source": [
    "so = Solution()\n",
    "l1 = [5,4,8,11,'null',13,4,7,2,'null','null','null',1]\n",
    "t1 = parseTreeNode(l1)\n",
    "print(so.hasPathSum(t1, 22), True)"
   ]
  }
 ],
 "metadata": {
  "kernelspec": {
   "display_name": "Python 3",
   "language": "python",
   "name": "python3"
  },
  "language_info": {
   "codemirror_mode": {
    "name": "ipython",
    "version": 3
   },
   "file_extension": ".py",
   "mimetype": "text/x-python",
   "name": "python",
   "nbconvert_exporter": "python",
   "pygments_lexer": "ipython3",
   "version": "3.6.7"
  }
 },
 "nbformat": 4,
 "nbformat_minor": 2
}
