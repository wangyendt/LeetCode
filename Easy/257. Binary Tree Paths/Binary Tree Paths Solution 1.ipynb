{
 "cells": [
  {
   "cell_type": "code",
   "execution_count": 4,
   "metadata": {
    "ExecuteTime": {
     "end_time": "2019-05-25T14:04:52.892462Z",
     "start_time": "2019-05-25T14:04:52.888452Z"
    }
   },
   "outputs": [],
   "source": [
    "# Definition for a binary tree node.\n",
    "class TreeNode:\n",
    "    def __init__(self, x):\n",
    "        self.val = x\n",
    "        self.left = None\n",
    "        self.right = None"
   ]
  },
  {
   "cell_type": "code",
   "execution_count": 5,
   "metadata": {
    "ExecuteTime": {
     "end_time": "2019-05-25T14:04:53.135666Z",
     "start_time": "2019-05-25T14:04:53.129150Z"
    }
   },
   "outputs": [],
   "source": [
    "class Solution:\n",
    "    def binaryTreePaths(self, root: TreeNode) -> list:\n",
    "        stack = []\n",
    "        ret = []\n",
    "        def recursive(p):\n",
    "            if p.left or p.right:\n",
    "                stack.append(str(p.val))\n",
    "                if p.left:\n",
    "                    recursive(p.left)\n",
    "                if p.right:\n",
    "                    recursive(p.right)\n",
    "                stack.pop()\n",
    "            else:\n",
    "                stack.append(str(p.val))\n",
    "                ret.append('->'.join(stack))\n",
    "                stack.pop()\n",
    "        if not root:\n",
    "            return []\n",
    "        recursive(root)\n",
    "        return ret"
   ]
  }
 ],
 "metadata": {
  "kernelspec": {
   "display_name": "Python 3",
   "language": "python",
   "name": "python3"
  },
  "language_info": {
   "codemirror_mode": {
    "name": "ipython",
    "version": 3
   },
   "file_extension": ".py",
   "mimetype": "text/x-python",
   "name": "python",
   "nbconvert_exporter": "python",
   "pygments_lexer": "ipython3",
   "version": "3.7.0"
  },
  "latex_envs": {
   "LaTeX_envs_menu_present": true,
   "autoclose": false,
   "autocomplete": true,
   "bibliofile": "biblio.bib",
   "cite_by": "apalike",
   "current_citInitial": 1,
   "eqLabelWithNumbers": true,
   "eqNumInitial": 1,
   "hotkeys": {
    "equation": "Ctrl-E",
    "itemize": "Ctrl-I"
   },
   "labels_anchors": false,
   "latex_user_defs": false,
   "report_style_numbering": false,
   "user_envs_cfg": false
  }
 },
 "nbformat": 4,
 "nbformat_minor": 2
}
