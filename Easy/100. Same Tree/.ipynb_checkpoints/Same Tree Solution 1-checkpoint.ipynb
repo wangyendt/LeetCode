{
 "cells": [
  {
   "cell_type": "code",
   "execution_count": 11,
   "metadata": {
    "ExecuteTime": {
     "end_time": "2019-04-08T06:03:14.413817Z",
     "start_time": "2019-04-08T06:03:14.408842Z"
    }
   },
   "outputs": [],
   "source": [
    "# Definition for a binary tree node.\n",
    "class TreeNode:\n",
    "    def __init__(self, x):\n",
    "        self.val = x\n",
    "        self.left = None\n",
    "        self.right = None"
   ]
  },
  {
   "cell_type": "code",
   "execution_count": 23,
   "metadata": {
    "ExecuteTime": {
     "end_time": "2019-04-08T06:14:16.337721Z",
     "start_time": "2019-04-08T06:14:16.332705Z"
    }
   },
   "outputs": [],
   "source": [
    "class Solution:\n",
    "    def isSameTree(self, p: TreeNode, q: TreeNode) -> bool:\n",
    "        if not p and not q:\n",
    "            return True\n",
    "        if p and not q or q and not p:\n",
    "            return False\n",
    "        if p.val != q.val:\n",
    "            return False\n",
    "        if p.left and not q.left or q.left and not p.left:\n",
    "            return False\n",
    "        if p.right and not q.right or q.right and not p.right:\n",
    "            return False\n",
    "        return self.isSameTree(p.left, q.left) and self.isSameTree(p.right, q.right)"
   ]
  },
  {
   "cell_type": "code",
   "execution_count": 25,
   "metadata": {
    "ExecuteTime": {
     "end_time": "2019-04-08T06:14:17.778646Z",
     "start_time": "2019-04-08T06:14:17.773661Z"
    }
   },
   "outputs": [],
   "source": [
    "def parseTreeNode(l):\n",
    "    if not l:\n",
    "        return None\n",
    "    tree = TreeNode(l[0])\n",
    "    leaves = [tree]\n",
    "    l.pop(0)\n",
    "    while l:\n",
    "        leavesTmp = []\n",
    "        for t in leaves:\n",
    "            if l[0] == 'null':\n",
    "                t.left = None\n",
    "            else:\n",
    "                t.left = TreeNode(l[0])\n",
    "                leavesTmp.append(t.left)\n",
    "            l.pop(0)\n",
    "            if l:\n",
    "                if l[0] == 'null':\n",
    "                    t.right = None\n",
    "                else:\n",
    "                    t.right = TreeNode(l[0])\n",
    "                    leavesTmp.append(t.right)\n",
    "                l.pop(0)\n",
    "            if not l:\n",
    "                break\n",
    "            leaves = leavesTmp\n",
    "    return tree        "
   ]
  },
  {
   "cell_type": "code",
   "execution_count": 28,
   "metadata": {
    "ExecuteTime": {
     "end_time": "2019-04-08T06:14:55.372205Z",
     "start_time": "2019-04-08T06:14:55.369193Z"
    },
    "scrolled": true
   },
   "outputs": [
    {
     "name": "stdout",
     "output_type": "stream",
     "text": [
      "False\n"
     ]
    }
   ],
   "source": [
    "so = Solution()\n",
    "l1 = [1,'null',3,4]\n",
    "l2 = [1,2,3,4]\n",
    "# t = parseTreeNode(l)\n",
    "# print(t.val, t.left, t.right.val, t.right.left.val)\n",
    "t1 = parseTreeNode(l1)\n",
    "t2 = parseTreeNode(l2)\n",
    "print(so.isSameTree(t1, t2))"
   ]
  }
 ],
 "metadata": {
  "kernelspec": {
   "display_name": "Python 3",
   "language": "python",
   "name": "python3"
  },
  "language_info": {
   "codemirror_mode": {
    "name": "ipython",
    "version": 3
   },
   "file_extension": ".py",
   "mimetype": "text/x-python",
   "name": "python",
   "nbconvert_exporter": "python",
   "pygments_lexer": "ipython3",
   "version": "3.6.7"
  },
  "latex_envs": {
   "LaTeX_envs_menu_present": true,
   "autoclose": false,
   "autocomplete": true,
   "bibliofile": "biblio.bib",
   "cite_by": "apalike",
   "current_citInitial": 1,
   "eqLabelWithNumbers": true,
   "eqNumInitial": 1,
   "hotkeys": {
    "equation": "Ctrl-E",
    "itemize": "Ctrl-I"
   },
   "labels_anchors": false,
   "latex_user_defs": false,
   "report_style_numbering": false,
   "user_envs_cfg": false
  },
  "varInspector": {
   "cols": {
    "lenName": 16,
    "lenType": 16,
    "lenVar": 40
   },
   "kernels_config": {
    "python": {
     "delete_cmd_postfix": "",
     "delete_cmd_prefix": "del ",
     "library": "var_list.py",
     "varRefreshCmd": "print(var_dic_list())"
    },
    "r": {
     "delete_cmd_postfix": ") ",
     "delete_cmd_prefix": "rm(",
     "library": "var_list.r",
     "varRefreshCmd": "cat(var_dic_list()) "
    }
   },
   "types_to_exclude": [
    "module",
    "function",
    "builtin_function_or_method",
    "instance",
    "_Feature"
   ],
   "window_display": false
  }
 },
 "nbformat": 4,
 "nbformat_minor": 2
}
