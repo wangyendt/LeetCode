{
 "cells": [
  {
   "cell_type": "code",
   "execution_count": 2,
   "metadata": {
    "ExecuteTime": {
     "end_time": "2019-04-07T16:55:39.515296Z",
     "start_time": "2019-04-07T16:55:39.512810Z"
    }
   },
   "outputs": [],
   "source": [
    "# Definition for a binary tree node.\n",
    "class TreeNode:\n",
    "    def __init__(self, x):\n",
    "        self.val = x\n",
    "        self.left = None\n",
    "        self.right = None"
   ]
  },
  {
   "cell_type": "code",
   "execution_count": 3,
   "metadata": {
    "ExecuteTime": {
     "end_time": "2019-04-07T16:55:39.778885Z",
     "start_time": "2019-04-07T16:55:39.775855Z"
    }
   },
   "outputs": [],
   "source": [
    "class Solution:\n",
    "    def isSameTree(self, p: TreeNode, q: TreeNode) -> bool:\n",
    "        pass"
   ]
  },
  {
   "cell_type": "code",
   "execution_count": 18,
   "metadata": {
    "ExecuteTime": {
     "end_time": "2019-04-07T17:48:15.505160Z",
     "start_time": "2019-04-07T17:48:15.500655Z"
    }
   },
   "outputs": [],
   "source": [
    "def parseTreeNode(l):\n",
    "    if not l:\n",
    "        return None\n",
    "    tree = TreeNode(l[0])\n",
    "    leaves = [tree]\n",
    "    l.pop(0)\n",
    "    while l:\n",
    "        leavesTmp = []\n",
    "        for t in leaves:\n",
    "            if l[0] == 'null':\n",
    "                t.left = None\n",
    "            else:\n",
    "                t.left = TreeNode(l[0])\n",
    "                leavesTmp.append(t.left)\n",
    "            l.pop(0)\n",
    "            if l:\n",
    "                if l[0] == 'null':\n",
    "                    t.right = None\n",
    "                else:\n",
    "                    t.right = TreeNode(l[0])\n",
    "                    leavesTmp.append(t.right)\n",
    "                l.pop(0)\n",
    "            if not l:\n",
    "                break\n",
    "            leaves = leavesTmp\n",
    "    return tree        "
   ]
  },
  {
   "cell_type": "code",
   "execution_count": 22,
   "metadata": {
    "ExecuteTime": {
     "end_time": "2019-04-07T17:49:15.601181Z",
     "start_time": "2019-04-07T17:49:15.597146Z"
    }
   },
   "outputs": [
    {
     "name": "stdout",
     "output_type": "stream",
     "text": [
      "1 None 3 4\n"
     ]
    }
   ],
   "source": [
    "so = Solution()\n",
    "l = [1,'null',3,4]\n",
    "t = parseTreeNode(l)\n",
    "print(t.val, t.left, t.right.val, t.right.left.val)\n",
    "# t1 = parseTreeNode()\n",
    "# print(so.isSameTree())"
   ]
  }
 ],
 "metadata": {
  "kernelspec": {
   "display_name": "Python 3",
   "language": "python",
   "name": "python3"
  },
  "language_info": {
   "codemirror_mode": {
    "name": "ipython",
    "version": 3
   },
   "file_extension": ".py",
   "mimetype": "text/x-python",
   "name": "python",
   "nbconvert_exporter": "python",
   "pygments_lexer": "ipython3",
   "version": "3.6.7"
  },
  "latex_envs": {
   "LaTeX_envs_menu_present": true,
   "autoclose": false,
   "autocomplete": true,
   "bibliofile": "biblio.bib",
   "cite_by": "apalike",
   "current_citInitial": 1,
   "eqLabelWithNumbers": true,
   "eqNumInitial": 1,
   "hotkeys": {
    "equation": "Ctrl-E",
    "itemize": "Ctrl-I"
   },
   "labels_anchors": false,
   "latex_user_defs": false,
   "report_style_numbering": false,
   "user_envs_cfg": false
  },
  "varInspector": {
   "cols": {
    "lenName": 16,
    "lenType": 16,
    "lenVar": 40
   },
   "kernels_config": {
    "python": {
     "delete_cmd_postfix": "",
     "delete_cmd_prefix": "del ",
     "library": "var_list.py",
     "varRefreshCmd": "print(var_dic_list())"
    },
    "r": {
     "delete_cmd_postfix": ") ",
     "delete_cmd_prefix": "rm(",
     "library": "var_list.r",
     "varRefreshCmd": "cat(var_dic_list()) "
    }
   },
   "types_to_exclude": [
    "module",
    "function",
    "builtin_function_or_method",
    "instance",
    "_Feature"
   ],
   "window_display": false
  }
 },
 "nbformat": 4,
 "nbformat_minor": 2
}
