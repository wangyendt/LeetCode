{
 "cells": [
  {
   "cell_type": "code",
   "execution_count": 1,
   "metadata": {
    "ExecuteTime": {
     "end_time": "2019-04-17T09:41:58.938083Z",
     "start_time": "2019-04-17T09:41:58.935091Z"
    }
   },
   "outputs": [],
   "source": [
    "# Definition for singly-linked list.\n",
    "class ListNode(object):\n",
    "    def __init__(self, x):\n",
    "        self.val = x\n",
    "        self.next = None"
   ]
  },
  {
   "cell_type": "code",
   "execution_count": 2,
   "metadata": {
    "ExecuteTime": {
     "end_time": "2019-04-17T09:41:59.586907Z",
     "start_time": "2019-04-17T09:41:59.581921Z"
    }
   },
   "outputs": [],
   "source": [
    "class Solution(object):\n",
    "    def getIntersectionNode(self, headA, headB):\n",
    "        \"\"\"\n",
    "        :type head1, head1: ListNode\n",
    "        :rtype: ListNode\n",
    "        \"\"\"\n",
    "        dep1 = self.getLinkedListDepth(headA)\n",
    "        dep2 = self.getLinkedListDepth(headB)\n",
    "        a, b = (headA, headB) if dep1 >= dep2 else (headB, headA)\n",
    "        diff = abs(dep1-dep2)\n",
    "        while diff > 0:\n",
    "            a = a.next\n",
    "            diff -= 1\n",
    "        while b:\n",
    "            if a is b:\n",
    "                return a\n",
    "            a, b = a.next, b.next\n",
    "        return None\n",
    "        \n",
    "    def getLinkedListDepth(self, head):\n",
    "        cnt = 0\n",
    "        while head:\n",
    "            head = head.next\n",
    "            cnt += 1\n",
    "        return cnt        "
   ]
  }
 ],
 "metadata": {
  "kernelspec": {
   "display_name": "Python 3",
   "language": "python",
   "name": "python3"
  },
  "language_info": {
   "codemirror_mode": {
    "name": "ipython",
    "version": 3
   },
   "file_extension": ".py",
   "mimetype": "text/x-python",
   "name": "python",
   "nbconvert_exporter": "python",
   "pygments_lexer": "ipython3",
   "version": "3.6.7"
  }
 },
 "nbformat": 4,
 "nbformat_minor": 2
}
