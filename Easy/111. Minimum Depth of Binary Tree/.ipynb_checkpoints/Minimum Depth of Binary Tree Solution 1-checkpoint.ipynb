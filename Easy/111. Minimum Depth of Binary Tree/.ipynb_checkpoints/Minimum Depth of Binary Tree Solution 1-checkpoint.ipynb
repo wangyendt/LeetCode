{
 "cells": [
  {
   "cell_type": "code",
   "execution_count": 1,
   "metadata": {
    "ExecuteTime": {
     "end_time": "2019-04-10T07:51:48.935835Z",
     "start_time": "2019-04-10T07:51:48.932820Z"
    }
   },
   "outputs": [],
   "source": [
    "# Definition for a binary tree node.\n",
    "class TreeNode:\n",
    "    def __init__(self, x):\n",
    "        self.val = x\n",
    "        self.left = None\n",
    "        self.right = None"
   ]
  },
  {
   "cell_type": "code",
   "execution_count": 18,
   "metadata": {
    "ExecuteTime": {
     "end_time": "2019-04-10T08:04:10.709320Z",
     "start_time": "2019-04-10T08:04:10.704284Z"
    }
   },
   "outputs": [],
   "source": [
    "class Solution:\n",
    "    def minDepth(self, root: TreeNode) -> int:\n",
    "        if not root:\n",
    "            return 0\n",
    "        l, r = 0, 0\n",
    "        if root.left:\n",
    "            if not root.right:\n",
    "                return self.minDepth(root.left) + 1\n",
    "        if root.right:\n",
    "            if not root.left:\n",
    "                return self.minDepth(root.right) + 1\n",
    "        return min(self.minDepth(root.left), self.minDepth(root.right)) + 1"
   ]
  },
  {
   "cell_type": "code",
   "execution_count": 19,
   "metadata": {
    "ExecuteTime": {
     "end_time": "2019-04-10T08:04:10.917565Z",
     "start_time": "2019-04-10T08:04:10.912545Z"
    },
    "code_folding": [
     0
    ]
   },
   "outputs": [],
   "source": [
    "def parseTreeNode(l):\n",
    "    if not l:\n",
    "        return None\n",
    "    tree = TreeNode(l[0])\n",
    "    leaves = [tree]\n",
    "    l.pop(0)\n",
    "    while l:\n",
    "        leavesTmp = []\n",
    "        for t in leaves:\n",
    "            if l[0] == 'null':\n",
    "                t.left = None\n",
    "            else:\n",
    "                t.left = TreeNode(l[0])\n",
    "                leavesTmp.append(t.left)\n",
    "            l.pop(0)\n",
    "            if l:\n",
    "                if l[0] == 'null':\n",
    "                    t.right = None\n",
    "                else:\n",
    "                    t.right = TreeNode(l[0])\n",
    "                    leavesTmp.append(t.right)\n",
    "                l.pop(0)\n",
    "            if not l:\n",
    "                break\n",
    "            leaves = leavesTmp\n",
    "    return tree"
   ]
  },
  {
   "cell_type": "code",
   "execution_count": 20,
   "metadata": {
    "ExecuteTime": {
     "end_time": "2019-04-10T08:04:11.372317Z",
     "start_time": "2019-04-10T08:04:11.368326Z"
    }
   },
   "outputs": [
    {
     "name": "stdout",
     "output_type": "stream",
     "text": [
      "2 2\n",
      "2 2\n"
     ]
    }
   ],
   "source": [
    "so = Solution()\n",
    "l1 = [3,9,20,'null','null',15,7]\n",
    "l2 = [1,2]\n",
    "t1 = parseTreeNode(l1)\n",
    "t2 = parseTreeNode(l2)\n",
    "print(so.minDepth(t1), 2)\n",
    "print(so.minDepth(t2), 2)"
   ]
  }
 ],
 "metadata": {
  "kernelspec": {
   "display_name": "Python 3",
   "language": "python",
   "name": "python3"
  },
  "language_info": {
   "codemirror_mode": {
    "name": "ipython",
    "version": 3
   },
   "file_extension": ".py",
   "mimetype": "text/x-python",
   "name": "python",
   "nbconvert_exporter": "python",
   "pygments_lexer": "ipython3",
   "version": "3.6.7"
  }
 },
 "nbformat": 4,
 "nbformat_minor": 2
}
