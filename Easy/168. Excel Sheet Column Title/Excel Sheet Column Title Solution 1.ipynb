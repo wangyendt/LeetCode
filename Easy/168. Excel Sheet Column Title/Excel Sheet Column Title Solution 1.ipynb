{
 "cells": [
  {
   "cell_type": "code",
   "execution_count": 23,
   "metadata": {
    "ExecuteTime": {
     "end_time": "2019-04-17T10:09:50.488311Z",
     "start_time": "2019-04-17T10:09:50.483341Z"
    }
   },
   "outputs": [],
   "source": [
    "class Solution:\n",
    "    def convertToTitle(self, n: int) -> str:\n",
    "        letters = 'ABCDEFGHIJKLMNOPQRSTUVWXYZ'\n",
    "        ls = []\n",
    "        while n > 0:\n",
    "            if n % 26:\n",
    "                ls.append(n % 26 - 1)\n",
    "                n = n // 26\n",
    "            else:\n",
    "                ls.append(25)\n",
    "                n = n // 26 - 1\n",
    "        return ''.join(letters[l] for l in ls[::-1])"
   ]
  },
  {
   "cell_type": "code",
   "execution_count": 24,
   "metadata": {
    "ExecuteTime": {
     "end_time": "2019-04-17T10:09:50.695690Z",
     "start_time": "2019-04-17T10:09:50.691700Z"
    },
    "scrolled": true
   },
   "outputs": [
    {
     "name": "stdout",
     "output_type": "stream",
     "text": [
      "A A\n",
      "AZ AZ\n",
      "ZY ZY\n",
      "AMJ AMJ\n"
     ]
    }
   ],
   "source": [
    "so = Solution()\n",
    "print(so.convertToTitle(1),'A')\n",
    "print(so.convertToTitle(52),'AZ')\n",
    "print(so.convertToTitle(701),'ZY')\n",
    "print(so.convertToTitle(1024),'AMJ')"
   ]
  }
 ],
 "metadata": {
  "kernelspec": {
   "display_name": "Python 3",
   "language": "python",
   "name": "python3"
  },
  "language_info": {
   "codemirror_mode": {
    "name": "ipython",
    "version": 3
   },
   "file_extension": ".py",
   "mimetype": "text/x-python",
   "name": "python",
   "nbconvert_exporter": "python",
   "pygments_lexer": "ipython3",
   "version": "3.6.7"
  }
 },
 "nbformat": 4,
 "nbformat_minor": 2
}
