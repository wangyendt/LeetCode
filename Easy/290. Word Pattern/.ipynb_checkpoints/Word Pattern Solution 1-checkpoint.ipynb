{
 "cells": [
  {
   "cell_type": "code",
   "execution_count": 9,
   "metadata": {
    "ExecuteTime": {
     "end_time": "2019-05-25T15:45:31.722749Z",
     "start_time": "2019-05-25T15:45:31.715735Z"
    }
   },
   "outputs": [],
   "source": [
    "class Solution:\n",
    "    def wordPattern(self, pattern: str, str: str) -> bool:\n",
    "        ss = str.split(' ')\n",
    "        if len(pattern) != len(ss):\n",
    "            return False\n",
    "        dic = {}\n",
    "        for l in range(len(pattern)):\n",
    "            if not dic.get(pattern[l]):\n",
    "                dic[pattern[l]] = ss[l]\n",
    "            else:\n",
    "                if dic.get(pattern[l]) != ss[l]:\n",
    "                    return False\n",
    "        dic = {}\n",
    "        ss, pattern = pattern, ss\n",
    "        for l in range(len(pattern)):\n",
    "            if not dic.get(pattern[l]):\n",
    "                dic[pattern[l]] = ss[l]\n",
    "            else:\n",
    "                if dic.get(pattern[l]) != ss[l]:\n",
    "                    return False\n",
    "        return True"
   ]
  },
  {
   "cell_type": "code",
   "execution_count": 10,
   "metadata": {
    "ExecuteTime": {
     "end_time": "2019-05-25T15:45:31.989559Z",
     "start_time": "2019-05-25T15:45:31.985550Z"
    }
   },
   "outputs": [
    {
     "name": "stdout",
     "output_type": "stream",
     "text": [
      "False False\n",
      "False False\n",
      "False False\n"
     ]
    }
   ],
   "source": [
    "so = Solution()\n",
    "print(so.wordPattern(\"aaaa\",\"dog cat cat dog\"),False)\n",
    "print(so.wordPattern(\"aaaa\",\"aaaa\"),False)\n",
    "print(so.wordPattern(\"abba\",\"dog dog dog dog\"),False)"
   ]
  }
 ],
 "metadata": {
  "kernelspec": {
   "display_name": "Python 3",
   "language": "python",
   "name": "python3"
  },
  "language_info": {
   "codemirror_mode": {
    "name": "ipython",
    "version": 3
   },
   "file_extension": ".py",
   "mimetype": "text/x-python",
   "name": "python",
   "nbconvert_exporter": "python",
   "pygments_lexer": "ipython3",
   "version": "3.7.0"
  },
  "latex_envs": {
   "LaTeX_envs_menu_present": true,
   "autoclose": false,
   "autocomplete": true,
   "bibliofile": "biblio.bib",
   "cite_by": "apalike",
   "current_citInitial": 1,
   "eqLabelWithNumbers": true,
   "eqNumInitial": 1,
   "hotkeys": {
    "equation": "Ctrl-E",
    "itemize": "Ctrl-I"
   },
   "labels_anchors": false,
   "latex_user_defs": false,
   "report_style_numbering": false,
   "user_envs_cfg": false
  }
 },
 "nbformat": 4,
 "nbformat_minor": 2
}
