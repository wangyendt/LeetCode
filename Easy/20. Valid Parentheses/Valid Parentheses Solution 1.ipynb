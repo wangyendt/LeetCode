{
 "cells": [
  {
   "cell_type": "code",
   "execution_count": 1,
   "metadata": {
    "ExecuteTime": {
     "end_time": "2019-03-20T04:09:09.635570Z",
     "start_time": "2019-03-20T04:09:09.627547Z"
    }
   },
   "outputs": [],
   "source": [
    "class Solution:\n",
    "    def isValid(self, s: str) -> bool:\n",
    "        flag = []\n",
    "        parentThesesDict = {\n",
    "            '(': 1,\n",
    "            ')': -1,\n",
    "            '[': 2,\n",
    "            ']': -2,\n",
    "            '{': 3,\n",
    "            '}': -3\n",
    "        }\n",
    "        for i in s:\n",
    "            if i in parentThesesDict:\n",
    "                flag.append(parentThesesDict[i])\n",
    "                if len(flag) >= 2:\n",
    "                    if flag[-2] > 0 and flag[-2] + flag[-1] == 0:\n",
    "                        flag.pop(-1)\n",
    "                        flag.pop(-1)\n",
    "        return len(flag) == 0"
   ]
  },
  {
   "cell_type": "code",
   "execution_count": 2,
   "metadata": {
    "ExecuteTime": {
     "end_time": "2019-03-20T04:09:09.893255Z",
     "start_time": "2019-03-20T04:09:09.886236Z"
    }
   },
   "outputs": [
    {
     "name": "stdout",
     "output_type": "stream",
     "text": [
      "False\n"
     ]
    }
   ],
   "source": [
    "so = Solution()\n",
    "print(so.isValid(\"([)]\"))"
   ]
  }
 ],
 "metadata": {
  "kernelspec": {
   "display_name": "Python 3",
   "language": "python",
   "name": "python3"
  },
  "language_info": {
   "codemirror_mode": {
    "name": "ipython",
    "version": 3
   },
   "file_extension": ".py",
   "mimetype": "text/x-python",
   "name": "python",
   "nbconvert_exporter": "python",
   "pygments_lexer": "ipython3",
   "version": "3.6.7"
  },
  "latex_envs": {
   "LaTeX_envs_menu_present": true,
   "autoclose": false,
   "autocomplete": true,
   "bibliofile": "biblio.bib",
   "cite_by": "apalike",
   "current_citInitial": 1,
   "eqLabelWithNumbers": true,
   "eqNumInitial": 1,
   "hotkeys": {
    "equation": "Ctrl-E",
    "itemize": "Ctrl-I"
   },
   "labels_anchors": false,
   "latex_user_defs": false,
   "report_style_numbering": false,
   "user_envs_cfg": false
  }
 },
 "nbformat": 4,
 "nbformat_minor": 2
}
