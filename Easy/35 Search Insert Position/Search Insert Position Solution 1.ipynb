{
 "cells": [
  {
   "cell_type": "code",
   "execution_count": 15,
   "metadata": {
    "ExecuteTime": {
     "end_time": "2019-03-26T08:39:22.135391Z",
     "start_time": "2019-03-26T08:39:22.130402Z"
    }
   },
   "outputs": [],
   "source": [
    "class Solution:\n",
    "    def searchInsert(self, nums: list, target: int) -> int:\n",
    "        self.target = target\n",
    "        return self.recursive(nums, 0)\n",
    "        \n",
    "    def recursive(self, nums, startInd):\n",
    "        if len(nums) == 1:\n",
    "            return startInd + 1 if self.target > nums[0] else startInd\n",
    "        half = len(nums) // 2\n",
    "        if nums[half] > self.target:\n",
    "            return self.recursive(nums[:half], startInd)\n",
    "        elif nums[half] == self.target:\n",
    "            return startInd + half\n",
    "        else:\n",
    "            return self.recursive(nums[half:], startInd + half)"
   ]
  },
  {
   "cell_type": "code",
   "execution_count": 19,
   "metadata": {
    "ExecuteTime": {
     "end_time": "2019-03-26T08:40:04.475274Z",
     "start_time": "2019-03-26T08:40:04.470287Z"
    }
   },
   "outputs": [
    {
     "name": "stdout",
     "output_type": "stream",
     "text": [
      "2\n",
      "2\n",
      "1\n",
      "4\n",
      "0\n"
     ]
    }
   ],
   "source": [
    "so = Solution()\n",
    "print(so.searchInsert([1,2,4,5,6], 3))\n",
    "print(so.searchInsert([1,3,5,6], 5))\n",
    "print(so.searchInsert([1,3,5,6], 2))\n",
    "print(so.searchInsert([1,3,5,6], 7))\n",
    "print(so.searchInsert([1,3,5,6], 0))"
   ]
  }
 ],
 "metadata": {
  "kernelspec": {
   "display_name": "Python 3",
   "language": "python",
   "name": "python3"
  },
  "language_info": {
   "codemirror_mode": {
    "name": "ipython",
    "version": 3
   },
   "file_extension": ".py",
   "mimetype": "text/x-python",
   "name": "python",
   "nbconvert_exporter": "python",
   "pygments_lexer": "ipython3",
   "version": "3.6.7"
  }
 },
 "nbformat": 4,
 "nbformat_minor": 2
}
