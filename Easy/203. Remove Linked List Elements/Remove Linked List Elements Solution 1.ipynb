{
 "cells": [
  {
   "cell_type": "code",
   "execution_count": 1,
   "metadata": {
    "ExecuteTime": {
     "end_time": "2019-04-29T11:38:19.472739Z",
     "start_time": "2019-04-29T11:38:19.468750Z"
    }
   },
   "outputs": [],
   "source": [
    "# Definition for singly-linked list.\n",
    "class ListNode:\n",
    "    def __init__(self, x):\n",
    "        self.val = x\n",
    "        self.next = None"
   ]
  },
  {
   "cell_type": "code",
   "execution_count": 25,
   "metadata": {
    "ExecuteTime": {
     "end_time": "2019-04-29T11:53:21.816077Z",
     "start_time": "2019-04-29T11:53:21.810092Z"
    }
   },
   "outputs": [],
   "source": [
    "class Solution:\n",
    "    def removeElements(self, head: ListNode, val: int) -> ListNode:\n",
    "        while head:\n",
    "            if head.val == val:\n",
    "                head = head.next\n",
    "            else:\n",
    "                break\n",
    "        if not head:\n",
    "            return None\n",
    "        l, r = head, head\n",
    "        while r.next:\n",
    "            if r.next.val != val:\n",
    "                r = r.next\n",
    "            else:\n",
    "                r.next = r.next.next\n",
    "        return l\n",
    "    \n",
    "    def generateListNode(self, *x):\n",
    "        ret, tmp = None, None\n",
    "        x = x[::-1]\n",
    "        for t in x:\n",
    "            ret = ListNode(t)\n",
    "            ret.next = tmp\n",
    "            tmp = ret\n",
    "        return ret\n",
    "    \n",
    "    def printListNode(self, listNode):\n",
    "        ret = ''\n",
    "        while listNode:\n",
    "            ret += str(listNode.val)\n",
    "            if listNode.next != None:\n",
    "                ret += ' -> '\n",
    "            listNode = listNode.next\n",
    "        return ret"
   ]
  },
  {
   "cell_type": "code",
   "execution_count": 26,
   "metadata": {
    "ExecuteTime": {
     "end_time": "2019-04-29T11:53:21.989613Z",
     "start_time": "2019-04-29T11:53:21.985624Z"
    }
   },
   "outputs": [
    {
     "name": "stdout",
     "output_type": "stream",
     "text": [
      "1 -> 2 -> 3 -> 4 -> 5\n",
      "1 -> 1\n"
     ]
    }
   ],
   "source": [
    "so = Solution()\n",
    "ln = so.generateListNode(1,2,6,3,4,5,6)\n",
    "print(so.printListNode(so.removeElements(ln, 6)))\n",
    "ln = so.generateListNode(1,2,2,1)\n",
    "print(so.printListNode(so.removeElements(ln, 2)))"
   ]
  }
 ],
 "metadata": {
  "kernelspec": {
   "display_name": "Python 3",
   "language": "python",
   "name": "python3"
  },
  "language_info": {
   "codemirror_mode": {
    "name": "ipython",
    "version": 3
   },
   "file_extension": ".py",
   "mimetype": "text/x-python",
   "name": "python",
   "nbconvert_exporter": "python",
   "pygments_lexer": "ipython3",
   "version": "3.6.7"
  }
 },
 "nbformat": 4,
 "nbformat_minor": 2
}
