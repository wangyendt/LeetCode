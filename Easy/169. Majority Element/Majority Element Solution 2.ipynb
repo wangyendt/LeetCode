{
 "cells": [
  {
   "cell_type": "code",
   "execution_count": 2,
   "metadata": {
    "ExecuteTime": {
     "end_time": "2019-04-18T01:21:29.781735Z",
     "start_time": "2019-04-18T01:21:29.777746Z"
    }
   },
   "outputs": [],
   "source": [
    "class Solution:\n",
    "    def majorityElement(self, nums: list) -> int:\n",
    "        nums.sort()\n",
    "        return nums[len(nums)//2]"
   ]
  },
  {
   "cell_type": "code",
   "execution_count": 3,
   "metadata": {
    "ExecuteTime": {
     "end_time": "2019-04-18T01:21:30.178673Z",
     "start_time": "2019-04-18T01:21:30.169675Z"
    }
   },
   "outputs": [
    {
     "name": "stdout",
     "output_type": "stream",
     "text": [
      "3 3\n",
      "2 2\n",
      "5 5\n"
     ]
    }
   ],
   "source": [
    "so = Solution()\n",
    "print(so.majorityElement([3,2,3]),3)\n",
    "print(so.majorityElement([2,2,1,1,1,2,2]),2)\n",
    "print(so.majorityElement([6,5,5]),5)"
   ]
  }
 ],
 "metadata": {
  "kernelspec": {
   "display_name": "Python 3",
   "language": "python",
   "name": "python3"
  },
  "language_info": {
   "codemirror_mode": {
    "name": "ipython",
    "version": 3
   },
   "file_extension": ".py",
   "mimetype": "text/x-python",
   "name": "python",
   "nbconvert_exporter": "python",
   "pygments_lexer": "ipython3",
   "version": "3.6.7"
  }
 },
 "nbformat": 4,
 "nbformat_minor": 2
}
