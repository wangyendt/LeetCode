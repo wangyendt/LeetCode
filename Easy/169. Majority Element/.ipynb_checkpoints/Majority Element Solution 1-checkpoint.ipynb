{
 "cells": [
  {
   "cell_type": "code",
   "execution_count": 26,
   "metadata": {
    "ExecuteTime": {
     "end_time": "2019-04-18T01:18:14.958404Z",
     "start_time": "2019-04-18T01:18:14.953417Z"
    }
   },
   "outputs": [],
   "source": [
    "class Solution:\n",
    "    def majorityElement(self, nums: list) -> int:\n",
    "        if not nums:\n",
    "            return None\n",
    "        maxCntNum, maxCntNumVal = 0, nums[0]\n",
    "        cntDict = {}\n",
    "        for n in nums:\n",
    "            cntDict[n] = cntDict[n] + 1 if cntDict.get(n) else 1\n",
    "            if cntDict[n] > maxCntNum:\n",
    "                maxCntNum = cntDict[n]\n",
    "                maxCntNumVal = n\n",
    "            if cntDict[n] > len(nums) // 2:\n",
    "                return maxCntNumVal"
   ]
  },
  {
   "cell_type": "code",
   "execution_count": 27,
   "metadata": {
    "ExecuteTime": {
     "end_time": "2019-04-18T01:18:15.125955Z",
     "start_time": "2019-04-18T01:18:15.121966Z"
    }
   },
   "outputs": [
    {
     "name": "stdout",
     "output_type": "stream",
     "text": [
      "3 3\n",
      "2 2\n",
      "5 5\n"
     ]
    }
   ],
   "source": [
    "so = Solution()\n",
    "print(so.majorityElement([3,2,3]),3)\n",
    "print(so.majorityElement([2,2,1,1,1,2,2]),2)\n",
    "print(so.majorityElement([6,5,5]),5)"
   ]
  }
 ],
 "metadata": {
  "kernelspec": {
   "display_name": "Python 3",
   "language": "python",
   "name": "python3"
  },
  "language_info": {
   "codemirror_mode": {
    "name": "ipython",
    "version": 3
   },
   "file_extension": ".py",
   "mimetype": "text/x-python",
   "name": "python",
   "nbconvert_exporter": "python",
   "pygments_lexer": "ipython3",
   "version": "3.6.7"
  }
 },
 "nbformat": 4,
 "nbformat_minor": 2
}
