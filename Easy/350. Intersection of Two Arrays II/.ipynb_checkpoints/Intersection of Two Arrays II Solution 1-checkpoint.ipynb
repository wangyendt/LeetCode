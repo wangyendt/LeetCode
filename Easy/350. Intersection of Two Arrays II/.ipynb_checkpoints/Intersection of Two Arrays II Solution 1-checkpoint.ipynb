{
 "cells": [
  {
   "cell_type": "code",
   "execution_count": 11,
   "metadata": {
    "ExecuteTime": {
     "end_time": "2019-05-28T12:03:39.872636Z",
     "start_time": "2019-05-28T12:03:39.866618Z"
    }
   },
   "outputs": [],
   "source": [
    "class Solution:\n",
    "    def intersect(self, nums1: list, nums2: list) -> list:\n",
    "        nums1.sort()\n",
    "        nums2.sort()\n",
    "        res = []\n",
    "        a = 0\n",
    "        b = 0\n",
    "        while a < len(nums1) and b < len(nums2):\n",
    "            if nums1[a] == nums2[b]:\n",
    "                res.append(nums1[a])\n",
    "                a += 1\n",
    "                b += 1\n",
    "            elif nums1[a] < nums2[b]:\n",
    "                a += 1\n",
    "            else:\n",
    "                b += 1\n",
    "        return res"
   ]
  },
  {
   "cell_type": "code",
   "execution_count": 12,
   "metadata": {
    "ExecuteTime": {
     "end_time": "2019-05-28T12:03:40.076463Z",
     "start_time": "2019-05-28T12:03:40.073455Z"
    }
   },
   "outputs": [
    {
     "name": "stdout",
     "output_type": "stream",
     "text": [
      "[2]\n"
     ]
    }
   ],
   "source": [
    "so = Solution()\n",
    "print(so.intersect([1,2],[2]))"
   ]
  }
 ],
 "metadata": {
  "kernelspec": {
   "display_name": "Python 3",
   "language": "python",
   "name": "python3"
  },
  "language_info": {
   "codemirror_mode": {
    "name": "ipython",
    "version": 3
   },
   "file_extension": ".py",
   "mimetype": "text/x-python",
   "name": "python",
   "nbconvert_exporter": "python",
   "pygments_lexer": "ipython3",
   "version": "3.7.0"
  },
  "latex_envs": {
   "LaTeX_envs_menu_present": true,
   "autoclose": false,
   "autocomplete": true,
   "bibliofile": "biblio.bib",
   "cite_by": "apalike",
   "current_citInitial": 1,
   "eqLabelWithNumbers": true,
   "eqNumInitial": 1,
   "hotkeys": {
    "equation": "Ctrl-E",
    "itemize": "Ctrl-I"
   },
   "labels_anchors": false,
   "latex_user_defs": false,
   "report_style_numbering": false,
   "user_envs_cfg": false
  }
 },
 "nbformat": 4,
 "nbformat_minor": 2
}
