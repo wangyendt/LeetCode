{
 "cells": [
  {
   "cell_type": "code",
   "execution_count": 34,
   "metadata": {
    "ExecuteTime": {
     "end_time": "2019-04-01T06:49:31.980080Z",
     "start_time": "2019-04-01T06:49:31.975092Z"
    }
   },
   "outputs": [],
   "source": [
    "class Solution:\n",
    "    def mySqrt(self, x: int) -> int:\n",
    "        if x == 0:\n",
    "            return 0\n",
    "        if x < 4:\n",
    "            return 1\n",
    "        self.x = x\n",
    "        return self.recursive(0, x // 2 + 1)\n",
    "    def recursive(self, a, b):\n",
    "        if a == b:\n",
    "            return a\n",
    "        if a**2 == self.x:\n",
    "            return a\n",
    "        if b**2 == self.x:\n",
    "            return b\n",
    "        if a**2 <= self.x < b**2 and b-a == 1:\n",
    "            return a\n",
    "        c = (a+b)//2\n",
    "        if c**2 < self.x:\n",
    "            return self.recursive(c, b)\n",
    "        else:\n",
    "            return self.recursive(a, c)"
   ]
  },
  {
   "cell_type": "code",
   "execution_count": 35,
   "metadata": {
    "ExecuteTime": {
     "end_time": "2019-04-01T06:49:32.201517Z",
     "start_time": "2019-04-01T06:49:32.198495Z"
    }
   },
   "outputs": [
    {
     "name": "stdout",
     "output_type": "stream",
     "text": [
      "2\n"
     ]
    }
   ],
   "source": [
    "so = Solution()\n",
    "print(so.mySqrt(5))"
   ]
  }
 ],
 "metadata": {
  "kernelspec": {
   "display_name": "Python 3",
   "language": "python",
   "name": "python3"
  },
  "language_info": {
   "codemirror_mode": {
    "name": "ipython",
    "version": 3
   },
   "file_extension": ".py",
   "mimetype": "text/x-python",
   "name": "python",
   "nbconvert_exporter": "python",
   "pygments_lexer": "ipython3",
   "version": "3.6.7"
  }
 },
 "nbformat": 4,
 "nbformat_minor": 2
}
