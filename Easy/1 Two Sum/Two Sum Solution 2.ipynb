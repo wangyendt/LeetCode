{
 "cells": [
  {
   "cell_type": "code",
   "execution_count": 1,
   "metadata": {
    "ExecuteTime": {
     "end_time": "2019-03-20T04:08:28.164032Z",
     "start_time": "2019-03-20T04:08:28.157012Z"
    }
   },
   "outputs": [],
   "source": [
    "class Solution:\n",
    "    def twoSum(self, nums, target):\n",
    "        negSum = [target - ii for ii in nums]\n",
    "        return self.findSameEntriesInTwoList(nums, negSum)\n",
    "\n",
    "    def findSameEntriesInTwoList(self, list1, list2):\n",
    "        dict1 = {}\n",
    "        cnt1 = 0\n",
    "        for l1 in list1:\n",
    "            dict1[l1] = cnt1\n",
    "            cnt1 += 1\n",
    "        cnt2 = 0\n",
    "        for l2 in list2:\n",
    "            temp = dict1.get(l2)\n",
    "            if temp is not None and temp != cnt2:\n",
    "                return cnt2, dict1.get(l2)\n",
    "            cnt2 += 1\n",
    "        return None"
   ]
  },
  {
   "cell_type": "code",
   "execution_count": 2,
   "metadata": {
    "ExecuteTime": {
     "end_time": "2019-03-20T04:08:28.909805Z",
     "start_time": "2019-03-20T04:08:28.899778Z"
    }
   },
   "outputs": [
    {
     "data": {
      "text/plain": [
       "(1, 8)"
      ]
     },
     "execution_count": 2,
     "metadata": {},
     "output_type": "execute_result"
    }
   ],
   "source": [
    "so = Solution()\n",
    "so.twoSum([1,2,3,4,5,6,7,8,9], 11)"
   ]
  }
 ],
 "metadata": {
  "kernelspec": {
   "display_name": "Python 3",
   "language": "python",
   "name": "python3"
  },
  "language_info": {
   "codemirror_mode": {
    "name": "ipython",
    "version": 3
   },
   "file_extension": ".py",
   "mimetype": "text/x-python",
   "name": "python",
   "nbconvert_exporter": "python",
   "pygments_lexer": "ipython3",
   "version": "3.7.0"
  },
  "latex_envs": {
   "LaTeX_envs_menu_present": true,
   "autoclose": false,
   "autocomplete": true,
   "bibliofile": "biblio.bib",
   "cite_by": "apalike",
   "current_citInitial": 1,
   "eqLabelWithNumbers": true,
   "eqNumInitial": 1,
   "hotkeys": {
    "equation": "Ctrl-E",
    "itemize": "Ctrl-I"
   },
   "labels_anchors": false,
   "latex_user_defs": false,
   "report_style_numbering": false,
   "user_envs_cfg": false
  }
 },
 "nbformat": 4,
 "nbformat_minor": 2
}
