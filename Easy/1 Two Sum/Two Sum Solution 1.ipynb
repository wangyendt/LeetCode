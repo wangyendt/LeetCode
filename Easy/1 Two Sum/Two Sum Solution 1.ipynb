{
 "cells": [
  {
   "cell_type": "code",
   "execution_count": 1,
   "metadata": {
    "ExecuteTime": {
     "end_time": "2019-03-20T04:08:07.696212Z",
     "start_time": "2019-03-20T04:08:07.685183Z"
    }
   },
   "outputs": [],
   "source": [
    "class Solution:\n",
    "    def twoSum(self, nums, target):\n",
    "        self.nums = nums\n",
    "        self.arrLen = len(nums)\n",
    "        self.dic = {}\n",
    "        self.initialDict()\n",
    "        self.quickSort(0, self.arrLen-1)\n",
    "        self.target = target\n",
    "        return self.findPair()\n",
    "        \n",
    "    def initialDict(self):\n",
    "        for i in range(self.arrLen):\n",
    "            self.dic[i] = i\n",
    "    \n",
    "    def findPair(self):\n",
    "        left, right = 0, self.arrLen-1\n",
    "        fromRight = True\n",
    "        while left < right:\n",
    "            if fromRight:\n",
    "                if self.nums[left] + self.nums[right] > self.target:\n",
    "                    right -= 1\n",
    "                elif self.nums[left] + self.nums[right] == self.target:\n",
    "                    return self.dic[left], self.dic[right]\n",
    "                else:\n",
    "                    fromRight = not fromRight\n",
    "            else:\n",
    "                if self.nums[left] + self.nums[right] < self.target:\n",
    "                    left += 1\n",
    "                elif self.nums[left] + self.nums[right] == self.target:\n",
    "                    return self.dic[left], self.dic[right]\n",
    "                else:\n",
    "                    fromRight = not fromRight\n",
    "        \n",
    "        \n",
    "    def quickSort(self, left, right):\n",
    "        i, j = left, right\n",
    "        if i >= j:\n",
    "            return\n",
    "        base = self.nums[left]\n",
    "        while i != j:\n",
    "            while base <= self.nums[j] and i < j:\n",
    "                j -= 1\n",
    "            while base >= self.nums[i] and i < j:\n",
    "                i += 1\n",
    "            if i < j:\n",
    "                self.swap(i, j)\n",
    "        self.swap(left, i)\n",
    "        self.quickSort(left, i-1)\n",
    "        self.quickSort(i+1, right)\n",
    "        \n",
    "    def swap(self, ind1, ind2):\n",
    "        if ind1 == ind2:\n",
    "            return \n",
    "        self.nums[ind1] = self.nums[ind1] + self.nums[ind2]\n",
    "        self.nums[ind2] = self.nums[ind1] - self.nums[ind2]\n",
    "        self.nums[ind1] = self.nums[ind1] - self.nums[ind2]\n",
    "        self.dic[ind1] = self.dic[ind1] + self.dic[ind2]\n",
    "        self.dic[ind2] = self.dic[ind1] - self.dic[ind2]\n",
    "        self.dic[ind1] = self.dic[ind1] - self.dic[ind2]\n",
    "        "
   ]
  },
  {
   "cell_type": "code",
   "execution_count": 2,
   "metadata": {
    "ExecuteTime": {
     "end_time": "2019-03-20T04:08:08.304391Z",
     "start_time": "2019-03-20T04:08:08.300421Z"
    }
   },
   "outputs": [
    {
     "name": "stdout",
     "output_type": "stream",
     "text": [
      "(0, 5)\n"
     ]
    }
   ],
   "source": [
    "so = Solution()\n",
    "print(so.twoSum([2,4,3,1,6,9,-1], 11))"
   ]
  }
 ],
 "metadata": {
  "kernelspec": {
   "display_name": "Python 3",
   "language": "python",
   "name": "python3"
  },
  "language_info": {
   "codemirror_mode": {
    "name": "ipython",
    "version": 3
   },
   "file_extension": ".py",
   "mimetype": "text/x-python",
   "name": "python",
   "nbconvert_exporter": "python",
   "pygments_lexer": "ipython3",
   "version": "3.7.0"
  },
  "latex_envs": {
   "LaTeX_envs_menu_present": true,
   "autoclose": false,
   "autocomplete": true,
   "bibliofile": "biblio.bib",
   "cite_by": "apalike",
   "current_citInitial": 1,
   "eqLabelWithNumbers": true,
   "eqNumInitial": 1,
   "hotkeys": {
    "equation": "Ctrl-E",
    "itemize": "Ctrl-I"
   },
   "labels_anchors": false,
   "latex_user_defs": false,
   "report_style_numbering": false,
   "user_envs_cfg": false
  }
 },
 "nbformat": 4,
 "nbformat_minor": 2
}
