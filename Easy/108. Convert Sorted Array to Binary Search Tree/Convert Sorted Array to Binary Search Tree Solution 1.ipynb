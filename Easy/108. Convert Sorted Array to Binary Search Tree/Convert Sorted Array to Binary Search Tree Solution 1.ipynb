{
 "cells": [
  {
   "cell_type": "code",
   "execution_count": 1,
   "metadata": {
    "ExecuteTime": {
     "end_time": "2019-04-08T06:46:02.834581Z",
     "start_time": "2019-04-08T06:46:02.830592Z"
    }
   },
   "outputs": [],
   "source": [
    "# Definition for a binary tree node.\n",
    "class TreeNode:\n",
    "    def __init__(self, x):\n",
    "        self.val = x\n",
    "        self.left = None\n",
    "        self.right = None"
   ]
  },
  {
   "cell_type": "code",
   "execution_count": 2,
   "metadata": {
    "ExecuteTime": {
     "end_time": "2019-04-08T06:46:10.075968Z",
     "start_time": "2019-04-08T06:46:10.070981Z"
    },
    "code_folding": [
     0
    ]
   },
   "outputs": [],
   "source": [
    "def parseTreeNode(l):\n",
    "    if not l:\n",
    "        return None\n",
    "    tree = TreeNode(l[0])\n",
    "    leaves = [tree]\n",
    "    l.pop(0)\n",
    "    while l:\n",
    "        leavesTmp = []\n",
    "        for t in leaves:\n",
    "            if l[0] == 'null':\n",
    "                t.left = None\n",
    "            else:\n",
    "                t.left = TreeNode(l[0])\n",
    "                leavesTmp.append(t.left)\n",
    "            l.pop(0)\n",
    "            if l:\n",
    "                if l[0] == 'null':\n",
    "                    t.right = None\n",
    "                else:\n",
    "                    t.right = TreeNode(l[0])\n",
    "                    leavesTmp.append(t.right)\n",
    "                l.pop(0)\n",
    "            if not l:\n",
    "                break\n",
    "            leaves = leavesTmp\n",
    "    return tree        "
   ]
  },
  {
   "cell_type": "code",
   "execution_count": 13,
   "metadata": {
    "ExecuteTime": {
     "end_time": "2019-04-08T07:08:20.138541Z",
     "start_time": "2019-04-08T07:08:20.134553Z"
    },
    "code_folding": []
   },
   "outputs": [],
   "source": [
    "class Solution:\n",
    "    def sortedArrayToBST(self, nums: list) -> TreeNode:\n",
    "        if nums == []:\n",
    "            return None\n",
    "        ret = TreeNode(nums[len(nums)//2])\n",
    "        ret.left = self.sortedArrayToBST(nums[:len(nums)//2])\n",
    "        ret.right = self.sortedArrayToBST(nums[len(nums)//2+1:])\n",
    "        return ret"
   ]
  },
  {
   "cell_type": "code",
   "execution_count": 14,
   "metadata": {
    "ExecuteTime": {
     "end_time": "2019-04-08T07:08:20.418792Z",
     "start_time": "2019-04-08T07:08:20.413806Z"
    }
   },
   "outputs": [
    {
     "name": "stdout",
     "output_type": "stream",
     "text": [
      "0 -3 9\n"
     ]
    }
   ],
   "source": [
    "so = Solution()\n",
    "t = so.sortedArrayToBST([-10,-3,0,5,9])\n",
    "print(t.val, t.left.val, t.right.val)"
   ]
  }
 ],
 "metadata": {
  "kernelspec": {
   "display_name": "Python 3",
   "language": "python",
   "name": "python3"
  },
  "language_info": {
   "codemirror_mode": {
    "name": "ipython",
    "version": 3
   },
   "file_extension": ".py",
   "mimetype": "text/x-python",
   "name": "python",
   "nbconvert_exporter": "python",
   "pygments_lexer": "ipython3",
   "version": "3.7.0"
  },
  "latex_envs": {
   "LaTeX_envs_menu_present": true,
   "autoclose": false,
   "autocomplete": true,
   "bibliofile": "biblio.bib",
   "cite_by": "apalike",
   "current_citInitial": 1,
   "eqLabelWithNumbers": true,
   "eqNumInitial": 1,
   "hotkeys": {
    "equation": "Ctrl-E",
    "itemize": "Ctrl-I"
   },
   "labels_anchors": false,
   "latex_user_defs": false,
   "report_style_numbering": false,
   "user_envs_cfg": false
  }
 },
 "nbformat": 4,
 "nbformat_minor": 2
}
