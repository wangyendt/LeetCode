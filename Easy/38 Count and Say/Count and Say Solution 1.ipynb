{
 "cells": [
  {
   "cell_type": "code",
   "execution_count": 29,
   "metadata": {
    "ExecuteTime": {
     "end_time": "2019-03-26T09:03:30.303126Z",
     "start_time": "2019-03-26T09:03:30.296133Z"
    }
   },
   "outputs": [],
   "source": [
    "class Solution:\n",
    "    def countAndSay(self, n: int) -> str:\n",
    "        return self.recursive(n, '1')\n",
    "        \n",
    "    def recursive(self, n, s) -> str:\n",
    "        if n == 1:\n",
    "            return s\n",
    "        if len(s) == 1:\n",
    "            return self.recursive(n-1, '1' + str(s[0]))\n",
    "        cnt, num, ret = 1, s[0], ''\n",
    "        for i in range(1, len(s)):\n",
    "            if s[i] == s[i-1]:\n",
    "                cnt += 1\n",
    "            else:\n",
    "                ret += str(cnt) + str(num)\n",
    "                cnt, num = 1, s[i]\n",
    "            if i == len(s) - 1:\n",
    "                ret += str(cnt) + str(num)\n",
    "        return self.recursive(n - 1, ret)"
   ]
  },
  {
   "cell_type": "code",
   "execution_count": 34,
   "metadata": {
    "ExecuteTime": {
     "end_time": "2019-03-26T09:03:41.139594Z",
     "start_time": "2019-03-26T09:03:41.137585Z"
    }
   },
   "outputs": [
    {
     "name": "stdout",
     "output_type": "stream",
     "text": [
      "1211\n"
     ]
    }
   ],
   "source": [
    "so = Solution()\n",
    "print(so.countAndSay(4))"
   ]
  }
 ],
 "metadata": {
  "kernelspec": {
   "display_name": "Python 3",
   "language": "python",
   "name": "python3"
  },
  "language_info": {
   "codemirror_mode": {
    "name": "ipython",
    "version": 3
   },
   "file_extension": ".py",
   "mimetype": "text/x-python",
   "name": "python",
   "nbconvert_exporter": "python",
   "pygments_lexer": "ipython3",
   "version": "3.6.7"
  }
 },
 "nbformat": 4,
 "nbformat_minor": 2
}
