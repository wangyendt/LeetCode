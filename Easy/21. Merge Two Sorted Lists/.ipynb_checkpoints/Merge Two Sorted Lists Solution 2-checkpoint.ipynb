{
 "cells": [
  {
   "cell_type": "code",
   "execution_count": 1,
   "metadata": {
    "ExecuteTime": {
     "end_time": "2019-04-01T13:25:59.888152Z",
     "start_time": "2019-04-01T13:25:59.885633Z"
    }
   },
   "outputs": [],
   "source": [
    "# Definition for singly-linked list.\n",
    "class ListNode:\n",
    "    def __init__(self, x):\n",
    "        self.val = x\n",
    "        self.next = None"
   ]
  },
  {
   "cell_type": "code",
   "execution_count": 2,
   "metadata": {
    "ExecuteTime": {
     "end_time": "2019-04-01T13:26:01.216280Z",
     "start_time": "2019-04-01T13:26:01.210762Z"
    }
   },
   "outputs": [],
   "source": [
    "class Solution:\n",
    "    def mergeTwoLists(self, a, b):\n",
    "        if not a or b and a.val > b.val:\n",
    "            a, b = b, a\n",
    "        if a:\n",
    "            a.next = self.mergeTwoLists(a.next, b)\n",
    "        return a\n",
    "    \n",
    "    def generateListNode(self, *x):\n",
    "        ret, tmp = None, None\n",
    "        x = x[::-1]\n",
    "        for t in x:\n",
    "            ret = ListNode(t)\n",
    "            ret.next = tmp\n",
    "            tmp = ret\n",
    "        return ret\n",
    "    \n",
    "    def printListNode(self, listNode):\n",
    "        ret = ''\n",
    "        while listNode:\n",
    "            ret += str(listNode.val)\n",
    "            if listNode.next != None:\n",
    "                ret += ' -> '\n",
    "            listNode = listNode.next\n",
    "        return ret"
   ]
  },
  {
   "cell_type": "code",
   "execution_count": 3,
   "metadata": {
    "ExecuteTime": {
     "end_time": "2019-04-01T13:26:02.926028Z",
     "start_time": "2019-04-01T13:26:02.923038Z"
    }
   },
   "outputs": [],
   "source": [
    "def makeListNode(arr):\n",
    "    if len(arr) == 0:\n",
    "        return None\n",
    "    tmp, retLN = None, None\n",
    "    retLN = ListNode(arr[0])\n",
    "    arr.pop(0)\n",
    "    tmp = makeListNode(arr)\n",
    "    retLN.next = tmp\n",
    "    return retLN"
   ]
  },
  {
   "cell_type": "code",
   "execution_count": 4,
   "metadata": {
    "ExecuteTime": {
     "end_time": "2019-04-01T13:26:03.389637Z",
     "start_time": "2019-04-01T13:26:03.386151Z"
    }
   },
   "outputs": [],
   "source": [
    "def printListNode(*listNode):\n",
    "    for ln in listNode:\n",
    "        s = ''\n",
    "        if ln is None:\n",
    "            return\n",
    "        s += str(ln.val)\n",
    "        while ln.next != None:\n",
    "            ln = ln.next\n",
    "            s += '->'+str(ln.val)\n",
    "        print(s)"
   ]
  },
  {
   "cell_type": "code",
   "execution_count": 5,
   "metadata": {
    "ExecuteTime": {
     "end_time": "2019-04-01T13:26:04.637689Z",
     "start_time": "2019-04-01T13:26:04.634204Z"
    }
   },
   "outputs": [
    {
     "name": "stdout",
     "output_type": "stream",
     "text": [
      "1->2->3\n",
      "2->3->5->7\n",
      "1->2->2->3->3->5->7\n"
     ]
    }
   ],
   "source": [
    "l1 = makeListNode([1,2,3])\n",
    "l2 = makeListNode([2,3,5,7])\n",
    "printListNode(l1, l2)\n",
    "so = Solution()\n",
    "l3 = so.mergeTwoLists(l1, l2)\n",
    "printListNode(l3)"
   ]
  }
 ],
 "metadata": {
  "kernelspec": {
   "display_name": "Python 3",
   "language": "python",
   "name": "python3"
  },
  "language_info": {
   "codemirror_mode": {
    "name": "ipython",
    "version": 3
   },
   "file_extension": ".py",
   "mimetype": "text/x-python",
   "name": "python",
   "nbconvert_exporter": "python",
   "pygments_lexer": "ipython3",
   "version": "3.6.7"
  },
  "latex_envs": {
   "LaTeX_envs_menu_present": true,
   "autoclose": false,
   "autocomplete": true,
   "bibliofile": "biblio.bib",
   "cite_by": "apalike",
   "current_citInitial": 1,
   "eqLabelWithNumbers": true,
   "eqNumInitial": 1,
   "hotkeys": {
    "equation": "Ctrl-E",
    "itemize": "Ctrl-I"
   },
   "labels_anchors": false,
   "latex_user_defs": false,
   "report_style_numbering": false,
   "user_envs_cfg": false
  },
  "varInspector": {
   "cols": {
    "lenName": 16,
    "lenType": 16,
    "lenVar": 40
   },
   "kernels_config": {
    "python": {
     "delete_cmd_postfix": "",
     "delete_cmd_prefix": "del ",
     "library": "var_list.py",
     "varRefreshCmd": "print(var_dic_list())"
    },
    "r": {
     "delete_cmd_postfix": ") ",
     "delete_cmd_prefix": "rm(",
     "library": "var_list.r",
     "varRefreshCmd": "cat(var_dic_list()) "
    }
   },
   "types_to_exclude": [
    "module",
    "function",
    "builtin_function_or_method",
    "instance",
    "_Feature"
   ],
   "window_display": false
  }
 },
 "nbformat": 4,
 "nbformat_minor": 2
}
