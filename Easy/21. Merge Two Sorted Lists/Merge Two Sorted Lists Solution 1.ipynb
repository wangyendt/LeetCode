{
 "cells": [
  {
   "cell_type": "code",
   "execution_count": 3,
   "metadata": {
    "ExecuteTime": {
     "end_time": "2019-03-20T04:16:44.048393Z",
     "start_time": "2019-03-20T04:16:44.044382Z"
    }
   },
   "outputs": [],
   "source": [
    "# Definition for singly-linked list.\n",
    "class ListNode:\n",
    "    def __init__(self, x):\n",
    "        self.val = x\n",
    "        self.next = None"
   ]
  },
  {
   "cell_type": "code",
   "execution_count": 34,
   "metadata": {
    "ExecuteTime": {
     "end_time": "2019-03-20T04:43:14.056188Z",
     "start_time": "2019-03-20T04:43:14.050172Z"
    }
   },
   "outputs": [],
   "source": [
    "class Solution:\n",
    "    def mergeTwoLists(self, l1: ListNode, l2: ListNode) -> ListNode:\n",
    "        if not l1 and not l2:\n",
    "            return None\n",
    "        if not l1:\n",
    "            return l2\n",
    "        if not l2:\n",
    "            return l1\n",
    "        retLN, tmp = None, None\n",
    "        if l1.val < l2.val:\n",
    "            retLN = ListNode(l1.val)\n",
    "            tmp = self.mergeTwoLists(l1.next, l2)\n",
    "        else:\n",
    "            retLN = ListNode(l2.val)\n",
    "            tmp = self.mergeTwoLists(l2.next, l1)\n",
    "        retLN.next = tmp\n",
    "        return retLN\n",
    "        "
   ]
  },
  {
   "cell_type": "code",
   "execution_count": 35,
   "metadata": {
    "ExecuteTime": {
     "end_time": "2019-03-20T04:43:15.159920Z",
     "start_time": "2019-03-20T04:43:15.154908Z"
    }
   },
   "outputs": [],
   "source": [
    "def makeListNode(arr):\n",
    "    if len(arr) == 0:\n",
    "        return None\n",
    "    tmp, retLN = None, None\n",
    "    retLN = ListNode(arr[0])\n",
    "    arr.pop(0)\n",
    "    tmp = makeListNode(arr)\n",
    "    retLN.next = tmp\n",
    "    return retLN\n",
    "        "
   ]
  },
  {
   "cell_type": "code",
   "execution_count": 36,
   "metadata": {
    "ExecuteTime": {
     "end_time": "2019-03-20T04:43:16.341569Z",
     "start_time": "2019-03-20T04:43:16.338561Z"
    }
   },
   "outputs": [],
   "source": [
    "def printListNode(*listNode):\n",
    "    for ln in listNode:\n",
    "        s = ''\n",
    "        if ln is None:\n",
    "            return\n",
    "        s += str(ln.val)\n",
    "        while ln.next != None:\n",
    "            ln = ln.next\n",
    "            s += '->'+str(ln.val)\n",
    "        print(s)"
   ]
  },
  {
   "cell_type": "code",
   "execution_count": 37,
   "metadata": {
    "ExecuteTime": {
     "end_time": "2019-03-20T04:43:16.796017Z",
     "start_time": "2019-03-20T04:43:16.790002Z"
    }
   },
   "outputs": [
    {
     "name": "stdout",
     "output_type": "stream",
     "text": [
      "1->2->3\n",
      "2->3->5->7\n",
      "1->2->2->3->3->5->7\n"
     ]
    }
   ],
   "source": [
    "l1 = makeListNode([1,2,3])\n",
    "l2 = makeListNode([2,3,5,7])\n",
    "printListNode(l1, l2)\n",
    "so = Solution()\n",
    "l3 = so.mergeTwoLists(l1, l2)\n",
    "printListNode(l3)"
   ]
  }
 ],
 "metadata": {
  "kernelspec": {
   "display_name": "Python 3",
   "language": "python",
   "name": "python3"
  },
  "language_info": {
   "codemirror_mode": {
    "name": "ipython",
    "version": 3
   },
   "file_extension": ".py",
   "mimetype": "text/x-python",
   "name": "python",
   "nbconvert_exporter": "python",
   "pygments_lexer": "ipython3",
   "version": "3.7.0"
  },
  "latex_envs": {
   "LaTeX_envs_menu_present": true,
   "autoclose": false,
   "autocomplete": true,
   "bibliofile": "biblio.bib",
   "cite_by": "apalike",
   "current_citInitial": 1,
   "eqLabelWithNumbers": true,
   "eqNumInitial": 1,
   "hotkeys": {
    "equation": "Ctrl-E",
    "itemize": "Ctrl-I"
   },
   "labels_anchors": false,
   "latex_user_defs": false,
   "report_style_numbering": false,
   "user_envs_cfg": false
  }
 },
 "nbformat": 4,
 "nbformat_minor": 2
}
