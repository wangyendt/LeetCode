{
 "cells": [
  {
   "cell_type": "code",
   "execution_count": 1,
   "metadata": {
    "ExecuteTime": {
     "end_time": "2019-03-20T04:48:40.935273Z",
     "start_time": "2019-03-20T04:48:40.931245Z"
    }
   },
   "outputs": [],
   "source": [
    "# Definition for singly-linked list.\n",
    "class ListNode:\n",
    "    def __init__(self, x):\n",
    "        self.val = x\n",
    "        self.next = None"
   ]
  },
  {
   "cell_type": "code",
   "execution_count": 2,
   "metadata": {
    "ExecuteTime": {
     "end_time": "2019-03-20T04:48:41.269537Z",
     "start_time": "2019-03-20T04:48:41.214388Z"
    }
   },
   "outputs": [],
   "source": [
    "class Solution:\n",
    "    def mergeTwoLists(self, a, b):\n",
    "        if not a or b and a.val > b.val:\n",
    "            a, b = b, a\n",
    "        if a:\n",
    "            a.next = self.mergeTwoLists(a.next, b)\n",
    "        return a"
   ]
  },
  {
   "cell_type": "code",
   "execution_count": 3,
   "metadata": {
    "ExecuteTime": {
     "end_time": "2019-03-20T04:48:41.409288Z",
     "start_time": "2019-03-20T04:48:41.279564Z"
    }
   },
   "outputs": [],
   "source": [
    "def makeListNode(arr):\n",
    "    if len(arr) == 0:\n",
    "        return None\n",
    "    tmp, retLN = None, None\n",
    "    retLN = ListNode(arr[0])\n",
    "    arr.pop(0)\n",
    "    tmp = makeListNode(arr)\n",
    "    retLN.next = tmp\n",
    "    return retLN"
   ]
  },
  {
   "cell_type": "code",
   "execution_count": 4,
   "metadata": {
    "ExecuteTime": {
     "end_time": "2019-03-20T04:48:41.925281Z",
     "start_time": "2019-03-20T04:48:41.921272Z"
    }
   },
   "outputs": [],
   "source": [
    "def printListNode(*listNode):\n",
    "    for ln in listNode:\n",
    "        s = ''\n",
    "        if ln is None:\n",
    "            return\n",
    "        s += str(ln.val)\n",
    "        while ln.next != None:\n",
    "            ln = ln.next\n",
    "            s += '->'+str(ln.val)\n",
    "        print(s)"
   ]
  },
  {
   "cell_type": "code",
   "execution_count": 5,
   "metadata": {
    "ExecuteTime": {
     "end_time": "2019-03-20T04:48:42.407733Z",
     "start_time": "2019-03-20T04:48:42.401717Z"
    }
   },
   "outputs": [
    {
     "name": "stdout",
     "output_type": "stream",
     "text": [
      "1->2->3\n",
      "2->3->5->7\n",
      "1->2->2->3->3->5->7\n"
     ]
    }
   ],
   "source": [
    "l1 = makeListNode([1,2,3])\n",
    "l2 = makeListNode([2,3,5,7])\n",
    "printListNode(l1, l2)\n",
    "so = Solution()\n",
    "l3 = so.mergeTwoLists(l1, l2)\n",
    "printListNode(l3)"
   ]
  }
 ],
 "metadata": {
  "kernelspec": {
   "display_name": "Python 3",
   "language": "python",
   "name": "python3"
  },
  "language_info": {
   "codemirror_mode": {
    "name": "ipython",
    "version": 3
   },
   "file_extension": ".py",
   "mimetype": "text/x-python",
   "name": "python",
   "nbconvert_exporter": "python",
   "pygments_lexer": "ipython3",
   "version": "3.7.0"
  },
  "latex_envs": {
   "LaTeX_envs_menu_present": true,
   "autoclose": false,
   "autocomplete": true,
   "bibliofile": "biblio.bib",
   "cite_by": "apalike",
   "current_citInitial": 1,
   "eqLabelWithNumbers": true,
   "eqNumInitial": 1,
   "hotkeys": {
    "equation": "Ctrl-E",
    "itemize": "Ctrl-I"
   },
   "labels_anchors": false,
   "latex_user_defs": false,
   "report_style_numbering": false,
   "user_envs_cfg": false
  }
 },
 "nbformat": 4,
 "nbformat_minor": 2
}
