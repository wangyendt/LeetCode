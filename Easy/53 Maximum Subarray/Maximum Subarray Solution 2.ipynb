{
 "cells": [
  {
   "cell_type": "code",
   "execution_count": 9,
   "metadata": {
    "ExecuteTime": {
     "end_time": "2019-03-26T09:39:40.847788Z",
     "start_time": "2019-03-26T09:39:40.842802Z"
    }
   },
   "outputs": [],
   "source": [
    "class Solution(object):\n",
    "    def maxSubArray(self, nums):\n",
    "        if nums==None or len(nums)==0:\n",
    "            return None\n",
    "        maxCurrent = [nums[0]]\n",
    "        for i in range(1, len(nums)):\n",
    "            maxCurrent.append(max(nums[i], nums[i]+maxCurrent[-1]))\n",
    "        return max(maxCurrent)"
   ]
  },
  {
   "cell_type": "code",
   "execution_count": 10,
   "metadata": {
    "ExecuteTime": {
     "end_time": "2019-03-26T09:39:41.086050Z",
     "start_time": "2019-03-26T09:39:41.082060Z"
    }
   },
   "outputs": [
    {
     "name": "stdout",
     "output_type": "stream",
     "text": [
      "16\n"
     ]
    }
   ],
   "source": [
    "so = Solution()\n",
    "print(so.maxSubArray([-5,8,-5,1,1,-3,5,5,-3,-3,6,4,-7,-4,-8,0,-1,-6]))"
   ]
  }
 ],
 "metadata": {
  "kernelspec": {
   "display_name": "Python 3",
   "language": "python",
   "name": "python3"
  },
  "language_info": {
   "codemirror_mode": {
    "name": "ipython",
    "version": 3
   },
   "file_extension": ".py",
   "mimetype": "text/x-python",
   "name": "python",
   "nbconvert_exporter": "python",
   "pygments_lexer": "ipython3",
   "version": "3.6.7"
  }
 },
 "nbformat": 4,
 "nbformat_minor": 2
}
