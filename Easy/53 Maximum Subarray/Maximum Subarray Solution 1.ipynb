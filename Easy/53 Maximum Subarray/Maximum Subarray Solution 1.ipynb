{
 "cells": [
  {
   "cell_type": "code",
   "execution_count": 32,
   "metadata": {
    "ExecuteTime": {
     "end_time": "2019-03-26T09:34:21.187749Z",
     "start_time": "2019-03-26T09:34:21.180767Z"
    }
   },
   "outputs": [],
   "source": [
    "class Solution:\n",
    "    def maxSubArray(self, nums: list) -> int:\n",
    "        if len(nums) == 1:\n",
    "            return nums[0]\n",
    "        maxSum = nums[0]\n",
    "        localSum = nums[0] if nums[0] > 0 else 0\n",
    "        leftPos = nums[0] if nums[0] > 0 else 0\n",
    "        leftNeg = nums[0] if nums[0] < 0 else 0\n",
    "        for i in range(1, len(nums)):\n",
    "            print(i, maxSum, localSum, leftPos, leftNeg)\n",
    "            if nums[i] >= 0 or nums[i] + leftNeg + leftPos >= 0:\n",
    "                if leftPos + leftNeg < 0:\n",
    "                    leftPos, leftNeg = 0, 0\n",
    "                    localSum = 0\n",
    "                localSum += nums[i]\n",
    "                maxSum = max(maxSum, localSum, nums[i])\n",
    "                if nums[i] > 0:\n",
    "                    leftPos += nums[i]\n",
    "                else:\n",
    "                    leftNeg += nums[i]\n",
    "            else:\n",
    "                localSum = 0\n",
    "                leftPos = 0\n",
    "                leftNeg = 0\n",
    "                maxSum = max(maxSum, nums[i])\n",
    "        return maxSum"
   ]
  },
  {
   "cell_type": "code",
   "execution_count": 33,
   "metadata": {
    "ExecuteTime": {
     "end_time": "2019-03-26T09:34:21.724334Z",
     "start_time": "2019-03-26T09:34:21.718351Z"
    }
   },
   "outputs": [
    {
     "name": "stdout",
     "output_type": "stream",
     "text": [
      "1 -5 0 0 -5\n",
      "2 8 8 8 0\n",
      "3 8 3 8 -5\n",
      "4 8 4 9 -5\n",
      "5 8 5 10 -5\n",
      "6 8 2 10 -8\n",
      "7 8 7 15 -8\n",
      "8 12 12 20 -8\n",
      "9 12 9 20 -11\n",
      "10 12 6 20 -14\n",
      "11 12 12 26 -14\n",
      "12 16 16 30 -14\n",
      "13 16 9 30 -21\n",
      "14 16 5 30 -25\n",
      "15 16 0 0 0\n",
      "16 16 0 0 0\n",
      "17 16 0 0 0\n",
      "16\n"
     ]
    }
   ],
   "source": [
    "so = Solution()\n",
    "print(so.maxSubArray([-5,8,-5,1,1,-3,5,5,-3,-3,6,4,-7,-4,-8,0,-1,-6]))"
   ]
  }
 ],
 "metadata": {
  "kernelspec": {
   "display_name": "Python 3",
   "language": "python",
   "name": "python3"
  },
  "language_info": {
   "codemirror_mode": {
    "name": "ipython",
    "version": 3
   },
   "file_extension": ".py",
   "mimetype": "text/x-python",
   "name": "python",
   "nbconvert_exporter": "python",
   "pygments_lexer": "ipython3",
   "version": "3.6.7"
  }
 },
 "nbformat": 4,
 "nbformat_minor": 2
}
