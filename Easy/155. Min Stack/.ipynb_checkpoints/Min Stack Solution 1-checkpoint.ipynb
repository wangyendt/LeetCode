{
 "cells": [
  {
   "cell_type": "code",
   "execution_count": 22,
   "metadata": {
    "ExecuteTime": {
     "end_time": "2019-04-17T08:58:48.262025Z",
     "start_time": "2019-04-17T08:58:48.256041Z"
    }
   },
   "outputs": [],
   "source": [
    "class MinStack:\n",
    "    def __init__(self):\n",
    "        \"\"\"\n",
    "        initialize your data structure here.\n",
    "        \"\"\"\n",
    "        self.dic = {}\n",
    "        self.cnt = 0\n",
    "        \n",
    "    def push(self, x: int) -> None:\n",
    "        self.dic[self.cnt] = (x, min(x, self.dic[self.cnt-1][1] if self.cnt >= 1 else x))\n",
    "        self.cnt += 1\n",
    "        \n",
    "    def pop(self) -> None:\n",
    "        self.cnt -= 1\n",
    "        self.dic.pop(self.cnt)\n",
    "\n",
    "    def top(self) -> int:\n",
    "        return self.dic[self.cnt-1][0] if self.cnt >= 1 else None\n",
    "\n",
    "    def getMin(self) -> int:\n",
    "        return self.dic[self.cnt-1][1] if self.cnt >= 1 else None"
   ]
  },
  {
   "cell_type": "code",
   "execution_count": 23,
   "metadata": {
    "ExecuteTime": {
     "end_time": "2019-04-17T08:58:48.465492Z",
     "start_time": "2019-04-17T08:58:48.463486Z"
    }
   },
   "outputs": [
    {
     "name": "stdout",
     "output_type": "stream",
     "text": [
      "{0: (1, 1)} 1\n"
     ]
    }
   ],
   "source": [
    "# Your MinStack object will be instantiated and called as such:\n",
    "obj = MinStack()\n",
    "obj.push(1)\n",
    "param_3 = obj.top()\n",
    "param_4 = obj.getMin()\n",
    "obj.pop()"
   ]
  }
 ],
 "metadata": {
  "kernelspec": {
   "display_name": "Python 3",
   "language": "python",
   "name": "python3"
  },
  "language_info": {
   "codemirror_mode": {
    "name": "ipython",
    "version": 3
   },
   "file_extension": ".py",
   "mimetype": "text/x-python",
   "name": "python",
   "nbconvert_exporter": "python",
   "pygments_lexer": "ipython3",
   "version": "3.6.7"
  }
 },
 "nbformat": 4,
 "nbformat_minor": 2
}
