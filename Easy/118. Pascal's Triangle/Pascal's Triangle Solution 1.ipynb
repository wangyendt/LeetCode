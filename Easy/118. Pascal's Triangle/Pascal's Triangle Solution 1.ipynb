{
 "cells": [
  {
   "cell_type": "code",
   "execution_count": 17,
   "metadata": {
    "ExecuteTime": {
     "end_time": "2019-04-10T08:34:59.246806Z",
     "start_time": "2019-04-10T08:34:59.241820Z"
    }
   },
   "outputs": [],
   "source": [
    "class Solution:\n",
    "    def generate(self, numRows: int) -> list(list()):\n",
    "        if numRows == 0:\n",
    "            return []\n",
    "        if numRows == 1:\n",
    "            return [[1]]\n",
    "        ret = [[] for _ in range(numRows)]\n",
    "        for i in range(numRows):\n",
    "            ret[i].append(1)\n",
    "            if i == 0:\n",
    "                continue\n",
    "            for j in range(i-1):\n",
    "                ret[i].append(ret[i-1][j]+ret[i-1][j+1])\n",
    "            ret[i].append(1)\n",
    "        return ret"
   ]
  },
  {
   "cell_type": "code",
   "execution_count": 21,
   "metadata": {
    "ExecuteTime": {
     "end_time": "2019-04-10T08:35:15.807709Z",
     "start_time": "2019-04-10T08:35:15.802681Z"
    }
   },
   "outputs": [
    {
     "name": "stdout",
     "output_type": "stream",
     "text": [
      "[[1], [1, 1]]\n"
     ]
    }
   ],
   "source": [
    "so = Solution()\n",
    "print(so.generate(2))"
   ]
  }
 ],
 "metadata": {
  "kernelspec": {
   "display_name": "Python 3",
   "language": "python",
   "name": "python3"
  },
  "language_info": {
   "codemirror_mode": {
    "name": "ipython",
    "version": 3
   },
   "file_extension": ".py",
   "mimetype": "text/x-python",
   "name": "python",
   "nbconvert_exporter": "python",
   "pygments_lexer": "ipython3",
   "version": "3.6.7"
  }
 },
 "nbformat": 4,
 "nbformat_minor": 2
}
