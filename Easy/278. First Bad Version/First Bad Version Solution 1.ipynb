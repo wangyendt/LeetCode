{
 "cells": [
  {
   "cell_type": "code",
   "execution_count": 1,
   "metadata": {
    "ExecuteTime": {
     "end_time": "2019-05-25T15:24:20.195170Z",
     "start_time": "2019-05-25T15:24:20.172610Z"
    }
   },
   "outputs": [],
   "source": [
    "# The isBadVersion API is already defined for you.\n",
    "# @param version, an integer\n",
    "# @return a bool\n",
    "# def isBadVersion(version):\n",
    "\n",
    "class Solution:\n",
    "    def firstBadVersion(self, n):\n",
    "        \"\"\"\n",
    "        :type n: int\n",
    "        :rtype: int\n",
    "        \"\"\"\n",
    "        l, r = 1, n\n",
    "        while l+1 < r:\n",
    "            m = (l+r)//2\n",
    "            if isBadVersion(m):\n",
    "                r = m\n",
    "            else:\n",
    "                l = m\n",
    "        if isBadVersion(l):\n",
    "            return l\n",
    "        else:\n",
    "            return r"
   ]
  }
 ],
 "metadata": {
  "kernelspec": {
   "display_name": "Python 3",
   "language": "python",
   "name": "python3"
  },
  "language_info": {
   "codemirror_mode": {
    "name": "ipython",
    "version": 3
   },
   "file_extension": ".py",
   "mimetype": "text/x-python",
   "name": "python",
   "nbconvert_exporter": "python",
   "pygments_lexer": "ipython3",
   "version": "3.7.0"
  },
  "latex_envs": {
   "LaTeX_envs_menu_present": true,
   "autoclose": false,
   "autocomplete": true,
   "bibliofile": "biblio.bib",
   "cite_by": "apalike",
   "current_citInitial": 1,
   "eqLabelWithNumbers": true,
   "eqNumInitial": 1,
   "hotkeys": {
    "equation": "Ctrl-E",
    "itemize": "Ctrl-I"
   },
   "labels_anchors": false,
   "latex_user_defs": false,
   "report_style_numbering": false,
   "user_envs_cfg": false
  }
 },
 "nbformat": 4,
 "nbformat_minor": 2
}
