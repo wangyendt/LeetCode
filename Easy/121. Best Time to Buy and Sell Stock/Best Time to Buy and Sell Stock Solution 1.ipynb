{
 "cells": [
  {
   "cell_type": "code",
   "execution_count": 9,
   "metadata": {
    "ExecuteTime": {
     "end_time": "2019-04-10T09:14:47.437495Z",
     "start_time": "2019-04-10T09:14:47.432509Z"
    }
   },
   "outputs": [],
   "source": [
    "class Solution:\n",
    "    def maxProfit(self, prices: list) -> int:\n",
    "        if not prices:\n",
    "            return 0\n",
    "        mp, stack = [0] * len(prices), []\n",
    "        for i in range(len(prices)):\n",
    "            if not stack:\n",
    "                stack.append(prices[i])\n",
    "                mp[i] = 0\n",
    "            else:\n",
    "                tmp = stack.pop()\n",
    "                if prices[i] <= tmp:\n",
    "                    stack.append(prices[i])\n",
    "                    mp[i] = 0\n",
    "                else:\n",
    "                    stack.append(tmp)\n",
    "                    mp[i] = prices[i] - tmp\n",
    "        return max(mp)"
   ]
  },
  {
   "cell_type": "code",
   "execution_count": 10,
   "metadata": {
    "ExecuteTime": {
     "end_time": "2019-04-10T09:14:48.092906Z",
     "start_time": "2019-04-10T09:14:48.088915Z"
    },
    "scrolled": true
   },
   "outputs": [
    {
     "name": "stdout",
     "output_type": "stream",
     "text": [
      "0 [0, 0, 0, 0, 0, 0]\n",
      "1 [0, 0, 0, 0, 0, 0]\n",
      "2 [0, 0, 0, 0, 0, 0]\n",
      "3 [0, 0, 4, 0, 0, 0]\n",
      "4 [0, 0, 4, 2, 0, 0]\n",
      "5 [0, 0, 4, 2, 5, 0]\n",
      "5\n"
     ]
    }
   ],
   "source": [
    "so = Solution()\n",
    "print(so.maxProfit([7,1,5,3,6,4]))"
   ]
  }
 ],
 "metadata": {
  "kernelspec": {
   "display_name": "Python 3",
   "language": "python",
   "name": "python3"
  },
  "language_info": {
   "codemirror_mode": {
    "name": "ipython",
    "version": 3
   },
   "file_extension": ".py",
   "mimetype": "text/x-python",
   "name": "python",
   "nbconvert_exporter": "python",
   "pygments_lexer": "ipython3",
   "version": "3.6.7"
  }
 },
 "nbformat": 4,
 "nbformat_minor": 2
}
