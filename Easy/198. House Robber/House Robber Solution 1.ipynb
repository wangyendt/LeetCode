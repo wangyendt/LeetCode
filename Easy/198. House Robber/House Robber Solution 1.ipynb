{
 "cells": [
  {
   "cell_type": "code",
   "execution_count": 8,
   "metadata": {
    "ExecuteTime": {
     "end_time": "2019-04-29T11:30:19.808917Z",
     "start_time": "2019-04-29T11:30:19.803931Z"
    }
   },
   "outputs": [],
   "source": [
    "class Solution:\n",
    "    def rob(self, nums: list) -> int:\n",
    "        dp = [0] * len(nums)\n",
    "        if len(nums) < 3:\n",
    "            return max(nums) if nums else 0\n",
    "        for i in range(len(nums)):\n",
    "            if i < 2:\n",
    "                dp[i] = max(nums[:i+1])\n",
    "            dp[i] = max(dp[i-2] + nums[i], dp[i-1])\n",
    "        return dp[-1]"
   ]
  },
  {
   "cell_type": "code",
   "execution_count": 9,
   "metadata": {
    "ExecuteTime": {
     "end_time": "2019-04-29T11:30:19.992428Z",
     "start_time": "2019-04-29T11:30:19.988437Z"
    }
   },
   "outputs": [
    {
     "name": "stdout",
     "output_type": "stream",
     "text": [
      "4 4\n",
      "12 12\n"
     ]
    }
   ],
   "source": [
    "so = Solution()\n",
    "print(so.rob([1,2,3,1]), 4)\n",
    "print(so.rob([2,7,9,3,1]), 12)"
   ]
  }
 ],
 "metadata": {
  "kernelspec": {
   "display_name": "Python 3",
   "language": "python",
   "name": "python3"
  },
  "language_info": {
   "codemirror_mode": {
    "name": "ipython",
    "version": 3
   },
   "file_extension": ".py",
   "mimetype": "text/x-python",
   "name": "python",
   "nbconvert_exporter": "python",
   "pygments_lexer": "ipython3",
   "version": "3.6.7"
  }
 },
 "nbformat": 4,
 "nbformat_minor": 2
}
