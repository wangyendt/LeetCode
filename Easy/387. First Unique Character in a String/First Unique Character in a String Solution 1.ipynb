{
 "cells": [
  {
   "cell_type": "code",
   "execution_count": 30,
   "metadata": {
    "ExecuteTime": {
     "end_time": "2019-05-29T15:46:37.456396Z",
     "start_time": "2019-05-29T15:46:37.450379Z"
    }
   },
   "outputs": [],
   "source": [
    "class Solution:\n",
    "    def firstUniqChar(self, s: str) -> int:\n",
    "        dic = {}\n",
    "        for si, ss in enumerate(s):\n",
    "            if dic.get(ss):\n",
    "                dic[ss][1] += 1\n",
    "            else:\n",
    "                dic[ss] = [si, 1]\n",
    "        sUniq = [dic[su][0] for su in dic.keys() if dic[su][1] == 1]\n",
    "        if not sUniq:\n",
    "            return -1\n",
    "        return min(sUniq)"
   ]
  },
  {
   "cell_type": "code",
   "execution_count": 31,
   "metadata": {
    "ExecuteTime": {
     "end_time": "2019-05-29T15:46:38.216367Z",
     "start_time": "2019-05-29T15:46:38.211386Z"
    }
   },
   "outputs": [
    {
     "name": "stdout",
     "output_type": "stream",
     "text": [
      "0 0\n",
      "2 2\n"
     ]
    }
   ],
   "source": [
    "so = Solution()\n",
    "print(so.firstUniqChar('leetcode'),0)\n",
    "print(so.firstUniqChar('loveleetcode'),2)"
   ]
  }
 ],
 "metadata": {
  "kernelspec": {
   "display_name": "Python 3",
   "language": "python",
   "name": "python3"
  },
  "language_info": {
   "codemirror_mode": {
    "name": "ipython",
    "version": 3
   },
   "file_extension": ".py",
   "mimetype": "text/x-python",
   "name": "python",
   "nbconvert_exporter": "python",
   "pygments_lexer": "ipython3",
   "version": "3.7.0"
  },
  "latex_envs": {
   "LaTeX_envs_menu_present": true,
   "autoclose": false,
   "autocomplete": true,
   "bibliofile": "biblio.bib",
   "cite_by": "apalike",
   "current_citInitial": 1,
   "eqLabelWithNumbers": true,
   "eqNumInitial": 1,
   "hotkeys": {
    "equation": "Ctrl-E",
    "itemize": "Ctrl-I"
   },
   "labels_anchors": false,
   "latex_user_defs": false,
   "report_style_numbering": false,
   "user_envs_cfg": false
  }
 },
 "nbformat": 4,
 "nbformat_minor": 2
}
