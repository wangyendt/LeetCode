{
 "cells": [
  {
   "cell_type": "code",
   "execution_count": 1,
   "metadata": {
    "ExecuteTime": {
     "end_time": "2019-03-20T04:08:57.025073Z",
     "start_time": "2019-03-20T04:08:57.014042Z"
    }
   },
   "outputs": [],
   "source": [
    "class Solution:\n",
    "    def longestCommonPrefix(self, strs):\n",
    "        l = len(strs)\n",
    "        if l == 0:\n",
    "            return ''\n",
    "        if l == 1:\n",
    "            return strs[0]\n",
    "        for i in range(l // 2):\n",
    "            strs[i] = self.findCommonPrefixOfPairs(strs[2*i], strs[2*i+1])\n",
    "        if l % 2 == 1:\n",
    "            strs[l // 2] = strs[-1]\n",
    "            strs = strs[:l//2+1]\n",
    "        else:\n",
    "            strs = strs[:l//2]\n",
    "        return self.longestCommonPrefix(strs)\n",
    "            \n",
    "    def findCommonPrefixOfPairs(self, str1, str2):\n",
    "        retStr = ''\n",
    "        for i in range(min(len(str1),len(str2))):\n",
    "            if str1[i] == str2[i]:\n",
    "                retStr += str1[i]\n",
    "            else:\n",
    "                break\n",
    "        return retStr"
   ]
  },
  {
   "cell_type": "code",
   "execution_count": 2,
   "metadata": {
    "ExecuteTime": {
     "end_time": "2019-03-20T04:08:58.242291Z",
     "start_time": "2019-03-20T04:08:58.237276Z"
    }
   },
   "outputs": [
    {
     "name": "stdout",
     "output_type": "stream",
     "text": [
      "fl\n",
      "\n"
     ]
    }
   ],
   "source": [
    "so = Solution()\n",
    "print(so.longestCommonPrefix([\"flower\",\"flow\",\"flight\"]))\n",
    "print(so.longestCommonPrefix([]))\n",
    "# print(so.findCommonPrefixOfPairs('brain','bruce'))"
   ]
  }
 ],
 "metadata": {
  "kernelspec": {
   "display_name": "Python 3",
   "language": "python",
   "name": "python3"
  },
  "language_info": {
   "codemirror_mode": {
    "name": "ipython",
    "version": 3
   },
   "file_extension": ".py",
   "mimetype": "text/x-python",
   "name": "python",
   "nbconvert_exporter": "python",
   "pygments_lexer": "ipython3",
   "version": "3.7.0"
  },
  "latex_envs": {
   "LaTeX_envs_menu_present": true,
   "autoclose": false,
   "autocomplete": true,
   "bibliofile": "biblio.bib",
   "cite_by": "apalike",
   "current_citInitial": 1,
   "eqLabelWithNumbers": true,
   "eqNumInitial": 1,
   "hotkeys": {
    "equation": "Ctrl-E",
    "itemize": "Ctrl-I"
   },
   "labels_anchors": false,
   "latex_user_defs": false,
   "report_style_numbering": false,
   "user_envs_cfg": false
  }
 },
 "nbformat": 4,
 "nbformat_minor": 2
}
