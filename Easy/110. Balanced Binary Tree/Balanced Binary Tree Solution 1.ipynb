{
 "cells": [
  {
   "cell_type": "code",
   "execution_count": 3,
   "metadata": {
    "ExecuteTime": {
     "end_time": "2019-04-10T03:05:47.636264Z",
     "start_time": "2019-04-10T03:05:47.633272Z"
    }
   },
   "outputs": [],
   "source": [
    "# Definition for a binary tree node.\n",
    "class TreeNode:\n",
    "    def __init__(self, x):\n",
    "        self.val = x\n",
    "        self.left = None\n",
    "        self.right = None"
   ]
  },
  {
   "cell_type": "code",
   "execution_count": 64,
   "metadata": {
    "ExecuteTime": {
     "end_time": "2019-04-10T07:47:26.595159Z",
     "start_time": "2019-04-10T07:47:26.590173Z"
    }
   },
   "outputs": [],
   "source": [
    "class Solution:\n",
    "    def isBalanced(self, root: TreeNode) -> bool:\n",
    "        if root == None:\n",
    "            return True\n",
    "        return self.recursive(root)[1]\n",
    "        \n",
    "    # calculate the sum of numbers of subtrees of tree\n",
    "    def recursive(self, tree):\n",
    "        if not (tree.left or tree.right):\n",
    "            return 1, True\n",
    "        l, r = 0, 0\n",
    "        bl, br = True, True\n",
    "        if tree.left:\n",
    "            l, bl = self.recursive(tree.left)\n",
    "        if tree.right:\n",
    "            r, br = self.recursive(tree.right)\n",
    "        print(l,r)\n",
    "        return max(l,r)+1, bl and br and abs(l-r)<=1"
   ]
  },
  {
   "cell_type": "code",
   "execution_count": 65,
   "metadata": {
    "ExecuteTime": {
     "end_time": "2019-04-10T07:47:26.821582Z",
     "start_time": "2019-04-10T07:47:26.816568Z"
    }
   },
   "outputs": [],
   "source": [
    "def parseTreeNode(l):\n",
    "    if not l:\n",
    "        return None\n",
    "    tree = TreeNode(l[0])\n",
    "    leaves = [tree]\n",
    "    l.pop(0)\n",
    "    while l:\n",
    "        leavesTmp = []\n",
    "        for t in leaves:\n",
    "            if l[0] == 'null':\n",
    "                t.left = None\n",
    "            else:\n",
    "                t.left = TreeNode(l[0])\n",
    "                leavesTmp.append(t.left)\n",
    "            l.pop(0)\n",
    "            if l:\n",
    "                if l[0] == 'null':\n",
    "                    t.right = None\n",
    "                else:\n",
    "                    t.right = TreeNode(l[0])\n",
    "                    leavesTmp.append(t.right)\n",
    "                l.pop(0)\n",
    "            if not l:\n",
    "                break\n",
    "            leaves = leavesTmp\n",
    "    return tree        "
   ]
  },
  {
   "cell_type": "code",
   "execution_count": 66,
   "metadata": {
    "ExecuteTime": {
     "end_time": "2019-04-10T07:47:27.348501Z",
     "start_time": "2019-04-10T07:47:27.342517Z"
    }
   },
   "outputs": [
    {
     "name": "stdout",
     "output_type": "stream",
     "text": [
      "1 1\n",
      "1 2\n",
      "True True\n",
      "1 1\n",
      "2 1\n",
      "3 1\n",
      "False False\n",
      "0 1\n",
      "0 2\n",
      "False False\n",
      "1 0\n",
      "True True\n"
     ]
    }
   ],
   "source": [
    "so = Solution()\n",
    "l1 = [3,9,20,'null','null',15,7]\n",
    "l2 = [1,2,2,3,3,'null','null',4,4]\n",
    "l3 = [1,'null',2,'null',3]\n",
    "l4 = [1,2]\n",
    "t1 = parseTreeNode(l1)\n",
    "t2 = parseTreeNode(l2)\n",
    "t3 = parseTreeNode(l3)\n",
    "t4 = parseTreeNode(l4)\n",
    "print(so.isBalanced(t1), True)\n",
    "print(so.isBalanced(t2), False)\n",
    "print(so.isBalanced(t3), False)\n",
    "print(so.isBalanced(t4), True)"
   ]
  }
 ],
 "metadata": {
  "kernelspec": {
   "display_name": "Python 3",
   "language": "python",
   "name": "python3"
  },
  "language_info": {
   "codemirror_mode": {
    "name": "ipython",
    "version": 3
   },
   "file_extension": ".py",
   "mimetype": "text/x-python",
   "name": "python",
   "nbconvert_exporter": "python",
   "pygments_lexer": "ipython3",
   "version": "3.6.7"
  }
 },
 "nbformat": 4,
 "nbformat_minor": 2
}
