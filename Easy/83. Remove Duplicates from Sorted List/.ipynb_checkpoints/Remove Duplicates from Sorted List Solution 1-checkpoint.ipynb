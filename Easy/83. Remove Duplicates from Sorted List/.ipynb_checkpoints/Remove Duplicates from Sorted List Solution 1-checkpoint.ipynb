{
 "cells": [
  {
   "cell_type": "code",
   "execution_count": 6,
   "metadata": {
    "ExecuteTime": {
     "end_time": "2019-04-01T09:51:18.287288Z",
     "start_time": "2019-04-01T09:51:18.279300Z"
    }
   },
   "outputs": [],
   "source": [
    "# Definition for singly-linked list.\n",
    "class ListNode:\n",
    "    def __init__(self, x):\n",
    "        self.val = x\n",
    "        self.next = None\n",
    "\n",
    "class Solution:\n",
    "    def deleteDuplicates(self, head: ListNode) -> ListNode:\n",
    "        numList = []\n",
    "        while head != None:\n",
    "            numList.append(head.val)\n",
    "            head = head.next\n",
    "        lnList = []\n",
    "        check = None\n",
    "        ret = None\n",
    "        while len(numList) > 0:\n",
    "            if check != numList[-1]:\n",
    "                ret = ListNode(numList[-1])\n",
    "                ret.next = lnList[0] if len(lnList) > 0 else None\n",
    "                lnList.insert(0, ret)\n",
    "            check = numList[-1]\n",
    "            numList.pop()\n",
    "        return ret\n",
    "            \n",
    "    \n",
    "    def LN2Num(self, listNodeX):\n",
    "        num_x = 0\n",
    "        while listNodeX != None:\n",
    "            num_x = num_x * 10 + listNodeX.val\n",
    "            listNodeX = listNodeX.next\n",
    "        return num_x\n",
    "    \n",
    "    def Num2LN(self, val):\n",
    "        tmp = ListNode(val % 10)\n",
    "        lnList = []\n",
    "        while val != 0:\n",
    "            tmp = ListNode(val % 10)\n",
    "            tmp.next = lnList[0] if len(lnList) > 0 else None\n",
    "            lnList.insert(0, tmp)\n",
    "            val = val // 10\n",
    "        return tmp"
   ]
  },
  {
   "cell_type": "code",
   "execution_count": 7,
   "metadata": {
    "ExecuteTime": {
     "end_time": "2019-04-01T09:51:18.762445Z",
     "start_time": "2019-04-01T09:51:18.758456Z"
    }
   },
   "outputs": [
    {
     "name": "stdout",
     "output_type": "stream",
     "text": [
      "12 112\n"
     ]
    }
   ],
   "source": [
    "so = Solution()\n",
    "l = so.Num2LN(112)\n",
    "li = so.deleteDuplicates(l)\n",
    "print(so.LN2Num(li), so.LN2Num(l))\n",
    "# t = so.Num2LN(312412412)\n",
    "# print(t.val, t.next.val, t.next.next.val)"
   ]
  }
 ],
 "metadata": {
  "kernelspec": {
   "display_name": "Python 3",
   "language": "python",
   "name": "python3"
  },
  "language_info": {
   "codemirror_mode": {
    "name": "ipython",
    "version": 3
   },
   "file_extension": ".py",
   "mimetype": "text/x-python",
   "name": "python",
   "nbconvert_exporter": "python",
   "pygments_lexer": "ipython3",
   "version": "3.6.7"
  }
 },
 "nbformat": 4,
 "nbformat_minor": 2
}
