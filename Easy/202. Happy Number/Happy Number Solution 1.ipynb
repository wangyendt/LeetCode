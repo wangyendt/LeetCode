{
 "cells": [
  {
   "cell_type": "code",
   "execution_count": 4,
   "metadata": {
    "ExecuteTime": {
     "end_time": "2019-04-29T11:36:25.147086Z",
     "start_time": "2019-04-29T11:36:25.143097Z"
    }
   },
   "outputs": [],
   "source": [
    "class Solution:\n",
    "    def isHappy(self, n: int) -> bool:\n",
    "        rubbish = []\n",
    "        while n != 1:\n",
    "            if n in rubbish:\n",
    "                return False\n",
    "            rubbish.append(n)\n",
    "            m, s = n, 0\n",
    "            while m:\n",
    "                s += (m%10)**2\n",
    "                m //= 10\n",
    "            n = s\n",
    "        return True"
   ]
  },
  {
   "cell_type": "code",
   "execution_count": 5,
   "metadata": {
    "ExecuteTime": {
     "end_time": "2019-04-29T11:36:25.341565Z",
     "start_time": "2019-04-29T11:36:25.333587Z"
    }
   },
   "outputs": [
    {
     "name": "stdout",
     "output_type": "stream",
     "text": [
      "True True\n"
     ]
    }
   ],
   "source": [
    "so = Solution()\n",
    "print(so.isHappy(19), True)"
   ]
  }
 ],
 "metadata": {
  "kernelspec": {
   "display_name": "Python 3",
   "language": "python",
   "name": "python3"
  },
  "language_info": {
   "codemirror_mode": {
    "name": "ipython",
    "version": 3
   },
   "file_extension": ".py",
   "mimetype": "text/x-python",
   "name": "python",
   "nbconvert_exporter": "python",
   "pygments_lexer": "ipython3",
   "version": "3.6.7"
  }
 },
 "nbformat": 4,
 "nbformat_minor": 2
}
