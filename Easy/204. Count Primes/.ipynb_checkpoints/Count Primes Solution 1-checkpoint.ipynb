{
 "cells": [
  {
   "cell_type": "code",
   "execution_count": 57,
   "metadata": {
    "ExecuteTime": {
     "end_time": "2019-05-07T02:39:40.373038Z",
     "start_time": "2019-05-07T02:39:40.368026Z"
    }
   },
   "outputs": [],
   "source": [
    "class Solution:\n",
    "    def countPrimes(self, n: int) -> int:\n",
    "        if n <= 2:\n",
    "            return 0\n",
    "        \n",
    "        allPrimes = []\n",
    "        def isPrime(m):\n",
    "            p = allPrimes[-1]+1 if allPrimes else 2\n",
    "            while p * p <= m:\n",
    "                if not m % p:\n",
    "                    return False\n",
    "                p += 1\n",
    "            return True\n",
    "        \n",
    "        i = 2\n",
    "        while i * i <= n:\n",
    "#             print(allPrimes)\n",
    "            for j in allPrimes:\n",
    "                if not i % j:\n",
    "                    break\n",
    "            else:\n",
    "                if isPrime(i):\n",
    "                    allPrimes.append(i)\n",
    "            i += 1\n",
    "        \n",
    "        nonPrimes = set()\n",
    "        for p in allPrimes:\n",
    "            for i in range(2, n//p+1):\n",
    "                if not p*i == n:\n",
    "                    nonPrimes.add(p*i)\n",
    "#         print(nonPrimes, len(nonPrimes))\n",
    "        return n-2-len(nonPrimes)"
   ]
  },
  {
   "cell_type": "code",
   "execution_count": 59,
   "metadata": {
    "ExecuteTime": {
     "end_time": "2019-05-07T02:39:49.933032Z",
     "start_time": "2019-05-07T02:39:49.927018Z"
    }
   },
   "outputs": [
    {
     "name": "stdout",
     "output_type": "stream",
     "text": [
      "set() 0\n",
      "0 0\n",
      "set() 0\n",
      "1 1\n",
      "set() 0\n",
      "2 2\n",
      "{4} 1\n",
      "2 2\n",
      "{4} 1\n",
      "3 3\n",
      "{4, 6} 2\n",
      "3 3\n",
      "{8, 4, 6} 3\n",
      "4 4\n",
      "{8, 9, 4, 6} 4\n",
      "4 4\n",
      "{4, 6, 8, 9, 10, 12, 14, 15, 16, 18, 20, 21, 22, 24, 25, 26, 27, 28, 30, 32, 33, 34, 35, 36, 38, 39, 40, 42, 44, 45, 46, 48, 49, 50, 51, 52, 54, 55, 56, 57, 58, 60, 62, 63, 64, 65, 66, 68, 69, 70, 72, 74, 75, 76, 77, 78, 80, 81, 82, 84, 85, 86, 87, 88, 90, 91, 92, 93, 94, 95, 96, 98, 99} 73\n",
      "25 25\n"
     ]
    }
   ],
   "source": [
    "so = Solution()\n",
    "print(so.countPrimes(2), 0)\n",
    "print(so.countPrimes(3), 1)\n",
    "print(so.countPrimes(4), 2)\n",
    "print(so.countPrimes(5), 2)\n",
    "print(so.countPrimes(6), 3)\n",
    "print(so.countPrimes(7), 3)\n",
    "print(so.countPrimes(9), 4)\n",
    "print(so.countPrimes(10), 4)\n",
    "print(so.countPrimes(100), 25)\n",
    "# print(so.countPrimes(1000))\n",
    "# print(so.countPrimes(499979))"
   ]
  }
 ],
 "metadata": {
  "kernelspec": {
   "display_name": "Python 3",
   "language": "python",
   "name": "python3"
  },
  "language_info": {
   "codemirror_mode": {
    "name": "ipython",
    "version": 3
   },
   "file_extension": ".py",
   "mimetype": "text/x-python",
   "name": "python",
   "nbconvert_exporter": "python",
   "pygments_lexer": "ipython3",
   "version": "3.7.0"
  },
  "latex_envs": {
   "LaTeX_envs_menu_present": true,
   "autoclose": false,
   "autocomplete": true,
   "bibliofile": "biblio.bib",
   "cite_by": "apalike",
   "current_citInitial": 1,
   "eqLabelWithNumbers": true,
   "eqNumInitial": 1,
   "hotkeys": {
    "equation": "Ctrl-E",
    "itemize": "Ctrl-I"
   },
   "labels_anchors": false,
   "latex_user_defs": false,
   "report_style_numbering": false,
   "user_envs_cfg": false
  },
  "varInspector": {
   "cols": {
    "lenName": 16,
    "lenType": 16,
    "lenVar": 40
   },
   "kernels_config": {
    "python": {
     "delete_cmd_postfix": "",
     "delete_cmd_prefix": "del ",
     "library": "var_list.py",
     "varRefreshCmd": "print(var_dic_list())"
    },
    "r": {
     "delete_cmd_postfix": ") ",
     "delete_cmd_prefix": "rm(",
     "library": "var_list.r",
     "varRefreshCmd": "cat(var_dic_list()) "
    }
   },
   "types_to_exclude": [
    "module",
    "function",
    "builtin_function_or_method",
    "instance",
    "_Feature"
   ],
   "window_display": false
  }
 },
 "nbformat": 4,
 "nbformat_minor": 2
}
