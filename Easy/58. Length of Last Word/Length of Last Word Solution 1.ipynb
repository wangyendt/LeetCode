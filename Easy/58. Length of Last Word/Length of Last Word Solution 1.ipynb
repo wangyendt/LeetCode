{
 "cells": [
  {
   "cell_type": "code",
   "execution_count": 20,
   "metadata": {
    "ExecuteTime": {
     "end_time": "2019-03-26T09:56:08.527494Z",
     "start_time": "2019-03-26T09:56:08.523474Z"
    }
   },
   "outputs": [],
   "source": [
    "class Solution:\n",
    "    def lengthOfLastWord(self, s: str) -> int:\n",
    "        s = s.rstrip()\n",
    "        if s == '':\n",
    "            return 0\n",
    "        ret = 0\n",
    "        while ret < len(s):\n",
    "            if s[-1 - ret] == ' ':\n",
    "                return ret\n",
    "            ret += 1\n",
    "        return len(s)"
   ]
  },
  {
   "cell_type": "code",
   "execution_count": 21,
   "metadata": {
    "ExecuteTime": {
     "end_time": "2019-03-26T09:56:08.765790Z",
     "start_time": "2019-03-26T09:56:08.763793Z"
    }
   },
   "outputs": [
    {
     "name": "stdout",
     "output_type": "stream",
     "text": [
      "1\n"
     ]
    }
   ],
   "source": [
    "so = Solution()\n",
    "print(so.lengthOfLastWord('a '))"
   ]
  }
 ],
 "metadata": {
  "kernelspec": {
   "display_name": "Python 3",
   "language": "python",
   "name": "python3"
  },
  "language_info": {
   "codemirror_mode": {
    "name": "ipython",
    "version": 3
   },
   "file_extension": ".py",
   "mimetype": "text/x-python",
   "name": "python",
   "nbconvert_exporter": "python",
   "pygments_lexer": "ipython3",
   "version": "3.6.7"
  }
 },
 "nbformat": 4,
 "nbformat_minor": 2
}
