{
 "cells": [
  {
   "cell_type": "code",
   "execution_count": 26,
   "metadata": {
    "ExecuteTime": {
     "end_time": "2019-04-29T10:38:53.404044Z",
     "start_time": "2019-04-29T10:38:53.400029Z"
    }
   },
   "outputs": [],
   "source": [
    "class Solution:\n",
    "    def rotate(self, nums: list, k: int) -> None:\n",
    "        \"\"\"\n",
    "        Do not return anything, modify nums in-place instead.\n",
    "        \"\"\"\n",
    "        k = k % len(nums)\n",
    "        def reverse(p, q):\n",
    "            for i in range(p, (p+q)//2+1):\n",
    "                nums[i], nums[p+q-i] = nums[p+q-i], nums[i]\n",
    "        reverse(0, len(nums)-k-1)\n",
    "        reverse(len(nums)-k, len(nums)-1)\n",
    "        reverse(0, len(nums)-1)"
   ]
  },
  {
   "cell_type": "code",
   "execution_count": 27,
   "metadata": {
    "ExecuteTime": {
     "end_time": "2019-04-29T10:38:53.594508Z",
     "start_time": "2019-04-29T10:38:53.591516Z"
    }
   },
   "outputs": [
    {
     "name": "stdout",
     "output_type": "stream",
     "text": [
      "[1, 2, 3, 4, 5, 6]\n",
      "[5, 6, 1, 2, 3, 4]\n"
     ]
    }
   ],
   "source": [
    "so = Solution()\n",
    "l = [1,2,3,4,5,6]\n",
    "print(l)\n",
    "so.rotate(l, 2)\n",
    "print(l)"
   ]
  }
 ],
 "metadata": {
  "kernelspec": {
   "display_name": "Python 3",
   "language": "python",
   "name": "python3"
  },
  "language_info": {
   "codemirror_mode": {
    "name": "ipython",
    "version": 3
   },
   "file_extension": ".py",
   "mimetype": "text/x-python",
   "name": "python",
   "nbconvert_exporter": "python",
   "pygments_lexer": "ipython3",
   "version": "3.6.7"
  }
 },
 "nbformat": 4,
 "nbformat_minor": 2
}
