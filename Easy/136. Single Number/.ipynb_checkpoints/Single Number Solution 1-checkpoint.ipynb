{
 "cells": [
  {
   "cell_type": "code",
   "execution_count": 23,
   "metadata": {
    "ExecuteTime": {
     "end_time": "2019-04-17T06:49:25.402101Z",
     "start_time": "2019-04-17T06:49:25.398107Z"
    }
   },
   "outputs": [],
   "source": [
    "class Solution:\n",
    "    def singleNumber(self, nums: list) -> int:\n",
    "        ret = 0\n",
    "        for n in nums:\n",
    "            ret ^= n\n",
    "        return ret"
   ]
  },
  {
   "cell_type": "code",
   "execution_count": 24,
   "metadata": {
    "ExecuteTime": {
     "end_time": "2019-04-17T06:49:25.575634Z",
     "start_time": "2019-04-17T06:49:25.572640Z"
    }
   },
   "outputs": [
    {
     "name": "stdout",
     "output_type": "stream",
     "text": [
      "1 1\n",
      "4 4\n"
     ]
    }
   ],
   "source": [
    "so = Solution()\n",
    "print(so.singleNumber([2,2,1]), 1)\n",
    "print(so.singleNumber([4,1,2,1,2]), 4)"
   ]
  }
 ],
 "metadata": {
  "kernelspec": {
   "display_name": "Python 3",
   "language": "python",
   "name": "python3"
  },
  "language_info": {
   "codemirror_mode": {
    "name": "ipython",
    "version": 3
   },
   "file_extension": ".py",
   "mimetype": "text/x-python",
   "name": "python",
   "nbconvert_exporter": "python",
   "pygments_lexer": "ipython3",
   "version": "3.6.7"
  }
 },
 "nbformat": 4,
 "nbformat_minor": 2
}
