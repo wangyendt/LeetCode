{
 "cells": [
  {
   "cell_type": "code",
   "execution_count": 15,
   "metadata": {
    "ExecuteTime": {
     "end_time": "2019-04-29T11:11:50.218279Z",
     "start_time": "2019-04-29T11:11:50.215252Z"
    }
   },
   "outputs": [],
   "source": [
    "class Solution:\n",
    "    # @param n, an integer\n",
    "    # @return an integer\n",
    "    def reverseBits(self, n):\n",
    "        bitList = []\n",
    "        while n:\n",
    "            bitList.append(n & 1)\n",
    "            n >>= 1\n",
    "        bitList.extend([0]*(32-len(bitList)))\n",
    "        ret = 0\n",
    "        for b in bitList:\n",
    "            ret <<= 1\n",
    "            ret |= b\n",
    "        return ret"
   ]
  },
  {
   "cell_type": "code",
   "execution_count": 18,
   "metadata": {
    "ExecuteTime": {
     "end_time": "2019-04-29T11:12:18.469102Z",
     "start_time": "2019-04-29T11:12:18.457134Z"
    }
   },
   "outputs": [
    {
     "name": "stdout",
     "output_type": "stream",
     "text": [
      "964176192 964176192\n",
      "43261596 43261596\n",
      "3221225471 3221225471\n",
      "4294967293 4294967293\n"
     ]
    }
   ],
   "source": [
    "so = Solution()\n",
    "print(so.reverseBits(43261596),964176192)\n",
    "print(so.reverseBits(964176192),43261596)\n",
    "print(so.reverseBits(4294967293),3221225471)\n",
    "print(so.reverseBits(3221225471),4294967293)\n",
    "for _ in range(1000):\n",
    "    so.reverseBits(3221225471)"
   ]
  }
 ],
 "metadata": {
  "kernelspec": {
   "display_name": "Python 3",
   "language": "python",
   "name": "python3"
  },
  "language_info": {
   "codemirror_mode": {
    "name": "ipython",
    "version": 3
   },
   "file_extension": ".py",
   "mimetype": "text/x-python",
   "name": "python",
   "nbconvert_exporter": "python",
   "pygments_lexer": "ipython3",
   "version": "3.6.7"
  }
 },
 "nbformat": 4,
 "nbformat_minor": 2
}
