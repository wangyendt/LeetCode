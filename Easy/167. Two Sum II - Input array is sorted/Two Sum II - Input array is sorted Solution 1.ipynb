{
 "cells": [
  {
   "cell_type": "code",
   "execution_count": 3,
   "metadata": {
    "ExecuteTime": {
     "end_time": "2019-04-17T09:54:38.280097Z",
     "start_time": "2019-04-17T09:54:38.276106Z"
    }
   },
   "outputs": [],
   "source": [
    "class Solution:\n",
    "    def twoSum(self, numbers: list, target: int) -> list:\n",
    "        l, r = 0, len(numbers)-1\n",
    "        while l < r:\n",
    "            s = numbers[l] + numbers[r]\n",
    "            if s == target:\n",
    "                return [l+1, r+1]\n",
    "            elif s < target:\n",
    "                l += 1\n",
    "            else:\n",
    "                r -= 1"
   ]
  },
  {
   "cell_type": "code",
   "execution_count": 4,
   "metadata": {
    "ExecuteTime": {
     "end_time": "2019-04-17T09:54:38.599242Z",
     "start_time": "2019-04-17T09:54:38.595253Z"
    }
   },
   "outputs": [
    {
     "name": "stdout",
     "output_type": "stream",
     "text": [
      "[1, 2] [1, 2]\n",
      "[2, 5] [2, 5]\n"
     ]
    }
   ],
   "source": [
    "so = Solution()\n",
    "print(so.twoSum([2,7,11,15],9),[1,2])\n",
    "print(so.twoSum([0,1,2,7,11,15],12),[2,5])"
   ]
  }
 ],
 "metadata": {
  "kernelspec": {
   "display_name": "Python 3",
   "language": "python",
   "name": "python3"
  },
  "language_info": {
   "codemirror_mode": {
    "name": "ipython",
    "version": 3
   },
   "file_extension": ".py",
   "mimetype": "text/x-python",
   "name": "python",
   "nbconvert_exporter": "python",
   "pygments_lexer": "ipython3",
   "version": "3.6.7"
  }
 },
 "nbformat": 4,
 "nbformat_minor": 2
}
