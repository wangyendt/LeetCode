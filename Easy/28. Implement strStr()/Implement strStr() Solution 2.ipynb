{
 "cells": [
  {
   "cell_type": "code",
   "execution_count": 57,
   "metadata": {
    "ExecuteTime": {
     "end_time": "2019-03-26T08:26:58.931090Z",
     "start_time": "2019-03-26T08:26:58.924071Z"
    }
   },
   "outputs": [],
   "source": [
    "class Solution:\n",
    "    def kmp(self, s, p):\n",
    "        pnext = self.genNext(p)\n",
    "        n = len(s)\n",
    "        m = len(p)\n",
    "        i, j = 0, 0\n",
    "        while (i<n) and (j<m):\n",
    "            if (s[i]==p[j]):\n",
    "                i += 1\n",
    "                j += 1\n",
    "            elif (j!=0):\n",
    "                j = pnext[j-1]\n",
    "            else:\n",
    "                i += 1\n",
    "        if (j == m):\n",
    "            return i-j\n",
    "        else:\n",
    "            return -1\n",
    "\n",
    "\n",
    "    def genNext(self, p):\n",
    "        k, m = 0, len(p)\n",
    "        pnext = [0]*m\n",
    "        i = 1\n",
    "        while i < m:\n",
    "            if (p[i] == p[k]):\n",
    "                pnext[i] = k + 1\n",
    "                k += 1\n",
    "                i += 1\n",
    "            elif (k!=0):\n",
    "                k = pnext[k-1]\n",
    "            else:\n",
    "                pnext[i] = 0\n",
    "                i += 1\n",
    "        return pnext\n",
    "    \n",
    "    def strStr(self, haystack: str, needle: str) -> int:\n",
    "        return self.kmp(haystack, needle)"
   ]
  },
  {
   "cell_type": "code",
   "execution_count": 58,
   "metadata": {
    "ExecuteTime": {
     "end_time": "2019-03-26T08:26:59.247204Z",
     "start_time": "2019-03-26T08:26:59.244184Z"
    }
   },
   "outputs": [
    {
     "name": "stdout",
     "output_type": "stream",
     "text": [
      "2\n",
      "4\n"
     ]
    }
   ],
   "source": [
    "so = Solution()\n",
    "print(so.strStr('hello', 'll'))\n",
    "print(so.strStr(\"aabaaabaaac\", \"aabaaac\"))"
   ]
  }
 ],
 "metadata": {
  "kernelspec": {
   "display_name": "Python 3",
   "language": "python",
   "name": "python3"
  },
  "language_info": {
   "codemirror_mode": {
    "name": "ipython",
    "version": 3
   },
   "file_extension": ".py",
   "mimetype": "text/x-python",
   "name": "python",
   "nbconvert_exporter": "python",
   "pygments_lexer": "ipython3",
   "version": "3.6.7"
  }
 },
 "nbformat": 4,
 "nbformat_minor": 2
}
