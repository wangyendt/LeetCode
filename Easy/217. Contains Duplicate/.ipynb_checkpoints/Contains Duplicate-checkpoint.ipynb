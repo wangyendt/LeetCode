{
 "cells": [
  {
   "cell_type": "code",
   "execution_count": 6,
   "metadata": {
    "ExecuteTime": {
     "end_time": "2019-05-14T10:02:34.566718Z",
     "start_time": "2019-05-14T10:02:34.562706Z"
    }
   },
   "outputs": [],
   "source": [
    "class Solution:\n",
    "    def containsDuplicate(self, nums: list) -> bool:\n",
    "        dic = {}\n",
    "        for n in nums:\n",
    "            dn = dic.get(n)\n",
    "            if not dn:\n",
    "                dic[n] = 1\n",
    "            else:\n",
    "                return True\n",
    "        return False\n",
    "    \n",
    "    def containsDuplicate2(self, nums: list) -> bool:\n",
    "        return len(set(nums)) < len(nums)    "
   ]
  },
  {
   "cell_type": "code",
   "execution_count": 8,
   "metadata": {
    "ExecuteTime": {
     "end_time": "2019-05-14T10:02:37.826172Z",
     "start_time": "2019-05-14T10:02:37.665650Z"
    }
   },
   "outputs": [],
   "source": [
    "so = Solution()\n",
    "for _ in range(1000):\n",
    "    so.containsDuplicate(range(1000))"
   ]
  },
  {
   "cell_type": "code",
   "execution_count": 9,
   "metadata": {
    "ExecuteTime": {
     "end_time": "2019-05-14T10:02:37.914402Z",
     "start_time": "2019-05-14T10:02:37.873204Z"
    }
   },
   "outputs": [],
   "source": [
    "so = Solution()\n",
    "for _ in range(1000):\n",
    "    so.containsDuplicate2(range(1000))"
   ]
  },
  {
   "cell_type": "code",
   "execution_count": null,
   "metadata": {
    "ExecuteTime": {
     "end_time": "2019-05-14T09:51:49.190536Z",
     "start_time": "2019-05-14T09:51:49.186526Z"
    }
   },
   "outputs": [],
   "source": [
    "so = Solution()\n",
    "print(so.containsDuplicate([1,2,3,1]), True)\n",
    "print(so.containsDuplicate([1,2,3,4]), False)\n",
    "print(so.containsDuplicate([1,1,1,3,3,4,3,2,4,2]), True)"
   ]
  }
 ],
 "metadata": {
  "kernelspec": {
   "display_name": "Python 3",
   "language": "python",
   "name": "python3"
  },
  "language_info": {
   "codemirror_mode": {
    "name": "ipython",
    "version": 3
   },
   "file_extension": ".py",
   "mimetype": "text/x-python",
   "name": "python",
   "nbconvert_exporter": "python",
   "pygments_lexer": "ipython3",
   "version": "3.7.0"
  },
  "latex_envs": {
   "LaTeX_envs_menu_present": true,
   "autoclose": false,
   "autocomplete": true,
   "bibliofile": "biblio.bib",
   "cite_by": "apalike",
   "current_citInitial": 1,
   "eqLabelWithNumbers": true,
   "eqNumInitial": 1,
   "hotkeys": {
    "equation": "Ctrl-E",
    "itemize": "Ctrl-I"
   },
   "labels_anchors": false,
   "latex_user_defs": false,
   "report_style_numbering": false,
   "user_envs_cfg": false
  }
 },
 "nbformat": 4,
 "nbformat_minor": 2
}
