{
 "cells": [
  {
   "cell_type": "code",
   "execution_count": 14,
   "metadata": {
    "ExecuteTime": {
     "end_time": "2019-04-01T06:30:07.750123Z",
     "start_time": "2019-04-01T06:30:07.745110Z"
    }
   },
   "outputs": [],
   "source": [
    "class Solution:\n",
    "    def addBinary(self, a: str, b: str) -> str:\n",
    "        cnt = 0\n",
    "        ret = ''\n",
    "        carry = 0\n",
    "        while cnt <= max(len(a), len(b))-1:\n",
    "            tmp = (int(a[-1-cnt]) if cnt < len(a) else 0) + (int(b[-1-cnt]) if cnt < len(b) else 0) + carry\n",
    "            carry = tmp // 2\n",
    "            ret = str(tmp % 2) + ret\n",
    "            cnt += 1\n",
    "        if carry == 1:\n",
    "            ret = '1' + ret\n",
    "        return ret"
   ]
  },
  {
   "cell_type": "code",
   "execution_count": 15,
   "metadata": {
    "ExecuteTime": {
     "end_time": "2019-04-01T06:30:08.149049Z",
     "start_time": "2019-04-01T06:30:08.145060Z"
    }
   },
   "outputs": [
    {
     "name": "stdout",
     "output_type": "stream",
     "text": [
      "100\n"
     ]
    }
   ],
   "source": [
    "so = Solution()\n",
    "print(so.addBinary('11', '1'))"
   ]
  }
 ],
 "metadata": {
  "kernelspec": {
   "display_name": "Python 3",
   "language": "python",
   "name": "python3"
  },
  "language_info": {
   "codemirror_mode": {
    "name": "ipython",
    "version": 3
   },
   "file_extension": ".py",
   "mimetype": "text/x-python",
   "name": "python",
   "nbconvert_exporter": "python",
   "pygments_lexer": "ipython3",
   "version": "3.6.7"
  }
 },
 "nbformat": 4,
 "nbformat_minor": 2
}
