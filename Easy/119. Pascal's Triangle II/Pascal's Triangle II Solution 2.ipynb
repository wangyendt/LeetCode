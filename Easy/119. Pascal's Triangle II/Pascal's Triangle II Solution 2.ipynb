{
 "cells": [
  {
   "cell_type": "code",
   "execution_count": 26,
   "metadata": {
    "ExecuteTime": {
     "end_time": "2019-04-10T08:47:19.723111Z",
     "start_time": "2019-04-10T08:47:19.719092Z"
    },
    "code_folding": [
     18,
     21
    ]
   },
   "outputs": [],
   "source": [
    "class Solution:\n",
    "    def getRow(self, rowIndex: int) -> list():\n",
    "        ret = []\n",
    "        for i in range(rowIndex//2+1):\n",
    "            ret.append(self.nChooseK(rowIndex, i))\n",
    "        ret.extend(ret[::-1] if rowIndex % 2 == 1 else ret[-2::-1])\n",
    "        return ret\n",
    "    \n",
    "    def nChooseK(self, n, k):\n",
    "        return self.factorial_(n) // (self.factorial_(n-k) * self.factorial_(k))\n",
    "    \n",
    "    def factorial_(self, n):\n",
    "        result = 1\n",
    "        for i in range(2,n+1):\n",
    "            result *= i\n",
    "        return result"
   ]
  },
  {
   "cell_type": "code",
   "execution_count": 28,
   "metadata": {
    "ExecuteTime": {
     "end_time": "2019-04-10T08:47:29.635781Z",
     "start_time": "2019-04-10T08:47:29.631765Z"
    }
   },
   "outputs": [
    {
     "name": "stdout",
     "output_type": "stream",
     "text": [
      "[1, 33, 528, 5456, 40920, 237336, 1107568, 4272048, 13884156, 38567100, 92561040, 193536720, 354817320, 573166440, 818809200, 1037158320, 1166803110, 1166803110, 1037158320, 818809200, 573166440, 354817320, 193536720, 92561040, 38567100, 13884156, 4272048, 1107568, 237336, 40920, 5456, 528, 33, 1]\n"
     ]
    }
   ],
   "source": [
    "so = Solution()\n",
    "# for i in range(7):\n",
    "#     print(so.getRow(i))\n",
    "print(so.getRow(33))"
   ]
  }
 ],
 "metadata": {
  "kernelspec": {
   "display_name": "Python 3",
   "language": "python",
   "name": "python3"
  },
  "language_info": {
   "codemirror_mode": {
    "name": "ipython",
    "version": 3
   },
   "file_extension": ".py",
   "mimetype": "text/x-python",
   "name": "python",
   "nbconvert_exporter": "python",
   "pygments_lexer": "ipython3",
   "version": "3.6.7"
  }
 },
 "nbformat": 4,
 "nbformat_minor": 2
}
