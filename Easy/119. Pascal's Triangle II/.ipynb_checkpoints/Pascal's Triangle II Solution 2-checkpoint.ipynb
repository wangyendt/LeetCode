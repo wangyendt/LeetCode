{
 "cells": [
  {
   "cell_type": "code",
   "execution_count": 11,
   "metadata": {
    "ExecuteTime": {
     "end_time": "2019-04-10T08:45:39.696984Z",
     "start_time": "2019-04-10T08:45:39.691001Z"
    },
    "code_folding": [
     18,
     21
    ]
   },
   "outputs": [],
   "source": [
    "class Solution:\n",
    "    def getRow(self, rowIndex: int) -> list():\n",
    "        ret = []\n",
    "        for i in range(rowIndex//2+1):\n",
    "            ret.append(self.nChooseK(rowIndex, i))\n",
    "        ret.extend(ret[::-1] if rowIndex % 2 == 1 else ret[-1::-1])\n",
    "        return ret\n",
    "    \n",
    "    def nChooseK(self, n, k):\n",
    "        return self.factorial_(n) // (self.factorial_(n-k) * self.factorial_(k))\n",
    "    \n",
    "    def factorial_(self, n):\n",
    "        result = 1\n",
    "        for i in range(2,n+1):\n",
    "            result *= i\n",
    "        return result"
   ]
  },
  {
   "cell_type": "code",
   "execution_count": 13,
   "metadata": {
    "ExecuteTime": {
     "end_time": "2019-04-10T08:45:59.400697Z",
     "start_time": "2019-04-10T08:45:59.396708Z"
    }
   },
   "outputs": [
    {
     "name": "stdout",
     "output_type": "stream",
     "text": [
      "[1, 1]\n",
      "[1, 1]\n",
      "[1, 2, 2, 1]\n",
      "[1, 3, 3, 1]\n"
     ]
    }
   ],
   "source": [
    "so = Solution()\n",
    "for i in range(4):\n",
    "    print(so.getRow(i))"
   ]
  },
  {
   "cell_type": "code",
   "execution_count": null,
   "metadata": {},
   "outputs": [],
   "source": []
  }
 ],
 "metadata": {
  "kernelspec": {
   "display_name": "Python 3",
   "language": "python",
   "name": "python3"
  },
  "language_info": {
   "codemirror_mode": {
    "name": "ipython",
    "version": 3
   },
   "file_extension": ".py",
   "mimetype": "text/x-python",
   "name": "python",
   "nbconvert_exporter": "python",
   "pygments_lexer": "ipython3",
   "version": "3.6.7"
  }
 },
 "nbformat": 4,
 "nbformat_minor": 2
}
