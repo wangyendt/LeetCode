{
 "cells": [
  {
   "cell_type": "code",
   "execution_count": 10,
   "metadata": {
    "ExecuteTime": {
     "end_time": "2019-04-10T08:41:15.561083Z",
     "start_time": "2019-04-10T08:41:15.556122Z"
    }
   },
   "outputs": [],
   "source": [
    "class Solution:\n",
    "    def getRow(self, rowIndex: int) -> list():\n",
    "        if rowIndex == 0:\n",
    "            return [1]\n",
    "        if rowIndex == 1:\n",
    "            return [1, 1]\n",
    "        ret = [[] for _ in range(2)]\n",
    "        for i in range(rowIndex+1):\n",
    "            ret[0] = ret[1]\n",
    "            ret[1] = []\n",
    "            ret[1].append(1)\n",
    "            if i == 0:\n",
    "                continue\n",
    "            for j in range(i-1):\n",
    "                ret[1].append(ret[0][j]+ret[0][j+1])\n",
    "            ret[1].append(1)\n",
    "        return ret[1]"
   ]
  },
  {
   "cell_type": "code",
   "execution_count": 11,
   "metadata": {
    "ExecuteTime": {
     "end_time": "2019-04-10T08:41:16.952502Z",
     "start_time": "2019-04-10T08:41:16.948512Z"
    }
   },
   "outputs": [
    {
     "name": "stdout",
     "output_type": "stream",
     "text": [
      "[1, 3, 3, 1]\n"
     ]
    }
   ],
   "source": [
    "so = Solution()\n",
    "print(so.getRow(3))"
   ]
  }
 ],
 "metadata": {
  "kernelspec": {
   "display_name": "Python 3",
   "language": "python",
   "name": "python3"
  },
  "language_info": {
   "codemirror_mode": {
    "name": "ipython",
    "version": 3
   },
   "file_extension": ".py",
   "mimetype": "text/x-python",
   "name": "python",
   "nbconvert_exporter": "python",
   "pygments_lexer": "ipython3",
   "version": "3.6.7"
  }
 },
 "nbformat": 4,
 "nbformat_minor": 2
}
