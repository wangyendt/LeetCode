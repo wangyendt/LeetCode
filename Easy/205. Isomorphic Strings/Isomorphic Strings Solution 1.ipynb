{
 "cells": [
  {
   "cell_type": "code",
   "execution_count": 2,
   "metadata": {
    "ExecuteTime": {
     "end_time": "2019-05-16T01:04:59.009022Z",
     "start_time": "2019-05-16T01:04:59.001004Z"
    }
   },
   "outputs": [],
   "source": [
    "class Solution:\n",
    "    def isIsomorphic(self, s: str, t: str) -> bool:\n",
    "        # Strings cannot be isomorphic if they differ in length\n",
    "        if len(s) != len(t):\n",
    "            return False\n",
    "        \n",
    "        # Initialize two hashmaps for each character set\n",
    "        chars_s = {}\n",
    "        chars_t = {}\n",
    "        \n",
    "        # Iterate through every character in the string\n",
    "        for idx in range(0, len(s)):\n",
    "            \n",
    "            # Grab the characters from the string indexes\n",
    "            s_char = s[idx]\n",
    "            t_char = t[idx]\n",
    "            \n",
    "            # If s_char hasn't been seen, create mapping s_char => t_char\n",
    "            if not s_char in chars_s:\n",
    "                chars_s[s_char] = t_char\n",
    "            else:\n",
    "                # If s_char has been seen, and doesn't map to t_char => not isomorphic\n",
    "                if (chars_s[s_char] != t_char):\n",
    "                    return False\n",
    "            \n",
    "            # If t_char hasn't been seen, create mapping t_char => s_char\n",
    "            if not t_char in chars_t:\n",
    "                chars_t[t_char] = s_char\n",
    "            else:\n",
    "                # If t_char has been seen and doesn't map to s_char => not isomorphic\n",
    "                if (chars_t[t_char] != s_char):\n",
    "                    return False\n",
    "        \n",
    "        # If hasn't failed => is isomorphic\n",
    "        return True"
   ]
  },
  {
   "cell_type": "code",
   "execution_count": 3,
   "metadata": {
    "ExecuteTime": {
     "end_time": "2019-05-16T01:04:59.849091Z",
     "start_time": "2019-05-16T01:04:59.844077Z"
    }
   },
   "outputs": [
    {
     "name": "stdout",
     "output_type": "stream",
     "text": [
      "True True\n",
      "False False\n",
      "True True\n",
      "False False\n"
     ]
    }
   ],
   "source": [
    "so = Solution()\n",
    "print(so.isIsomorphic('egg', 'add'), True)\n",
    "print(so.isIsomorphic('foo', 'bar'), False)\n",
    "print(so.isIsomorphic('paper', 'title'), True)\n",
    "print(so.isIsomorphic(\"acdb\",\"adda\"), False)"
   ]
  }
 ],
 "metadata": {
  "kernelspec": {
   "display_name": "Python 3",
   "language": "python",
   "name": "python3"
  },
  "language_info": {
   "codemirror_mode": {
    "name": "ipython",
    "version": 3
   },
   "file_extension": ".py",
   "mimetype": "text/x-python",
   "name": "python",
   "nbconvert_exporter": "python",
   "pygments_lexer": "ipython3",
   "version": "3.7.0"
  },
  "latex_envs": {
   "LaTeX_envs_menu_present": true,
   "autoclose": false,
   "autocomplete": true,
   "bibliofile": "biblio.bib",
   "cite_by": "apalike",
   "current_citInitial": 1,
   "eqLabelWithNumbers": true,
   "eqNumInitial": 1,
   "hotkeys": {
    "equation": "Ctrl-E",
    "itemize": "Ctrl-I"
   },
   "labels_anchors": false,
   "latex_user_defs": false,
   "report_style_numbering": false,
   "user_envs_cfg": false
  }
 },
 "nbformat": 4,
 "nbformat_minor": 2
}
