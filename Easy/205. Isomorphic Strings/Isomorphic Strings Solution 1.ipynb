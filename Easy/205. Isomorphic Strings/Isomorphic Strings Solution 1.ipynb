{
 "cells": [
  {
   "cell_type": "code",
   "execution_count": 5,
   "metadata": {
    "ExecuteTime": {
     "end_time": "2019-05-15T11:01:08.368914Z",
     "start_time": "2019-05-15T11:01:08.363902Z"
    }
   },
   "outputs": [],
   "source": [
    "class Solution:\n",
    "    def isIsomorphic(self, s: str, t: str) -> bool:\n",
    "        transDict = {}\n",
    "        for i in range(len(s)):\n",
    "            if s[i] != t[i]:\n",
    "                s_ = transDict.get(s[i])\n",
    "                if not s_:\n",
    "                    transDict[s[i]] = t[i]\n",
    "                else:\n",
    "                    if s_ != t[i]:\n",
    "                        return False\n",
    "        return True and len(set(s)) == len(set(t))"
   ]
  },
  {
   "cell_type": "code",
   "execution_count": 6,
   "metadata": {
    "ExecuteTime": {
     "end_time": "2019-05-15T11:01:08.633946Z",
     "start_time": "2019-05-15T11:01:08.627931Z"
    }
   },
   "outputs": [
    {
     "name": "stdout",
     "output_type": "stream",
     "text": [
      "True True\n",
      "False False\n",
      "True True\n",
      "False False\n"
     ]
    }
   ],
   "source": [
    "so = Solution()\n",
    "print(so.isIsomorphic('egg', 'add'), True)\n",
    "print(so.isIsomorphic('foo', 'bar'), False)\n",
    "print(so.isIsomorphic('paper', 'title'), True)\n",
    "print(so.isIsomorphic(\"acdb\",\"adda\"), False)"
   ]
  }
 ],
 "metadata": {
  "kernelspec": {
   "display_name": "Python 3",
   "language": "python",
   "name": "python3"
  },
  "language_info": {
   "codemirror_mode": {
    "name": "ipython",
    "version": 3
   },
   "file_extension": ".py",
   "mimetype": "text/x-python",
   "name": "python",
   "nbconvert_exporter": "python",
   "pygments_lexer": "ipython3",
   "version": "3.7.0"
  },
  "latex_envs": {
   "LaTeX_envs_menu_present": true,
   "autoclose": false,
   "autocomplete": true,
   "bibliofile": "biblio.bib",
   "cite_by": "apalike",
   "current_citInitial": 1,
   "eqLabelWithNumbers": true,
   "eqNumInitial": 1,
   "hotkeys": {
    "equation": "Ctrl-E",
    "itemize": "Ctrl-I"
   },
   "labels_anchors": false,
   "latex_user_defs": false,
   "report_style_numbering": false,
   "user_envs_cfg": false
  }
 },
 "nbformat": 4,
 "nbformat_minor": 2
}
