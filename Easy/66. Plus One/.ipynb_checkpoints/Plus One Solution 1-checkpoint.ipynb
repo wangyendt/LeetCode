{
 "cells": [
  {
   "cell_type": "code",
   "execution_count": 22,
   "metadata": {
    "ExecuteTime": {
     "end_time": "2019-04-01T06:12:13.528464Z",
     "start_time": "2019-04-01T06:12:13.524451Z"
    }
   },
   "outputs": [],
   "source": [
    "class Solution:\n",
    "    def plusOne(self, digits):\n",
    "        cnt = len(digits)-1\n",
    "        digits[-1] += 1\n",
    "        carry = 0\n",
    "        while cnt >= 0:\n",
    "            tmp = digits[cnt] + carry\n",
    "            carry = tmp // 10\n",
    "            digits[cnt] = tmp % 10\n",
    "            cnt -= 1\n",
    "        if carry == 1:\n",
    "            digits.insert(0,1)\n",
    "        return digits"
   ]
  },
  {
   "cell_type": "code",
   "execution_count": 23,
   "metadata": {
    "ExecuteTime": {
     "end_time": "2019-04-01T06:12:13.864900Z",
     "start_time": "2019-04-01T06:12:13.861874Z"
    }
   },
   "outputs": [
    {
     "name": "stdout",
     "output_type": "stream",
     "text": [
      "[4, 3, 2, 2]\n",
      "[1, 0]\n"
     ]
    }
   ],
   "source": [
    "so = Solution()\n",
    "print(so.plusOne([4,3,2,1]))\n",
    "print(so.plusOne([9]))"
   ]
  }
 ],
 "metadata": {
  "kernelspec": {
   "display_name": "Python 3",
   "language": "python",
   "name": "python3"
  },
  "language_info": {
   "codemirror_mode": {
    "name": "ipython",
    "version": 3
   },
   "file_extension": ".py",
   "mimetype": "text/x-python",
   "name": "python",
   "nbconvert_exporter": "python",
   "pygments_lexer": "ipython3",
   "version": "3.6.7"
  }
 },
 "nbformat": 4,
 "nbformat_minor": 2
}
