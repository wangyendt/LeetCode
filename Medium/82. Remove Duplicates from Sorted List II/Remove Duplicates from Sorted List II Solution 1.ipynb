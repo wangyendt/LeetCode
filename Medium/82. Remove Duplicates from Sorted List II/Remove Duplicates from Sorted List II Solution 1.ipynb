{
 "cells": [
  {
   "cell_type": "code",
   "execution_count": 3,
   "metadata": {
    "ExecuteTime": {
     "end_time": "2019-05-10T16:24:56.622406Z",
     "start_time": "2019-05-10T16:24:56.619399Z"
    }
   },
   "outputs": [],
   "source": [
    "# Definition for singly-linked list.\n",
    "class ListNode:\n",
    "    def __init__(self, x):\n",
    "        self.val = x\n",
    "        self.next = None"
   ]
  },
  {
   "cell_type": "code",
   "execution_count": 79,
   "metadata": {
    "ExecuteTime": {
     "end_time": "2019-05-10T16:52:37.840072Z",
     "start_time": "2019-05-10T16:52:37.832050Z"
    }
   },
   "outputs": [],
   "source": [
    "class Solution:\n",
    "    def deleteDuplicates(self, head: ListNode) -> ListNode:\n",
    "        if not head or not head.next:\n",
    "            return head\n",
    "        p = ListNode(0)\n",
    "        p.next = head\n",
    "        l, r = p, head.next\n",
    "        while r:\n",
    "#             print('---------')\n",
    "#             print('p:', self.printListNode(p))\n",
    "#             print('l:', self.printListNode(l))\n",
    "#             print('r:', self.printListNode(r))\n",
    "            if l.next.val == r.val:\n",
    "                while r:\n",
    "#                     print('***********')\n",
    "#                     print(self.printListNode(p))\n",
    "#                     print(self.printListNode(l))\n",
    "#                     print(self.printListNode(r))\n",
    "                    r = r.next\n",
    "                    if not r:\n",
    "                        l.next = None\n",
    "                        break\n",
    "                    if r.val != l.next.val:\n",
    "                        l.next, r = r, r.next\n",
    "                        break\n",
    "            else:\n",
    "                l, r = l.next, r.next\n",
    "            \n",
    "        return p.next\n",
    "    \n",
    "    def generateListNode(self, *x):\n",
    "        ret, tmp = None, None\n",
    "        x = x[::-1]\n",
    "        for t in x:\n",
    "            ret = ListNode(t)\n",
    "            ret.next = tmp\n",
    "            tmp = ret\n",
    "        return ret\n",
    "    \n",
    "    def printListNode(self, listNode):\n",
    "        ret = ''\n",
    "        while listNode:\n",
    "            ret += str(listNode.val)\n",
    "            if listNode.next != None:\n",
    "                ret += ' -> '\n",
    "            listNode = listNode.next\n",
    "        return ret"
   ]
  },
  {
   "cell_type": "code",
   "execution_count": 80,
   "metadata": {
    "ExecuteTime": {
     "end_time": "2019-05-10T16:52:38.170152Z",
     "start_time": "2019-05-10T16:52:38.161125Z"
    }
   },
   "outputs": [
    {
     "name": "stdout",
     "output_type": "stream",
     "text": [
      " []\n",
      "---------\n",
      "p: 0 -> 1 -> 2 -> 3 -> 3 -> 4 -> 4 -> 5\n",
      "l: 0 -> 1 -> 2 -> 3 -> 3 -> 4 -> 4 -> 5\n",
      "r: 2 -> 3 -> 3 -> 4 -> 4 -> 5\n",
      "---------\n",
      "p: 0 -> 1 -> 2 -> 3 -> 3 -> 4 -> 4 -> 5\n",
      "l: 1 -> 2 -> 3 -> 3 -> 4 -> 4 -> 5\n",
      "r: 3 -> 3 -> 4 -> 4 -> 5\n",
      "---------\n",
      "p: 0 -> 1 -> 2 -> 3 -> 3 -> 4 -> 4 -> 5\n",
      "l: 2 -> 3 -> 3 -> 4 -> 4 -> 5\n",
      "r: 3 -> 4 -> 4 -> 5\n",
      "***********\n",
      "0 -> 1 -> 2 -> 3 -> 3 -> 4 -> 4 -> 5\n",
      "2 -> 3 -> 3 -> 4 -> 4 -> 5\n",
      "3 -> 4 -> 4 -> 5\n",
      "---------\n",
      "p: 0 -> 1 -> 2 -> 4 -> 4 -> 5\n",
      "l: 2 -> 4 -> 4 -> 5\n",
      "r: 4 -> 5\n",
      "***********\n",
      "0 -> 1 -> 2 -> 4 -> 4 -> 5\n",
      "2 -> 4 -> 4 -> 5\n",
      "4 -> 5\n",
      "1 -> 2 -> 5 [1, 2, 5]\n",
      "---------\n",
      "p: 0 -> 1 -> 1 -> 1 -> 2 -> 3\n",
      "l: 0 -> 1 -> 1 -> 1 -> 2 -> 3\n",
      "r: 1 -> 1 -> 2 -> 3\n",
      "***********\n",
      "0 -> 1 -> 1 -> 1 -> 2 -> 3\n",
      "0 -> 1 -> 1 -> 1 -> 2 -> 3\n",
      "1 -> 1 -> 2 -> 3\n",
      "***********\n",
      "0 -> 1 -> 1 -> 1 -> 2 -> 3\n",
      "0 -> 1 -> 1 -> 1 -> 2 -> 3\n",
      "1 -> 2 -> 3\n",
      "---------\n",
      "p: 0 -> 2 -> 3\n",
      "l: 0 -> 2 -> 3\n",
      "r: 3\n",
      "2 -> 3 [2, 3]\n",
      "---------\n",
      "p: 0 -> 0 -> 1 -> 1 -> 1 -> 1 -> 1 -> 1 -> 2 -> 3\n",
      "l: 0 -> 0 -> 1 -> 1 -> 1 -> 1 -> 1 -> 1 -> 2 -> 3\n",
      "r: 1 -> 1 -> 1 -> 1 -> 1 -> 1 -> 2 -> 3\n",
      "---------\n",
      "p: 0 -> 0 -> 1 -> 1 -> 1 -> 1 -> 1 -> 1 -> 2 -> 3\n",
      "l: 0 -> 1 -> 1 -> 1 -> 1 -> 1 -> 1 -> 2 -> 3\n",
      "r: 1 -> 1 -> 1 -> 1 -> 1 -> 2 -> 3\n",
      "***********\n",
      "0 -> 0 -> 1 -> 1 -> 1 -> 1 -> 1 -> 1 -> 2 -> 3\n",
      "0 -> 1 -> 1 -> 1 -> 1 -> 1 -> 1 -> 2 -> 3\n",
      "1 -> 1 -> 1 -> 1 -> 1 -> 2 -> 3\n",
      "***********\n",
      "0 -> 0 -> 1 -> 1 -> 1 -> 1 -> 1 -> 1 -> 2 -> 3\n",
      "0 -> 1 -> 1 -> 1 -> 1 -> 1 -> 1 -> 2 -> 3\n",
      "1 -> 1 -> 1 -> 1 -> 2 -> 3\n",
      "***********\n",
      "0 -> 0 -> 1 -> 1 -> 1 -> 1 -> 1 -> 1 -> 2 -> 3\n",
      "0 -> 1 -> 1 -> 1 -> 1 -> 1 -> 1 -> 2 -> 3\n",
      "1 -> 1 -> 1 -> 2 -> 3\n",
      "***********\n",
      "0 -> 0 -> 1 -> 1 -> 1 -> 1 -> 1 -> 1 -> 2 -> 3\n",
      "0 -> 1 -> 1 -> 1 -> 1 -> 1 -> 1 -> 2 -> 3\n",
      "1 -> 1 -> 2 -> 3\n",
      "***********\n",
      "0 -> 0 -> 1 -> 1 -> 1 -> 1 -> 1 -> 1 -> 2 -> 3\n",
      "0 -> 1 -> 1 -> 1 -> 1 -> 1 -> 1 -> 2 -> 3\n",
      "1 -> 2 -> 3\n",
      "---------\n",
      "p: 0 -> 0 -> 2 -> 3\n",
      "l: 0 -> 2 -> 3\n",
      "r: 3\n",
      "0 -> 2 -> 3 [0, 2, 3]\n",
      "---------\n",
      "p: 0 -> 1 -> 1\n",
      "l: 0 -> 1 -> 1\n",
      "r: 1\n",
      "***********\n",
      "0 -> 1 -> 1\n",
      "0 -> 1 -> 1\n",
      "1\n",
      " []\n"
     ]
    }
   ],
   "source": [
    "so = Solution()\n",
    "ln = so.generateListNode()\n",
    "print(so.printListNode(so.deleteDuplicates(ln)), [])\n",
    "ln = so.generateListNode(1,2,3,3,4,4,5)\n",
    "print(so.printListNode(so.deleteDuplicates(ln)), [1,2,5])\n",
    "ln = so.generateListNode(1,1,1,2,3)\n",
    "print(so.printListNode(so.deleteDuplicates(ln)),[2,3])\n",
    "ln = so.generateListNode(0,1,1,1,1,1,1,2,3)\n",
    "print(so.printListNode(so.deleteDuplicates(ln)),[0,2,3])\n",
    "ln = so.generateListNode(1,1)\n",
    "print(so.printListNode(so.deleteDuplicates(ln)),[])"
   ]
  }
 ],
 "metadata": {
  "kernelspec": {
   "display_name": "Python 3",
   "language": "python",
   "name": "python3"
  },
  "language_info": {
   "codemirror_mode": {
    "name": "ipython",
    "version": 3
   },
   "file_extension": ".py",
   "mimetype": "text/x-python",
   "name": "python",
   "nbconvert_exporter": "python",
   "pygments_lexer": "ipython3",
   "version": "3.7.0"
  },
  "latex_envs": {
   "LaTeX_envs_menu_present": true,
   "autoclose": false,
   "autocomplete": true,
   "bibliofile": "biblio.bib",
   "cite_by": "apalike",
   "current_citInitial": 1,
   "eqLabelWithNumbers": true,
   "eqNumInitial": 1,
   "hotkeys": {
    "equation": "Ctrl-E",
    "itemize": "Ctrl-I"
   },
   "labels_anchors": false,
   "latex_user_defs": false,
   "report_style_numbering": false,
   "user_envs_cfg": false
  }
 },
 "nbformat": 4,
 "nbformat_minor": 2
}
