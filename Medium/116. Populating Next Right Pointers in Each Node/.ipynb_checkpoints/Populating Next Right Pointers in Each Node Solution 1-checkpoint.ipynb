{
 "cells": [
  {
   "cell_type": "code",
   "execution_count": 1,
   "metadata": {
    "ExecuteTime": {
     "end_time": "2019-06-05T18:17:50.871295Z",
     "start_time": "2019-06-05T18:17:50.867306Z"
    }
   },
   "outputs": [],
   "source": [
    "\"\"\"\n",
    "# Definition for a Node.\n",
    "class Node:\n",
    "    def __init__(self, val, left, right, next):\n",
    "        self.val = val\n",
    "        self.left = left\n",
    "        self.right = right\n",
    "        self.next = next\n",
    "\"\"\"\n",
    "class Solution:\n",
    "    def connect(self, root: 'Node') -> 'Node':\n",
    "        if not root:\n",
    "            return root\n",
    "        p = root\n",
    "        stack = [p]\n",
    "        while stack:\n",
    "            q = None\n",
    "            nextStack = []\n",
    "            while stack:\n",
    "                s = stack.pop(0)\n",
    "                if q:\n",
    "                    q.next = s\n",
    "                q = s\n",
    "                if not stack:\n",
    "                    s.next = None\n",
    "                if s.left:\n",
    "                    nextStack.append(s.left)\n",
    "                    nextStack.append(s.right)\n",
    "            stack = nextStack\n",
    "        return root"
   ]
  }
 ],
 "metadata": {
  "kernelspec": {
   "display_name": "Python 3",
   "language": "python",
   "name": "python3"
  },
  "language_info": {
   "codemirror_mode": {
    "name": "ipython",
    "version": 3
   },
   "file_extension": ".py",
   "mimetype": "text/x-python",
   "name": "python",
   "nbconvert_exporter": "python",
   "pygments_lexer": "ipython3",
   "version": "3.6.5"
  }
 },
 "nbformat": 4,
 "nbformat_minor": 2
}
