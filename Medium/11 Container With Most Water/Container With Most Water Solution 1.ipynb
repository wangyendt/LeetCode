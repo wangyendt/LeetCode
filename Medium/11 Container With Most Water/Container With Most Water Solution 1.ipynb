{
 "cells": [
  {
   "cell_type": "code",
   "execution_count": 2,
   "metadata": {
    "ExecuteTime": {
     "end_time": "2019-03-26T09:58:15.228701Z",
     "start_time": "2019-03-26T09:58:15.225703Z"
    }
   },
   "outputs": [],
   "source": [
    "class Solution:\n",
    "    def maxArea(self, height: list) -> int:\n",
    "        # assert(n>=2)\n",
    "        ret = (len(height)-1) * min(height[0], height[-1])\n",
    "        "
   ]
  },
  {
   "cell_type": "code",
   "execution_count": 4,
   "metadata": {
    "ExecuteTime": {
     "end_time": "2019-03-26T09:58:20.316300Z",
     "start_time": "2019-03-26T09:58:20.306325Z"
    }
   },
   "outputs": [
    {
     "name": "stdout",
     "output_type": "stream",
     "text": [
      "None\n"
     ]
    }
   ],
   "source": [
    "so = Solution()\n",
    "print(so.maxArea([1,8,6,2,5,4,8,3,7]))"
   ]
  }
 ],
 "metadata": {
  "kernelspec": {
   "display_name": "Python 3",
   "language": "python",
   "name": "python3"
  },
  "language_info": {
   "codemirror_mode": {
    "name": "ipython",
    "version": 3
   },
   "file_extension": ".py",
   "mimetype": "text/x-python",
   "name": "python",
   "nbconvert_exporter": "python",
   "pygments_lexer": "ipython3",
   "version": "3.6.7"
  }
 },
 "nbformat": 4,
 "nbformat_minor": 2
}
