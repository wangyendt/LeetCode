{
 "cells": [
  {
   "cell_type": "code",
   "execution_count": 7,
   "metadata": {
    "ExecuteTime": {
     "end_time": "2019-03-27T06:14:03.261151Z",
     "start_time": "2019-03-27T06:14:03.256192Z"
    }
   },
   "outputs": [],
   "source": [
    "class Solution:\n",
    "    def maxArea(self, height: list) -> int:\n",
    "        # assert(n>=2)\n",
    "        left = 0\n",
    "        right = len(height)-1\n",
    "        ret = 0\n",
    "        while left < right:\n",
    "            ret = max(ret, min(height[left], height[right]) * (right-left))\n",
    "            if height[left] < height[right]:\n",
    "                left += 1\n",
    "            elif height[left] > height[right]:\n",
    "                right -= 1\n",
    "            else:\n",
    "                left += 1\n",
    "                right -= 1\n",
    "        return ret"
   ]
  },
  {
   "cell_type": "code",
   "execution_count": 8,
   "metadata": {
    "ExecuteTime": {
     "end_time": "2019-03-27T06:14:03.653016Z",
     "start_time": "2019-03-27T06:14:03.648999Z"
    }
   },
   "outputs": [
    {
     "name": "stdout",
     "output_type": "stream",
     "text": [
      "49\n"
     ]
    }
   ],
   "source": [
    "so = Solution()\n",
    "print(so.maxArea([1,8,6,2,5,4,8,3,7]))"
   ]
  }
 ],
 "metadata": {
  "kernelspec": {
   "display_name": "Python 3",
   "language": "python",
   "name": "python3"
  },
  "language_info": {
   "codemirror_mode": {
    "name": "ipython",
    "version": 3
   },
   "file_extension": ".py",
   "mimetype": "text/x-python",
   "name": "python",
   "nbconvert_exporter": "python",
   "pygments_lexer": "ipython3",
   "version": "3.6.7"
  }
 },
 "nbformat": 4,
 "nbformat_minor": 2
}
