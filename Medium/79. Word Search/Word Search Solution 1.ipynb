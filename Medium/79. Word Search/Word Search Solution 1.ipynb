{
 "cells": [
  {
   "cell_type": "code",
   "execution_count": 56,
   "metadata": {
    "ExecuteTime": {
     "end_time": "2019-05-07T06:36:07.860393Z",
     "start_time": "2019-05-07T06:36:07.852373Z"
    }
   },
   "outputs": [],
   "source": [
    "class Solution:\n",
    "    def exist(self, board: list(list()), word: str) -> bool:\n",
    "        def getAdjacentPos(pm, pn, m=len(board), n=len(board[0])):\n",
    "            ret = []\n",
    "            if pm > 0:\n",
    "                ret.append((pm-1,pn))\n",
    "            if pm < m-1:\n",
    "                ret.append((pm+1,pn))\n",
    "            if pn > 0:\n",
    "                ret.append((pm, pn-1))\n",
    "            if pn < n-1:\n",
    "                ret.append((pm, pn+1))\n",
    "            return ret\n",
    "        \n",
    "        def doesExist(word, pm, pn):\n",
    "#             print(board)\n",
    "            if len(word) == 0:\n",
    "                return True\n",
    "            else:\n",
    "#                 print(word, pm, pn, getAdjacentPos(pm, pn))\n",
    "                for ap in getAdjacentPos(pm, pn):\n",
    "                    if board[ap[0]][ap[1]] == word[0]:\n",
    "                        tmp = board[ap[0]][ap[1]]\n",
    "                        board[ap[0]][ap[1]] = '#'\n",
    "                        if doesExist(word[1:], ap[0], ap[1]):\n",
    "                            return True\n",
    "                        board[ap[0]][ap[1]] = tmp\n",
    "                return False\n",
    "        \n",
    "        mask = [[0 for _ in range(len(board[0]))] for _ in range(len(board))]\n",
    "        for i in range(len(board)):\n",
    "            for j in range(len(board[0])):\n",
    "                if board[i][j] == word[0]:\n",
    "                    tmp = board[i][j]\n",
    "                    board[i][j] = '#'\n",
    "                    if doesExist(word[1:], i, j):\n",
    "                        return True\n",
    "                    board[i][j] = tmp\n",
    "        return False"
   ]
  },
  {
   "cell_type": "code",
   "execution_count": 58,
   "metadata": {
    "ExecuteTime": {
     "end_time": "2019-05-07T06:37:46.985896Z",
     "start_time": "2019-05-07T06:37:46.977875Z"
    }
   },
   "outputs": [
    {
     "name": "stdout",
     "output_type": "stream",
     "text": [
      "True True\n",
      "True True\n",
      "False False\n",
      "True True\n"
     ]
    }
   ],
   "source": [
    "so = Solution()\n",
    "board = [\n",
    "  ['A','B','C','E'],\n",
    "  ['S','F','C','S'],\n",
    "  ['A','D','E','E']\n",
    "]\n",
    "print(so.exist(board,\"ABCCED\"),True)\n",
    "board = [\n",
    "  ['A','B','C','E'],\n",
    "  ['S','F','C','S'],\n",
    "  ['A','D','E','E']\n",
    "]\n",
    "print(so.exist(board,\"SEE\"),True)\n",
    "board = [\n",
    "  ['A','B','C','E'],\n",
    "  ['S','F','C','S'],\n",
    "  ['A','D','E','E']\n",
    "]\n",
    "print(so.exist(board,\"ABCB\"),False)\n",
    "board = [['A' for i in range(100)] for j in range(100)]\n",
    "print(so.exist(board, 'AAAAAAAAAAAAAAAAAAAAAAAAAAAAAAAAAA'), True)"
   ]
  }
 ],
 "metadata": {
  "kernelspec": {
   "display_name": "Python 3",
   "language": "python",
   "name": "python3"
  },
  "language_info": {
   "codemirror_mode": {
    "name": "ipython",
    "version": 3
   },
   "file_extension": ".py",
   "mimetype": "text/x-python",
   "name": "python",
   "nbconvert_exporter": "python",
   "pygments_lexer": "ipython3",
   "version": "3.7.0"
  },
  "latex_envs": {
   "LaTeX_envs_menu_present": true,
   "autoclose": false,
   "autocomplete": true,
   "bibliofile": "biblio.bib",
   "cite_by": "apalike",
   "current_citInitial": 1,
   "eqLabelWithNumbers": true,
   "eqNumInitial": 1,
   "hotkeys": {
    "equation": "Ctrl-E",
    "itemize": "Ctrl-I"
   },
   "labels_anchors": false,
   "latex_user_defs": false,
   "report_style_numbering": false,
   "user_envs_cfg": false
  }
 },
 "nbformat": 4,
 "nbformat_minor": 2
}
