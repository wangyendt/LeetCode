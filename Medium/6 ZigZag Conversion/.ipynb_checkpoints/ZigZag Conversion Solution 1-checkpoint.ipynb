{
 "cells": [
  {
   "cell_type": "code",
   "execution_count": 45,
   "metadata": {
    "ExecuteTime": {
     "end_time": "2019-03-20T09:44:26.271758Z",
     "start_time": "2019-03-20T09:44:26.266747Z"
    }
   },
   "outputs": [],
   "source": [
    "class Solution:\n",
    "    def convert(self, s: str, numRows: int) -> str:\n",
    "        if len(s) == 0:\n",
    "            return ''\n",
    "        if len(s) == 1 or numRows == 1:\n",
    "            return s\n",
    "        retStr = [[] for i in range(numRows)]\n",
    "        for i in range(len(s)):\n",
    "            res = (i+1) % (2*numRows-2)\n",
    "            if res == 1:\n",
    "                retStr[0].append(s[i])\n",
    "                continue\n",
    "            if res == numRows:\n",
    "                retStr[-1].append(s[i])\n",
    "                continue\n",
    "            if res == 0:\n",
    "                retStr[1].append(s[i])\n",
    "                continue\n",
    "            if res > numRows:\n",
    "                res = 2*numRows-res\n",
    "            retStr[res-1].append(s[i])\n",
    "        print(retStr)\n",
    "        retStr = ''.join(sum(retStr, []))\n",
    "        return retStr"
   ]
  },
  {
   "cell_type": "code",
   "execution_count": 47,
   "metadata": {
    "ExecuteTime": {
     "end_time": "2019-03-20T09:44:29.447760Z",
     "start_time": "2019-03-20T09:44:29.443750Z"
    }
   },
   "outputs": [
    {
     "name": "stdout",
     "output_type": "stream",
     "text": [
      "AB\n"
     ]
    }
   ],
   "source": [
    "so = Solution()\n",
    "print(so.convert('AB', 1))\n",
    "# [[] for i in range(3)]"
   ]
  },
  {
   "cell_type": "code",
   "execution_count": 27,
   "metadata": {
    "ExecuteTime": {
     "end_time": "2019-03-20T09:39:14.130179Z",
     "start_time": "2019-03-20T09:39:14.125168Z"
    }
   },
   "outputs": [
    {
     "name": "stdout",
     "output_type": "stream",
     "text": [
      "['P', 'S', 'A', 'L', 'H', 'N', 'Y', 'A', 'I', 'I', 'P', 'I', 'R', 'G']\n"
     ]
    }
   ],
   "source": [
    "a = [['P', 'S'], ['A', 'L', 'H', 'N'], ['Y', 'A', 'I', 'I'], ['P', 'I', 'R', 'G']]\n",
    "print(sum(a,[]))"
   ]
  },
  {
   "cell_type": "markdown",
   "metadata": {},
   "source": [
    "1   5   9\n",
    "2 4 6 8 10\n",
    "3   7   11\n",
    "\n",
    "1     7         13\n",
    "2   6 8     12\n",
    "3 5   9  11\n",
    "4     10\n",
    "\n",
    "1       9\n",
    "2     8 10\n",
    "3   7   11\n",
    "4 6     12\n",
    "5       13\n",
    "\n",
    "\n",
    "\n",
    "2 * n - 2\n",
    "\n",
    "i*（2n-2)+1\n",
    "i*（2n-2)+2, i*(2n-2)+(2n-2)\n",
    "i*（2n-2)+3, i*(2n-2)+2n-3\n",
    "i*（2n-2)+4, i*(2n-2)+2n-4\n",
    "i*（2n-2)+5"
   ]
  }
 ],
 "metadata": {
  "kernelspec": {
   "display_name": "Python 3",
   "language": "python",
   "name": "python3"
  },
  "language_info": {
   "codemirror_mode": {
    "name": "ipython",
    "version": 3
   },
   "file_extension": ".py",
   "mimetype": "text/x-python",
   "name": "python",
   "nbconvert_exporter": "python",
   "pygments_lexer": "ipython3",
   "version": "3.7.0"
  },
  "latex_envs": {
   "LaTeX_envs_menu_present": true,
   "autoclose": false,
   "autocomplete": true,
   "bibliofile": "biblio.bib",
   "cite_by": "apalike",
   "current_citInitial": 1,
   "eqLabelWithNumbers": true,
   "eqNumInitial": 1,
   "hotkeys": {
    "equation": "Ctrl-E",
    "itemize": "Ctrl-I"
   },
   "labels_anchors": false,
   "latex_user_defs": false,
   "report_style_numbering": false,
   "user_envs_cfg": false
  }
 },
 "nbformat": 4,
 "nbformat_minor": 2
}
