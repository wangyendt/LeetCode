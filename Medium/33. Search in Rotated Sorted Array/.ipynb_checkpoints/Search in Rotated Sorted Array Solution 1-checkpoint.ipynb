{
 "cells": [
  {
   "cell_type": "code",
   "execution_count": 27,
   "metadata": {
    "ExecuteTime": {
     "end_time": "2019-04-09T13:40:06.236846Z",
     "start_time": "2019-04-09T13:40:06.230855Z"
    }
   },
   "outputs": [],
   "source": [
    "class Solution:\n",
    "    def search(self, nums: list, target: int) -> int:\n",
    "        ret = 0\n",
    "        while nums:\n",
    "            print('proc:', nums[0], nums[len(nums)//2], nums[-1], ret)\n",
    "            if nums[0] == target:\n",
    "                return ret\n",
    "            if nums[-1] == target:\n",
    "                return ret + len(nums)-1\n",
    "            m = nums[len(nums)//2]\n",
    "            if m == target:\n",
    "                return ret + len(nums)//2\n",
    "            if nums[0]<target<m or target<m<nums[-1] or m<nums[-1]<target:\n",
    "                nums = nums[:len(nums)//2]\n",
    "            else:\n",
    "                ret += len(nums)//2+1\n",
    "                nums = nums[len(nums)//2+1:]\n",
    "        return -1"
   ]
  },
  {
   "cell_type": "code",
   "execution_count": 28,
   "metadata": {
    "ExecuteTime": {
     "end_time": "2019-04-09T13:40:06.525349Z",
     "start_time": "2019-04-09T13:40:06.519364Z"
    },
    "scrolled": true
   },
   "outputs": [
    {
     "name": "stdout",
     "output_type": "stream",
     "text": [
      "proc: 4 7 2 0\n",
      "proc: 0 1 2 4\n",
      "4 4\n",
      "proc: 4 7 2 0\n",
      "proc: 0 1 2 4\n",
      "proc: 0 0 0 4\n",
      "-1 -1\n",
      "proc: 4 13 2 0\n",
      "proc: 4 8 12 0\n",
      "4 4\n",
      "proc: 7 3 6 0\n",
      "proc: 7 1 2 0\n",
      "3 3\n",
      "proc: 1 4 6 0\n",
      "5 5\n",
      "proc: 8 2 4 0\n",
      "proc: 8 9 9 0\n",
      "1 1\n"
     ]
    }
   ],
   "source": [
    "so = Solution()\n",
    "print(so.search([4,5,6,7,0,1,2],0), 4)\n",
    "print(so.search([4,5,6,7,0,1,2],3), -1)\n",
    "print(so.search([4,5,6,7,8,9,10,11,12,13,14,15,16,17,18,19,0,1,2],8), 4)\n",
    "print(so.search([7,8,1,2,3,4,5,6],2), 3)\n",
    "print(so.search([1,2,3,4,5,6],6), 5)\n",
    "print(so.search([8,9,2,3,4],9), 1)"
   ]
  }
 ],
 "metadata": {
  "kernelspec": {
   "display_name": "Python 3",
   "language": "python",
   "name": "python3"
  },
  "language_info": {
   "codemirror_mode": {
    "name": "ipython",
    "version": 3
   },
   "file_extension": ".py",
   "mimetype": "text/x-python",
   "name": "python",
   "nbconvert_exporter": "python",
   "pygments_lexer": "ipython3",
   "version": "3.6.7"
  }
 },
 "nbformat": 4,
 "nbformat_minor": 2
}
