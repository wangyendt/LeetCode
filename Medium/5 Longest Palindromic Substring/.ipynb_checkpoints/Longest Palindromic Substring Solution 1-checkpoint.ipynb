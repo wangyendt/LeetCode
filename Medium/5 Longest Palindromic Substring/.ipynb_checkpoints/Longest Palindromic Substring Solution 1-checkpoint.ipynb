{
 "cells": [
  {
   "cell_type": "code",
   "execution_count": 40,
   "metadata": {
    "ExecuteTime": {
     "end_time": "2019-03-20T09:01:48.940598Z",
     "start_time": "2019-03-20T09:01:48.934582Z"
    }
   },
   "outputs": [],
   "source": [
    "class Solution:\n",
    "    def longestPalindrome(self, s: str) -> str:\n",
    "        if s == '':\n",
    "            return ''\n",
    "        if len(s) == 1:\n",
    "            return s\n",
    "        if len(s) == len(set(s)):\n",
    "            return s[0]\n",
    "        maxLen = 0\n",
    "        maxstr = s[0]\n",
    "        for i in range(len(s)):\n",
    "            ind = 1\n",
    "            while i - ind + 1 >= 0 and i + ind < len(s):\n",
    "                if s[i-ind+1] == s[i+ind]:\n",
    "                    if maxLen < 2*ind:\n",
    "                        maxstr = s[i-ind+1:i+ind+1]\n",
    "                    maxLen = max(maxLen, 2*ind)\n",
    "                    ind += 1\n",
    "                else:\n",
    "                    break\n",
    "            ind = 1\n",
    "            while i - ind >= 0 and i + ind < len(s):\n",
    "                if s[i-ind] == s[i+ind]:\n",
    "                    if maxLen < 2*ind+1:\n",
    "                        maxstr = s[i-ind:i+ind+1]\n",
    "                    maxLen = max(maxLen, 2*ind+1)\n",
    "                    ind += 1\n",
    "                else:\n",
    "                    break\n",
    "        return maxstr"
   ]
  },
  {
   "cell_type": "code",
   "execution_count": 41,
   "metadata": {
    "ExecuteTime": {
     "end_time": "2019-03-20T09:01:49.321797Z",
     "start_time": "2019-03-20T09:01:49.318789Z"
    }
   },
   "outputs": [
    {
     "name": "stdout",
     "output_type": "stream",
     "text": [
      "a\n"
     ]
    }
   ],
   "source": [
    "so = Solution()\n",
    "print(so.longestPalindrome('abcda'))"
   ]
  },
  {
   "cell_type": "code",
   "execution_count": null,
   "metadata": {},
   "outputs": [],
   "source": []
  }
 ],
 "metadata": {
  "kernelspec": {
   "display_name": "Python 3",
   "language": "python",
   "name": "python3"
  },
  "language_info": {
   "codemirror_mode": {
    "name": "ipython",
    "version": 3
   },
   "file_extension": ".py",
   "mimetype": "text/x-python",
   "name": "python",
   "nbconvert_exporter": "python",
   "pygments_lexer": "ipython3",
   "version": "3.7.0"
  },
  "latex_envs": {
   "LaTeX_envs_menu_present": true,
   "autoclose": false,
   "autocomplete": true,
   "bibliofile": "biblio.bib",
   "cite_by": "apalike",
   "current_citInitial": 1,
   "eqLabelWithNumbers": true,
   "eqNumInitial": 1,
   "hotkeys": {
    "equation": "Ctrl-E",
    "itemize": "Ctrl-I"
   },
   "labels_anchors": false,
   "latex_user_defs": false,
   "report_style_numbering": false,
   "user_envs_cfg": false
  }
 },
 "nbformat": 4,
 "nbformat_minor": 2
}
