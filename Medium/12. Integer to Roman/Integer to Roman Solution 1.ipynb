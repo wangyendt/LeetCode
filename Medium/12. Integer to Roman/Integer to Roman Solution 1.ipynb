{
 "cells": [
  {
   "cell_type": "code",
   "execution_count": 10,
   "metadata": {
    "ExecuteTime": {
     "end_time": "2019-03-27T06:59:54.620190Z",
     "start_time": "2019-03-27T06:59:54.614205Z"
    }
   },
   "outputs": [],
   "source": [
    "class Solution:\n",
    "    def intToRoman(self, num: int) -> str:\n",
    "        ret = ''\n",
    "        d1 = num // 1000\n",
    "        d2 = (num % 1000) // 100\n",
    "        d3 = (num % 100) // 10\n",
    "        d4 = num % 10\n",
    "        print(d1, d2, d3, d4)\n",
    "        ret += 'M' * d1\n",
    "        if d2 == 4:\n",
    "            ret += 'CD'\n",
    "        if d2 == 9:\n",
    "            ret += 'CM'\n",
    "        if d2 < 4:\n",
    "            ret += 'C' * d2\n",
    "        if 4 < d2 < 9:\n",
    "            ret += 'D' + 'C' * (d2 % 5)\n",
    "        if d3 == 4:\n",
    "            ret += 'XL'\n",
    "        if d3 == 9:\n",
    "            ret += 'XC'\n",
    "        if d3 < 4:\n",
    "            ret += 'X' * d3\n",
    "        if 4 < d3 < 9:\n",
    "            ret += 'L' + 'X' * (d3 % 5)\n",
    "        if d4 == 4:\n",
    "            ret += 'IV'\n",
    "        if d4 == 9:\n",
    "            ret += 'IX'\n",
    "        if d4 < 4:\n",
    "            ret += 'I' * d4\n",
    "        if 4 < d4 < 9:\n",
    "            ret += 'V' + 'I' * (d4 % 5)\n",
    "        return ret\n"
   ]
  },
  {
   "cell_type": "code",
   "execution_count": 11,
   "metadata": {
    "ExecuteTime": {
     "end_time": "2019-03-27T06:59:55.209802Z",
     "start_time": "2019-03-27T06:59:55.205783Z"
    }
   },
   "outputs": [
    {
     "name": "stdout",
     "output_type": "stream",
     "text": [
      "0 2 1 3\n",
      "CCXIII\n"
     ]
    }
   ],
   "source": [
    "so = Solution()\n",
    "print(so.intToRoman(213))"
   ]
  }
 ],
 "metadata": {
  "kernelspec": {
   "display_name": "Python 3",
   "language": "python",
   "name": "python3"
  },
  "language_info": {
   "codemirror_mode": {
    "name": "ipython",
    "version": 3
   },
   "file_extension": ".py",
   "mimetype": "text/x-python",
   "name": "python",
   "nbconvert_exporter": "python",
   "pygments_lexer": "ipython3",
   "version": "3.6.7"
  }
 },
 "nbformat": 4,
 "nbformat_minor": 2
}
