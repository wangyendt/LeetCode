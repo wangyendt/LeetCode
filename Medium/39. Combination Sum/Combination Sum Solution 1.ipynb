{
 "cells": [
  {
   "cell_type": "code",
   "execution_count": 66,
   "metadata": {
    "ExecuteTime": {
     "end_time": "2019-04-17T02:10:35.262644Z",
     "start_time": "2019-04-17T02:10:35.256661Z"
    }
   },
   "outputs": [],
   "source": [
    "class Solution:\n",
    "    def combinationSum(self, candidates: list, target: int) -> list(list()):\n",
    "        if target == 0:\n",
    "            return [[]]\n",
    "        if len(candidates) == 0:\n",
    "            return [[]]\n",
    "        if len(candidates) == 1:\n",
    "            if target % candidates[0] == 0:\n",
    "                return [[candidates[0] for _ in range(target // candidates[0])]]\n",
    "            return []\n",
    "        else:\n",
    "            retList = []\n",
    "            for canInd in range(len(candidates)):\n",
    "                if candidates[canInd] > target:\n",
    "                    continue\n",
    "                result = self.combinationSum([c for c in candidates if c >= candidates[canInd]], target-candidates[canInd])\n",
    "                for res in result:\n",
    "                    tmp = [candidates[canInd]]\n",
    "                    tmp.extend(res)\n",
    "                    retList.append(tmp)\n",
    "            return retList"
   ]
  },
  {
   "cell_type": "code",
   "execution_count": 68,
   "metadata": {
    "ExecuteTime": {
     "end_time": "2019-04-17T02:10:42.899866Z",
     "start_time": "2019-04-17T02:10:42.896874Z"
    }
   },
   "outputs": [
    {
     "name": "stdout",
     "output_type": "stream",
     "text": [
      "[2] 3\n",
      "[] []\n"
     ]
    }
   ],
   "source": [
    "so = Solution()\n",
    "# print(so.combinationSum([2,3,6,7],7), [[7],[2,2,3]])\n",
    "# print(so.combinationSum([2,3,5,10],8), [[2,2,2,2],[2,3,3],[3,5]])\n",
    "print(so.combinationSum([2],3), [])"
   ]
  }
 ],
 "metadata": {
  "kernelspec": {
   "display_name": "Python 3",
   "language": "python",
   "name": "python3"
  },
  "language_info": {
   "codemirror_mode": {
    "name": "ipython",
    "version": 3
   },
   "file_extension": ".py",
   "mimetype": "text/x-python",
   "name": "python",
   "nbconvert_exporter": "python",
   "pygments_lexer": "ipython3",
   "version": "3.6.7"
  }
 },
 "nbformat": 4,
 "nbformat_minor": 2
}
