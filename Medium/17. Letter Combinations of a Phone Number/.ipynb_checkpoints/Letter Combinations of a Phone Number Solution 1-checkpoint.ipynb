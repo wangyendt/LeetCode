{
 "cells": [
  {
   "cell_type": "code",
   "execution_count": 11,
   "metadata": {
    "ExecuteTime": {
     "end_time": "2019-04-01T16:16:12.386119Z",
     "start_time": "2019-04-01T16:16:12.378101Z"
    }
   },
   "outputs": [],
   "source": [
    "class Solution:\n",
    "    def letterCombinations(self, digits: str) -> list:\n",
    "        if not digits:\n",
    "            return []\n",
    "        letterDict = {\n",
    "            '2': ['a','b','c'],\n",
    "            '3': ['d','e','f'],\n",
    "            '4': ['g','h','i'],\n",
    "            '5': ['j','k','l'],\n",
    "            '6': ['m','n','o'],\n",
    "            '7': ['p','q','r','s'],\n",
    "            '8': ['t','u','v'],\n",
    "            '9': ['w','x','y','z']\n",
    "        }\n",
    "        ret = [letterDict[i] for i in digits]\n",
    "        while len(ret) > 1:\n",
    "            tmp = []\n",
    "            for i in range(len(ret)//2):\n",
    "                l1, l2 = ret[2*i], ret[2*i+1]\n",
    "                tmp.append(self.cartesian(l1, l2))\n",
    "            if len(ret) % 2 == 1:\n",
    "                tmp.append(ret[-1])\n",
    "            ret = tmp\n",
    "        return ret[0]\n",
    "    \n",
    "    def cartesian(self, l1, l2):\n",
    "        ret = []\n",
    "        for s in l1:\n",
    "            for t in l2:\n",
    "                ret.append(s+t)\n",
    "        return ret"
   ]
  },
  {
   "cell_type": "code",
   "execution_count": 12,
   "metadata": {
    "ExecuteTime": {
     "end_time": "2019-04-01T16:16:12.838300Z",
     "start_time": "2019-04-01T16:16:12.834290Z"
    }
   },
   "outputs": [
    {
     "name": "stdout",
     "output_type": "stream",
     "text": [
      "['ac', 'ad', 'bc', 'bd']\n",
      "['ad', 'ae', 'af', 'bd', 'be', 'bf', 'cd', 'ce', 'cf']\n"
     ]
    }
   ],
   "source": [
    "so = Solution()\n",
    "print(so.cartesian(['a','b'],['c','d']))\n",
    "print(so.letterCombinations('23'))"
   ]
  }
 ],
 "metadata": {
  "kernelspec": {
   "display_name": "Python 3",
   "language": "python",
   "name": "python3"
  },
  "language_info": {
   "codemirror_mode": {
    "name": "ipython",
    "version": 3
   },
   "file_extension": ".py",
   "mimetype": "text/x-python",
   "name": "python",
   "nbconvert_exporter": "python",
   "pygments_lexer": "ipython3",
   "version": "3.6.7"
  },
  "latex_envs": {
   "LaTeX_envs_menu_present": true,
   "autoclose": false,
   "autocomplete": true,
   "bibliofile": "biblio.bib",
   "cite_by": "apalike",
   "current_citInitial": 1,
   "eqLabelWithNumbers": true,
   "eqNumInitial": 1,
   "hotkeys": {
    "equation": "Ctrl-E",
    "itemize": "Ctrl-I"
   },
   "labels_anchors": false,
   "latex_user_defs": false,
   "report_style_numbering": false,
   "user_envs_cfg": false
  },
  "varInspector": {
   "cols": {
    "lenName": 16,
    "lenType": 16,
    "lenVar": 40
   },
   "kernels_config": {
    "python": {
     "delete_cmd_postfix": "",
     "delete_cmd_prefix": "del ",
     "library": "var_list.py",
     "varRefreshCmd": "print(var_dic_list())"
    },
    "r": {
     "delete_cmd_postfix": ") ",
     "delete_cmd_prefix": "rm(",
     "library": "var_list.r",
     "varRefreshCmd": "cat(var_dic_list()) "
    }
   },
   "types_to_exclude": [
    "module",
    "function",
    "builtin_function_or_method",
    "instance",
    "_Feature"
   ],
   "window_display": false
  }
 },
 "nbformat": 4,
 "nbformat_minor": 2
}
