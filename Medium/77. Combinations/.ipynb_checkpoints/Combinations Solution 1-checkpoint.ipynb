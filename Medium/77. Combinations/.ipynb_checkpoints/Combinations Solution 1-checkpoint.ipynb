{
 "cells": [
  {
   "cell_type": "code",
   "execution_count": 8,
   "metadata": {
    "ExecuteTime": {
     "end_time": "2019-05-07T02:06:37.096120Z",
     "start_time": "2019-05-07T02:06:37.091106Z"
    }
   },
   "outputs": [],
   "source": [
    "class Solution:\n",
    "    def combine(self, n: int, k: int) -> list(list()):\n",
    "        return self.recursive(range(n), k)\n",
    "    \n",
    "    def recursive(self, arr, k):\n",
    "        ret = []\n",
    "        if k == 0:\n",
    "            return ret\n",
    "        print(arr, len(arr), k, len(arr)-k+1)\n",
    "        for i in range(len(arr)-k+1):\n",
    "            tmp = [arr[i]]\n",
    "            [tmp.extend(sc) for sc in self.recursive(arr[i+1:], k-1)]\n",
    "            ret.append(tmp)\n",
    "        return ret"
   ]
  },
  {
   "cell_type": "code",
   "execution_count": 9,
   "metadata": {
    "ExecuteTime": {
     "end_time": "2019-05-07T02:06:37.602058Z",
     "start_time": "2019-05-07T02:06:37.598047Z"
    }
   },
   "outputs": [
    {
     "name": "stdout",
     "output_type": "stream",
     "text": [
      "range(0, 4) 4 2 3\n",
      "range(1, 4) 3 1 3\n",
      "range(2, 4) 2 1 2\n",
      "range(3, 4) 1 1 1\n",
      "[[0, 1, 2, 3], [1, 2, 3], [2, 3]]\n"
     ]
    }
   ],
   "source": [
    "so = Solution()\n",
    "print(so.combine(4,2))"
   ]
  }
 ],
 "metadata": {
  "kernelspec": {
   "display_name": "Python 3",
   "language": "python",
   "name": "python3"
  },
  "language_info": {
   "codemirror_mode": {
    "name": "ipython",
    "version": 3
   },
   "file_extension": ".py",
   "mimetype": "text/x-python",
   "name": "python",
   "nbconvert_exporter": "python",
   "pygments_lexer": "ipython3",
   "version": "3.7.0"
  },
  "latex_envs": {
   "LaTeX_envs_menu_present": true,
   "autoclose": false,
   "autocomplete": true,
   "bibliofile": "biblio.bib",
   "cite_by": "apalike",
   "current_citInitial": 1,
   "eqLabelWithNumbers": true,
   "eqNumInitial": 1,
   "hotkeys": {
    "equation": "Ctrl-E",
    "itemize": "Ctrl-I"
   },
   "labels_anchors": false,
   "latex_user_defs": false,
   "report_style_numbering": false,
   "user_envs_cfg": false
  }
 },
 "nbformat": 4,
 "nbformat_minor": 2
}
