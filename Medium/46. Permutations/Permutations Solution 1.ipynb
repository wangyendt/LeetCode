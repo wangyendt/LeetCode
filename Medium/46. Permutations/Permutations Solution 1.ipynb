{
 "cells": [
  {
   "cell_type": "code",
   "execution_count": 24,
   "metadata": {
    "ExecuteTime": {
     "end_time": "2019-04-19T01:48:26.060012Z",
     "start_time": "2019-04-19T01:48:26.051013Z"
    },
    "code_folding": [
     18,
     24
    ]
   },
   "outputs": [],
   "source": [
    "class Solution:\n",
    "    def permute(self, nums: list) -> list:\n",
    "        if not nums:\n",
    "            return [[]]\n",
    "        if len(nums) == 1:\n",
    "            return [nums]\n",
    "        ret, cnt, maxCnt = [], 0, self.factorial_(len(nums))\n",
    "        tmp = nums[:]\n",
    "        while cnt < maxCnt:\n",
    "            self.nextPermutation(tmp)\n",
    "            ret.append(tmp[:])\n",
    "            cnt += 1\n",
    "        return ret\n",
    "    \n",
    "    def factorial_(self, n):\n",
    "        result = 1\n",
    "        for i in range(2,n+1):\n",
    "            result *= i\n",
    "        return result\n",
    "    \n",
    "    def nextPermutation(self, nums: list) -> None:\n",
    "        \"\"\"\n",
    "        Do not return anything, modify nums in-place instead.\n",
    "        \"\"\"\n",
    "\n",
    "        # from right to left, find the first peak, switch peak and the one left beside peak\n",
    "        cnt = 0\n",
    "        bDescending = True\n",
    "        while cnt < len(nums) - 1:\n",
    "            if nums[-1 - cnt] > nums[-1 - cnt - 1]:\n",
    "                k = 1\n",
    "                bBreak = False\n",
    "                bDescending = False\n",
    "                while k <= cnt:\n",
    "                    if nums[-1 - cnt - 1] >= nums[-1 - cnt + k]:\n",
    "                        nums[-1 - cnt - 1], nums[-1 - cnt + k - 1] = nums[-1 - cnt + k - 1], nums[-1 - cnt - 1]\n",
    "                        bBreak = True\n",
    "                        break\n",
    "                    k += 1\n",
    "                if bBreak:\n",
    "                    break\n",
    "                nums[-1 - cnt - 1], nums[-1] = nums[-1], nums[-1 - cnt - 1]\n",
    "                break\n",
    "            cnt += 1\n",
    "\n",
    "        if not bDescending:\n",
    "            # reverse the rest part ascendingly\n",
    "            for i in range(len(nums)-cnt-1, len(nums)-cnt+cnt//2):\n",
    "                nums[i], nums[-1-(i+cnt-len(nums)+1)] = nums[-1-(i+cnt-len(nums)+1)], nums[i]\n",
    "        else:\n",
    "            for i in range(len(nums)//2):\n",
    "                nums[i], nums[-1-i] = nums[-1-i], nums[i]"
   ]
  },
  {
   "cell_type": "code",
   "execution_count": 25,
   "metadata": {
    "ExecuteTime": {
     "end_time": "2019-04-19T01:48:26.318298Z",
     "start_time": "2019-04-19T01:48:26.314309Z"
    }
   },
   "outputs": [
    {
     "name": "stdout",
     "output_type": "stream",
     "text": [
      "24\n"
     ]
    }
   ],
   "source": [
    "so = Solution()\n",
    "print(len(so.permute([5,4,6,2])))"
   ]
  }
 ],
 "metadata": {
  "kernelspec": {
   "display_name": "Python 3",
   "language": "python",
   "name": "python3"
  },
  "language_info": {
   "codemirror_mode": {
    "name": "ipython",
    "version": 3
   },
   "file_extension": ".py",
   "mimetype": "text/x-python",
   "name": "python",
   "nbconvert_exporter": "python",
   "pygments_lexer": "ipython3",
   "version": "3.6.7"
  }
 },
 "nbformat": 4,
 "nbformat_minor": 2
}
