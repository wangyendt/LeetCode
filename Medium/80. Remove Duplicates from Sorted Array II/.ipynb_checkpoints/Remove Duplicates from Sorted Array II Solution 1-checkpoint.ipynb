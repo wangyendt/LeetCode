{
 "cells": [
  {
   "cell_type": "code",
   "execution_count": 44,
   "metadata": {
    "ExecuteTime": {
     "end_time": "2019-05-10T13:47:45.386591Z",
     "start_time": "2019-05-10T13:47:45.380575Z"
    }
   },
   "outputs": [],
   "source": [
    "class Solution:\n",
    "    def removeDuplicates(self, nums: list) -> int:\n",
    "        if len(nums) <= 2:\n",
    "            return len(nums)\n",
    "        l, r, cnt = 0, 1, len(nums)-1\n",
    "        while True:\n",
    "#             print(l, r, cnt, nums)\n",
    "            if nums[l] == nums[r]:\n",
    "                r += 1\n",
    "            else:\n",
    "                if r - l > 2:\n",
    "#                     print(l, len(nums)-(r-l), r, len(nums))\n",
    "                    nums[l+2:len(nums)-(r-l)+2] = nums[r:]\n",
    "                    cnt, l, r = cnt-(r-l)+2, r-1, l+1\n",
    "                else:\n",
    "                    l, r = r, r+1\n",
    "            if r > cnt:\n",
    "                break\n",
    "        if r-l > 2:\n",
    "            return l+2\n",
    "        else:\n",
    "            return cnt + 1"
   ]
  },
  {
   "cell_type": "code",
   "execution_count": 46,
   "metadata": {
    "ExecuteTime": {
     "end_time": "2019-05-10T13:47:55.075598Z",
     "start_time": "2019-05-10T13:47:55.068580Z"
    }
   },
   "outputs": [
    {
     "name": "stdout",
     "output_type": "stream",
     "text": [
      "5 5\n",
      "[1, 1, 2, 2, 3, 3] [1, 1, 2, 2, 3]\n",
      "7 7\n",
      "[0, 0, 1, 1, 2, 3, 3, 3, 3] [0, 0, 1, 1, 2, 3, 3]\n",
      "4 4\n",
      "[0, 0, 1, 1, 1, 1, 1, 1, 1, 1] [0, 0, 1, 1]\n",
      "6 6\n",
      "[0, 0, 1, 1, 5, 5, 1, 5, 5] [0, 0, 1, 1, 5, 5]\n",
      "6 6\n",
      "[1, 1, 2, 2, 3, 3, 3, 3] [1, 1, 2, 2, 3, 3]\n",
      "7 7\n",
      "[0, 0, 1, 1, 2, 2, 4, 2, 4, 4] [0, 0, 1, 1, 2, 2, 4]\n"
     ]
    }
   ],
   "source": [
    "so = Solution()\n",
    "\n",
    "l = [1,1,1,2,2,3]\n",
    "print(so.removeDuplicates(l), 5)\n",
    "print(l, [1,1,2,2,3])\n",
    "\n",
    "l = [0,0,1,1,1,1,2,3,3]\n",
    "print(so.removeDuplicates(l), 7)\n",
    "print(l, [0,0,1,1,2,3,3])\n",
    "\n",
    "l = [0,0,1,1,1,1,1,1,1,1]\n",
    "print(so.removeDuplicates(l), 4)\n",
    "print(l, [0,0,1,1])\n",
    "\n",
    "l = [0,0,1,1,1,1,1,5,5]\n",
    "print(so.removeDuplicates(l), 6)\n",
    "print(l, [0,0,1,1,5,5])\n",
    "\n",
    "l = [1,1,1,2,2,2,3,3]\n",
    "print(so.removeDuplicates(l), 6)\n",
    "print(l, [1,1,2,2,3,3])\n",
    "\n",
    "l = [0,0,1,1,1,1,2,2,2,4]\n",
    "print(so.removeDuplicates(l), 7)\n",
    "print(l, [0,0,1,1,2,2,4])"
   ]
  }
 ],
 "metadata": {
  "kernelspec": {
   "display_name": "Python 3",
   "language": "python",
   "name": "python3"
  },
  "language_info": {
   "codemirror_mode": {
    "name": "ipython",
    "version": 3
   },
   "file_extension": ".py",
   "mimetype": "text/x-python",
   "name": "python",
   "nbconvert_exporter": "python",
   "pygments_lexer": "ipython3",
   "version": "3.7.0"
  },
  "latex_envs": {
   "LaTeX_envs_menu_present": true,
   "autoclose": false,
   "autocomplete": true,
   "bibliofile": "biblio.bib",
   "cite_by": "apalike",
   "current_citInitial": 1,
   "eqLabelWithNumbers": true,
   "eqNumInitial": 1,
   "hotkeys": {
    "equation": "Ctrl-E",
    "itemize": "Ctrl-I"
   },
   "labels_anchors": false,
   "latex_user_defs": false,
   "report_style_numbering": false,
   "user_envs_cfg": false
  }
 },
 "nbformat": 4,
 "nbformat_minor": 2
}
