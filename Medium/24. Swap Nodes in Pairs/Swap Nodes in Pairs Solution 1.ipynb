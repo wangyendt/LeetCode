{
 "cells": [
  {
   "cell_type": "code",
   "execution_count": 2,
   "metadata": {
    "ExecuteTime": {
     "end_time": "2019-04-08T10:01:37.191748Z",
     "start_time": "2019-04-08T10:01:37.188754Z"
    }
   },
   "outputs": [],
   "source": [
    "# Definition for singly-linked list.\n",
    "class ListNode:\n",
    "    def __init__(self, x):\n",
    "        self.val = x\n",
    "        self.next = None"
   ]
  },
  {
   "cell_type": "code",
   "execution_count": 5,
   "metadata": {
    "ExecuteTime": {
     "end_time": "2019-04-08T10:05:43.399570Z",
     "start_time": "2019-04-08T10:05:43.392588Z"
    }
   },
   "outputs": [],
   "source": [
    "class Solution:\n",
    "    def swapPairs(self, head: ListNode) -> ListNode:\n",
    "        return self.reverseKthNode(head, 2)\n",
    "    \n",
    "    def reverseKthNode(self, head, k):\n",
    "        p = q = ListNode(0)\n",
    "        p.next = l = r = head\n",
    "        while True:\n",
    "            cnt = 0\n",
    "            while cnt < k and r:\n",
    "                r = r.next\n",
    "                cnt += 1\n",
    "            if cnt == k:\n",
    "                cur, pre = l, r\n",
    "                for _ in range(k):\n",
    "                    cur.next, pre, cur = pre, cur, cur.next\n",
    "                q.next, q, l = pre, q.next, r\n",
    "            else:\n",
    "                return p.next\n",
    "    \n",
    "    def generateListNode(self, *x):\n",
    "        ret, tmp = None, None\n",
    "        x = x[::-1]\n",
    "        for t in x:\n",
    "            ret = ListNode(t)\n",
    "            ret.next = tmp\n",
    "            tmp = ret\n",
    "        return ret\n",
    "    \n",
    "    def printListNode(self, listNode):\n",
    "        if not listNode:\n",
    "            return 'NULL'\n",
    "        ret = ''\n",
    "        while listNode:\n",
    "            ret += str(listNode.val)\n",
    "            if listNode.next != None:\n",
    "                ret += ' -> '\n",
    "            listNode = listNode.next\n",
    "        return ret"
   ]
  },
  {
   "cell_type": "code",
   "execution_count": 6,
   "metadata": {
    "ExecuteTime": {
     "end_time": "2019-04-08T10:05:43.843974Z",
     "start_time": "2019-04-08T10:05:43.840118Z"
    }
   },
   "outputs": [
    {
     "name": "stdout",
     "output_type": "stream",
     "text": [
      "2 -> 1 -> 4 -> 3\n"
     ]
    }
   ],
   "source": [
    "so = Solution()\n",
    "ln = so.generateListNode(1,2,3,4)\n",
    "print(so.printListNode(so.swapPairs(ln)))"
   ]
  }
 ],
 "metadata": {
  "kernelspec": {
   "display_name": "Python 3",
   "language": "python",
   "name": "python3"
  },
  "language_info": {
   "codemirror_mode": {
    "name": "ipython",
    "version": 3
   },
   "file_extension": ".py",
   "mimetype": "text/x-python",
   "name": "python",
   "nbconvert_exporter": "python",
   "pygments_lexer": "ipython3",
   "version": "3.6.7"
  }
 },
 "nbformat": 4,
 "nbformat_minor": 2
}
