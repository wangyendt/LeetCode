{
 "cells": [
  {
   "cell_type": "code",
   "execution_count": 27,
   "metadata": {
    "ExecuteTime": {
     "end_time": "2019-05-07T01:35:07.512314Z",
     "start_time": "2019-05-07T01:35:07.505297Z"
    }
   },
   "outputs": [],
   "source": [
    "class Solution:\n",
    "    def sortColors(self, nums: list) -> None:\n",
    "        \"\"\"\n",
    "        Do not return anything, modify nums in-place instead.\n",
    "        \"\"\"\n",
    "        l, r, p = 0, len(nums)-1, 0  # p is point\n",
    "        onesCount = 0\n",
    "        while p <= r:\n",
    "            if nums[p] == 0:\n",
    "                nums[l], nums[p] = nums[p], nums[l]\n",
    "                l += 1\n",
    "                p += 1\n",
    "            elif nums[p] == 2:\n",
    "                nums[r], nums[p] = nums[p], nums[r]\n",
    "                r -= 1\n",
    "            else:\n",
    "                onesCount += 1\n",
    "                p += 1\n",
    "        for i in range(l+1, r):\n",
    "            nums[i] = 1"
   ]
  },
  {
   "cell_type": "code",
   "execution_count": 28,
   "metadata": {
    "ExecuteTime": {
     "end_time": "2019-05-07T01:35:07.789930Z",
     "start_time": "2019-05-07T01:35:07.784918Z"
    }
   },
   "outputs": [
    {
     "name": "stdout",
     "output_type": "stream",
     "text": [
      "[0, 0, 1, 1, 2, 2, 2, 2, 2, 2, 2]\n"
     ]
    }
   ],
   "source": [
    "so = Solution()\n",
    "l = [2,0,2,1,1,0,2,2,2,2,2]\n",
    "so.sortColors(l)\n",
    "print(l)"
   ]
  }
 ],
 "metadata": {
  "kernelspec": {
   "display_name": "Python 3",
   "language": "python",
   "name": "python3"
  },
  "language_info": {
   "codemirror_mode": {
    "name": "ipython",
    "version": 3
   },
   "file_extension": ".py",
   "mimetype": "text/x-python",
   "name": "python",
   "nbconvert_exporter": "python",
   "pygments_lexer": "ipython3",
   "version": "3.7.0"
  },
  "latex_envs": {
   "LaTeX_envs_menu_present": true,
   "autoclose": false,
   "autocomplete": true,
   "bibliofile": "biblio.bib",
   "cite_by": "apalike",
   "current_citInitial": 1,
   "eqLabelWithNumbers": true,
   "eqNumInitial": 1,
   "hotkeys": {
    "equation": "Ctrl-E",
    "itemize": "Ctrl-I"
   },
   "labels_anchors": false,
   "latex_user_defs": false,
   "report_style_numbering": false,
   "user_envs_cfg": false
  }
 },
 "nbformat": 4,
 "nbformat_minor": 2
}
