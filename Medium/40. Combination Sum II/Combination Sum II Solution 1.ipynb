{
 "cells": [
  {
   "cell_type": "code",
   "execution_count": 103,
   "metadata": {
    "ExecuteTime": {
     "end_time": "2019-04-17T02:52:21.610902Z",
     "start_time": "2019-04-17T02:52:21.603921Z"
    }
   },
   "outputs": [],
   "source": [
    "class Solution:\n",
    "    def combinationSum2(self, candidates: list, target: int) -> list(list()):\n",
    "        candidates.sort()\n",
    "        return [k for k in self.recursive(candidates, target) if sum(k) == target]\n",
    "        \n",
    "    def recursive(self, candidates, target):\n",
    "        if target == 0:\n",
    "            return [[]]\n",
    "        if len(candidates) == 0:\n",
    "            return [[]]\n",
    "        if len(candidates) == 1:\n",
    "            if target == candidates[0]:\n",
    "                return [[candidates[0]]]\n",
    "            return []\n",
    "        else:\n",
    "            retList = []\n",
    "            rubbish = []\n",
    "            for canInd in range(len(candidates)):\n",
    "                if candidates[canInd] in rubbish:\n",
    "                    continue\n",
    "                rubbish.append(candidates[canInd])\n",
    "                if candidates[canInd] > target:\n",
    "                    continue\n",
    "                result = self.recursive(candidates[canInd+1:], target-candidates[canInd])\n",
    "                for res in result:\n",
    "                    if res and candidates[canInd] > res[0]:\n",
    "                        continue\n",
    "                    tmp = [candidates[canInd]]\n",
    "                    tmp.extend(res)\n",
    "                    retList.append(tmp)\n",
    "            return retList"
   ]
  },
  {
   "cell_type": "code",
   "execution_count": 104,
   "metadata": {
    "ExecuteTime": {
     "end_time": "2019-04-17T02:52:21.818355Z",
     "start_time": "2019-04-17T02:52:21.812363Z"
    }
   },
   "outputs": [
    {
     "name": "stdout",
     "output_type": "stream",
     "text": [
      "[[1, 1, 6], [1, 2, 5], [1, 7], [2, 6]] [[1, 7], [1, 2, 5], [2, 6], [1, 1, 6]]\n",
      "[[1, 2, 2], [5]] [[1, 2, 2], [5]]\n",
      "[] []\n",
      "[[2]] [[2]]\n",
      "[[1, 2]] [[1, 2]]\n",
      "[[2, 3]] [[2, 3]]\n"
     ]
    }
   ],
   "source": [
    "so = Solution()\n",
    "print(so.combinationSum2([10,1,2,7,6,1,5],8), [[1, 7],[1, 2, 5],[2, 6],[1, 1, 6]])\n",
    "print(so.combinationSum2([2,5,2,1,2],5), [[1,2,2],[5]])\n",
    "print(so.combinationSum2([2],8), [])\n",
    "print(so.combinationSum2([2],2), [[2]])\n",
    "print(so.combinationSum2([1,2],3), [[1,2]])\n",
    "print(so.combinationSum2([1,2,3],5), [[2,3]])"
   ]
  }
 ],
 "metadata": {
  "kernelspec": {
   "display_name": "Python 3",
   "language": "python",
   "name": "python3"
  },
  "language_info": {
   "codemirror_mode": {
    "name": "ipython",
    "version": 3
   },
   "file_extension": ".py",
   "mimetype": "text/x-python",
   "name": "python",
   "nbconvert_exporter": "python",
   "pygments_lexer": "ipython3",
   "version": "3.6.7"
  }
 },
 "nbformat": 4,
 "nbformat_minor": 2
}
