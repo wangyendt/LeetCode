{
 "cells": [
  {
   "cell_type": "code",
   "execution_count": 19,
   "metadata": {
    "ExecuteTime": {
     "end_time": "2019-04-01T17:05:59.225860Z",
     "start_time": "2019-04-01T17:05:59.216836Z"
    },
    "scrolled": false
   },
   "outputs": [],
   "source": [
    "class Solution:\n",
    "    def fourSum(self, nums: list, target: int) -> list(list()):\n",
    "        nums.sort()\n",
    "        self.ret = []\n",
    "        self.target = target\n",
    "        for i in range(len(nums)-3):\n",
    "            for j in range(i+3, len(nums)):\n",
    "                self.recursive(nums[i:j+1])\n",
    "        return self.ret\n",
    "    \n",
    "    def recursive(self, arr):\n",
    "        if len(arr) < 4:\n",
    "            return\n",
    "        p1, p2, p3, p4 = 0, 1, len(arr)-2, len(arr)-1\n",
    "        while p2 < p3:\n",
    "            s = arr[p1] + arr[p2] + arr[p3] + arr[p4]\n",
    "            if s == self.target:\n",
    "                if not [arr[p1],arr[p2],arr[p3],arr[p4]] in self.ret:\n",
    "                    self.ret.append([arr[p1],arr[p2],arr[p3],arr[p4]])\n",
    "                if p3 - p2 > 1:\n",
    "                    if arr[p1] + arr[p2+1] + arr[p3] + arr[p4] == self.target and not [arr[p1],arr[p2+1],arr[p3],arr[p4]] in self.ret:\n",
    "                        self.ret.append([arr[p1],arr[p2+1],arr[p3],arr[p4]])\n",
    "                    if arr[p1] + arr[p2] + arr[p3-1] + arr[p4] == self.target and not [arr[p1],arr[p2],arr[p3-1],arr[p4]] in self.ret:\n",
    "                        self.ret.append([arr[p1],arr[p2],arr[p3-1],arr[p4]])\n",
    "                p2 += 1\n",
    "                p3 -= 1\n",
    "            if s > self.target:\n",
    "                p3 -= 1\n",
    "            if s < self.target:\n",
    "                p2 += 1\n",
    "            "
   ]
  },
  {
   "cell_type": "code",
   "execution_count": 21,
   "metadata": {
    "ExecuteTime": {
     "end_time": "2019-04-01T17:07:57.485849Z",
     "start_time": "2019-04-01T17:07:57.464292Z"
    },
    "scrolled": true
   },
   "outputs": [
    {
     "name": "stdout",
     "output_type": "stream",
     "text": [
      "[]\n"
     ]
    }
   ],
   "source": [
    "so = Solution()\n",
    "# print(so.fourSum([2,0,0,1,-1,-2,3,-4,4,-5], 0))\n",
    "print(so.fourSum([-493,-482,-482,-456,-427,-405,-392,-385,-351,-269,-259,-251,-235,-235,-202,-201,-194,-189,-187,-186,-180,-177,-175,-156,-150,-147,-140,-122,-112,-112,-105,-98,-49,-38,-35,-34,-18,20,52,53,57,76,124,126,128,132,142,147,157,180,207,227,274,296,311,334,336,337,339,349,354,363,372,378,383,413,431,471,474,481,492],6189))"
   ]
  }
 ],
 "metadata": {
  "kernelspec": {
   "display_name": "Python 3",
   "language": "python",
   "name": "python3"
  },
  "language_info": {
   "codemirror_mode": {
    "name": "ipython",
    "version": 3
   },
   "file_extension": ".py",
   "mimetype": "text/x-python",
   "name": "python",
   "nbconvert_exporter": "python",
   "pygments_lexer": "ipython3",
   "version": "3.6.7"
  },
  "latex_envs": {
   "LaTeX_envs_menu_present": true,
   "autoclose": false,
   "autocomplete": true,
   "bibliofile": "biblio.bib",
   "cite_by": "apalike",
   "current_citInitial": 1,
   "eqLabelWithNumbers": true,
   "eqNumInitial": 1,
   "hotkeys": {
    "equation": "Ctrl-E",
    "itemize": "Ctrl-I"
   },
   "labels_anchors": false,
   "latex_user_defs": false,
   "report_style_numbering": false,
   "user_envs_cfg": false
  },
  "varInspector": {
   "cols": {
    "lenName": 16,
    "lenType": 16,
    "lenVar": 40
   },
   "kernels_config": {
    "python": {
     "delete_cmd_postfix": "",
     "delete_cmd_prefix": "del ",
     "library": "var_list.py",
     "varRefreshCmd": "print(var_dic_list())"
    },
    "r": {
     "delete_cmd_postfix": ") ",
     "delete_cmd_prefix": "rm(",
     "library": "var_list.r",
     "varRefreshCmd": "cat(var_dic_list()) "
    }
   },
   "types_to_exclude": [
    "module",
    "function",
    "builtin_function_or_method",
    "instance",
    "_Feature"
   ],
   "window_display": false
  }
 },
 "nbformat": 4,
 "nbformat_minor": 2
}
