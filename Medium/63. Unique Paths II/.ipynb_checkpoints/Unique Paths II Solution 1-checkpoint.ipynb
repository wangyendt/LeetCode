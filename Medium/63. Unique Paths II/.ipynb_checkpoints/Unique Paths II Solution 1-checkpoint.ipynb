{
 "cells": [
  {
   "cell_type": "code",
   "execution_count": 70,
   "metadata": {
    "ExecuteTime": {
     "end_time": "2019-04-29T07:49:11.327197Z",
     "start_time": "2019-04-29T07:49:11.321214Z"
    }
   },
   "outputs": [],
   "source": [
    "class Solution:\n",
    "    def uniquePathsWithObstacles(self, obstacleGrid: list(list())) -> int:\n",
    "        if not obstacleGrid or obstacleGrid[0][0]:\n",
    "            return 0\n",
    "        m, n = len(obstacleGrid), len(obstacleGrid[0])\n",
    "        dp = [[1 for ni in range(n)] for mi in range(m)]\n",
    "        for mi in range(m):\n",
    "            if obstacleGrid[mi][0] == 1:\n",
    "                for mii in range(mi,m):\n",
    "                    dp[mii][0] = 0\n",
    "                break\n",
    "        for ni in range(n):\n",
    "            if obstacleGrid[0][ni] == 1:\n",
    "                for nii in range(ni,n):\n",
    "                    dp[0][nii] = 0\n",
    "                break\n",
    "        for i in range(1, m):\n",
    "            for j in range(1, n):\n",
    "                dp[i][j] = dp[i-1][j] + dp[i][j-1] if obstacleGrid[i][j] == 0 else 0\n",
    "        return dp[m-1][n-1]"
   ]
  },
  {
   "cell_type": "code",
   "execution_count": 71,
   "metadata": {
    "ExecuteTime": {
     "end_time": "2019-04-29T07:49:11.511704Z",
     "start_time": "2019-04-29T07:49:11.505720Z"
    },
    "scrolled": true
   },
   "outputs": [
    {
     "name": "stdout",
     "output_type": "stream",
     "text": [
      "2 2\n",
      "0 0\n",
      "1 1\n",
      "0 0\n",
      "0 0\n",
      "0 0\n",
      "0 0\n"
     ]
    }
   ],
   "source": [
    "so = Solution()\n",
    "print(so.uniquePathsWithObstacles([\n",
    "  [0,0,0],\n",
    "  [0,1,0],\n",
    "  [0,0,0]\n",
    "]), 2)\n",
    "print(so.uniquePathsWithObstacles([\n",
    "  [1,0]\n",
    "]), 0)\n",
    "print(so.uniquePathsWithObstacles([\n",
    "  [0,0]\n",
    "]), 1)\n",
    "print(so.uniquePathsWithObstacles([\n",
    "]), 0)\n",
    "print(so.uniquePathsWithObstacles([\n",
    "[1,0],[0,0]\n",
    "]), 0)\n",
    "print(so.uniquePathsWithObstacles([\n",
    "    [0,0],[1,1],[0,0]\n",
    "]), 0)\n",
    "print(so.uniquePathsWithObstacles([\n",
    "    [0,1,0,0,0],[1,0,0,0,0],[0,0,0,0,0],[0,0,0,0,0]\n",
    "]), 0)"
   ]
  }
 ],
 "metadata": {
  "kernelspec": {
   "display_name": "Python 3",
   "language": "python",
   "name": "python3"
  },
  "language_info": {
   "codemirror_mode": {
    "name": "ipython",
    "version": 3
   },
   "file_extension": ".py",
   "mimetype": "text/x-python",
   "name": "python",
   "nbconvert_exporter": "python",
   "pygments_lexer": "ipython3",
   "version": "3.6.7"
  }
 },
 "nbformat": 4,
 "nbformat_minor": 2
}
