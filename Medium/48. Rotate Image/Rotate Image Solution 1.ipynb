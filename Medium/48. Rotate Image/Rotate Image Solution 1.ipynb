{
 "cells": [
  {
   "cell_type": "code",
   "execution_count": 30,
   "metadata": {
    "ExecuteTime": {
     "end_time": "2019-04-19T10:08:23.211183Z",
     "start_time": "2019-04-19T10:08:23.205156Z"
    }
   },
   "outputs": [],
   "source": [
    "class Solution:\n",
    "    def rotate(self, matrix: list(list())) -> None:\n",
    "        \"\"\"\n",
    "        Do not return anything, modify matrix in-place instead.\n",
    "        \"\"\"\n",
    "        # [list(k)[::-1] for k in zip(*matrix)]\n",
    "        n = len(matrix)\n",
    "        im, jm = (n // 2 + 1, n // 2) if n % 2 else (n // 2, n // 2)\n",
    "        mid = (n - 1) / 2\n",
    "        for i in range(im):\n",
    "            for j in range(jm):\n",
    "                p, cnt = [], 0\n",
    "                p0 = i, j\n",
    "                while cnt < 4:\n",
    "                    cnt += 1\n",
    "                    p.append(p0)\n",
    "                    p0 = int(p0[1] + 0.5), int(2 * mid - p0[0] + 0.5)\n",
    "                q1, q2, q3, q4 = p\n",
    "                matrix[q1[0]][q1[1]], matrix[q2[0]][q2[1]], matrix[q3[0]][q3[1]], matrix[q4[0]][q4[1]] = \\\n",
    "                matrix[q4[0]][q4[1]], matrix[q1[0]][q1[1]], matrix[q2[0]][q2[1]], matrix[q3[0]][q3[1]]"
   ]
  },
  {
   "cell_type": "code",
   "execution_count": 31,
   "metadata": {
    "ExecuteTime": {
     "end_time": "2019-04-19T10:08:23.431700Z",
     "start_time": "2019-04-19T10:08:23.427712Z"
    }
   },
   "outputs": [
    {
     "name": "stdout",
     "output_type": "stream",
     "text": [
      "(0, 0) (0, 2) (2, 2) (2, 0)\n",
      "(1, 0) (0, 1) (1, 2) (2, 1)\n",
      "[[7, 4, 1], [8, 5, 2], [9, 6, 3]]\n"
     ]
    }
   ],
   "source": [
    "so = Solution()\n",
    "mat = [\n",
    "  [1,2,3],\n",
    "  [4,5,6],\n",
    "  [7,8,9]\n",
    "]\n",
    "so.rotate(mat)\n",
    "print(mat)"
   ]
  }
 ],
 "metadata": {
  "kernelspec": {
   "display_name": "Python 3",
   "language": "python",
   "name": "python3"
  },
  "language_info": {
   "codemirror_mode": {
    "name": "ipython",
    "version": 3
   },
   "file_extension": ".py",
   "mimetype": "text/x-python",
   "name": "python",
   "nbconvert_exporter": "python",
   "pygments_lexer": "ipython3",
   "version": "3.6.7"
  }
 },
 "nbformat": 4,
 "nbformat_minor": 2
}
