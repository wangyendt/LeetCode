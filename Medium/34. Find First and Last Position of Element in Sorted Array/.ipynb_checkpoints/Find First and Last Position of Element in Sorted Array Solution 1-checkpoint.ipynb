{
 "cells": [
  {
   "cell_type": "code",
   "execution_count": 62,
   "metadata": {
    "ExecuteTime": {
     "end_time": "2019-04-11T02:49:32.647181Z",
     "start_time": "2019-04-11T02:49:32.640199Z"
    }
   },
   "outputs": [],
   "source": [
    "class Solution:\n",
    "    def searchRange(self, nums: list, target: int) -> list:\n",
    "        # find position target-0.5 and target+0.5\n",
    "        def binarySearch(ns, tar):\n",
    "            l, r = 0, len(ns) - 1\n",
    "            if tar < ns[l]:\n",
    "                return l\n",
    "            elif tar > ns[r]:\n",
    "                return r+1\n",
    "            else:\n",
    "                while l < r:\n",
    "                    m = (l + r) // 2\n",
    "                    if tar > ns[m]:\n",
    "                        l = m + 1\n",
    "                    elif tar < ns[m]:\n",
    "                        r = m\n",
    "                    else:\n",
    "                        return m\n",
    "                return l\n",
    "            \n",
    "        if not nums:\n",
    "            return [-1, -1]\n",
    "\n",
    "        left, right = binarySearch(nums, target - 0.5), binarySearch(\n",
    "            nums, target + 0.5)\n",
    "        print(left, right)\n",
    "        if left >= len(nums):\n",
    "            return [-1, -1]\n",
    "        if left == right:\n",
    "            if nums[left] == target:\n",
    "                return [left, right]\n",
    "            else:\n",
    "                return [-1, -1]\n",
    "        else:\n",
    "            if target == nums[left]:\n",
    "                return [left, right - 1]\n",
    "            else:\n",
    "                return [-1, -1]"
   ]
  },
  {
   "cell_type": "code",
   "execution_count": 64,
   "metadata": {
    "ExecuteTime": {
     "end_time": "2019-04-11T02:49:54.005885Z",
     "start_time": "2019-04-11T02:49:53.999901Z"
    }
   },
   "outputs": [
    {
     "name": "stdout",
     "output_type": "stream",
     "text": [
      "3 5\n",
      "[3, 4] [3, 4]\n",
      "1 1\n",
      "[-1, -1] [-1, -1]\n",
      "0 1\n",
      "[0, 0] [0, 0]\n",
      "2 2\n",
      "[-1, -1] [-1, -1]\n",
      "2 6\n",
      "[2, 5] [2, 5]\n"
     ]
    }
   ],
   "source": [
    "so = Solution()\n",
    "print(so.searchRange([5,7,7,8,8,10], 8), [3,4])\n",
    "print(so.searchRange([5,7,7,8,8,10], 6), [-1,-1])\n",
    "print(so.searchRange([1], 1), [0,0])\n",
    "print(so.searchRange([2,2], 3), [-1,-1])\n",
    "print(so.searchRange([1,2,3,3,3,3,4,5,9],3), [2, 5])"
   ]
  }
 ],
 "metadata": {
  "kernelspec": {
   "display_name": "Python 3",
   "language": "python",
   "name": "python3"
  },
  "language_info": {
   "codemirror_mode": {
    "name": "ipython",
    "version": 3
   },
   "file_extension": ".py",
   "mimetype": "text/x-python",
   "name": "python",
   "nbconvert_exporter": "python",
   "pygments_lexer": "ipython3",
   "version": "3.6.7"
  }
 },
 "nbformat": 4,
 "nbformat_minor": 2
}
