{
 "cells": [
  {
   "cell_type": "code",
   "execution_count": 84,
   "metadata": {
    "ExecuteTime": {
     "end_time": "2019-04-09T13:09:21.548870Z",
     "start_time": "2019-04-09T13:09:21.540892Z"
    }
   },
   "outputs": [],
   "source": [
    "class Solution:\n",
    "    def nextPermutation(self, nums: list) -> None:\n",
    "        \"\"\"\n",
    "        Do not return anything, modify nums in-place instead.\n",
    "        \"\"\"\n",
    "        \n",
    "        # from right to left, find the first peak, switch peak and the one left beside peak\n",
    "        cnt = 0\n",
    "        bDescending = True\n",
    "        while cnt < len(nums) - 1:\n",
    "            if nums[-1 - cnt] > nums[-1 - cnt - 1]:\n",
    "                k = 1\n",
    "                bBreak = False\n",
    "                bDescending = False\n",
    "                while k <= cnt:\n",
    "                    if nums[-1 - cnt - 1] >= nums[-1 - cnt + k]:\n",
    "                        nums[-1 - cnt - 1], nums[-1 - cnt + k - 1] = nums[-1 - cnt + k - 1], nums[-1 - cnt - 1]\n",
    "                        bBreak = True\n",
    "                        break\n",
    "                    k += 1\n",
    "                if bBreak:\n",
    "                    break\n",
    "                nums[-1 - cnt - 1], nums[-1] = nums[-1], nums[-1 - cnt - 1]\n",
    "                break\n",
    "            cnt += 1\n",
    "            \n",
    "        print(cnt, nums)\n",
    "        print(len(nums)-cnt-1, len(nums)-cnt+cnt//2, bDescending)\n",
    "        \n",
    "        if not bDescending:\n",
    "            # reverse the rest part ascendingly\n",
    "            for i in range(len(nums)-cnt-1, len(nums)-cnt+cnt//2):\n",
    "                nums[i], nums[-1-(i+cnt-len(nums)+1)] = nums[-1-(i+cnt-len(nums)+1)], nums[i]\n",
    "        else:\n",
    "            for i in range(len(nums)//2):\n",
    "                nums[i], nums[-1-i] = nums[-1-i], nums[i]"
   ]
  },
  {
   "cell_type": "code",
   "execution_count": 85,
   "metadata": {
    "ExecuteTime": {
     "end_time": "2019-04-09T13:09:21.899940Z",
     "start_time": "2019-04-09T13:09:21.892960Z"
    }
   },
   "outputs": [
    {
     "name": "stdout",
     "output_type": "stream",
     "text": [
      "2 [5, 1, 1]\n",
      "0 2 True\n",
      "[1, 1, 5] [1, 1, 5]\n",
      "0 [1, 5, 1]\n",
      "2 3 False\n",
      "[1, 5, 1] [1, 5, 1]\n",
      "1 [5, 1, 1]\n",
      "1 2 False\n",
      "[5, 1, 1] [5, 1, 1]\n",
      "2 [1, 1, 1]\n",
      "0 2 True\n",
      "[1, 1, 1] [1, 1, 1]\n",
      "3 [1, 3, 2, 1, 6, 5, 3, 2, 1]\n",
      "5 7 False\n",
      "[1, 3, 2, 1, 6, 1, 2, 3, 5] [1, 3, 2, 1, 6, 1, 2, 3, 5]\n",
      "0 [1, 3, 2]\n",
      "2 3 False\n",
      "[1, 3, 2] [1, 3, 2]\n",
      "1 [2, 3, 1]\n",
      "1 2 False\n",
      "[2, 1, 3] [2, 1, 3]\n",
      "2 [3, 2, 1]\n",
      "0 2 True\n",
      "[1, 2, 3] [1, 2, 3]\n"
     ]
    }
   ],
   "source": [
    "so = Solution()\n",
    "l = [5,1,1]\n",
    "so.nextPermutation(l)\n",
    "print(l, [1,1,5])\n",
    "l = [1,1,5]\n",
    "so.nextPermutation(l)\n",
    "print(l, [1,5,1])\n",
    "l = [1,5,1]\n",
    "so.nextPermutation(l)\n",
    "print(l, [5,1,1])\n",
    "l = [1,1,1]\n",
    "so.nextPermutation(l)\n",
    "print(l, [1,1,1])\n",
    "l = [1,3,2,1,5,6,3,2,1]\n",
    "so.nextPermutation(l)\n",
    "print(l, [1,3,2,1,6,1,2,3,5])\n",
    "l = [1,2,3]\n",
    "so.nextPermutation(l)\n",
    "print(l, [1,3,2])\n",
    "l = [1,3,2]\n",
    "so.nextPermutation(l)\n",
    "print(l, [2,1,3])\n",
    "l = [3,2,1]\n",
    "so.nextPermutation(l)\n",
    "print(l, [1,2,3])"
   ]
  }
 ],
 "metadata": {
  "kernelspec": {
   "display_name": "Python 3",
   "language": "python",
   "name": "python3"
  },
  "language_info": {
   "codemirror_mode": {
    "name": "ipython",
    "version": 3
   },
   "file_extension": ".py",
   "mimetype": "text/x-python",
   "name": "python",
   "nbconvert_exporter": "python",
   "pygments_lexer": "ipython3",
   "version": "3.6.7"
  }
 },
 "nbformat": 4,
 "nbformat_minor": 2
}
