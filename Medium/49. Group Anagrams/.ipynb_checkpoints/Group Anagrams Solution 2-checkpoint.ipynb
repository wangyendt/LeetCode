{
 "cells": [
  {
   "cell_type": "code",
   "execution_count": 9,
   "metadata": {
    "ExecuteTime": {
     "end_time": "2019-04-20T13:56:54.517212Z",
     "start_time": "2019-04-20T13:56:54.511173Z"
    }
   },
   "outputs": [],
   "source": [
    "class Solution:\n",
    "    def groupAnagrams(self, strs: list) -> list(list()):\n",
    "        ret = []\n",
    "        retEmpty = []\n",
    "        letters = 'abcdefghijklmnopqrstuvwxyz'\n",
    "        lettersDict = dict(zip(letters, range(26)))\n",
    "        sortedList = [[] for _ in range(26*26)]\n",
    "        for s in strs:\n",
    "            if not s:\n",
    "                retEmpty.append(s)\n",
    "                continue\n",
    "            t = [lettersDict[r] for r in s]\n",
    "            t.sort()\n",
    "            str_t = ''.join(letters[r] for r in t)\n",
    "            bBreak = False\n",
    "            for sl in sortedList[26*lettersDict[str_t[0]]+lettersDict[str_t[-1]]]:\n",
    "                for k in sl:\n",
    "                    if str_t == sl[k]:\n",
    "                        ret[k].append(s)\n",
    "                        bBreak = True\n",
    "                        break\n",
    "                if bBreak:\n",
    "                    break\n",
    "            else:\n",
    "                ret.append([s])\n",
    "                sortedList[26*lettersDict[str_t[0]]+lettersDict[str_t[-1]]].append({len(ret)-1: str_t})\n",
    "        if retEmpty:\n",
    "            ret.append(retEmpty)\n",
    "        return ret"
   ]
  },
  {
   "cell_type": "code",
   "execution_count": 11,
   "metadata": {
    "ExecuteTime": {
     "end_time": "2019-04-20T13:57:03.571758Z",
     "start_time": "2019-04-20T13:57:03.567748Z"
    }
   },
   "outputs": [
    {
     "name": "stdout",
     "output_type": "stream",
     "text": [
      "[['']]\n",
      "[['eat', 'tea'], ['', '', '', '']]\n",
      "[['sat'], ['lea'], ['arm'], ['sin', 'ins'], ['the'], ['nod'], ['guy'], ['rod']]\n",
      "[['eat', 'tea', 'ate'], ['tan', 'nat'], ['bat']] [['ate', 'eat', 'tea'], ['nat', 'tan'], ['bat']]\n"
     ]
    }
   ],
   "source": [
    "so = Solution()\n",
    "# print(so.groupAnagrams(test))\n",
    "print(so.groupAnagrams(['']))\n",
    "print(so.groupAnagrams([\"\",\"\",\"eat\",\"\",\"tea\",\"\"]))\n",
    "print(so.groupAnagrams([\"sat\",\"lea\",\"arm\",\"sin\",\"the\",\"nod\",\"guy\",\"ins\",\"rod\"]))\n",
    "print(so.groupAnagrams([\"eat\", \"tea\", \"tan\", \"ate\", \"nat\", \"bat\"]),[\n",
    "  [\"ate\",\"eat\",\"tea\"],\n",
    "  [\"nat\",\"tan\"],\n",
    "  [\"bat\"]\n",
    "])"
   ]
  },
  {
   "cell_type": "code",
   "execution_count": 3,
   "metadata": {
    "ExecuteTime": {
     "end_time": "2019-04-20T13:53:34.124446Z",
     "start_time": "2019-04-20T13:53:34.117401Z"
    }
   },
   "outputs": [],
   "source": [
    "file_name = 'test.txt'\n",
    "with open(file_name, 'r') as f:\n",
    "    strs = f.readlines()\n",
    "    test = [s.rstrip('\\n') for s in strs]"
   ]
  }
 ],
 "metadata": {
  "kernelspec": {
   "display_name": "Python 3",
   "language": "python",
   "name": "python3"
  },
  "language_info": {
   "codemirror_mode": {
    "name": "ipython",
    "version": 3
   },
   "file_extension": ".py",
   "mimetype": "text/x-python",
   "name": "python",
   "nbconvert_exporter": "python",
   "pygments_lexer": "ipython3",
   "version": "3.6.7"
  },
  "latex_envs": {
   "LaTeX_envs_menu_present": true,
   "autoclose": false,
   "autocomplete": true,
   "bibliofile": "biblio.bib",
   "cite_by": "apalike",
   "current_citInitial": 1,
   "eqLabelWithNumbers": true,
   "eqNumInitial": 1,
   "hotkeys": {
    "equation": "Ctrl-E",
    "itemize": "Ctrl-I"
   },
   "labels_anchors": false,
   "latex_user_defs": false,
   "report_style_numbering": false,
   "user_envs_cfg": false
  },
  "varInspector": {
   "cols": {
    "lenName": 16,
    "lenType": 16,
    "lenVar": 40
   },
   "kernels_config": {
    "python": {
     "delete_cmd_postfix": "",
     "delete_cmd_prefix": "del ",
     "library": "var_list.py",
     "varRefreshCmd": "print(var_dic_list())"
    },
    "r": {
     "delete_cmd_postfix": ") ",
     "delete_cmd_prefix": "rm(",
     "library": "var_list.r",
     "varRefreshCmd": "cat(var_dic_list()) "
    }
   },
   "types_to_exclude": [
    "module",
    "function",
    "builtin_function_or_method",
    "instance",
    "_Feature"
   ],
   "window_display": false
  }
 },
 "nbformat": 4,
 "nbformat_minor": 2
}
