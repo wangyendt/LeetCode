{
 "cells": [
  {
   "cell_type": "markdown",
   "metadata": {
    "ExecuteTime": {
     "end_time": "2019-04-29T07:10:52.682036Z",
     "start_time": "2019-04-29T07:10:52.679009Z"
    }
   },
   "source": [
    "\\begin{equation}\n",
    "\\binom{m+n-2}{m-1}\n",
    "\\end{equation}"
   ]
  },
  {
   "cell_type": "code",
   "execution_count": 8,
   "metadata": {
    "ExecuteTime": {
     "end_time": "2019-04-29T07:12:40.934384Z",
     "start_time": "2019-04-29T07:12:40.930394Z"
    }
   },
   "outputs": [],
   "source": [
    "class Solution:\n",
    "    def uniquePaths(self, m: int, n: int) -> int:\n",
    "        if not m or not n:\n",
    "            return 0\n",
    "        elif m == 1 or n == 1:\n",
    "            return 1\n",
    "        else:\n",
    "            return self.uniquePaths(m-1,n)+self.uniquePaths(m,n-1)"
   ]
  },
  {
   "cell_type": "code",
   "execution_count": 9,
   "metadata": {
    "ExecuteTime": {
     "end_time": "2019-04-29T07:12:41.090969Z",
     "start_time": "2019-04-29T07:12:41.087974Z"
    }
   },
   "outputs": [
    {
     "name": "stdout",
     "output_type": "stream",
     "text": [
      "28 28\n",
      "3 3\n"
     ]
    }
   ],
   "source": [
    "so = Solution()\n",
    "print(so.uniquePaths(7,3), 28)\n",
    "print(so.uniquePaths(3,2), 3)"
   ]
  }
 ],
 "metadata": {
  "kernelspec": {
   "display_name": "Python 3",
   "language": "python",
   "name": "python3"
  },
  "language_info": {
   "codemirror_mode": {
    "name": "ipython",
    "version": 3
   },
   "file_extension": ".py",
   "mimetype": "text/x-python",
   "name": "python",
   "nbconvert_exporter": "python",
   "pygments_lexer": "ipython3",
   "version": "3.6.7"
  }
 },
 "nbformat": 4,
 "nbformat_minor": 2
}
