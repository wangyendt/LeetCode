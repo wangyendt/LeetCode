{
 "cells": [
  {
   "cell_type": "markdown",
   "metadata": {
    "ExecuteTime": {
     "end_time": "2019-04-29T06:59:55.446779Z",
     "start_time": "2019-04-29T06:59:55.442789Z"
    }
   },
   "source": [
    "\\begin{equation}\n",
    "\\binom{m+n-2}{m-1}\n",
    "\\end{equation}"
   ]
  },
  {
   "cell_type": "code",
   "execution_count": 9,
   "metadata": {
    "ExecuteTime": {
     "end_time": "2019-04-29T07:10:16.893076Z",
     "start_time": "2019-04-29T07:10:16.888090Z"
    }
   },
   "outputs": [],
   "source": [
    "class Solution:\n",
    "    def uniquePaths(self, m: int, n: int) -> int:\n",
    "        if not (m and n):\n",
    "            return 0\n",
    "        dp = [[1 for _ in range(n)] for _ in range(m)]\n",
    "        for i in range(1, m):\n",
    "            for j in range(1, n):\n",
    "                dp[i][j] = dp[i-1][j] + dp[i][j-1]\n",
    "        return dp[m-1][n-1]"
   ]
  },
  {
   "cell_type": "code",
   "execution_count": 10,
   "metadata": {
    "ExecuteTime": {
     "end_time": "2019-04-29T07:10:17.075589Z",
     "start_time": "2019-04-29T07:10:17.072597Z"
    }
   },
   "outputs": [
    {
     "name": "stdout",
     "output_type": "stream",
     "text": [
      "28 28\n",
      "3 3\n"
     ]
    }
   ],
   "source": [
    "so = Solution()\n",
    "print(so.uniquePaths(7,3), 28)\n",
    "print(so.uniquePaths(3,2), 3)"
   ]
  }
 ],
 "metadata": {
  "kernelspec": {
   "display_name": "Python 3",
   "language": "python",
   "name": "python3"
  },
  "language_info": {
   "codemirror_mode": {
    "name": "ipython",
    "version": 3
   },
   "file_extension": ".py",
   "mimetype": "text/x-python",
   "name": "python",
   "nbconvert_exporter": "python",
   "pygments_lexer": "ipython3",
   "version": "3.6.7"
  }
 },
 "nbformat": 4,
 "nbformat_minor": 2
}
