{
 "cells": [
  {
   "cell_type": "markdown",
   "metadata": {},
   "source": [
    "\\begin{equation}\n",
    "\\binom{m+n-2}{m-1}\n",
    "\\end{equation}"
   ]
  },
  {
   "cell_type": "code",
   "execution_count": 12,
   "metadata": {
    "ExecuteTime": {
     "end_time": "2019-04-29T07:10:20.902786Z",
     "start_time": "2019-04-29T07:10:20.898807Z"
    }
   },
   "outputs": [],
   "source": [
    "class Solution:\n",
    "    def uniquePaths(self, m: int, n: int) -> int:\n",
    "        return self.nChooseK(m+n-2,m-1) if m and n else 0\n",
    "    \n",
    "    def nChooseK(self, n, k):\n",
    "        return self.factorial_(n) // (self.factorial_(n-k) * self.factorial_(k))\n",
    "    \n",
    "    def factorial_(self, n):\n",
    "        result = 1\n",
    "        for i in range(2,n+1):\n",
    "            result *= i\n",
    "        return result"
   ]
  },
  {
   "cell_type": "code",
   "execution_count": 13,
   "metadata": {
    "ExecuteTime": {
     "end_time": "2019-04-29T07:10:21.141131Z",
     "start_time": "2019-04-29T07:10:21.136144Z"
    }
   },
   "outputs": [
    {
     "name": "stdout",
     "output_type": "stream",
     "text": [
      "28 28\n",
      "3 3\n",
      "0 0\n",
      "0 0\n",
      "1 1\n"
     ]
    }
   ],
   "source": [
    "so = Solution()\n",
    "print(so.uniquePaths(7,3), 28)\n",
    "print(so.uniquePaths(3,2), 3)\n",
    "print(so.uniquePaths(0,0), 0)\n",
    "print(so.uniquePaths(0,1), 0)\n",
    "print(so.uniquePaths(1,1), 1)"
   ]
  }
 ],
 "metadata": {
  "kernelspec": {
   "display_name": "Python 3",
   "language": "python",
   "name": "python3"
  },
  "language_info": {
   "codemirror_mode": {
    "name": "ipython",
    "version": 3
   },
   "file_extension": ".py",
   "mimetype": "text/x-python",
   "name": "python",
   "nbconvert_exporter": "python",
   "pygments_lexer": "ipython3",
   "version": "3.6.7"
  }
 },
 "nbformat": 4,
 "nbformat_minor": 2
}
