{
 "cells": [
  {
   "cell_type": "code",
   "execution_count": 12,
   "metadata": {
    "ExecuteTime": {
     "end_time": "2019-04-08T09:31:26.703305Z",
     "start_time": "2019-04-08T09:31:26.699316Z"
    }
   },
   "outputs": [],
   "source": [
    "class Solution:\n",
    "    def generateParenthesis(self, n):\n",
    "        return self.recursive('', n, n)\n",
    "    \n",
    "    def recursive(self, p, left, right, parens=[]):\n",
    "        if left:\n",
    "            self.recursive(p + '(', left-1, right)\n",
    "        if right > left:\n",
    "            self.recursive(p + ')', left, right-1)\n",
    "        if not right:\n",
    "            parens += p,\n",
    "        return parens"
   ]
  },
  {
   "cell_type": "code",
   "execution_count": 13,
   "metadata": {
    "ExecuteTime": {
     "end_time": "2019-04-08T09:31:26.880855Z",
     "start_time": "2019-04-08T09:31:26.877839Z"
    }
   },
   "outputs": [
    {
     "name": "stdout",
     "output_type": "stream",
     "text": [
      "['((()))', '(()())', '(())()', '()(())', '()()()']\n"
     ]
    }
   ],
   "source": [
    "so = Solution()\n",
    "print(so.generateParenthesis(3))"
   ]
  }
 ],
 "metadata": {
  "kernelspec": {
   "display_name": "Python 3",
   "language": "python",
   "name": "python3"
  },
  "language_info": {
   "codemirror_mode": {
    "name": "ipython",
    "version": 3
   },
   "file_extension": ".py",
   "mimetype": "text/x-python",
   "name": "python",
   "nbconvert_exporter": "python",
   "pygments_lexer": "ipython3",
   "version": "3.6.7"
  }
 },
 "nbformat": 4,
 "nbformat_minor": 2
}
