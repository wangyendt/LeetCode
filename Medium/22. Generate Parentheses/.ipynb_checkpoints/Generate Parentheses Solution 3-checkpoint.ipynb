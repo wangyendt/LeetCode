{
 "cells": [
  {
   "cell_type": "code",
   "execution_count": 1,
   "metadata": {
    "ExecuteTime": {
     "end_time": "2019-04-08T09:47:08.375055Z",
     "start_time": "2019-04-08T09:47:08.370068Z"
    }
   },
   "outputs": [],
   "source": [
    "class Solution:\n",
    "    def generateParenthesis(self, n):\n",
    "        ret = []\n",
    "        seed = [(\"(\", 1, 0)]  # the first parenthesis must be '('\n",
    "        while seed:\n",
    "            x, l, r = seed.pop()\n",
    "            # judge valid\n",
    "            if l < r or l > n or r > n:\n",
    "                continue\n",
    "            if l == n and r == n:\n",
    "                ret.append(x)\n",
    "            # the following one must be either '(' or ')'\n",
    "            seed.append((x+\"(\", l+1, r))\n",
    "            seed.append((x+\")\", l, r+1))\n",
    "        return ret"
   ]
  },
  {
   "cell_type": "code",
   "execution_count": 2,
   "metadata": {
    "ExecuteTime": {
     "end_time": "2019-04-08T09:47:10.059010Z",
     "start_time": "2019-04-08T09:47:10.050005Z"
    }
   },
   "outputs": [
    {
     "name": "stdout",
     "output_type": "stream",
     "text": [
      "['()()()', '()(())', '(())()', '(()())', '((()))']\n"
     ]
    }
   ],
   "source": [
    "so = Solution()\n",
    "print(so.generateParenthesis(3))"
   ]
  }
 ],
 "metadata": {
  "kernelspec": {
   "display_name": "Python 3",
   "language": "python",
   "name": "python3"
  },
  "language_info": {
   "codemirror_mode": {
    "name": "ipython",
    "version": 3
   },
   "file_extension": ".py",
   "mimetype": "text/x-python",
   "name": "python",
   "nbconvert_exporter": "python",
   "pygments_lexer": "ipython3",
   "version": "3.6.7"
  }
 },
 "nbformat": 4,
 "nbformat_minor": 2
}
