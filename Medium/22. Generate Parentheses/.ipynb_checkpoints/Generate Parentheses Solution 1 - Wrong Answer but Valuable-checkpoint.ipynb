{
 "cells": [
  {
   "cell_type": "code",
   "execution_count": 50,
   "metadata": {
    "ExecuteTime": {
     "end_time": "2019-04-08T09:04:18.722016Z",
     "start_time": "2019-04-08T09:04:18.717042Z"
    }
   },
   "outputs": [],
   "source": [
    "class Solution:\n",
    "    def generateParenthesis(self, n: int) -> list:\n",
    "        ret = []\n",
    "        for i in range(1, n+1):\n",
    "            rest = n-i\n",
    "            nonNegSolutions = self.fixedSumGenerateCombinations(n-i, i)\n",
    "            result = self.insertOuterParentheses(nonNegSolutions)\n",
    "            ret.extend(result)\n",
    "        return ret\n",
    "    \n",
    "    # list all non-negative solutions of equation: {x1+x2+...+xh = s}\n",
    "    def fixedSumGenerateCombinations(self, s, hole):\n",
    "        # s denotes sum of available '('\n",
    "        # hole denotes how many holes to insert, like 1,2,3,4,...\n",
    "        if hole == 1:\n",
    "            ret = [[s]]\n",
    "        else:\n",
    "            ret = []\n",
    "            for i in range(s+1):\n",
    "                result = self.fixedSumGenerateCombinations(s-i, hole-1)\n",
    "                for res in result:\n",
    "                    tmp = [i]\n",
    "                    tmp.extend(res)\n",
    "                    ret.append(tmp)\n",
    "        return ret\n",
    "    \n",
    "    def insertOuterParentheses(self, toBeInsertedLists: list(list())):\n",
    "        ret = []\n",
    "        for tbil in toBeInsertedLists:\n",
    "            tmp = ''\n",
    "            for li in range(len(tbil)):\n",
    "                tmp += tbil[li]*'('+'()'+tbil[li]*')'\n",
    "            ret.append(tmp)\n",
    "        return ret"
   ]
  },
  {
   "cell_type": "code",
   "execution_count": 55,
   "metadata": {
    "ExecuteTime": {
     "end_time": "2019-04-08T09:10:41.885409Z",
     "start_time": "2019-04-08T09:10:41.881419Z"
    }
   },
   "outputs": [
    {
     "name": "stdout",
     "output_type": "stream",
     "text": [
      "['(((())))', '()((()))', '(())(())', '((()))()', '()()(())', '()(())()', '(())()()', '()()()()']\n"
     ]
    }
   ],
   "source": [
    "so = Solution()\n",
    "print(so.generateParenthesis(4))"
   ]
  }
 ],
 "metadata": {
  "kernelspec": {
   "display_name": "Python 3",
   "language": "python",
   "name": "python3"
  },
  "language_info": {
   "codemirror_mode": {
    "name": "ipython",
    "version": 3
   },
   "file_extension": ".py",
   "mimetype": "text/x-python",
   "name": "python",
   "nbconvert_exporter": "python",
   "pygments_lexer": "ipython3",
   "version": "3.6.7"
  }
 },
 "nbformat": 4,
 "nbformat_minor": 2
}
