{
 "cells": [
  {
   "cell_type": "code",
   "execution_count": 28,
   "metadata": {
    "ExecuteTime": {
     "end_time": "2019-03-21T05:15:32.946145Z",
     "start_time": "2019-03-21T05:15:32.941130Z"
    }
   },
   "outputs": [],
   "source": [
    "class Solution:\n",
    "    def myAtoi(self, str: str) -> int:\n",
    "        if str == '':\n",
    "            return 0\n",
    "        validList = ['0', '1', '2', '3', '4', '5', '6', '7', '8', '9', '-', '+']\n",
    "        retStr = ''\n",
    "        for i in str.lstrip():\n",
    "            if i in validList:\n",
    "                retStr += i\n",
    "                validList = validList[:10]\n",
    "            else:\n",
    "                break\n",
    "        try:\n",
    "            retStr = int(retStr)\n",
    "        except:\n",
    "            retStr = '0'\n",
    "        ret = min(max(int(retStr), -2**31), 2**31-1)\n",
    "        return ret"
   ]
  },
  {
   "cell_type": "code",
   "execution_count": 29,
   "metadata": {
    "ExecuteTime": {
     "end_time": "2019-03-21T05:15:33.377672Z",
     "start_time": "2019-03-21T05:15:33.373654Z"
    }
   },
   "outputs": [
    {
     "name": "stdout",
     "output_type": "stream",
     "text": [
      "2147483647\n",
      "42\n",
      "-2147483648\n",
      "3434\n"
     ]
    }
   ],
   "source": [
    "so = Solution()\n",
    "print(so.myAtoi('56457457432 aa'))\n",
    "print(so.myAtoi('   +42'))\n",
    "print(so.myAtoi(\"-91283472332\"))\n",
    "print(so.myAtoi('3434-'))"
   ]
  }
 ],
 "metadata": {
  "kernelspec": {
   "display_name": "Python 3",
   "language": "python",
   "name": "python3"
  },
  "language_info": {
   "codemirror_mode": {
    "name": "ipython",
    "version": 3
   },
   "file_extension": ".py",
   "mimetype": "text/x-python",
   "name": "python",
   "nbconvert_exporter": "python",
   "pygments_lexer": "ipython3",
   "version": "3.6.7"
  }
 },
 "nbformat": 4,
 "nbformat_minor": 2
}
