{
 "cells": [
  {
   "cell_type": "code",
   "execution_count": 51,
   "metadata": {
    "ExecuteTime": {
     "end_time": "2019-04-19T02:12:03.176604Z",
     "start_time": "2019-04-19T02:12:03.163639Z"
    },
    "code_folding": [
     28,
     35,
     41
    ]
   },
   "outputs": [],
   "source": [
    "class Solution:\n",
    "    def permuteUnique(self, nums: list) -> list:\n",
    "        counters = self.counter(nums)\n",
    "        if not nums:\n",
    "            return [[]]\n",
    "        if len(nums) == 1:\n",
    "            return [nums]\n",
    "        ret, cnt, maxCnt = [], 0, self.factorial_(len(nums)) / self.reduceMul(list(map(self.factorial_, [counters[k] for k in counters.keys()])))\n",
    "        tmp = nums[:]\n",
    "        while cnt < maxCnt:\n",
    "            self.nextPermutation(tmp)\n",
    "            ret.append(tmp[:])\n",
    "            cnt += 1\n",
    "        return ret\n",
    "    \n",
    "    def factorial_(self, n):\n",
    "        result = 1\n",
    "        for i in range(2,n+1):\n",
    "            result *= i\n",
    "        return result\n",
    "    \n",
    "    def counter(self, nums):\n",
    "        retDict = {}\n",
    "        for n in nums:\n",
    "            retDict[n] = retDict[n] + 1 if retDict.get(n) else 1\n",
    "        return retDict\n",
    "    \n",
    "    def reduceMul(self, l):\n",
    "        assert len(l) > 0\n",
    "        ret = 1\n",
    "        for t in l:\n",
    "            ret *= t\n",
    "        return ret\n",
    "    \n",
    "    def factorial_(self, n):\n",
    "        result = 1\n",
    "        for i in range(2,n+1):\n",
    "            result *= i\n",
    "        return result\n",
    "    \n",
    "    def nextPermutation(self, nums: list) -> None:\n",
    "        \"\"\"\n",
    "        Do not return anything, modify nums in-place instead.\n",
    "        \"\"\"\n",
    "\n",
    "        # from right to left, find the first peak, switch peak and the one left beside peak\n",
    "        cnt = 0\n",
    "        bDescending = True\n",
    "        while cnt < len(nums) - 1:\n",
    "            if nums[-1 - cnt] > nums[-1 - cnt - 1]:\n",
    "                k = 1\n",
    "                bBreak = False\n",
    "                bDescending = False\n",
    "                while k <= cnt:\n",
    "                    if nums[-1 - cnt - 1] >= nums[-1 - cnt + k]:\n",
    "                        nums[-1 - cnt - 1], nums[-1 - cnt + k - 1] = nums[-1 - cnt + k - 1], nums[-1 - cnt - 1]\n",
    "                        bBreak = True\n",
    "                        break\n",
    "                    k += 1\n",
    "                if bBreak:\n",
    "                    break\n",
    "                nums[-1 - cnt - 1], nums[-1] = nums[-1], nums[-1 - cnt - 1]\n",
    "                break\n",
    "            cnt += 1\n",
    "\n",
    "        if not bDescending:\n",
    "            # reverse the rest part ascendingly\n",
    "            for i in range(len(nums)-cnt-1, len(nums)-cnt+cnt//2):\n",
    "                nums[i], nums[-1-(i+cnt-len(nums)+1)] = nums[-1-(i+cnt-len(nums)+1)], nums[i]\n",
    "        else:\n",
    "            for i in range(len(nums)//2):\n",
    "                nums[i], nums[-1-i] = nums[-1-i], nums[i]"
   ]
  },
  {
   "cell_type": "code",
   "execution_count": 52,
   "metadata": {
    "ExecuteTime": {
     "end_time": "2019-04-19T02:12:03.422479Z",
     "start_time": "2019-04-19T02:12:03.419488Z"
    }
   },
   "outputs": [
    {
     "name": "stdout",
     "output_type": "stream",
     "text": [
      "[[1, 1, 3, 2], [1, 2, 1, 3], [1, 2, 3, 1], [1, 3, 1, 2], [1, 3, 2, 1], [2, 1, 1, 3], [2, 1, 3, 1], [2, 3, 1, 1], [3, 1, 1, 2], [3, 1, 2, 1], [3, 2, 1, 1], [1, 1, 2, 3]]\n"
     ]
    }
   ],
   "source": [
    "so = Solution()\n",
    "print(so.permuteUnique([1,1,2,3]))"
   ]
  }
 ],
 "metadata": {
  "kernelspec": {
   "display_name": "Python 3",
   "language": "python",
   "name": "python3"
  },
  "language_info": {
   "codemirror_mode": {
    "name": "ipython",
    "version": 3
   },
   "file_extension": ".py",
   "mimetype": "text/x-python",
   "name": "python",
   "nbconvert_exporter": "python",
   "pygments_lexer": "ipython3",
   "version": "3.6.5"
  },
  "latex_envs": {
   "LaTeX_envs_menu_present": true,
   "autoclose": false,
   "autocomplete": true,
   "bibliofile": "biblio.bib",
   "cite_by": "apalike",
   "current_citInitial": 1,
   "eqLabelWithNumbers": true,
   "eqNumInitial": 1,
   "hotkeys": {
    "equation": "Ctrl-E",
    "itemize": "Ctrl-I"
   },
   "labels_anchors": false,
   "latex_user_defs": false,
   "report_style_numbering": false,
   "user_envs_cfg": false
  },
  "nbTranslate": {
   "displayLangs": [
    "*"
   ],
   "hotkey": "alt-t",
   "langInMainMenu": true,
   "sourceLang": "en",
   "targetLang": "fr",
   "useGoogleTranslate": true
  },
  "toc": {
   "base_numbering": 1,
   "nav_menu": {},
   "number_sections": true,
   "sideBar": true,
   "skip_h1_title": false,
   "title_cell": "Table of Contents",
   "title_sidebar": "Contents",
   "toc_cell": false,
   "toc_position": {},
   "toc_section_display": true,
   "toc_window_display": false
  },
  "varInspector": {
   "cols": {
    "lenName": 16,
    "lenType": 16,
    "lenVar": 40
   },
   "kernels_config": {
    "python": {
     "delete_cmd_postfix": "",
     "delete_cmd_prefix": "del ",
     "library": "var_list.py",
     "varRefreshCmd": "print(var_dic_list())"
    },
    "r": {
     "delete_cmd_postfix": ") ",
     "delete_cmd_prefix": "rm(",
     "library": "var_list.r",
     "varRefreshCmd": "cat(var_dic_list()) "
    }
   },
   "types_to_exclude": [
    "module",
    "function",
    "builtin_function_or_method",
    "instance",
    "_Feature"
   ],
   "window_display": false
  }
 },
 "nbformat": 4,
 "nbformat_minor": 2
}
