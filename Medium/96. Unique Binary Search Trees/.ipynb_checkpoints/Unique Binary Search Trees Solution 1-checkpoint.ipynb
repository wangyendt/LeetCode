{
 "cells": [
  {
   "cell_type": "code",
   "execution_count": 110,
   "metadata": {
    "ExecuteTime": {
     "end_time": "2019-05-25T09:16:27.169864Z",
     "start_time": "2019-05-25T09:16:27.160874Z"
    }
   },
   "outputs": [],
   "source": [
    "class Solution:\n",
    "    def numTrees(self, n: int) -> int:\n",
    "        dp = [[[0 for _ in range(n+1)] for _ in range(n+1)] for _ in range(n+1)]\n",
    "        for i in range(1, n+1):\n",
    "            for j in range(i):\n",
    "                if i == 1:\n",
    "                    dp[i][j][i-1-j] = 1\n",
    "                else:\n",
    "                    for p in range(j+1):\n",
    "                        for q in range(i-j):\n",
    "                            if j == 0:\n",
    "                                dp[i][j][i-1] += dp[i-1-j][q][i-1-j-1-q]\n",
    "                            elif j == i-1:\n",
    "                                dp[i][j][i-1-j] += dp[j][p][j-1-p]\n",
    "                            else:\n",
    "                                dp[i][j][i-1-j] += dp[j][p][j-1-p]*dp[i-1-j][q][i-1-j-1-q]\n",
    "        ret = 0\n",
    "        for i in range(n):\n",
    "            ret += dp[n][i][n-1-i]\n",
    "#         [print(d) for d in dp]\n",
    "        return ret"
   ]
  },
  {
   "cell_type": "code",
   "execution_count": 111,
   "metadata": {
    "ExecuteTime": {
     "end_time": "2019-05-25T09:16:27.468098Z",
     "start_time": "2019-05-25T09:16:27.464119Z"
    }
   },
   "outputs": [
    {
     "name": "stdout",
     "output_type": "stream",
     "text": [
      "[[0, 0, 0, 0], [0, 0, 0, 0], [0, 0, 0, 0], [0, 0, 0, 0]]\n",
      "[[1, 0, 0, 0], [0, 0, 0, 0], [0, 0, 0, 0], [0, 0, 0, 0]]\n",
      "[[0, 1, 0, 0], [1, 0, 0, 0], [0, 0, 0, 0], [0, 0, 0, 0]]\n",
      "[[0, 0, 2, 0], [0, 1, 0, 0], [2, 0, 0, 0], [0, 0, 0, 0]]\n",
      "5\n"
     ]
    }
   ],
   "source": [
    "so = Solution()\n",
    "print(so.numTrees(3))"
   ]
  }
 ],
 "metadata": {
  "kernelspec": {
   "display_name": "Python 3",
   "language": "python",
   "name": "python3"
  },
  "language_info": {
   "codemirror_mode": {
    "name": "ipython",
    "version": 3
   },
   "file_extension": ".py",
   "mimetype": "text/x-python",
   "name": "python",
   "nbconvert_exporter": "python",
   "pygments_lexer": "ipython3",
   "version": "3.7.0"
  },
  "latex_envs": {
   "LaTeX_envs_menu_present": true,
   "autoclose": false,
   "autocomplete": true,
   "bibliofile": "biblio.bib",
   "cite_by": "apalike",
   "current_citInitial": 1,
   "eqLabelWithNumbers": true,
   "eqNumInitial": 1,
   "hotkeys": {
    "equation": "Ctrl-E",
    "itemize": "Ctrl-I"
   },
   "labels_anchors": false,
   "latex_user_defs": false,
   "report_style_numbering": false,
   "user_envs_cfg": false
  }
 },
 "nbformat": 4,
 "nbformat_minor": 2
}
