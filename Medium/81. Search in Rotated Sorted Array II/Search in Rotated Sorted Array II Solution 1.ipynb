{
 "cells": [
  {
   "cell_type": "code",
   "execution_count": 10,
   "metadata": {
    "ExecuteTime": {
     "end_time": "2019-05-10T14:15:26.056297Z",
     "start_time": "2019-05-10T14:15:26.051284Z"
    }
   },
   "outputs": [],
   "source": [
    "class Solution:\n",
    "    def search(self, nums: list, target: int) -> int:\n",
    "        l, r = 0, len(nums) - 1 \n",
    "        while l <= r:\n",
    "            m = (l + r) // 2\n",
    "            if nums[m] == target:\n",
    "                return True\n",
    "            if nums[m] > nums[l]:\n",
    "                if nums[m] > target and nums[l] <= target:\n",
    "                    r = m - 1\n",
    "                else:\n",
    "                    l = m + 1\n",
    "            elif nums[m] < nums[l]:\n",
    "                if nums[m] < target and nums[r] >= target:\n",
    "                    l = m + 1\n",
    "                else:\n",
    "                    r = m - 1\n",
    "            else:\n",
    "                l += 1\n",
    "        return False"
   ]
  },
  {
   "cell_type": "code",
   "execution_count": 11,
   "metadata": {
    "ExecuteTime": {
     "end_time": "2019-05-10T14:15:26.245352Z",
     "start_time": "2019-05-10T14:15:26.241322Z"
    }
   },
   "outputs": [
    {
     "name": "stdout",
     "output_type": "stream",
     "text": [
      "True True\n",
      "False False\n",
      "True True\n"
     ]
    }
   ],
   "source": [
    "so = Solution()\n",
    "print(so.search([2,5,6,0,0,1,2],0),True)\n",
    "print(so.search([2,5,6,0,0,1,2],3),False)\n",
    "print(so.search([1,3,1,1],3),True)"
   ]
  }
 ],
 "metadata": {
  "kernelspec": {
   "display_name": "Python 3",
   "language": "python",
   "name": "python3"
  },
  "language_info": {
   "codemirror_mode": {
    "name": "ipython",
    "version": 3
   },
   "file_extension": ".py",
   "mimetype": "text/x-python",
   "name": "python",
   "nbconvert_exporter": "python",
   "pygments_lexer": "ipython3",
   "version": "3.7.0"
  },
  "latex_envs": {
   "LaTeX_envs_menu_present": true,
   "autoclose": false,
   "autocomplete": true,
   "bibliofile": "biblio.bib",
   "cite_by": "apalike",
   "current_citInitial": 1,
   "eqLabelWithNumbers": true,
   "eqNumInitial": 1,
   "hotkeys": {
    "equation": "Ctrl-E",
    "itemize": "Ctrl-I"
   },
   "labels_anchors": false,
   "latex_user_defs": false,
   "report_style_numbering": false,
   "user_envs_cfg": false
  }
 },
 "nbformat": 4,
 "nbformat_minor": 2
}
