{
 "cells": [
  {
   "cell_type": "code",
   "execution_count": 52,
   "metadata": {
    "ExecuteTime": {
     "end_time": "2019-04-01T17:36:02.823918Z",
     "start_time": "2019-04-01T17:36:02.816885Z"
    }
   },
   "outputs": [],
   "source": [
    "# Definition for singly-linked list.\n",
    "class ListNode:\n",
    "    def __init__(self, x):\n",
    "        self.val = x\n",
    "        self.next = None\n",
    "\n",
    "class Solution:\n",
    "    def removeNthFromEnd(self, head: ListNode, n: int) -> ListNode:\n",
    "        self.cnt = 0\n",
    "        self.n = n\n",
    "        ret = self.recursive(head)\n",
    "        if self.n == self.cnt:\n",
    "            ret = head.next\n",
    "        return ret\n",
    "    \n",
    "    def recursive(self, ln):\n",
    "        if ln:\n",
    "            tmp = self.recursive(ln.next)\n",
    "            if self.cnt == self.n:\n",
    "                ln.next = tmp.next\n",
    "            else:\n",
    "                ln.next = tmp\n",
    "            self.cnt += 1\n",
    "        return ln\n",
    "    \n",
    "    def generateListNode(self, *x):\n",
    "        ret, tmp = None, None\n",
    "        x = x[::-1]\n",
    "        for t in x:\n",
    "            ret = ListNode(t)\n",
    "            ret.next = tmp\n",
    "            tmp = ret\n",
    "        return ret\n",
    "    \n",
    "    def printListNode(self, listNode):\n",
    "        if not listNode:\n",
    "            return 'NULL'\n",
    "        ret = ''\n",
    "        while listNode:\n",
    "            ret += str(listNode.val)\n",
    "            if listNode.next != None:\n",
    "                ret += ' -> '\n",
    "            listNode = listNode.next\n",
    "        return ret"
   ]
  },
  {
   "cell_type": "code",
   "execution_count": 53,
   "metadata": {
    "ExecuteTime": {
     "end_time": "2019-04-01T17:36:03.298268Z",
     "start_time": "2019-04-01T17:36:03.294737Z"
    }
   },
   "outputs": [
    {
     "name": "stdout",
     "output_type": "stream",
     "text": [
      "1 -> 2 -> 3 -> 4 5\n",
      "1 -> 2 -> 3 -> 5 5\n",
      "1 -> 2 -> 4 -> 5 5\n",
      "1 -> 3 -> 4 -> 5 5\n",
      "2 -> 3 -> 4 -> 5 5\n"
     ]
    }
   ],
   "source": [
    "so = Solution()\n",
    "for i in range(1, 6):\n",
    "    ln = so.generateListNode(1,2,3,4,5)\n",
    "    print(so.printListNode(so.removeNthFromEnd(ln,i)), so.cnt)"
   ]
  }
 ],
 "metadata": {
  "kernelspec": {
   "display_name": "Python 3",
   "language": "python",
   "name": "python3"
  },
  "language_info": {
   "codemirror_mode": {
    "name": "ipython",
    "version": 3
   },
   "file_extension": ".py",
   "mimetype": "text/x-python",
   "name": "python",
   "nbconvert_exporter": "python",
   "pygments_lexer": "ipython3",
   "version": "3.6.7"
  },
  "latex_envs": {
   "LaTeX_envs_menu_present": true,
   "autoclose": false,
   "autocomplete": true,
   "bibliofile": "biblio.bib",
   "cite_by": "apalike",
   "current_citInitial": 1,
   "eqLabelWithNumbers": true,
   "eqNumInitial": 1,
   "hotkeys": {
    "equation": "Ctrl-E",
    "itemize": "Ctrl-I"
   },
   "labels_anchors": false,
   "latex_user_defs": false,
   "report_style_numbering": false,
   "user_envs_cfg": false
  },
  "varInspector": {
   "cols": {
    "lenName": 16,
    "lenType": 16,
    "lenVar": 40
   },
   "kernels_config": {
    "python": {
     "delete_cmd_postfix": "",
     "delete_cmd_prefix": "del ",
     "library": "var_list.py",
     "varRefreshCmd": "print(var_dic_list())"
    },
    "r": {
     "delete_cmd_postfix": ") ",
     "delete_cmd_prefix": "rm(",
     "library": "var_list.r",
     "varRefreshCmd": "cat(var_dic_list()) "
    }
   },
   "types_to_exclude": [
    "module",
    "function",
    "builtin_function_or_method",
    "instance",
    "_Feature"
   ],
   "window_display": false
  }
 },
 "nbformat": 4,
 "nbformat_minor": 2
}
