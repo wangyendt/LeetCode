{
 "cells": [
  {
   "cell_type": "code",
   "execution_count": 42,
   "metadata": {
    "ExecuteTime": {
     "end_time": "2019-04-29T10:10:31.795076Z",
     "start_time": "2019-04-29T10:10:31.787108Z"
    }
   },
   "outputs": [],
   "source": [
    "class Solution:\n",
    "    def searchMatrix(self, matrix: list(list()), target: int) -> bool:\n",
    "        if not matrix or not matrix[0]:\n",
    "            return False\n",
    "        m, n = len(matrix), len(matrix[0])\n",
    "        u, d, specRow = 0, m-1, -1\n",
    "        while True:\n",
    "            if d == u:\n",
    "                specRow = u\n",
    "                break\n",
    "            elif d - u == 1:\n",
    "                if target == matrix[d][0]:\n",
    "                    return True\n",
    "                if matrix[u][0] <= target < matrix[d][0]:\n",
    "                    specRow = u\n",
    "                    break\n",
    "                else:\n",
    "                    specRow = m-1\n",
    "                    break\n",
    "            mid = (u+d) // 2\n",
    "            if target == matrix[mid][0]:\n",
    "                return True\n",
    "            elif target < matrix[mid][0]:\n",
    "                d = mid\n",
    "            else:\n",
    "                u = mid\n",
    "        l, r = 0, n-1\n",
    "        while True:\n",
    "            if r == l:\n",
    "                return target == matrix[specRow][l]\n",
    "            if r - l == 1:\n",
    "                if target == matrix[specRow][l] or target == matrix[specRow][r]:\n",
    "                    return True\n",
    "                return False\n",
    "            mid = (l+r) // 2\n",
    "            if target == matrix[specRow][mid]:\n",
    "                return True\n",
    "            elif target < matrix[specRow][mid]:\n",
    "                r = mid\n",
    "            else:\n",
    "                l = mid"
   ]
  },
  {
   "cell_type": "code",
   "execution_count": 43,
   "metadata": {
    "ExecuteTime": {
     "end_time": "2019-04-29T10:10:31.968612Z",
     "start_time": "2019-04-29T10:10:31.961632Z"
    }
   },
   "outputs": [
    {
     "name": "stdout",
     "output_type": "stream",
     "text": [
      "True True\n",
      "False False\n",
      "True True\n",
      "False False\n",
      "True True\n",
      "False False\n",
      "True True\n",
      "True True\n",
      "False False\n"
     ]
    }
   ],
   "source": [
    "so = Solution()\n",
    "print(so.searchMatrix([\n",
    "  [1,   3,  5,  7],\n",
    "  [10, 11, 16, 20],\n",
    "  [23, 30, 34, 50]\n",
    "], 3),True)\n",
    "print(so.searchMatrix([\n",
    "  [1,   3,  5,  7],\n",
    "  [10, 11, 16, 20],\n",
    "  [23, 30, 34, 50]\n",
    "], 13),False)\n",
    "print(so.searchMatrix([\n",
    "  [1, 2],\n",
    "  [3, 4]\n",
    "], 2),True)\n",
    "print(so.searchMatrix([\n",
    "  [1, 2],\n",
    "  [3, 4]\n",
    "], 5),False)\n",
    "print(so.searchMatrix([\n",
    "  [1]\n",
    "], 1),True)\n",
    "print(so.searchMatrix([\n",
    "  [1]\n",
    "], 5),False)\n",
    "print(so.searchMatrix([\n",
    "    [1],[3]\n",
    "], 3),True)\n",
    "print(so.searchMatrix([[1,3,5,7],[10,11,16,20],[23,30,34,50]],\n",
    "30),True)\n",
    "print(so.searchMatrix([[1,3,5,7],[10,11,16,20],[23,30,34,50]],\n",
    "500),False)"
   ]
  }
 ],
 "metadata": {
  "kernelspec": {
   "display_name": "Python 3",
   "language": "python",
   "name": "python3"
  },
  "language_info": {
   "codemirror_mode": {
    "name": "ipython",
    "version": 3
   },
   "file_extension": ".py",
   "mimetype": "text/x-python",
   "name": "python",
   "nbconvert_exporter": "python",
   "pygments_lexer": "ipython3",
   "version": "3.6.7"
  }
 },
 "nbformat": 4,
 "nbformat_minor": 2
}
