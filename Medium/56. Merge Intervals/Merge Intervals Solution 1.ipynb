{
 "cells": [
  {
   "cell_type": "code",
   "execution_count": 32,
   "metadata": {
    "ExecuteTime": {
     "end_time": "2019-04-29T02:45:58.602204Z",
     "start_time": "2019-04-29T02:45:58.596193Z"
    }
   },
   "outputs": [],
   "source": [
    "class Solution:\n",
    "    def merge(self, intervals: list(list())) -> list(list()):\n",
    "        intervals = sorted(intervals, key=lambda x: x[0])\n",
    "        ret = []\n",
    "        for inter in intervals:\n",
    "            if not ret:\n",
    "                ret.append(inter)\n",
    "                l, r = inter[0], inter[1]\n",
    "            else:\n",
    "                if r < inter[0]:\n",
    "                    ret.append(inter)\n",
    "                    r = inter[1]\n",
    "                elif r >= inter[1]:\n",
    "                    pass\n",
    "                else: # inter[0] <= r < inter[1]\n",
    "                    ret[-1] = [ret[-1][0], inter[1]]\n",
    "                    r = inter[1]\n",
    "        return ret"
   ]
  },
  {
   "cell_type": "code",
   "execution_count": 34,
   "metadata": {
    "ExecuteTime": {
     "end_time": "2019-04-29T02:46:04.081522Z",
     "start_time": "2019-04-29T02:46:04.076538Z"
    }
   },
   "outputs": [
    {
     "name": "stdout",
     "output_type": "stream",
     "text": [
      "[[1, 6], [8, 10], [15, 18]] [[1, 6], [8, 10], [15, 18]]\n",
      "[[1, 5]] [1, 5]\n",
      "[[1, 3], [4, 7]] [[1, 3], [4, 7]]\n"
     ]
    }
   ],
   "source": [
    "so = Solution()\n",
    "print(so.merge([[1,3],[2,6],[8,10],[15,18]]), [[1,6],[8,10],[15,18]])\n",
    "print(so.merge([[1,4],[4,5]]), [1,5])\n",
    "print(so.merge([[2,3],[2,2],[3,3],[1,3],[5,7],[2,2],[4,6]]), [[1,3],[4,7]])"
   ]
  }
 ],
 "metadata": {
  "kernelspec": {
   "display_name": "Python 3",
   "language": "python",
   "name": "python3"
  },
  "language_info": {
   "codemirror_mode": {
    "name": "ipython",
    "version": 3
   },
   "file_extension": ".py",
   "mimetype": "text/x-python",
   "name": "python",
   "nbconvert_exporter": "python",
   "pygments_lexer": "ipython3",
   "version": "3.6.7"
  }
 },
 "nbformat": 4,
 "nbformat_minor": 2
}
