{
 "cells": [
  {
   "cell_type": "code",
   "execution_count": 3,
   "metadata": {
    "ExecuteTime": {
     "end_time": "2019-04-29T02:53:31.192054Z",
     "start_time": "2019-04-29T02:53:31.184075Z"
    }
   },
   "outputs": [],
   "source": [
    "class Solution:\n",
    "    def generateMatrix(self, n: int) -> list(tuple()):\n",
    "        mat = [[0 for _ in range(n)] for _ in range(n)]\n",
    "        order = self.spiralOrder(mat)\n",
    "        cnt = 1\n",
    "        for o in order:\n",
    "            mat[o[0]][o[1]] = cnt\n",
    "            cnt += 1\n",
    "        return mat\n",
    "    \n",
    "    def spiralOrder(self, matrix: list(list())) -> list:\n",
    "        if not matrix or not matrix[0]:\n",
    "            return []\n",
    "        # action = ['up', 'right', 'down', 'left']\n",
    "        move, cnt, m, n, x, y, ret = 1, 0, len(matrix), len(matrix[0]), 0, 0, []\n",
    "        while cnt < m * n - 1:\n",
    "            if move == 0:\n",
    "                nextX, nextY = x-1, y\n",
    "            elif move == 1:\n",
    "                nextX, nextY = x, y+1\n",
    "            elif move == 2:\n",
    "                nextX, nextY = x+1, y\n",
    "            elif move == 3:\n",
    "                nextX, nextY = x, y-1\n",
    "            if 0 <= nextX < m and 0 <= nextY < n and matrix[nextX][nextY] != None:\n",
    "                cnt += 1\n",
    "                ret.append((x,y))\n",
    "                matrix[x][y] = None\n",
    "                x, y = nextX, nextY\n",
    "            else:\n",
    "                move = (move + 1) % 4\n",
    "        ret.append((x,y))\n",
    "        return ret"
   ]
  },
  {
   "cell_type": "code",
   "execution_count": 4,
   "metadata": {
    "ExecuteTime": {
     "end_time": "2019-04-29T02:53:31.369578Z",
     "start_time": "2019-04-29T02:53:31.365588Z"
    }
   },
   "outputs": [
    {
     "name": "stdout",
     "output_type": "stream",
     "text": [
      "[[1, 2, 3], [8, 9, 4], [7, 6, 5]] [[1, 2, 3], [8, 9, 4], [7, 6, 5]]\n"
     ]
    }
   ],
   "source": [
    "so = Solution()\n",
    "print(so.generateMatrix(3),\n",
    "[\n",
    " [ 1, 2, 3 ],\n",
    " [ 8, 9, 4 ],\n",
    " [ 7, 6, 5 ]\n",
    "])"
   ]
  }
 ],
 "metadata": {
  "kernelspec": {
   "display_name": "Python 3",
   "language": "python",
   "name": "python3"
  },
  "language_info": {
   "codemirror_mode": {
    "name": "ipython",
    "version": 3
   },
   "file_extension": ".py",
   "mimetype": "text/x-python",
   "name": "python",
   "nbconvert_exporter": "python",
   "pygments_lexer": "ipython3",
   "version": "3.6.7"
  }
 },
 "nbformat": 4,
 "nbformat_minor": 2
}
