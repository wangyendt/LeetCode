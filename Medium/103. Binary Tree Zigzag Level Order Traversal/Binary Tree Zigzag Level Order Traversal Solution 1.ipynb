{
 "cells": [
  {
   "cell_type": "code",
   "execution_count": null,
   "metadata": {},
   "outputs": [],
   "source": [
    "# Definition for a binary tree node.\n",
    "class TreeNode:\n",
    "    def __init__(self, x):\n",
    "        self.val = x\n",
    "        self.left = None\n",
    "        self.right = None\n",
    "\n",
    "class Solution:\n",
    "    def zigzagLevelOrder(self, root: TreeNode) -> list(list()):\n",
    "        lvlDict = {}\n",
    "        def recursive(tree, lvl):\n",
    "            if tree:\n",
    "                if lvlDict.get(lvl):\n",
    "                    lvlDict[lvl].append(tree.val)\n",
    "                else:\n",
    "                    lvlDict[lvl] = [tree.val]\n",
    "                recursive(tree.left, lvl+1)\n",
    "                recursive(tree.right, lvl+1)\n",
    "        recursive(root, 0)\n",
    "        ret = [[] for _ in range(len(lvlDict.keys()))]\n",
    "        p = True\n",
    "        for i in lvlDict.keys():\n",
    "            if p:\n",
    "                ret[i] = lvlDict[i]\n",
    "            else:\n",
    "                ret[i] = lvlDict[i][::-1]\n",
    "            p = not p\n",
    "        return ret"
   ]
  }
 ],
 "metadata": {
  "kernelspec": {
   "display_name": "Python 3",
   "language": "python",
   "name": "python3"
  },
  "language_info": {
   "codemirror_mode": {
    "name": "ipython",
    "version": 3
   },
   "file_extension": ".py",
   "mimetype": "text/x-python",
   "name": "python",
   "nbconvert_exporter": "python",
   "pygments_lexer": "ipython3",
   "version": "3.7.0"
  },
  "latex_envs": {
   "LaTeX_envs_menu_present": true,
   "autoclose": false,
   "autocomplete": true,
   "bibliofile": "biblio.bib",
   "cite_by": "apalike",
   "current_citInitial": 1,
   "eqLabelWithNumbers": true,
   "eqNumInitial": 1,
   "hotkeys": {
    "equation": "Ctrl-E",
    "itemize": "Ctrl-I"
   },
   "labels_anchors": false,
   "latex_user_defs": false,
   "report_style_numbering": false,
   "user_envs_cfg": false
  }
 },
 "nbformat": 4,
 "nbformat_minor": 2
}
