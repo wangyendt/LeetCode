{
 "cells": [
  {
   "cell_type": "code",
   "execution_count": 1,
   "metadata": {
    "ExecuteTime": {
     "end_time": "2019-03-20T04:07:38.654659Z",
     "start_time": "2019-03-20T04:07:38.649643Z"
    }
   },
   "outputs": [],
   "source": [
    "# Definition for singly-linked list.\n",
    "class ListNode:\n",
    "    def __init__(self, x):\n",
    "        self.val = x\n",
    "        self.next = None"
   ]
  },
  {
   "cell_type": "code",
   "execution_count": 2,
   "metadata": {
    "ExecuteTime": {
     "end_time": "2019-03-20T04:07:38.744149Z",
     "start_time": "2019-03-20T04:07:38.658666Z"
    }
   },
   "outputs": [],
   "source": [
    "class Solution:\n",
    "    def addTwoNumbers(self, l1: ListNode, l2: ListNode) -> ListNode:\n",
    "        retLN = None\n",
    "        retLN = self.add(l1, l2, 0)\n",
    "        return retLN\n",
    "    \n",
    "    def add(self, l1, l2, carry):\n",
    "        localSum = carry + (l1.val if l1 else 0) + (l2.val if l2 else 0)\n",
    "        carry = localSum // 10\n",
    "        tmp, LNNode = None, None\n",
    "        if l1 or l2:\n",
    "            tmp = self.add(l1.next if l1 else None, l2.next if l2 else None, carry)\n",
    "            LNNode = ListNode(localSum % 10)\n",
    "            LNNode.next = tmp\n",
    "        else:\n",
    "            if localSum % 10:\n",
    "                LNNode = ListNode(localSum % 10)\n",
    "        return LNNode\n",
    "        \n",
    "    def LN2Num(self, listNodeX):\n",
    "        num_x = 0\n",
    "        while listNodeX != None:\n",
    "            num_x = num_x * 10 + listNodeX.val\n",
    "            listNodeX = listNodeX.next\n",
    "        return num_x\n",
    "    def Num2LN(self, val):\n",
    "        tmp = ListNode(val % 10)\n",
    "        lnList = []\n",
    "        while val != 0:\n",
    "            tmp = ListNode(val % 10)\n",
    "            tmp.next = lnList[0] if len(lnList) > 0 else None\n",
    "            lnList.insert(0, tmp)\n",
    "            val = val // 10\n",
    "        return tmp"
   ]
  },
  {
   "cell_type": "code",
   "execution_count": 3,
   "metadata": {
    "ExecuteTime": {
     "end_time": "2019-03-20T04:07:38.883525Z",
     "start_time": "2019-03-20T04:07:38.746110Z"
    }
   },
   "outputs": [
    {
     "name": "stdout",
     "output_type": "stream",
     "text": [
      "0 1 None\n"
     ]
    }
   ],
   "source": [
    "so = Solution()\n",
    "l1 = so.Num2LN(5)\n",
    "l2 = so.Num2LN(5)\n",
    "# ln_sum = so.addTwoNumbers(l1,l1)\n",
    "li = so.addTwoNumbers(l1, l2)\n",
    "print(li.val, li.next.val, li.next.next)"
   ]
  }
 ],
 "metadata": {
  "kernelspec": {
   "display_name": "Python 3",
   "language": "python",
   "name": "python3"
  },
  "language_info": {
   "codemirror_mode": {
    "name": "ipython",
    "version": 3
   },
   "file_extension": ".py",
   "mimetype": "text/x-python",
   "name": "python",
   "nbconvert_exporter": "python",
   "pygments_lexer": "ipython3",
   "version": "3.6.7"
  },
  "latex_envs": {
   "LaTeX_envs_menu_present": true,
   "autoclose": false,
   "autocomplete": true,
   "bibliofile": "biblio.bib",
   "cite_by": "apalike",
   "current_citInitial": 1,
   "eqLabelWithNumbers": true,
   "eqNumInitial": 1,
   "hotkeys": {
    "equation": "Ctrl-E",
    "itemize": "Ctrl-I"
   },
   "labels_anchors": false,
   "latex_user_defs": false,
   "report_style_numbering": false,
   "user_envs_cfg": false
  },
  "varInspector": {
   "cols": {
    "lenName": 16,
    "lenType": 16,
    "lenVar": 40
   },
   "kernels_config": {
    "python": {
     "delete_cmd_postfix": "",
     "delete_cmd_prefix": "del ",
     "library": "var_list.py",
     "varRefreshCmd": "print(var_dic_list())"
    },
    "r": {
     "delete_cmd_postfix": ") ",
     "delete_cmd_prefix": "rm(",
     "library": "var_list.r",
     "varRefreshCmd": "cat(var_dic_list()) "
    }
   },
   "types_to_exclude": [
    "module",
    "function",
    "builtin_function_or_method",
    "instance",
    "_Feature"
   ],
   "window_display": false
  }
 },
 "nbformat": 4,
 "nbformat_minor": 2
}
