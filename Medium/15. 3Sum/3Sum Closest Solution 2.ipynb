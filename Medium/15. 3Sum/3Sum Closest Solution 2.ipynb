{
 "cells": [
  {
   "cell_type": "code",
   "execution_count": 10,
   "metadata": {
    "ExecuteTime": {
     "end_time": "2019-04-01T15:56:45.866542Z",
     "start_time": "2019-04-01T15:56:45.861026Z"
    }
   },
   "outputs": [],
   "source": [
    "class Solution:\n",
    "    def threeSumClosest(self, nums, target: int) -> int:\n",
    "        if len(nums) == 3:\n",
    "            return sum(nums)\n",
    "        nums.sort()\n",
    "        ret = nums[0] + nums[1] + nums[-1]\n",
    "        for i in range(len(nums)-2):\n",
    "            left, right = i+1, len(nums)-1\n",
    "            while left < right:\n",
    "                s = nums[i] + nums[left] + nums[right]\n",
    "                if s > target:\n",
    "                    right -= 1\n",
    "                else:\n",
    "                    left += 1\n",
    "                ret = s if abs(ret-target) > abs(s-target) else ret\n",
    "        return ret"
   ]
  },
  {
   "cell_type": "code",
   "execution_count": 11,
   "metadata": {
    "ExecuteTime": {
     "end_time": "2019-04-01T15:56:46.254239Z",
     "start_time": "2019-04-01T15:56:46.251229Z"
    }
   },
   "outputs": [
    {
     "name": "stdout",
     "output_type": "stream",
     "text": [
      "-1\n"
     ]
    }
   ],
   "source": [
    "so = Solution()\n",
    "# print(so.threeSumClosest([-94,89,-83,-69,-21,-77,-12,-78,-72,-72,-16,-15,75,-77,95,98,-50,-14,42,76,-79,-33,-86,65,-9,97,-11,16,41,-73,-45,21,22,59,86,-93,85,-54,69,28,-20,35,34,16,-77,-9,-92,48,-33,9,-40,-14,-60,95,53,-38,45,4,-90,21,-8,-53,27,45,40,-44,89,3,-94,8,-53,-86,85,-44,44,6,-27,-18,93,14,50,-44,84,18,78,-89,-38,96,98,-62,-36,-25,-94,-17,39,-50,-57,-93,6,-83,-2,48,-78,95,14,48,-91,-12,83,-1,-95,-76,-10,91,10,33,76,85,90,-61,1,-53,-15,-41,-28,86,-59,39,62,84,-34,-17,-64,96,-13,-57,-99,72,-75,77,20,57,56,46,-91,-21,-46,-66,-6,-30,-51,100,-29,-95,83,-38,32,13,90,-37,-54,2,63,77,-63,54,25,-61,23,91,58,40,23,-9,78,92,-37,-98,29,0,-79,37,-73,-92,18,100,-77,-99,58,-12,-87,99,64,-21,-69,16,-41,18,50,7,-57,-10,11,67,-48,-36],185))\n",
    "print(so.threeSumClosest([1,1,-1,-1,3],-1))"
   ]
  }
 ],
 "metadata": {
  "kernelspec": {
   "display_name": "Python 3",
   "language": "python",
   "name": "python3"
  },
  "language_info": {
   "codemirror_mode": {
    "name": "ipython",
    "version": 3
   },
   "file_extension": ".py",
   "mimetype": "text/x-python",
   "name": "python",
   "nbconvert_exporter": "python",
   "pygments_lexer": "ipython3",
   "version": "3.6.7"
  },
  "latex_envs": {
   "LaTeX_envs_menu_present": true,
   "autoclose": false,
   "autocomplete": true,
   "bibliofile": "biblio.bib",
   "cite_by": "apalike",
   "current_citInitial": 1,
   "eqLabelWithNumbers": true,
   "eqNumInitial": 1,
   "hotkeys": {
    "equation": "Ctrl-E",
    "itemize": "Ctrl-I"
   },
   "labels_anchors": false,
   "latex_user_defs": false,
   "report_style_numbering": false,
   "user_envs_cfg": false
  },
  "varInspector": {
   "cols": {
    "lenName": 16,
    "lenType": 16,
    "lenVar": 40
   },
   "kernels_config": {
    "python": {
     "delete_cmd_postfix": "",
     "delete_cmd_prefix": "del ",
     "library": "var_list.py",
     "varRefreshCmd": "print(var_dic_list())"
    },
    "r": {
     "delete_cmd_postfix": ") ",
     "delete_cmd_prefix": "rm(",
     "library": "var_list.r",
     "varRefreshCmd": "cat(var_dic_list()) "
    }
   },
   "types_to_exclude": [
    "module",
    "function",
    "builtin_function_or_method",
    "instance",
    "_Feature"
   ],
   "window_display": false
  }
 },
 "nbformat": 4,
 "nbformat_minor": 2
}
