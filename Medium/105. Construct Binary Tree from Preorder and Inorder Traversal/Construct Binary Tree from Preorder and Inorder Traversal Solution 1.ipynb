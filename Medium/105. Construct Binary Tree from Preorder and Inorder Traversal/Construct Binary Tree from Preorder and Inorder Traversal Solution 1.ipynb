{
 "cells": [
  {
   "cell_type": "code",
   "execution_count": 2,
   "metadata": {
    "ExecuteTime": {
     "end_time": "2019-05-25T10:04:35.717910Z",
     "start_time": "2019-05-25T10:04:35.713899Z"
    }
   },
   "outputs": [],
   "source": [
    "# Definition for a binary tree node.\n",
    "class TreeNode:\n",
    "    def __init__(self, x):\n",
    "        self.val = x\n",
    "        self.left = None\n",
    "        self.right = None"
   ]
  },
  {
   "cell_type": "code",
   "execution_count": 3,
   "metadata": {
    "ExecuteTime": {
     "end_time": "2019-05-25T10:04:36.119601Z",
     "start_time": "2019-05-25T10:04:36.111580Z"
    }
   },
   "outputs": [],
   "source": [
    "class Solution:\n",
    "    def buildTree(self, preorder: list, inorder: list) -> TreeNode:\n",
    "        \"\"\"\n",
    "        preorder = [1,2,4,5,3,6,7]\n",
    "        inorder = [4,2,5,1,6,3,7]\n",
    "        \"\"\"\n",
    "        if not preorder:\n",
    "            return None\n",
    "        root = TreeNode(preorder[0])\n",
    "        def recursive(tree, preOrd, inOrd):\n",
    "            treeInd = inOrd.index(tree.val)\n",
    "            lefts = preOrd[1:treeInd+1]\n",
    "            rights = preOrd[treeInd+1:]\n",
    "            if lefts:\n",
    "                tree.left = TreeNode(lefts[0])\n",
    "                recursive(tree.left, lefts, inOrd[:treeInd])\n",
    "            if rights:\n",
    "                tree.right = TreeNode(rights[0])\n",
    "                recursive(tree.right, rights, inOrd[treeInd+1:])\n",
    "        recursive(root, preorder, inorder)\n",
    "        return root"
   ]
  }
 ],
 "metadata": {
  "kernelspec": {
   "display_name": "Python 3",
   "language": "python",
   "name": "python3"
  },
  "language_info": {
   "codemirror_mode": {
    "name": "ipython",
    "version": 3
   },
   "file_extension": ".py",
   "mimetype": "text/x-python",
   "name": "python",
   "nbconvert_exporter": "python",
   "pygments_lexer": "ipython3",
   "version": "3.7.0"
  },
  "latex_envs": {
   "LaTeX_envs_menu_present": true,
   "autoclose": false,
   "autocomplete": true,
   "bibliofile": "biblio.bib",
   "cite_by": "apalike",
   "current_citInitial": 1,
   "eqLabelWithNumbers": true,
   "eqNumInitial": 1,
   "hotkeys": {
    "equation": "Ctrl-E",
    "itemize": "Ctrl-I"
   },
   "labels_anchors": false,
   "latex_user_defs": false,
   "report_style_numbering": false,
   "user_envs_cfg": false
  }
 },
 "nbformat": 4,
 "nbformat_minor": 2
}
