{
 "cells": [
  {
   "cell_type": "code",
   "execution_count": 23,
   "metadata": {
    "ExecuteTime": {
     "end_time": "2019-04-09T11:57:27.521141Z",
     "start_time": "2019-04-09T11:57:27.515156Z"
    }
   },
   "outputs": [],
   "source": [
    "class Solution:\n",
    "    def divide(self, dividend: int, divisor: int) -> int:\n",
    "        if dividend == 0:\n",
    "            return 0\n",
    "        absDividend, absDivisor = abs(dividend), abs(divisor)\n",
    "        ret = self.naiveDivide(absDividend, absDivisor)\n",
    "        if dividend < 0 < divisor or dividend > 0 > divisor:\n",
    "            ret = -ret\n",
    "        if ret > 2**31-1:\n",
    "            ret = 2**31-1\n",
    "        return ret\n",
    "    \n",
    "    def naiveDivide(self, dividend: int, divisor: int):\n",
    "        ret = 0\n",
    "        while dividend >= divisor:\n",
    "            tmp = divisor\n",
    "            cnt = 0\n",
    "            while True:\n",
    "                tmp2 = tmp << 1\n",
    "                if dividend < tmp2:\n",
    "                    break\n",
    "                tmp = tmp2\n",
    "                cnt += 1\n",
    "            ret += 1 << cnt\n",
    "            dividend -= tmp\n",
    "        return ret"
   ]
  },
  {
   "cell_type": "code",
   "execution_count": 25,
   "metadata": {
    "ExecuteTime": {
     "end_time": "2019-04-09T11:57:37.167374Z",
     "start_time": "2019-04-09T11:57:37.163373Z"
    }
   },
   "outputs": [
    {
     "name": "stdout",
     "output_type": "stream",
     "text": [
      "2147483647\n",
      "1\n",
      "3\n"
     ]
    }
   ],
   "source": [
    "so = Solution()\n",
    "print(so.divide(-2147483648,-1))\n",
    "print(so.divide(2,2))\n",
    "print(so.divide(10,3))"
   ]
  }
 ],
 "metadata": {
  "kernelspec": {
   "display_name": "Python 3",
   "language": "python",
   "name": "python3"
  },
  "language_info": {
   "codemirror_mode": {
    "name": "ipython",
    "version": 3
   },
   "file_extension": ".py",
   "mimetype": "text/x-python",
   "name": "python",
   "nbconvert_exporter": "python",
   "pygments_lexer": "ipython3",
   "version": "3.6.7"
  }
 },
 "nbformat": 4,
 "nbformat_minor": 2
}
