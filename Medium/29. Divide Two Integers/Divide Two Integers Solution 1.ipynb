{
 "cells": [
  {
   "cell_type": "code",
   "execution_count": 13,
   "metadata": {
    "ExecuteTime": {
     "end_time": "2019-04-08T10:15:43.554258Z",
     "start_time": "2019-04-08T10:15:43.549241Z"
    }
   },
   "outputs": [],
   "source": [
    "class Solution:\n",
    "    def divide(self, dividend: int, divisor: int) -> int:\n",
    "        if dividend == 0:\n",
    "            return 0\n",
    "        ret = self.posDivide(abs(dividend), abs(divisor))\n",
    "        if dividend < 0 < divisor or dividend > 0 > divisor:\n",
    "            ret = -ret\n",
    "        return ret\n",
    "    \n",
    "    def posDivide(self, dividend: int, divisor: int):\n",
    "        cnt = 0\n",
    "        while dividend >= divisor:\n",
    "            cnt += 1\n",
    "            dividend -= divisor\n",
    "        return cnt"
   ]
  },
  {
   "cell_type": "code",
   "execution_count": 14,
   "metadata": {
    "ExecuteTime": {
     "end_time": "2019-04-08T10:15:43.760960Z",
     "start_time": "2019-04-08T10:15:43.756971Z"
    }
   },
   "outputs": [
    {
     "name": "stdout",
     "output_type": "stream",
     "text": [
      "1\n"
     ]
    }
   ],
   "source": [
    "so = Solution()\n",
    "print(so.divide(1, 1))\n",
    "# print(so.posDivide(10, 3))"
   ]
  }
 ],
 "metadata": {
  "kernelspec": {
   "display_name": "Python 3",
   "language": "python",
   "name": "python3"
  },
  "language_info": {
   "codemirror_mode": {
    "name": "ipython",
    "version": 3
   },
   "file_extension": ".py",
   "mimetype": "text/x-python",
   "name": "python",
   "nbconvert_exporter": "python",
   "pygments_lexer": "ipython3",
   "version": "3.6.7"
  }
 },
 "nbformat": 4,
 "nbformat_minor": 2
}
