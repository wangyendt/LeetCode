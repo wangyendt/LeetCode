{
 "cells": [
  {
   "cell_type": "code",
   "execution_count": 176,
   "metadata": {
    "ExecuteTime": {
     "end_time": "2019-05-22T19:54:15.858331Z",
     "start_time": "2019-05-22T19:54:15.852315Z"
    }
   },
   "outputs": [],
   "source": [
    "class Solution:\n",
    "    def numDecodings(self, s: str) -> int:\n",
    "        if not s:\n",
    "            return 0\n",
    "        dp = [0] * (len(s)+1)\n",
    "#         dp[0] = 1\n",
    "        for i in range(1, len(s)+1):\n",
    "            if i == 1:\n",
    "                if s[i-1] == '0':\n",
    "                    return 0\n",
    "                dp[i] = 1\n",
    "            else:\n",
    "#                 print(i, int(s[i-2:i]), dp[i-2], s[i-1])\n",
    "                if s[i-1] != '0':\n",
    "                    dp[i] += dp[i-1]\n",
    "                else:\n",
    "                    dp[i] -= dp[i-1]\n",
    "                    dp[i] = max(0, dp[i])\n",
    "                if 0 < int(s[i-2:i]) <= 26:\n",
    "                    if s[i-2] != '0':\n",
    "                        dp[i] += max(dp[i-2],1)\n",
    "                    else:\n",
    "                        if s[i-1] == '0':\n",
    "                            return 0\n",
    "                else:\n",
    "                    if s[i-1] == '0':\n",
    "                        return 0\n",
    "#         print(dp)\n",
    "        return dp[-1]"
   ]
  },
  {
   "cell_type": "code",
   "execution_count": 177,
   "metadata": {
    "ExecuteTime": {
     "end_time": "2019-05-22T19:54:16.097925Z",
     "start_time": "2019-05-22T19:54:16.092914Z"
    }
   },
   "outputs": [
    {
     "name": "stdout",
     "output_type": "stream",
     "text": [
      "2 2\n",
      "0 0\n",
      "1 1\n",
      "3 3\n",
      "1 1\n",
      "3981312 3981312\n",
      "0 0\n"
     ]
    }
   ],
   "source": [
    "so = Solution()\n",
    "print(so.numDecodings(\"12\"),2)\n",
    "print(so.numDecodings(\"\"),0)\n",
    "print(so.numDecodings(\"10\"),1)\n",
    "print(so.numDecodings(\"226\" ),3)\n",
    "print(so.numDecodings(\"101\"),1)\n",
    "print(so.numDecodings(\"9371597631128776948387197132267188677349946742344217846154932859125134924241649584251978418763151253\"),3981312)\n",
    "print(so.numDecodings(\"50926\"),0)"
   ]
  }
 ],
 "metadata": {
  "kernelspec": {
   "display_name": "Python 3",
   "language": "python",
   "name": "python3"
  },
  "language_info": {
   "codemirror_mode": {
    "name": "ipython",
    "version": 3
   },
   "file_extension": ".py",
   "mimetype": "text/x-python",
   "name": "python",
   "nbconvert_exporter": "python",
   "pygments_lexer": "ipython3",
   "version": "3.7.0"
  },
  "latex_envs": {
   "LaTeX_envs_menu_present": true,
   "autoclose": false,
   "autocomplete": true,
   "bibliofile": "biblio.bib",
   "cite_by": "apalike",
   "current_citInitial": 1,
   "eqLabelWithNumbers": true,
   "eqNumInitial": 1,
   "hotkeys": {
    "equation": "Ctrl-E",
    "itemize": "Ctrl-I"
   },
   "labels_anchors": false,
   "latex_user_defs": false,
   "report_style_numbering": false,
   "user_envs_cfg": false
  }
 },
 "nbformat": 4,
 "nbformat_minor": 2
}
