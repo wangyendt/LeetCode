{
 "cells": [
  {
   "cell_type": "code",
   "execution_count": 8,
   "metadata": {
    "ExecuteTime": {
     "end_time": "2019-05-25T10:13:44.799368Z",
     "start_time": "2019-05-25T10:13:44.794356Z"
    }
   },
   "outputs": [],
   "source": [
    "# Definition for a binary tree node.\n",
    "class TreeNode:\n",
    "    def __init__(self, x):\n",
    "        self.val = x\n",
    "        self.left = None\n",
    "        self.right = None"
   ]
  },
  {
   "cell_type": "code",
   "execution_count": 9,
   "metadata": {
    "ExecuteTime": {
     "end_time": "2019-05-25T10:13:45.230029Z",
     "start_time": "2019-05-25T10:13:45.224026Z"
    }
   },
   "outputs": [],
   "source": [
    "class Solution:\n",
    "    def buildTree(self, inorder: list, postorder: list) -> TreeNode:\n",
    "        \"\"\"\n",
    "        preorder = [1,2,4,5,3,6,7]\n",
    "        inorder = [4,2,5,1,6,3,7]\n",
    "        postorder = [4,5,2,6,7,3,1]\n",
    "        \"\"\"\n",
    "        if not postorder:\n",
    "            return None\n",
    "        root = TreeNode(postorder[-1])\n",
    "        def recursive(tree, inOrd, postOrd):\n",
    "            treeInd = inOrd.index(tree.val)\n",
    "            lefts = postOrd[:treeInd]\n",
    "            rights = postOrd[treeInd:-1]\n",
    "            if lefts:\n",
    "                tree.left = TreeNode(lefts[-1])\n",
    "                recursive(tree.left, inOrd[:treeInd], lefts)\n",
    "            if rights:\n",
    "                tree.right = TreeNode(rights[-1])\n",
    "                recursive(tree.right, inOrd[treeInd+1:], rights)\n",
    "        recursive(root, inorder, postorder)\n",
    "        return root"
   ]
  }
 ],
 "metadata": {
  "kernelspec": {
   "display_name": "Python 3",
   "language": "python",
   "name": "python3"
  },
  "language_info": {
   "codemirror_mode": {
    "name": "ipython",
    "version": 3
   },
   "file_extension": ".py",
   "mimetype": "text/x-python",
   "name": "python",
   "nbconvert_exporter": "python",
   "pygments_lexer": "ipython3",
   "version": "3.7.0"
  },
  "latex_envs": {
   "LaTeX_envs_menu_present": true,
   "autoclose": false,
   "autocomplete": true,
   "bibliofile": "biblio.bib",
   "cite_by": "apalike",
   "current_citInitial": 1,
   "eqLabelWithNumbers": true,
   "eqNumInitial": 1,
   "hotkeys": {
    "equation": "Ctrl-E",
    "itemize": "Ctrl-I"
   },
   "labels_anchors": false,
   "latex_user_defs": false,
   "report_style_numbering": false,
   "user_envs_cfg": false
  }
 },
 "nbformat": 4,
 "nbformat_minor": 2
}
