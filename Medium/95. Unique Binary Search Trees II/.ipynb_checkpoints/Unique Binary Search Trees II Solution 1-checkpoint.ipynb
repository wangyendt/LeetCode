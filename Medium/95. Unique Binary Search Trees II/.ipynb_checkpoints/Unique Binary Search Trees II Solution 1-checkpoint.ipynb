{
 "cells": [
  {
   "cell_type": "code",
   "execution_count": 3,
   "metadata": {
    "ExecuteTime": {
     "end_time": "2019-05-25T06:51:04.348874Z",
     "start_time": "2019-05-25T06:51:04.344863Z"
    }
   },
   "outputs": [],
   "source": [
    "# Definition for a binary tree node.\n",
    "class TreeNode:\n",
    "    def __init__(self, x):\n",
    "        self.val = x\n",
    "        self.left = None\n",
    "        self.right = None"
   ]
  },
  {
   "cell_type": "code",
   "execution_count": 80,
   "metadata": {
    "ExecuteTime": {
     "end_time": "2019-05-25T07:55:23.846119Z",
     "start_time": "2019-05-25T07:55:23.841106Z"
    }
   },
   "outputs": [],
   "source": [
    "class Solution:\n",
    "    def generateTrees(self, n: int) -> list:\n",
    "        if n == 0:\n",
    "            return []\n",
    "        def recursive(start, end):\n",
    "            ret = []\n",
    "            for i in range(start, end):\n",
    "                left = recursive(start, i)\n",
    "                right = recursive(i+1, end)\n",
    "                for l in left:\n",
    "                    for r in right:\n",
    "                        root = TreeNode(i)\n",
    "                        root.left, root.right = l, r\n",
    "                        ret.append(root)\n",
    "            return ret if ret else [None]\n",
    "        return recursive(1, n + 1)"
   ]
  },
  {
   "cell_type": "code",
   "execution_count": 81,
   "metadata": {
    "ExecuteTime": {
     "end_time": "2019-05-25T07:55:24.109863Z",
     "start_time": "2019-05-25T07:55:24.105868Z"
    }
   },
   "outputs": [
    {
     "name": "stdout",
     "output_type": "stream",
     "text": [
      "[<__main__.TreeNode object at 0x00000230EA9C70F0>, <__main__.TreeNode object at 0x00000230EA9C7CF8>, <__main__.TreeNode object at 0x00000230EA9C79E8>, <__main__.TreeNode object at 0x00000230EA9C76A0>, <__main__.TreeNode object at 0x00000230EA9C7D30>]\n"
     ]
    }
   ],
   "source": [
    "so = Solution()\n",
    "print(so.generateTrees(3))"
   ]
  }
 ],
 "metadata": {
  "kernelspec": {
   "display_name": "Python 3",
   "language": "python",
   "name": "python3"
  },
  "language_info": {
   "codemirror_mode": {
    "name": "ipython",
    "version": 3
   },
   "file_extension": ".py",
   "mimetype": "text/x-python",
   "name": "python",
   "nbconvert_exporter": "python",
   "pygments_lexer": "ipython3",
   "version": "3.7.0"
  },
  "latex_envs": {
   "LaTeX_envs_menu_present": true,
   "autoclose": false,
   "autocomplete": true,
   "bibliofile": "biblio.bib",
   "cite_by": "apalike",
   "current_citInitial": 1,
   "eqLabelWithNumbers": true,
   "eqNumInitial": 1,
   "hotkeys": {
    "equation": "Ctrl-E",
    "itemize": "Ctrl-I"
   },
   "labels_anchors": false,
   "latex_user_defs": false,
   "report_style_numbering": false,
   "user_envs_cfg": false
  }
 },
 "nbformat": 4,
 "nbformat_minor": 2
}
