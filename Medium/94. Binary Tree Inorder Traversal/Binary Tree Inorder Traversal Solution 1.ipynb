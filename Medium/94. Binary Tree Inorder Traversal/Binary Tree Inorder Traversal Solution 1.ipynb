{
 "cells": [
  {
   "cell_type": "code",
   "execution_count": 1,
   "metadata": {
    "ExecuteTime": {
     "end_time": "2019-05-24T13:32:31.678905Z",
     "start_time": "2019-05-24T13:32:31.675895Z"
    }
   },
   "outputs": [],
   "source": [
    "# Definition for a binary tree node.\n",
    "class TreeNode:\n",
    "    def __init__(self, x):\n",
    "        self.val = x\n",
    "        self.left = None\n",
    "        self.right = None"
   ]
  },
  {
   "cell_type": "code",
   "execution_count": 10,
   "metadata": {
    "ExecuteTime": {
     "end_time": "2019-05-24T14:14:16.082922Z",
     "start_time": "2019-05-24T14:14:16.077906Z"
    }
   },
   "outputs": [],
   "source": [
    "class Solution:\n",
    "    def inorderTraversal(self, root: TreeNode) -> list:\n",
    "        stack = []\n",
    "        ret = []\n",
    "        p = root\n",
    "        while p or stack:\n",
    "            while p:\n",
    "                stack.append(p)\n",
    "                p = p.left\n",
    "            p = stack.pop()\n",
    "            ret.append(p.val)\n",
    "            p = p.right\n",
    "        print(ret)\n",
    "        return ret"
   ]
  },
  {
   "cell_type": "code",
   "execution_count": 11,
   "metadata": {
    "ExecuteTime": {
     "end_time": "2019-05-24T14:14:16.404603Z",
     "start_time": "2019-05-24T14:14:16.397586Z"
    }
   },
   "outputs": [
    {
     "name": "stdout",
     "output_type": "stream",
     "text": [
      "[1, 3, 2]\n",
      "None\n",
      "[4, 2, 5, 1, 6, 3, 7]\n",
      "None [4, 2, 5, 1, 6, 3, 7]\n"
     ]
    }
   ],
   "source": [
    "so = Solution()\n",
    "tree = parseTreeNode([1,'null',2,3])\n",
    "print(so.inorderTraversal(tree))\n",
    "tree = parseTreeNode([1,2,3,4,5,6,7])\n",
    "print(so.inorderTraversal(tree),[4,2,5,1,6,3,7])"
   ]
  },
  {
   "cell_type": "code",
   "execution_count": 4,
   "metadata": {
    "ExecuteTime": {
     "end_time": "2019-05-24T13:33:42.490007Z",
     "start_time": "2019-05-24T13:33:42.482992Z"
    },
    "code_folding": [
     0,
     26
    ]
   },
   "outputs": [],
   "source": [
    "def parseTreeNode(l):\n",
    "    if not l:\n",
    "        return None\n",
    "    tree = TreeNode(l[0])\n",
    "    leaves = [tree]\n",
    "    l.pop(0)\n",
    "    while l:\n",
    "        leavesTmp = []\n",
    "        for t in leaves:\n",
    "            if l[0] == 'null':\n",
    "                t.left = None\n",
    "            else:\n",
    "                t.left = TreeNode(l[0])\n",
    "                leavesTmp.append(t.left)\n",
    "            l.pop(0)\n",
    "            if l:\n",
    "                if l[0] == 'null':\n",
    "                    t.right = None\n",
    "                else:\n",
    "                    t.right = TreeNode(l[0])\n",
    "                    leavesTmp.append(t.right)\n",
    "                l.pop(0)\n",
    "            if not l:\n",
    "                break\n",
    "            leaves = leavesTmp\n",
    "    return tree        \n",
    "def showTreeNode(tree: TreeNode):\n",
    "    stack = [tree]\n",
    "    ret = []\n",
    "    while stack and len(ret) < 2**maxDepth(tree)-1:\n",
    "        tr = stack.pop(0)\n",
    "        if not tr:\n",
    "            ret.append('null')\n",
    "            stack.append(None)\n",
    "            stack.append(None)\n",
    "        else:\n",
    "            ret.append(tr.val)\n",
    "            stack.append(tr.left)\n",
    "            stack.append(tr.right)\n",
    "    return ret"
   ]
  }
 ],
 "metadata": {
  "kernelspec": {
   "display_name": "Python 3",
   "language": "python",
   "name": "python3"
  },
  "language_info": {
   "codemirror_mode": {
    "name": "ipython",
    "version": 3
   },
   "file_extension": ".py",
   "mimetype": "text/x-python",
   "name": "python",
   "nbconvert_exporter": "python",
   "pygments_lexer": "ipython3",
   "version": "3.7.0"
  },
  "latex_envs": {
   "LaTeX_envs_menu_present": true,
   "autoclose": false,
   "autocomplete": true,
   "bibliofile": "biblio.bib",
   "cite_by": "apalike",
   "current_citInitial": 1,
   "eqLabelWithNumbers": true,
   "eqNumInitial": 1,
   "hotkeys": {
    "equation": "Ctrl-E",
    "itemize": "Ctrl-I"
   },
   "labels_anchors": false,
   "latex_user_defs": false,
   "report_style_numbering": false,
   "user_envs_cfg": false
  }
 },
 "nbformat": 4,
 "nbformat_minor": 2
}
