{
 "cells": [
  {
   "cell_type": "code",
   "execution_count": 15,
   "metadata": {
    "ExecuteTime": {
     "end_time": "2019-05-07T02:48:39.595670Z",
     "start_time": "2019-05-07T02:48:39.589654Z"
    }
   },
   "outputs": [],
   "source": [
    "class Solution:\n",
    "    def subsets(self, nums: list) -> list(list()):\n",
    "        return [res for i in range(len(nums)+1) for res in self.recursive(nums, i)]\n",
    "    \n",
    "    def recursive(self, arr, k):\n",
    "        if k == 0:\n",
    "            return [[]]\n",
    "        ret = []\n",
    "        for i in range(len(arr)-k+1):\n",
    "            for res in self.recursive(arr[i+1:], k-1):\n",
    "                tmp = [arr[i]]\n",
    "                tmp.extend(res)\n",
    "                ret.append(tmp)\n",
    "        return ret"
   ]
  },
  {
   "cell_type": "code",
   "execution_count": 16,
   "metadata": {
    "ExecuteTime": {
     "end_time": "2019-05-07T02:48:39.915921Z",
     "start_time": "2019-05-07T02:48:39.909907Z"
    }
   },
   "outputs": [
    {
     "name": "stdout",
     "output_type": "stream",
     "text": [
      "[[], [1], [2], [3], [1, 2], [1, 3], [2, 3], [1, 2, 3]] [[3], [1], [2], [1, 2, 3], [1, 3], [2, 3], [1, 2], []]\n"
     ]
    }
   ],
   "source": [
    "so = Solution()\n",
    "print(so.subsets([1,2,3]),[\n",
    "  [3],\n",
    "  [1],\n",
    "  [2],\n",
    "  [1,2,3],\n",
    "  [1,3],\n",
    "  [2,3],\n",
    "  [1,2],\n",
    "  []\n",
    "])"
   ]
  }
 ],
 "metadata": {
  "kernelspec": {
   "display_name": "Python 3",
   "language": "python",
   "name": "python3"
  },
  "language_info": {
   "codemirror_mode": {
    "name": "ipython",
    "version": 3
   },
   "file_extension": ".py",
   "mimetype": "text/x-python",
   "name": "python",
   "nbconvert_exporter": "python",
   "pygments_lexer": "ipython3",
   "version": "3.7.0"
  },
  "latex_envs": {
   "LaTeX_envs_menu_present": true,
   "autoclose": false,
   "autocomplete": true,
   "bibliofile": "biblio.bib",
   "cite_by": "apalike",
   "current_citInitial": 1,
   "eqLabelWithNumbers": true,
   "eqNumInitial": 1,
   "hotkeys": {
    "equation": "Ctrl-E",
    "itemize": "Ctrl-I"
   },
   "labels_anchors": false,
   "latex_user_defs": false,
   "report_style_numbering": false,
   "user_envs_cfg": false
  }
 },
 "nbformat": 4,
 "nbformat_minor": 2
}
