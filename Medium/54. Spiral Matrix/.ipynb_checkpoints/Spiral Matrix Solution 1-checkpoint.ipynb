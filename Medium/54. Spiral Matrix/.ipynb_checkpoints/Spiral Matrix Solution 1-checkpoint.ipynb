{
 "cells": [
  {
   "cell_type": "code",
   "execution_count": 28,
   "metadata": {
    "ExecuteTime": {
     "end_time": "2019-04-20T14:49:13.818471Z",
     "start_time": "2019-04-20T14:49:13.811427Z"
    }
   },
   "outputs": [],
   "source": [
    "class Solution:\n",
    "    def spiralOrder(self, matrix: list(list())) -> list:\n",
    "        if not matrix or not matrix[0]:\n",
    "            return []\n",
    "        # action = ['up', 'right', 'down', 'left']\n",
    "        move, cnt, m, n, x, y, ret = 1, 0, len(matrix), len(matrix[0]), 0, 0, []\n",
    "        while cnt < m * n - 1:\n",
    "            if move == 0:\n",
    "                nextX, nextY = x-1, y\n",
    "            elif move == 1:\n",
    "                nextX, nextY = x, y+1\n",
    "            elif move == 2:\n",
    "                nextX, nextY = x+1, y\n",
    "            elif move == 3:\n",
    "                nextX, nextY = x, y-1\n",
    "            if 0 <= nextX < m and 0 <= nextY < n and matrix[nextX][nextY] != None:\n",
    "                cnt += 1\n",
    "                ret.append(matrix[x][y])\n",
    "                matrix[x][y] = None\n",
    "                x, y = nextX, nextY\n",
    "            else:\n",
    "                move = (move + 1) % 4\n",
    "        ret.append(matrix[x][y])\n",
    "        return ret"
   ]
  },
  {
   "cell_type": "code",
   "execution_count": 29,
   "metadata": {
    "ExecuteTime": {
     "end_time": "2019-04-20T14:49:14.134922Z",
     "start_time": "2019-04-20T14:49:14.129908Z"
    }
   },
   "outputs": [
    {
     "name": "stdout",
     "output_type": "stream",
     "text": [
      "[1, 2, 3, 6, 9, 8, 7, 4, 5] [1, 2, 3, 6, 9, 8, 7, 4, 5]\n",
      "[1, 2, 3, 4, 8, 12, 11, 10, 9, 5, 6, 7] [1, 2, 3, 4, 8, 12, 11, 10, 9, 5, 6, 7]\n",
      "[] []\n"
     ]
    }
   ],
   "source": [
    "so = Solution()\n",
    "print(so.spiralOrder([\n",
    " [ 1, 2, 3 ],\n",
    " [ 4, 5, 6 ],\n",
    " [ 7, 8, 9 ]\n",
    "]),[1,2,3,6,9,8,7,4,5])\n",
    "print(so.spiralOrder([\n",
    "  [1, 2, 3, 4],\n",
    "  [5, 6, 7, 8],\n",
    "  [9,10,11,12]\n",
    "]),[1,2,3,4,8,12,11,10,9,5,6,7])\n",
    "print(so.spiralOrder([\n",
    "    []\n",
    "]),[])"
   ]
  }
 ],
 "metadata": {
  "kernelspec": {
   "display_name": "Python 3",
   "language": "python",
   "name": "python3"
  },
  "language_info": {
   "codemirror_mode": {
    "name": "ipython",
    "version": 3
   },
   "file_extension": ".py",
   "mimetype": "text/x-python",
   "name": "python",
   "nbconvert_exporter": "python",
   "pygments_lexer": "ipython3",
   "version": "3.6.7"
  },
  "latex_envs": {
   "LaTeX_envs_menu_present": true,
   "autoclose": false,
   "autocomplete": true,
   "bibliofile": "biblio.bib",
   "cite_by": "apalike",
   "current_citInitial": 1,
   "eqLabelWithNumbers": true,
   "eqNumInitial": 1,
   "hotkeys": {
    "equation": "Ctrl-E",
    "itemize": "Ctrl-I"
   },
   "labels_anchors": false,
   "latex_user_defs": false,
   "report_style_numbering": false,
   "user_envs_cfg": false
  },
  "varInspector": {
   "cols": {
    "lenName": 16,
    "lenType": 16,
    "lenVar": 40
   },
   "kernels_config": {
    "python": {
     "delete_cmd_postfix": "",
     "delete_cmd_prefix": "del ",
     "library": "var_list.py",
     "varRefreshCmd": "print(var_dic_list())"
    },
    "r": {
     "delete_cmd_postfix": ") ",
     "delete_cmd_prefix": "rm(",
     "library": "var_list.r",
     "varRefreshCmd": "cat(var_dic_list()) "
    }
   },
   "types_to_exclude": [
    "module",
    "function",
    "builtin_function_or_method",
    "instance",
    "_Feature"
   ],
   "window_display": false
  }
 },
 "nbformat": 4,
 "nbformat_minor": 2
}
