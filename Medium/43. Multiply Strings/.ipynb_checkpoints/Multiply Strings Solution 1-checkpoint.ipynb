{
 "cells": [
  {
   "cell_type": "code",
   "execution_count": 4,
   "metadata": {
    "ExecuteTime": {
     "end_time": "2019-04-18T09:10:12.710454Z",
     "start_time": "2019-04-18T09:10:12.706465Z"
    }
   },
   "outputs": [],
   "source": [
    "class Solution:\n",
    "    def multiply(self, num1: str, num2: str) -> str:\n",
    "        numDict = dict('0123456789', zip(range(10)))\n",
    "        ret = 0\n",
    "        for i in range(len(num1)):\n",
    "            for j in range(len(num2)):\n",
    "                q"
   ]
  },
  {
   "cell_type": "code",
   "execution_count": 5,
   "metadata": {
    "ExecuteTime": {
     "end_time": "2019-04-18T09:10:12.898950Z",
     "start_time": "2019-04-18T09:10:12.889976Z"
    }
   },
   "outputs": [
    {
     "name": "stdout",
     "output_type": "stream",
     "text": [
      "{0: '0', 1: '1', 2: '2', 3: '3', 4: '4', 5: '5', 6: '6', 7: '7', 8: '8', 9: '9'}\n",
      "None 6\n"
     ]
    }
   ],
   "source": [
    "so = Solution()\n",
    "print(so.multiply('2','3'),'6')"
   ]
  }
 ],
 "metadata": {
  "kernelspec": {
   "display_name": "Python 3",
   "language": "python",
   "name": "python3"
  },
  "language_info": {
   "codemirror_mode": {
    "name": "ipython",
    "version": 3
   },
   "file_extension": ".py",
   "mimetype": "text/x-python",
   "name": "python",
   "nbconvert_exporter": "python",
   "pygments_lexer": "ipython3",
   "version": "3.6.7"
  }
 },
 "nbformat": 4,
 "nbformat_minor": 2
}
