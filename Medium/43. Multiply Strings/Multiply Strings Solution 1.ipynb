{
 "cells": [
  {
   "cell_type": "code",
   "execution_count": 16,
   "metadata": {
    "ExecuteTime": {
     "end_time": "2019-04-19T01:24:01.545675Z",
     "start_time": "2019-04-19T01:24:01.541684Z"
    }
   },
   "outputs": [],
   "source": [
    "class Solution:\n",
    "    def multiply(self, num1: str, num2: str) -> str:\n",
    "        numDict = dict(zip('0123456789', range(10)))\n",
    "        ret = 0\n",
    "        for i in range(len(num1)):\n",
    "            for j in range(len(num2)):\n",
    "                ret += numDict[num1[-1-i]]*numDict[num2[-1-j]]*10**(i+j)\n",
    "        return str(ret)"
   ]
  },
  {
   "cell_type": "code",
   "execution_count": 17,
   "metadata": {
    "ExecuteTime": {
     "end_time": "2019-04-19T01:24:01.751156Z",
     "start_time": "2019-04-19T01:24:01.749133Z"
    }
   },
   "outputs": [
    {
     "name": "stdout",
     "output_type": "stream",
     "text": [
      "56088 6\n"
     ]
    }
   ],
   "source": [
    "so = Solution()\n",
    "print(so.multiply('123','456'),'6')"
   ]
  }
 ],
 "metadata": {
  "kernelspec": {
   "display_name": "Python 3",
   "language": "python",
   "name": "python3"
  },
  "language_info": {
   "codemirror_mode": {
    "name": "ipython",
    "version": 3
   },
   "file_extension": ".py",
   "mimetype": "text/x-python",
   "name": "python",
   "nbconvert_exporter": "python",
   "pygments_lexer": "ipython3",
   "version": "3.6.7"
  }
 },
 "nbformat": 4,
 "nbformat_minor": 2
}
