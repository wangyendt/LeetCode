{
 "cells": [
  {
   "cell_type": "code",
   "execution_count": 25,
   "metadata": {
    "ExecuteTime": {
     "end_time": "2019-04-29T08:23:00.133965Z",
     "start_time": "2019-04-29T08:23:00.127944Z"
    }
   },
   "outputs": [],
   "source": [
    "class Solution:\n",
    "    def minPathSum(self, grid: list(list())) -> int:\n",
    "        if not grid:\n",
    "            return 0\n",
    "        m, n = len(grid), len(grid[0])\n",
    "        dp = [[0 for _ in range(n)] for _ in range(m)]\n",
    "        for mi in range(m):\n",
    "            for ni in range(n):\n",
    "                if mi == 0 and ni == 0:\n",
    "                    dp[mi][ni] = grid[mi][ni]\n",
    "                elif mi == 0:\n",
    "                    dp[mi][ni] = dp[mi][ni-1] + grid[mi][ni]\n",
    "                elif ni == 0:\n",
    "                    dp[mi][ni] = dp[mi-1][ni] + grid[mi][ni]\n",
    "                else:\n",
    "                    dp[mi][ni] = min(dp[mi-1][ni], dp[mi][ni-1]) + grid[mi][ni]\n",
    "        return dp[m-1][n-1]"
   ]
  },
  {
   "cell_type": "code",
   "execution_count": 26,
   "metadata": {
    "ExecuteTime": {
     "end_time": "2019-04-29T08:23:00.306498Z",
     "start_time": "2019-04-29T08:23:00.303475Z"
    }
   },
   "outputs": [
    {
     "name": "stdout",
     "output_type": "stream",
     "text": [
      "7 7\n"
     ]
    }
   ],
   "source": [
    "so = Solution()\n",
    "print(so.minPathSum([\n",
    "  [1,3,1],\n",
    "  [1,5,1],\n",
    "  [4,2,1]\n",
    "]), 7)"
   ]
  }
 ],
 "metadata": {
  "kernelspec": {
   "display_name": "Python 3",
   "language": "python",
   "name": "python3"
  },
  "language_info": {
   "codemirror_mode": {
    "name": "ipython",
    "version": 3
   },
   "file_extension": ".py",
   "mimetype": "text/x-python",
   "name": "python",
   "nbconvert_exporter": "python",
   "pygments_lexer": "ipython3",
   "version": "3.6.7"
  }
 },
 "nbformat": 4,
 "nbformat_minor": 2
}
