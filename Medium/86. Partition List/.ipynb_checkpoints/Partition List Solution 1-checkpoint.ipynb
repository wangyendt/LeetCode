{
 "cells": [
  {
   "cell_type": "code",
   "execution_count": 1,
   "metadata": {
    "ExecuteTime": {
     "end_time": "2019-05-10T17:00:32.250923Z",
     "start_time": "2019-05-10T17:00:32.246913Z"
    }
   },
   "outputs": [],
   "source": [
    "# Definition for singly-linked list.\n",
    "class ListNode:\n",
    "    def __init__(self, x):\n",
    "        self.val = x\n",
    "        self.next = None"
   ]
  },
  {
   "cell_type": "code",
   "execution_count": 4,
   "metadata": {
    "ExecuteTime": {
     "end_time": "2019-05-10T17:00:45.371999Z",
     "start_time": "2019-05-10T17:00:45.365983Z"
    }
   },
   "outputs": [],
   "source": [
    "class Solution:\n",
    "    def partition(self, head: ListNode, x: int) -> ListNode:\n",
    "        a, b = ListNode(0), ListNode(0)\n",
    "        s, t = a, b\n",
    "        p = head\n",
    "        while p:\n",
    "            if p.val < x:\n",
    "                s.next = ListNode(p.val)\n",
    "                s = s.next\n",
    "            else:\n",
    "                t.next = ListNode(p.val)\n",
    "                t = t.next\n",
    "            p = p.next\n",
    "        s.next = b.next\n",
    "        return a.next\n",
    "    \n",
    "    def generateListNode(self, *x):\n",
    "        ret, tmp = None, None\n",
    "        x = x[::-1]\n",
    "        for t in x:\n",
    "            ret = ListNode(t)\n",
    "            ret.next = tmp\n",
    "            tmp = ret\n",
    "        return ret\n",
    "    \n",
    "    def printListNode(self, listNode):\n",
    "        ret = ''\n",
    "        while listNode:\n",
    "            ret += str(listNode.val)\n",
    "            if listNode.next != None:\n",
    "                ret += ' -> '\n",
    "            listNode = listNode.next\n",
    "        return ret"
   ]
  },
  {
   "cell_type": "code",
   "execution_count": 5,
   "metadata": {
    "ExecuteTime": {
     "end_time": "2019-05-10T17:00:45.604902Z",
     "start_time": "2019-05-10T17:00:45.597883Z"
    }
   },
   "outputs": [
    {
     "name": "stdout",
     "output_type": "stream",
     "text": [
      "1 -> 2 -> 2 -> 4 -> 3 -> 5 [1, 2, 2, 4, 3, 5]\n"
     ]
    }
   ],
   "source": [
    "so = Solution()\n",
    "ln = so.generateListNode(1,4,3,2,5,2)\n",
    "print(so.printListNode(so.partition(ln,3)), [1,2,2,4,3,5])"
   ]
  }
 ],
 "metadata": {
  "kernelspec": {
   "display_name": "Python 3",
   "language": "python",
   "name": "python3"
  },
  "language_info": {
   "codemirror_mode": {
    "name": "ipython",
    "version": 3
   },
   "file_extension": ".py",
   "mimetype": "text/x-python",
   "name": "python",
   "nbconvert_exporter": "python",
   "pygments_lexer": "ipython3",
   "version": "3.7.0"
  },
  "latex_envs": {
   "LaTeX_envs_menu_present": true,
   "autoclose": false,
   "autocomplete": true,
   "bibliofile": "biblio.bib",
   "cite_by": "apalike",
   "current_citInitial": 1,
   "eqLabelWithNumbers": true,
   "eqNumInitial": 1,
   "hotkeys": {
    "equation": "Ctrl-E",
    "itemize": "Ctrl-I"
   },
   "labels_anchors": false,
   "latex_user_defs": false,
   "report_style_numbering": false,
   "user_envs_cfg": false
  }
 },
 "nbformat": 4,
 "nbformat_minor": 2
}
