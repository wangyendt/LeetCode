{
 "cells": [
  {
   "cell_type": "code",
   "execution_count": 13,
   "metadata": {
    "ExecuteTime": {
     "end_time": "2019-04-29T08:34:28.865927Z",
     "start_time": "2019-04-29T08:34:28.860932Z"
    }
   },
   "outputs": [],
   "source": [
    "class Solution:\n",
    "    def simplifyPath(self, path: str) -> str:\n",
    "        path = [p for p in path.split('/') if p]\n",
    "        stack = []\n",
    "        for p in path:\n",
    "            if p == '..':\n",
    "                if stack:\n",
    "                    stack.pop()\n",
    "            elif p == '.':\n",
    "                pass\n",
    "            else:\n",
    "                stack.append(p)\n",
    "#         print(path, stack)\n",
    "        return '/' + '/'.join(stack)"
   ]
  },
  {
   "cell_type": "code",
   "execution_count": 14,
   "metadata": {
    "ExecuteTime": {
     "end_time": "2019-04-29T08:34:29.090318Z",
     "start_time": "2019-04-29T08:34:29.086328Z"
    }
   },
   "outputs": [
    {
     "name": "stdout",
     "output_type": "stream",
     "text": [
      "/home /home\n",
      "/ /\n",
      "/home/foo /home/foo\n",
      "/c /c\n",
      "/c /c\n",
      "/a/b/c /a/b/c\n"
     ]
    }
   ],
   "source": [
    "so = Solution()\n",
    "print(so.simplifyPath('/home/'),'/home')\n",
    "print(so.simplifyPath('/../'),'/')\n",
    "print(so.simplifyPath('/home//foo/'),'/home/foo')\n",
    "print(so.simplifyPath('/a/./b/../../c/'),'/c')\n",
    "print(so.simplifyPath('/a/../../b/../c//.//'),'/c')\n",
    "print(so.simplifyPath('/a//b////c/d//././/..'),'/a/b/c')"
   ]
  }
 ],
 "metadata": {
  "kernelspec": {
   "display_name": "Python 3",
   "language": "python",
   "name": "python3"
  },
  "language_info": {
   "codemirror_mode": {
    "name": "ipython",
    "version": 3
   },
   "file_extension": ".py",
   "mimetype": "text/x-python",
   "name": "python",
   "nbconvert_exporter": "python",
   "pygments_lexer": "ipython3",
   "version": "3.6.7"
  }
 },
 "nbformat": 4,
 "nbformat_minor": 2
}
