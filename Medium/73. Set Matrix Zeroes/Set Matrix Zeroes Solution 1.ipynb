{
 "cells": [
  {
   "cell_type": "code",
   "execution_count": 31,
   "metadata": {
    "ExecuteTime": {
     "end_time": "2019-04-29T09:40:44.686276Z",
     "start_time": "2019-04-29T09:40:44.681290Z"
    }
   },
   "outputs": [],
   "source": [
    "class Solution:\n",
    "    def setZeroes(self, matrix: list(list())) -> None:\n",
    "        \"\"\"\n",
    "        Do not return anything, modify matrix in-place instead.\n",
    "        \"\"\"\n",
    "        if not matrix:\n",
    "            return\n",
    "        firstColHasZero = False\n",
    "        m, n = len(matrix), len(matrix[0])\n",
    "        for mi in range(m):\n",
    "            if matrix[mi][0] == 0:\n",
    "                firstColHasZero = True\n",
    "            for ni in range(1, n):\n",
    "                if matrix[mi][ni] == 0:\n",
    "                    matrix[0][ni], matrix[mi][0] = 0, 0\n",
    "        for mi in range(m-1,-1,-1):\n",
    "            for ni in range(1,n):\n",
    "                if matrix[mi][0] == 0 or matrix[0][ni] == 0:\n",
    "                    matrix[mi][ni] = 0\n",
    "            if firstColHasZero:\n",
    "                matrix[mi][0] = 0"
   ]
  },
  {
   "cell_type": "code",
   "execution_count": 32,
   "metadata": {
    "ExecuteTime": {
     "end_time": "2019-04-29T09:40:44.901700Z",
     "start_time": "2019-04-29T09:40:44.896714Z"
    }
   },
   "outputs": [
    {
     "name": "stdout",
     "output_type": "stream",
     "text": [
      "[[1, 1, 1], [1, 0, 1], [1, 1, 1]]\n",
      "[[1, 0, 1], [0, 0, 0], [1, 0, 1]]\n",
      "[[0, 1, 2, 0], [3, 4, 5, 2], [1, 3, 1, 5]]\n",
      "[[0, 0, 0, 0], [0, 4, 5, 0], [0, 3, 1, 0]]\n"
     ]
    }
   ],
   "source": [
    "so = Solution()\n",
    "l = [\n",
    "  [1,1,1],\n",
    "  [1,0,1],\n",
    "  [1,1,1]\n",
    "]\n",
    "print(l)\n",
    "so.setZeroes(l)\n",
    "print(l)\n",
    "l = [\n",
    "  [0,1,2,0],\n",
    "  [3,4,5,2],\n",
    "  [1,3,1,5]\n",
    "]\n",
    "print(l)\n",
    "so.setZeroes(l)\n",
    "print(l)"
   ]
  }
 ],
 "metadata": {
  "kernelspec": {
   "display_name": "Python 3",
   "language": "python",
   "name": "python3"
  },
  "language_info": {
   "codemirror_mode": {
    "name": "ipython",
    "version": 3
   },
   "file_extension": ".py",
   "mimetype": "text/x-python",
   "name": "python",
   "nbconvert_exporter": "python",
   "pygments_lexer": "ipython3",
   "version": "3.6.7"
  }
 },
 "nbformat": 4,
 "nbformat_minor": 2
}
