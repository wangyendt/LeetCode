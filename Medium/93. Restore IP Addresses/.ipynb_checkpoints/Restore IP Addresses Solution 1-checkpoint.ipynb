{
 "cells": [
  {
   "cell_type": "code",
   "execution_count": 19,
   "metadata": {
    "ExecuteTime": {
     "end_time": "2019-05-24T13:24:46.186516Z",
     "start_time": "2019-05-24T13:24:46.178496Z"
    }
   },
   "outputs": [],
   "source": [
    "class Solution:\n",
    "    def restoreIpAddresses(self, s: str) -> list:\n",
    "        if len(s) > 12 or len(s) < 4:\n",
    "            return []\n",
    "        cnt = 0\n",
    "        def checkIP(ips):\n",
    "            return all([not (len(ip)>1 and ip[0]=='0') and int(ip) < 256 for ip in ips])\n",
    "        ret = []\n",
    "        for i in range(max(3,len(s)-3), len(s)):\n",
    "            for j in range(max(2,i-3), i):\n",
    "                for k in range(max(1,j-3), j):\n",
    "                    cnt += 1\n",
    "                    ip = s[:k], s[k:j], s[j:i], s[i:]\n",
    "                    if checkIP(ip):\n",
    "                        ret.append('.'.join(ip))\n",
    "        return ret"
   ]
  },
  {
   "cell_type": "code",
   "execution_count": 20,
   "metadata": {
    "ExecuteTime": {
     "end_time": "2019-05-24T13:24:46.516734Z",
     "start_time": "2019-05-24T13:24:46.512720Z"
    }
   },
   "outputs": [
    {
     "name": "stdout",
     "output_type": "stream",
     "text": [
      "['0.10.0.10', '0.100.1.0'] ['0.10.0.10', '0.100.1.0']\n"
     ]
    }
   ],
   "source": [
    "so = Solution()\n",
    "# print(so.restoreIpAddresses('25525511135'))\n",
    "print(so.restoreIpAddresses(\"010010\"),[\"0.10.0.10\",\"0.100.1.0\"])"
   ]
  }
 ],
 "metadata": {
  "kernelspec": {
   "display_name": "Python 3",
   "language": "python",
   "name": "python3"
  },
  "language_info": {
   "codemirror_mode": {
    "name": "ipython",
    "version": 3
   },
   "file_extension": ".py",
   "mimetype": "text/x-python",
   "name": "python",
   "nbconvert_exporter": "python",
   "pygments_lexer": "ipython3",
   "version": "3.7.0"
  },
  "latex_envs": {
   "LaTeX_envs_menu_present": true,
   "autoclose": false,
   "autocomplete": true,
   "bibliofile": "biblio.bib",
   "cite_by": "apalike",
   "current_citInitial": 1,
   "eqLabelWithNumbers": true,
   "eqNumInitial": 1,
   "hotkeys": {
    "equation": "Ctrl-E",
    "itemize": "Ctrl-I"
   },
   "labels_anchors": false,
   "latex_user_defs": false,
   "report_style_numbering": false,
   "user_envs_cfg": false
  }
 },
 "nbformat": 4,
 "nbformat_minor": 2
}
