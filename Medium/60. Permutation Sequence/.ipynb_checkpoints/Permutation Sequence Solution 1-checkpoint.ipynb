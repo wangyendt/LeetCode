{
 "cells": [
  {
   "cell_type": "code",
   "execution_count": 25,
   "metadata": {
    "ExecuteTime": {
     "end_time": "2019-04-29T04:20:35.844637Z",
     "start_time": "2019-04-29T04:20:35.839674Z"
    }
   },
   "outputs": [],
   "source": [
    "class Solution:\n",
    "    def getPermutation(self, n: int, k: int) -> str:\n",
    "        \"\"\"\n",
    "        Given n will be between 1 and 9 inclusive.\n",
    "        Given k will be between 1 and n! inclusive.\n",
    "        \"\"\"\n",
    "        factorials = {\n",
    "            0: 1, 1: 1, 2: 2, 3: 6, 4: 24, 5: 120, \n",
    "            6: 720, 7: 5040, 8: 40320\n",
    "        }\n",
    "        rest, ret = ''.join([str(i+1) for i in range(n)]), ''\n",
    "        for i in range(n):\n",
    "            ret += rest[(k-1) // factorials[n-1-i]]\n",
    "            k = k % factorials[n-1-i]\n",
    "            ind = rest.index(str(ret[-1]))\n",
    "            rest = rest[:ind] + rest[ind+1:]\n",
    "        return ret"
   ]
  },
  {
   "cell_type": "code",
   "execution_count": 26,
   "metadata": {
    "ExecuteTime": {
     "end_time": "2019-04-29T04:20:36.010194Z",
     "start_time": "2019-04-29T04:20:36.006205Z"
    }
   },
   "outputs": [
    {
     "name": "stdout",
     "output_type": "stream",
     "text": [
      "213 213\n",
      "2314 2314\n",
      "12345768 2314\n"
     ]
    }
   ],
   "source": [
    "so = Solution()\n",
    "print(so.getPermutation(3,3),'213')\n",
    "print(so.getPermutation(4,9),'2314')\n",
    "print(so.getPermutation(8,3),'12345768')"
   ]
  }
 ],
 "metadata": {
  "kernelspec": {
   "display_name": "Python 3",
   "language": "python",
   "name": "python3"
  },
  "language_info": {
   "codemirror_mode": {
    "name": "ipython",
    "version": 3
   },
   "file_extension": ".py",
   "mimetype": "text/x-python",
   "name": "python",
   "nbconvert_exporter": "python",
   "pygments_lexer": "ipython3",
   "version": "3.6.7"
  }
 },
 "nbformat": 4,
 "nbformat_minor": 2
}
