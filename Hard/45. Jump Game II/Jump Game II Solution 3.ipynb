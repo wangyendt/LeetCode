{
 "cells": [
  {
   "cell_type": "code",
   "execution_count": 153,
   "metadata": {
    "ExecuteTime": {
     "end_time": "2019-04-29T02:22:06.606242Z",
     "start_time": "2019-04-29T02:22:06.601225Z"
    }
   },
   "outputs": [],
   "source": [
    "class Solution:\n",
    "    def jump(self, nums: list) -> int:\n",
    "        \"\"\"\n",
    "        From last to first, you have to choose the farest number A that could reach the final in one step.\n",
    "        Because If you choose the one B after that, you can always find a number before A, first pass to A then\n",
    "        pass to the final, which is short than passing to B then to the final.\n",
    "        \n",
    "        Solution 3: DP + stack\n",
    "        \"\"\"\n",
    "        dp, stack = [0]*len(nums), [0]\n",
    "        for i in range(1, len(nums)):\n",
    "            popRubbish, allAvailable = [], []\n",
    "            for si, s in enumerate(stack):\n",
    "                if i-s <= nums[s] and dp[s] != -1:\n",
    "                    allAvailable.append(dp[s])\n",
    "                else:\n",
    "                    popRubbish.append(si)\n",
    "            [stack.pop(pr) for pr in popRubbish[::-1]]\n",
    "            dp[i] = (1 + min(allAvailable)) if allAvailable else -1\n",
    "            if nums[i] != nums[i-1]-1:\n",
    "                stack.append(i)\n",
    "        return dp[-1]"
   ]
  },
  {
   "cell_type": "code",
   "execution_count": 154,
   "metadata": {
    "ExecuteTime": {
     "end_time": "2019-04-29T02:22:06.835623Z",
     "start_time": "2019-04-29T02:22:06.793710Z"
    }
   },
   "outputs": [
    {
     "name": "stdout",
     "output_type": "stream",
     "text": [
      "2 2\n",
      "6 6\n",
      "9999 9999\n",
      "1 1\n"
     ]
    }
   ],
   "source": [
    "so = Solution()\n",
    "print(so.jump([2,3,1,1,4]), 2)\n",
    "print(so.jump([1,5,3,4,1,0,2,3,4,0,2,4,6,19,0,2,3,1,4,5,1]), 6)\n",
    "print(so.jump([1]*10000), 9999) # Time out\n",
    "print(so.jump(range(25000)[::-1]), 1) # Time out"
   ]
  }
 ],
 "metadata": {
  "kernelspec": {
   "display_name": "Python 3",
   "language": "python",
   "name": "python3"
  },
  "language_info": {
   "codemirror_mode": {
    "name": "ipython",
    "version": 3
   },
   "file_extension": ".py",
   "mimetype": "text/x-python",
   "name": "python",
   "nbconvert_exporter": "python",
   "pygments_lexer": "ipython3",
   "version": "3.6.7"
  }
 },
 "nbformat": 4,
 "nbformat_minor": 2
}
