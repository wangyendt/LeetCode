{
 "cells": [
  {
   "cell_type": "code",
   "execution_count": 11,
   "metadata": {
    "ExecuteTime": {
     "end_time": "2019-04-26T03:34:50.422813Z",
     "start_time": "2019-04-26T03:34:50.417826Z"
    }
   },
   "outputs": [],
   "source": [
    "class Solution:\n",
    "    def jump(self, nums: list) -> int:\n",
    "        \"\"\"\n",
    "        From last to first, you have to choose the farest number A that could reach the final in one step.\n",
    "        Because If you choose the one B after that, you can always find a number before A, first pass to A then\n",
    "        pass to the final, which is short than passing to B then to the final.\n",
    "        \"\"\"\n",
    "        if len(nums) == 1:\n",
    "            return 0\n",
    "        ret = 0\n",
    "        while True:\n",
    "            ret += 1\n",
    "            for i, n in enumerate(nums):\n",
    "                if n >= len(nums)-1-i and self.canJump(nums[:i+1]):\n",
    "                    nums = nums[:i+1]\n",
    "                    if i == 0 or len(nums) == 1:\n",
    "                        return ret\n",
    "    \n",
    "    def canJump(self, nums: list) -> bool:\n",
    "        p = len(nums)-2\n",
    "        block = 0\n",
    "        while p >= 0:\n",
    "            block = block + 1 if nums[p] <= block else 0\n",
    "            p -= 1\n",
    "        return nums[0] >= block"
   ]
  },
  {
   "cell_type": "code",
   "execution_count": 13,
   "metadata": {
    "ExecuteTime": {
     "end_time": "2019-04-26T04:21:49.694654Z",
     "start_time": "2019-04-26T04:21:36.567806Z"
    }
   },
   "outputs": [
    {
     "name": "stdout",
     "output_type": "stream",
     "text": [
      "2 2\n",
      "9999\n"
     ]
    }
   ],
   "source": [
    "so = Solution()\n",
    "print(so.jump([2,3,1,1,4]), 2)\n",
    "print(so.jump([1]*10000)) # Time out"
   ]
  }
 ],
 "metadata": {
  "kernelspec": {
   "display_name": "Python 3",
   "language": "python",
   "name": "python3"
  },
  "language_info": {
   "codemirror_mode": {
    "name": "ipython",
    "version": 3
   },
   "file_extension": ".py",
   "mimetype": "text/x-python",
   "name": "python",
   "nbconvert_exporter": "python",
   "pygments_lexer": "ipython3",
   "version": "3.6.7"
  }
 },
 "nbformat": 4,
 "nbformat_minor": 2
}
