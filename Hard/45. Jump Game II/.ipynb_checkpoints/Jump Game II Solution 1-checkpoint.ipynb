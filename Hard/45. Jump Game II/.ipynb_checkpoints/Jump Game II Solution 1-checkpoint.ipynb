{
 "cells": [
  {
   "cell_type": "code",
   "execution_count": 7,
   "metadata": {
    "ExecuteTime": {
     "end_time": "2019-04-25T16:19:14.450277Z",
     "start_time": "2019-04-25T16:19:14.446288Z"
    }
   },
   "outputs": [],
   "source": [
    "class Solution:\n",
    "    def jump(self, nums: list) -> int:\n",
    "        p = len(nums)-2\n",
    "        block, cnt = 0, 0\n",
    "        while p > 0:\n",
    "            if nums[p] <= block:\n",
    "                block += 1\n",
    "                cnt += 1\n",
    "            else:\n",
    "                block = 0\n",
    "            p -= 1\n",
    "        return cnt"
   ]
  },
  {
   "cell_type": "code",
   "execution_count": 8,
   "metadata": {
    "ExecuteTime": {
     "end_time": "2019-04-25T16:19:14.815330Z",
     "start_time": "2019-04-25T16:19:14.812308Z"
    }
   },
   "outputs": [
    {
     "name": "stdout",
     "output_type": "stream",
     "text": [
      "0 2\n"
     ]
    }
   ],
   "source": [
    "so = Solution()\n",
    "print(so.jump([2,3,1,1,4]), 2)"
   ]
  }
 ],
 "metadata": {
  "kernelspec": {
   "display_name": "Python 3",
   "language": "python",
   "name": "python3"
  },
  "language_info": {
   "codemirror_mode": {
    "name": "ipython",
    "version": 3
   },
   "file_extension": ".py",
   "mimetype": "text/x-python",
   "name": "python",
   "nbconvert_exporter": "python",
   "pygments_lexer": "ipython3",
   "version": "3.6.7"
  }
 },
 "nbformat": 4,
 "nbformat_minor": 2
}
