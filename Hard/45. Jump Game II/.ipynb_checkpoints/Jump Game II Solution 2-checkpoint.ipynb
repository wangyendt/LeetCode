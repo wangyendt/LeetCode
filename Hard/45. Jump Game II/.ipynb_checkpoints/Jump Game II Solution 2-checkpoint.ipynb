{
 "cells": [
  {
   "cell_type": "code",
   "execution_count": 3,
   "metadata": {
    "ExecuteTime": {
     "end_time": "2019-04-29T00:11:28.037965Z",
     "start_time": "2019-04-29T00:11:28.031979Z"
    }
   },
   "outputs": [],
   "source": [
    "class Solution:\n",
    "    def jump(self, nums: list) -> int:\n",
    "        \"\"\"\n",
    "        From last to first, you have to choose the farest number A that could reach the final in one step.\n",
    "        Because If you choose the one B after that, you can always find a number before A, first pass to A then\n",
    "        pass to the final, which is short than passing to B then to the final.\n",
    "        \"\"\"\n",
    "        if len(nums) == 1:\n",
    "            return 0\n",
    "        ret, canAccessDic = 0, {}\n",
    "        for i, n in enumerate(nums):\n",
    "            if i < len(nums)-1 and i+n < len(nums):\n",
    "                canAccessDic[i+n] = canAccessDic[i+n].append(i) if canAccessDic.get(i+n) else [i]\n",
    "#         print(canAccessDic)\n",
    "#         while True:\n",
    "#             ret += 1\n",
    "#             for i, n in enumerate(nums):\n",
    "#                 if n >= len(nums)-1-i:\n",
    "#                     if bCheck:\n",
    "#                         if self.canJump(nums[:i+1]):\n",
    "#                             nums = nums[:i+1]\n",
    "#                             if i == 0 or len(nums) == 1:\n",
    "#                                 return ret\n",
    "#                     else:\n",
    "#                         nums = nums[:i+1]\n",
    "#                         if i == 0 or len(nums) == 1:\n",
    "#                             return ret\n",
    "                        \n",
    "    \n",
    "    def canJump(self, nums: list) -> bool:\n",
    "        p = len(nums)-2\n",
    "        block, cnt = 0, 0\n",
    "        while p >= 0:\n",
    "            if nums[p] <= block:\n",
    "                block = block + 1\n",
    "                cnt += 1\n",
    "            else:\n",
    "                block = 0\n",
    "            p -= 1\n",
    "        return nums[0] >= block, cnt"
   ]
  },
  {
   "cell_type": "code",
   "execution_count": 4,
   "metadata": {
    "ExecuteTime": {
     "end_time": "2019-04-29T00:11:28.289320Z",
     "start_time": "2019-04-29T00:11:28.280315Z"
    }
   },
   "outputs": [
    {
     "name": "stdout",
     "output_type": "stream",
     "text": [
      "None 2\n",
      "None 6\n",
      "None\n"
     ]
    }
   ],
   "source": [
    "so = Solution()\n",
    "print(so.jump([2,3,1,1,4]), 2)\n",
    "print(so.jump([1,5,3,4,1,0,2,3,4,0,2,4,6,19,0,2,3,1,4,5,1]), 6)\n",
    "print(so.jump([1]*10000)) # Time out"
   ]
  }
 ],
 "metadata": {
  "kernelspec": {
   "display_name": "Python 3",
   "language": "python",
   "name": "python3"
  },
  "language_info": {
   "codemirror_mode": {
    "name": "ipython",
    "version": 3
   },
   "file_extension": ".py",
   "mimetype": "text/x-python",
   "name": "python",
   "nbconvert_exporter": "python",
   "pygments_lexer": "ipython3",
   "version": "3.6.7"
  }
 },
 "nbformat": 4,
 "nbformat_minor": 2
}
