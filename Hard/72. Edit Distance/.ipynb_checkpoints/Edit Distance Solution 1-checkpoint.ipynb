{
 "cells": [
  {
   "cell_type": "code",
   "execution_count": 23,
   "metadata": {
    "ExecuteTime": {
     "end_time": "2019-05-20T15:43:32.823474Z",
     "start_time": "2019-05-20T15:43:32.816457Z"
    }
   },
   "outputs": [],
   "source": [
    "class Solution:\n",
    "    def minDistance(self, word1: str, word2: str) -> int:\n",
    "        def strInsert(s: str, pos: int, ch: str) -> str:\n",
    "            return s[:pos]+ch+s[pos:]\n",
    "        def strRemove(s: str, pos: int) -> str:\n",
    "            return s[:pos]+s[pos+1:]\n",
    "        def strReplace(s: str, pos: int, ch: str) -> str:\n",
    "            return s[:pos]+ch+s[pos+1:]\n",
    "        m,n = len(word1),len(word2)\n",
    "        dp = [[0 for _ in  range(n+1)] for _ in range(m+1)]\n",
    "        for i in range(m+1):\n",
    "            dp[i][0] = i\n",
    "        for j in range(n+1):\n",
    "            dp[0][j] = j\n",
    "        [print(d) for d in dp]\n",
    "        for i in range(1, m+1):\n",
    "            for j in range(1, n+1):\n",
    "                if word1[i-1] == word2[j-1]:\n",
    "                    dp[i][j] = dp[i-1][j-1]\n",
    "                else:\n",
    "                    # wangt word1[:i+1] -> word2[:j+1]\n",
    "                    # choose one of the following methods:\n",
    "                    # dp[i-1][j] remove word1[i] to get word1[:i] -> word2[:j+1] or\n",
    "                    # dp[i-1][j] replace word1[i] to word2[j] to get word1[:i] -> word2[:j] or\n",
    "                    # dp[i][j-1] insert word[j] to get word1[:i+1] -> word2[:j]\n",
    "                    dp[i][j] = 1+min(dp[i-1][j], dp[i][j-1],dp[i-1][j-1])\n",
    "        [print(d) for d in dp]\n",
    "        return dp[-1][-1]"
   ]
  },
  {
   "cell_type": "code",
   "execution_count": 24,
   "metadata": {
    "ExecuteTime": {
     "end_time": "2019-05-20T15:43:33.180730Z",
     "start_time": "2019-05-20T15:43:33.175716Z"
    }
   },
   "outputs": [
    {
     "name": "stdout",
     "output_type": "stream",
     "text": [
      "[0, 1, 2, 3]\n",
      "[1, 0, 0, 0]\n",
      "[2, 0, 0, 0]\n",
      "[3, 0, 0, 0]\n",
      "[4, 0, 0, 0]\n",
      "[5, 0, 0, 0]\n",
      "[0, 1, 2, 3]\n",
      "[1, 1, 2, 3]\n",
      "[2, 2, 1, 2]\n",
      "[3, 2, 2, 2]\n",
      "[4, 3, 3, 2]\n",
      "[5, 4, 4, 3]\n",
      "3 3\n"
     ]
    }
   ],
   "source": [
    "so = Solution()\n",
    "print(so.minDistance('horse', 'ros'), 3)"
   ]
  }
 ],
 "metadata": {
  "kernelspec": {
   "display_name": "Python 3",
   "language": "python",
   "name": "python3"
  },
  "language_info": {
   "codemirror_mode": {
    "name": "ipython",
    "version": 3
   },
   "file_extension": ".py",
   "mimetype": "text/x-python",
   "name": "python",
   "nbconvert_exporter": "python",
   "pygments_lexer": "ipython3",
   "version": "3.7.0"
  },
  "latex_envs": {
   "LaTeX_envs_menu_present": true,
   "autoclose": false,
   "autocomplete": true,
   "bibliofile": "biblio.bib",
   "cite_by": "apalike",
   "current_citInitial": 1,
   "eqLabelWithNumbers": true,
   "eqNumInitial": 1,
   "hotkeys": {
    "equation": "Ctrl-E",
    "itemize": "Ctrl-I"
   },
   "labels_anchors": false,
   "latex_user_defs": false,
   "report_style_numbering": false,
   "user_envs_cfg": false
  },
  "varInspector": {
   "cols": {
    "lenName": 16,
    "lenType": 16,
    "lenVar": 40
   },
   "kernels_config": {
    "python": {
     "delete_cmd_postfix": "",
     "delete_cmd_prefix": "del ",
     "library": "var_list.py",
     "varRefreshCmd": "print(var_dic_list())"
    },
    "r": {
     "delete_cmd_postfix": ") ",
     "delete_cmd_prefix": "rm(",
     "library": "var_list.r",
     "varRefreshCmd": "cat(var_dic_list()) "
    }
   },
   "types_to_exclude": [
    "module",
    "function",
    "builtin_function_or_method",
    "instance",
    "_Feature"
   ],
   "window_display": false
  }
 },
 "nbformat": 4,
 "nbformat_minor": 2
}
