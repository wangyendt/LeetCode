{
 "cells": [
  {
   "cell_type": "code",
   "execution_count": 1,
   "metadata": {
    "ExecuteTime": {
     "end_time": "2019-05-21T08:24:21.788035Z",
     "start_time": "2019-05-21T08:24:21.781008Z"
    }
   },
   "outputs": [],
   "source": [
    "class Solution:\n",
    "    def minWindow(self, s, t):\n",
    "        stack = t\n",
    "        indDict = {}\n",
    "        result = ''\n",
    "        for i in range(len(s)):\n",
    "            if s[i] in t:\n",
    "                if indDict.get(s[i]):\n",
    "                    indDict[s[i]].append(i)\n",
    "                    if s[i] not in stack:\n",
    "                        indDict[s[i]].pop(0)\n",
    "                else:\n",
    "                    indDict[s[i]] = [i]\n",
    "            for j in range(len(stack)):\n",
    "                if s[i] == stack[j]:\n",
    "                    stack = stack[:j]+stack[j+1:]\n",
    "                    break\n",
    "            if not stack:\n",
    "                if indDict.get(s[i]):\n",
    "                    l, r = len(s)-1, 0\n",
    "                    for ind in indDict.keys():\n",
    "                        if l > indDict[ind][0]:\n",
    "                            l = indDict[ind][0]\n",
    "                        if r < indDict[ind][-1]:\n",
    "                            r = indDict[ind][-1]\n",
    "                    if not result:\n",
    "                        result = s[l:r+1]\n",
    "                    else:\n",
    "                        if len(result) > len(s[l:r+1]):\n",
    "                            result = s[l:r+1]\n",
    "        return result"
   ]
  },
  {
   "cell_type": "code",
   "execution_count": 2,
   "metadata": {
    "ExecuteTime": {
     "end_time": "2019-05-21T08:25:26.767568Z",
     "start_time": "2019-05-21T08:25:26.763557Z"
    }
   },
   "outputs": [
    {
     "name": "stdout",
     "output_type": "stream",
     "text": [
      "BANC BANC\n"
     ]
    }
   ],
   "source": [
    "so = Solution()\n",
    "print(so.minWindow(\"ADOBECODEBANC\",\"ABC\"),'BANC')"
   ]
  }
 ],
 "metadata": {
  "kernelspec": {
   "display_name": "Python 3",
   "language": "python",
   "name": "python3"
  },
  "language_info": {
   "codemirror_mode": {
    "name": "ipython",
    "version": 3
   },
   "file_extension": ".py",
   "mimetype": "text/x-python",
   "name": "python",
   "nbconvert_exporter": "python",
   "pygments_lexer": "ipython3",
   "version": "3.7.0"
  },
  "latex_envs": {
   "LaTeX_envs_menu_present": true,
   "autoclose": false,
   "autocomplete": true,
   "bibliofile": "biblio.bib",
   "cite_by": "apalike",
   "current_citInitial": 1,
   "eqLabelWithNumbers": true,
   "eqNumInitial": 1,
   "hotkeys": {
    "equation": "Ctrl-E",
    "itemize": "Ctrl-I"
   },
   "labels_anchors": false,
   "latex_user_defs": false,
   "report_style_numbering": false,
   "user_envs_cfg": false
  }
 },
 "nbformat": 4,
 "nbformat_minor": 2
}
