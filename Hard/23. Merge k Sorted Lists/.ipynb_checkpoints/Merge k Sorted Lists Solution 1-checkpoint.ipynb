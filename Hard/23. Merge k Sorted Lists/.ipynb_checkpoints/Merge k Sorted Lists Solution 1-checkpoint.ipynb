{
 "cells": [
  {
   "cell_type": "code",
   "execution_count": 13,
   "metadata": {
    "ExecuteTime": {
     "end_time": "2019-04-01T13:58:46.960523Z",
     "start_time": "2019-04-01T13:58:46.953079Z"
    }
   },
   "outputs": [],
   "source": [
    "# Definition for singly-linked list.\n",
    "class ListNode:\n",
    "    def __init__(self, x):\n",
    "        self.val = x\n",
    "        self.next = None\n",
    "\n",
    "class Solution:\n",
    "    def mergeKLists(self, lists) -> ListNode:\n",
    "        if not lists:\n",
    "            return None\n",
    "        while len(lists) > 1:\n",
    "            for i in range(len(lists)//2):\n",
    "                lists[i] = self.mergeTwoLists(lists[2*i], lists[2*i+1])\n",
    "            if len(lists) % 2 != 0:\n",
    "                lists[len(lists)//2] = lists[-1]\n",
    "                lists = lists[:len(lists)//2+1]\n",
    "            else:\n",
    "                lists = lists[:len(lists)//2]\n",
    "        return lists[0]\n",
    "    \n",
    "    def mergeTwoLists(self, a, b):\n",
    "        if not a or b and a.val > b.val:\n",
    "            a, b = b, a\n",
    "        if a:\n",
    "            a.next = self.mergeTwoLists(a.next, b)\n",
    "        return a\n",
    "    \n",
    "    def generateListNode(self, *x):\n",
    "        ret, tmp = None, None\n",
    "        x = x[::-1]\n",
    "        for t in x:\n",
    "            ret = ListNode(t)\n",
    "            ret.next = tmp\n",
    "            tmp = ret\n",
    "        return ret\n",
    "    \n",
    "    def printListNode(self, listNode):\n",
    "        if not listNode:\n",
    "            return 'NULL'\n",
    "        ret = ''\n",
    "        while listNode:\n",
    "            ret += str(listNode.val)\n",
    "            if listNode.next != None:\n",
    "                ret += ' -> '\n",
    "            listNode = listNode.next\n",
    "        return ret"
   ]
  },
  {
   "cell_type": "code",
   "execution_count": 14,
   "metadata": {
    "ExecuteTime": {
     "end_time": "2019-04-01T13:58:47.284875Z",
     "start_time": "2019-04-01T13:58:47.280870Z"
    }
   },
   "outputs": [
    {
     "name": "stdout",
     "output_type": "stream",
     "text": [
      "1 -> 4 -> 5\n",
      "1 -> 3 -> 4\n",
      "2 -> 6\n",
      "1 -> 1 -> 2 -> 3 -> 4 -> 4 -> 5 -> 6\n"
     ]
    }
   ],
   "source": [
    "so = Solution()\n",
    "# a = so.generateListNode(1,2,3)\n",
    "# print(a.val, a.next.val, a.next.next.val, a.next.next.next)\n",
    "# print(so.printListNode(a))\n",
    "a1 = so.generateListNode(1,4,5)\n",
    "a2 = so.generateListNode(1,3,4)\n",
    "a3 = so.generateListNode(2,6)\n",
    "print(so.printListNode(a1))\n",
    "print(so.printListNode(a2))\n",
    "print(so.printListNode(a3))\n",
    "s = so.mergeKLists([a1,a2,a3])\n",
    "print(so.printListNode(s))"
   ]
  }
 ],
 "metadata": {
  "kernelspec": {
   "display_name": "Python 3",
   "language": "python",
   "name": "python3"
  },
  "language_info": {
   "codemirror_mode": {
    "name": "ipython",
    "version": 3
   },
   "file_extension": ".py",
   "mimetype": "text/x-python",
   "name": "python",
   "nbconvert_exporter": "python",
   "pygments_lexer": "ipython3",
   "version": "3.6.7"
  },
  "latex_envs": {
   "LaTeX_envs_menu_present": true,
   "autoclose": false,
   "autocomplete": true,
   "bibliofile": "biblio.bib",
   "cite_by": "apalike",
   "current_citInitial": 1,
   "eqLabelWithNumbers": true,
   "eqNumInitial": 1,
   "hotkeys": {
    "equation": "Ctrl-E",
    "itemize": "Ctrl-I"
   },
   "labels_anchors": false,
   "latex_user_defs": false,
   "report_style_numbering": false,
   "user_envs_cfg": false
  },
  "varInspector": {
   "cols": {
    "lenName": 16,
    "lenType": 16,
    "lenVar": 40
   },
   "kernels_config": {
    "python": {
     "delete_cmd_postfix": "",
     "delete_cmd_prefix": "del ",
     "library": "var_list.py",
     "varRefreshCmd": "print(var_dic_list())"
    },
    "r": {
     "delete_cmd_postfix": ") ",
     "delete_cmd_prefix": "rm(",
     "library": "var_list.r",
     "varRefreshCmd": "cat(var_dic_list()) "
    }
   },
   "types_to_exclude": [
    "module",
    "function",
    "builtin_function_or_method",
    "instance",
    "_Feature"
   ],
   "window_display": false
  }
 },
 "nbformat": 4,
 "nbformat_minor": 2
}
