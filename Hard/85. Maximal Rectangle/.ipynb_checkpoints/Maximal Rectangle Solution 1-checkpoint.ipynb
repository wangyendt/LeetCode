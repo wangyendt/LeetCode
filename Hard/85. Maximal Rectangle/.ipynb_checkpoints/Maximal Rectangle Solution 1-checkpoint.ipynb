{
 "cells": [
  {
   "cell_type": "code",
   "execution_count": 62,
   "metadata": {
    "ExecuteTime": {
     "end_time": "2019-05-23T12:53:50.961566Z",
     "start_time": "2019-05-23T12:53:50.954549Z"
    }
   },
   "outputs": [],
   "source": [
    "class Solution:\n",
    "    def maximalRectangle(self, matrix: list(list())) -> int:\n",
    "        if not matrix:\n",
    "            return 0\n",
    "        m, n = len(matrix), len(matrix[0])\n",
    "        ret, dp = 0,  [[0,n,0] for _ in range(n)]\n",
    "        for i in range(m):\n",
    "            p, q = 0, n\n",
    "            for j in range(n):\n",
    "                if matrix[i][j] == '1':\n",
    "                    dp[j][0] = max(dp[j][0], p)\n",
    "                else:\n",
    "                    dp[j][0], p = 0, j+1\n",
    "            for j in range(n)[::-1]:\n",
    "                if matrix[i][j] == '1':\n",
    "                    dp[j][1] = min(dp[j][1], q)\n",
    "                else:\n",
    "                    dp[j][1], q = n, j\n",
    "            for j in range(n):\n",
    "                dp[j][2] = dp[j][2]+1 if matrix[i][j] == '1' else 0\n",
    "                ret = max(ret, dp[j][2]*(dp[j][1]-dp[j][0]))\n",
    "#             print(dp)\n",
    "        return ret"
   ]
  },
  {
   "cell_type": "code",
   "execution_count": 63,
   "metadata": {
    "ExecuteTime": {
     "end_time": "2019-05-23T12:53:51.169586Z",
     "start_time": "2019-05-23T12:53:51.163570Z"
    }
   },
   "outputs": [
    {
     "name": "stdout",
     "output_type": "stream",
     "text": [
      "6 6\n"
     ]
    }
   ],
   "source": [
    "so = Solution()\n",
    "print(so.maximalRectangle([\n",
    "  [\"1\",\"0\",\"1\",\"0\",\"0\"],\n",
    "  [\"1\",\"0\",\"1\",\"1\",\"1\"],\n",
    "  [\"1\",\"1\",\"1\",\"1\",\"1\"],\n",
    "  [\"1\",\"0\",\"0\",\"1\",\"0\"]\n",
    "]), 6)\n",
    "#\n",
    "# [[0, 1, 1], [0, 5, 0], [2, 3, 1], [0, 5, 0], [0, 5, 0]]\n",
    "# [[0, 1, 2], [0, 5, 0], [2, 3, 2], [2, 5, 1], [2, 5, 1]]\n",
    "# [[0, 1, 3], [0, 5, 1], [2, 3, 3], [2, 5, 2], [2, 5, 2]]\n",
    "# [[0, 1, 4], [0, 5, 0], [0, 5, 0], [3, 4, 3], [0, 5, 0]]\n",
    "# 6 6\n",
    "#"
   ]
  }
 ],
 "metadata": {
  "kernelspec": {
   "display_name": "Python 3",
   "language": "python",
   "name": "python3"
  },
  "language_info": {
   "codemirror_mode": {
    "name": "ipython",
    "version": 3
   },
   "file_extension": ".py",
   "mimetype": "text/x-python",
   "name": "python",
   "nbconvert_exporter": "python",
   "pygments_lexer": "ipython3",
   "version": "3.7.0"
  },
  "latex_envs": {
   "LaTeX_envs_menu_present": true,
   "autoclose": false,
   "autocomplete": true,
   "bibliofile": "biblio.bib",
   "cite_by": "apalike",
   "current_citInitial": 1,
   "eqLabelWithNumbers": true,
   "eqNumInitial": 1,
   "hotkeys": {
    "equation": "Ctrl-E",
    "itemize": "Ctrl-I"
   },
   "labels_anchors": false,
   "latex_user_defs": false,
   "report_style_numbering": false,
   "user_envs_cfg": false
  }
 },
 "nbformat": 4,
 "nbformat_minor": 2
}
