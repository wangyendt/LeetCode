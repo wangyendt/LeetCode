{
 "cells": [
  {
   "cell_type": "code",
   "execution_count": 39,
   "metadata": {
    "ExecuteTime": {
     "end_time": "2019-05-23T12:23:21.095146Z",
     "start_time": "2019-05-23T12:23:21.089129Z"
    }
   },
   "outputs": [],
   "source": [
    "class Solution:\n",
    "    def maximalRectangle(self, matrix: list(list())) -> int:\n",
    "        if not matrix:\n",
    "            return 0\n",
    "        if not matrix or len(matrix) == 0:\n",
    "            return 0\n",
    "        m, n = len(matrix), len(matrix[0])\n",
    "        ret = 0\n",
    "        l, r, h = [0] * n, [n] * n, [0] * n\n",
    "        for i in range(m):\n",
    "            p, q = 0, n\n",
    "            for j in range(n):\n",
    "                if matrix[i][j] == '1':\n",
    "                    l[j] = max(l[j], p)\n",
    "                else:\n",
    "                    l[j], p = 0, j+1\n",
    "            for j in range(n)[::-1]:\n",
    "                if matrix[i][j] == '1':\n",
    "                    r[j] = min(r[j], q)\n",
    "                else:\n",
    "                    r[j], q = n, j\n",
    "            for j in range(n):\n",
    "                h[j] = h[j]+1 if matrix[i][j] == '1' else 0\n",
    "                ret = max(ret, h[j]*(r[j]-l[j]))\n",
    "            print(l, r, h)\n",
    "        return ret"
   ]
  },
  {
   "cell_type": "code",
   "execution_count": 40,
   "metadata": {
    "ExecuteTime": {
     "end_time": "2019-05-23T12:23:21.263658Z",
     "start_time": "2019-05-23T12:23:21.256642Z"
    }
   },
   "outputs": [
    {
     "name": "stdout",
     "output_type": "stream",
     "text": [
      "[0, 0, 2, 0, 0] [1, 5, 3, 5, 5] [1, 0, 1, 0, 0]\n",
      "[0, 0, 2, 2, 2] [1, 5, 3, 5, 5] [2, 0, 2, 1, 1]\n",
      "[0, 0, 2, 2, 2] [1, 5, 3, 5, 5] [3, 1, 3, 2, 2]\n",
      "[0, 0, 0, 3, 0] [1, 5, 5, 4, 5] [4, 0, 0, 3, 0]\n",
      "6 6\n"
     ]
    }
   ],
   "source": [
    "so = Solution()\n",
    "print(so.maximalRectangle([\n",
    "  [\"1\",\"0\",\"1\",\"0\",\"0\"],\n",
    "  [\"1\",\"0\",\"1\",\"1\",\"1\"],\n",
    "  [\"1\",\"1\",\"1\",\"1\",\"1\"],\n",
    "  [\"1\",\"0\",\"0\",\"1\",\"0\"]\n",
    "]), 6)"
   ]
  }
 ],
 "metadata": {
  "kernelspec": {
   "display_name": "Python 3",
   "language": "python",
   "name": "python3"
  },
  "language_info": {
   "codemirror_mode": {
    "name": "ipython",
    "version": 3
   },
   "file_extension": ".py",
   "mimetype": "text/x-python",
   "name": "python",
   "nbconvert_exporter": "python",
   "pygments_lexer": "ipython3",
   "version": "3.7.0"
  },
  "latex_envs": {
   "LaTeX_envs_menu_present": true,
   "autoclose": false,
   "autocomplete": true,
   "bibliofile": "biblio.bib",
   "cite_by": "apalike",
   "current_citInitial": 1,
   "eqLabelWithNumbers": true,
   "eqNumInitial": 1,
   "hotkeys": {
    "equation": "Ctrl-E",
    "itemize": "Ctrl-I"
   },
   "labels_anchors": false,
   "latex_user_defs": false,
   "report_style_numbering": false,
   "user_envs_cfg": false
  }
 },
 "nbformat": 4,
 "nbformat_minor": 2
}
