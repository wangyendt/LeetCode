{
 "cells": [
  {
   "cell_type": "code",
   "execution_count": 42,
   "metadata": {
    "ExecuteTime": {
     "end_time": "2019-04-25T12:31:24.081222Z",
     "start_time": "2019-04-25T12:31:24.072227Z"
    },
    "code_folding": []
   },
   "outputs": [],
   "source": [
    "class Solution:\n",
    "    def isMatch(self, s: str, p: str) -> bool:\n",
    "        if P:\n",
    "            print('s:%s, p:%s' % (s,p))\n",
    "        if s == p:\n",
    "            return True\n",
    "        if not p:\n",
    "            return False\n",
    "        if not s:\n",
    "            return all([q=='*' for q in p]) and len(p)>0 or not p\n",
    "        while s and p:\n",
    "            if s[0] == p[0] or p[0] == '?':\n",
    "                s = s[1:]\n",
    "                p = p[1:]\n",
    "            elif p[0] != '*':\n",
    "                return False\n",
    "            else:\n",
    "                break\n",
    "        while s and p:\n",
    "            if s[-1] == p[-1] or p[-1] == '?':\n",
    "                s = s[:-1]\n",
    "                p = p[:-1]\n",
    "            elif p[-1] != '*':\n",
    "                return False\n",
    "            else:\n",
    "                break\n",
    "        if p and all([q == '*' for q in p]):\n",
    "            return True\n",
    "        elif not p:\n",
    "            return len(s) == 0\n",
    "        else:\n",
    "            # p is not None and not all p are * and p[0] == p[-1] == '*'\n",
    "            if not s:\n",
    "                return False\n",
    "            else:  # s is not None\n",
    "                if not any([q == '*' for q in p]) and not self.isMatch(s, p):\n",
    "                    return False\n",
    "                ps = [q for q in p.split('*') if q]\n",
    "                ptr, pstr = 0, 0\n",
    "                while pstr<len(ps) and ptr+len(ps[pstr])<=len(s):\n",
    "                    if self.isMatch(s[ptr:ptr+len(ps[pstr])], ps[pstr]):\n",
    "                        ptr += len(ps[pstr])\n",
    "                        pstr += 1\n",
    "                    else:\n",
    "                        ptr += 1\n",
    "                if pstr == len(ps):\n",
    "                    return True\n",
    "                else:\n",
    "                    return False"
   ]
  },
  {
   "cell_type": "code",
   "execution_count": 43,
   "metadata": {
    "ExecuteTime": {
     "end_time": "2019-04-25T12:31:30.562861Z",
     "start_time": "2019-04-25T12:31:30.554883Z"
    },
    "scrolled": true
   },
   "outputs": [
    {
     "name": "stdout",
     "output_type": "stream",
     "text": [
      "True\n",
      "True True\n",
      "True True\n",
      "True True\n",
      "False False\n",
      "True True\n",
      "False False\n",
      "False False\n",
      "True True\n",
      "True True\n",
      "False False\n",
      "True True\n",
      "False False\n",
      "True True\n",
      "True True\n",
      "False False\n",
      "True True\n",
      "True True\n",
      "True True\n",
      "True True\n",
      "False False\n"
     ]
    }
   ],
   "source": [
    "so = Solution()\n",
    "P = True\n",
    "P = False\n",
    "print(so.isMatch(\"c\",\"*?*\"))\n",
    "print(so.isMatch(\"bbbbbbbbaaabbaabbabaaaaaabbbababbbaaabbaabbbababbaaaa\",\n",
    "\"**a*bbaabb**bbab*a**\"), True)\n",
    "print(so.isMatch(\"aaabaaabaabababbabababaababbabbbbaaaaababbaabbbaab\",\n",
    "\"*babbbb*aab**b*bb*aa*\"), True)\n",
    "print(so.isMatch(\"baaba\",\"*aa*\"), True)\n",
    "print(so.isMatch('aa', 'ab'), False)\n",
    "print(so.isMatch('aa', 'a?'), True)\n",
    "print(so.isMatch(\"aa\", \"a\"), False)\n",
    "print(so.isMatch(\"cb\", \"?a\"), False)\n",
    "print(so.isMatch(\"\", \"\"), True)\n",
    "print(so.isMatch(\"aa\", \"*\"), True)\n",
    "print(so.isMatch(\"acdcb\", \"a*c?b\"), False)\n",
    "print(so.isMatch(\"adceb\", \"*a*b\"), True)\n",
    "print(so.isMatch(\"adceb\", \"\"), False)\n",
    "print(so.isMatch(\"adceb\", \"?????\"), True)\n",
    "print(so.isMatch(\"adceb\", \"?***?\"), True)\n",
    "print(so.isMatch(\"mississippi\", \"m??*ss*?i*pi\"), False)\n",
    "print(so.isMatch(\"abefcdgiescdfimde\", \"ab*cd?i*de\"), True)\n",
    "print(so.isMatch(\"\", \"*\"), True)\n",
    "print(so.isMatch(\"mississippi\", \"m*si*\"), True)\n",
    "print(so.isMatch(\"abbaabbbbababaababababbabbbaaaabbbbaaabbbabaabbbbbabbbbabbabbaaabaaaabbbbbbaaabbabbbbababbbaaabbabbabb\",\n",
    "\"***b**a*a*b***b*a*b*bbb**baa*bba**b**bb***b*a*aab*a**\"), True)\n",
    "print(so.isMatch(\"bbaaaabaaaaabbabbabbabbababaabababaabbabaaabbaababababbabaabbabbbbbbaaaaaabaabbbbbabbbbabbabababaaaaa\",\n",
    "\"******aa*bbb*aa*a*bb*ab***bbba*a*babaab*b*aa*a****\"), False)"
   ]
  }
 ],
 "metadata": {
  "kernelspec": {
   "display_name": "Python 3",
   "language": "python",
   "name": "python3"
  },
  "language_info": {
   "codemirror_mode": {
    "name": "ipython",
    "version": 3
   },
   "file_extension": ".py",
   "mimetype": "text/x-python",
   "name": "python",
   "nbconvert_exporter": "python",
   "pygments_lexer": "ipython3",
   "version": "3.6.7"
  },
  "latex_envs": {
   "LaTeX_envs_menu_present": true,
   "autoclose": false,
   "autocomplete": true,
   "bibliofile": "biblio.bib",
   "cite_by": "apalike",
   "current_citInitial": 1,
   "eqLabelWithNumbers": true,
   "eqNumInitial": 1,
   "hotkeys": {
    "equation": "Ctrl-E",
    "itemize": "Ctrl-I"
   },
   "labels_anchors": false,
   "latex_user_defs": false,
   "report_style_numbering": false,
   "user_envs_cfg": false
  },
  "varInspector": {
   "cols": {
    "lenName": 16,
    "lenType": 16,
    "lenVar": 40
   },
   "kernels_config": {
    "python": {
     "delete_cmd_postfix": "",
     "delete_cmd_prefix": "del ",
     "library": "var_list.py",
     "varRefreshCmd": "print(var_dic_list())"
    },
    "r": {
     "delete_cmd_postfix": ") ",
     "delete_cmd_prefix": "rm(",
     "library": "var_list.r",
     "varRefreshCmd": "cat(var_dic_list()) "
    }
   },
   "types_to_exclude": [
    "module",
    "function",
    "builtin_function_or_method",
    "instance",
    "_Feature"
   ],
   "window_display": false
  }
 },
 "nbformat": 4,
 "nbformat_minor": 2
}
