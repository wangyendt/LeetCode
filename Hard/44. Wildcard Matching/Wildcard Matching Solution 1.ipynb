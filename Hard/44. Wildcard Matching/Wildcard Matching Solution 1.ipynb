{
 "cells": [
  {
   "cell_type": "code",
   "execution_count": 222,
   "metadata": {
    "ExecuteTime": {
     "end_time": "2019-04-24T10:27:47.878275Z",
     "start_time": "2019-04-24T10:27:47.865310Z"
    }
   },
   "outputs": [],
   "source": [
    "class Solution:\n",
    "    def isMatch(self, s: str, p: str) -> bool:\n",
    "#         print(s, p)\n",
    "        if s == p:\n",
    "            return True\n",
    "        if not p:\n",
    "            return False\n",
    "        if not s:\n",
    "            return all([q=='*' for q in p]) and len(p)>0 or not p\n",
    "        while s and p:\n",
    "            if s[0] == p[0] or p[0] == '?':\n",
    "                s = s[1:]\n",
    "                p = p[1:]\n",
    "            elif p[0] != '*':\n",
    "                return False\n",
    "            else:\n",
    "                break\n",
    "        while s and p:\n",
    "            if s[-1] == p[-1] or p[-1] == '?':\n",
    "                s = s[:-1]\n",
    "                p = p[:-1]\n",
    "            elif p[-1] != '*':\n",
    "                return False\n",
    "            else:\n",
    "                break\n",
    "        if p and all([q == '*' for q in p]):\n",
    "            return True\n",
    "        elif not p:\n",
    "            return len(s) == 0\n",
    "        else:\n",
    "            # p is not None and not all p are *\n",
    "            if not s:\n",
    "                return False\n",
    "            else:  # s is not None\n",
    "                p = p.strip('*') # remove the * in double sides\n",
    "                while s:\n",
    "                    if self.isMatch(s, p):\n",
    "                        return True\n",
    "                    elif s[0] != p[0] and p[0] != '?':\n",
    "                        s = s[1:]\n",
    "                    elif s[-1] != p[-1] and p[-1] != '?':\n",
    "                        s = s[:-1]\n",
    "                    else:\n",
    "                        if len(p) - sum([q == '*' for q in p]) > len(s):\n",
    "                            return False\n",
    "                        for r in range(2, len(s)):\n",
    "                            if s[r] != p[-1] and p[-1] != '?':\n",
    "                                continue\n",
    "                            if '*' in p:\n",
    "                                u, v = p.index('*'), p.rindex('*')\n",
    "                                if not self.isMatch(s[:r][:u], p[:u]) or not self.isMatch(s[:r][v+1:], p[v+1:]):\n",
    "                                    continue\n",
    "                            if self.isMatch(s[:r], p):\n",
    "                                return True\n",
    "                        else:\n",
    "                            for l in range(1, len(s)):\n",
    "                                if s[l] != p[0] and p[0] != '?':\n",
    "                                    continue\n",
    "                                if '*' in p:\n",
    "                                    u, v = p.index('*'), p.rindex('*')\n",
    "                                    if not self.isMatch(s[l:][:u], p[:u]) or not self.isMatch(s[l:][v+1:], p[v+1:]):\n",
    "                                        continue\n",
    "                                if self.isMatch(s[l:], p):\n",
    "                                    return True\n",
    "                        s = s[1:-1]\n",
    "            return False"
   ]
  },
  {
   "cell_type": "code",
   "execution_count": 224,
   "metadata": {
    "ExecuteTime": {
     "end_time": "2019-04-24T10:27:56.893200Z",
     "start_time": "2019-04-24T10:27:56.865247Z"
    },
    "scrolled": false
   },
   "outputs": [
    {
     "name": "stdout",
     "output_type": "stream",
     "text": [
      "False False\n",
      "True True\n",
      "False False\n",
      "False False\n",
      "True True\n",
      "True True\n",
      "False False\n",
      "True True\n",
      "False False\n",
      "True True\n",
      "True True\n",
      "False False\n",
      "True True\n",
      "True True\n",
      "True True\n",
      "True True\n",
      "False False\n"
     ]
    }
   ],
   "source": [
    "so = Solution()\n",
    "print(so.isMatch('aa', 'ab'), False)\n",
    "print(so.isMatch('aa', 'a?'), True)\n",
    "print(so.isMatch(\"aa\", \"a\"), False)\n",
    "print(so.isMatch(\"cb\", \"?a\"), False)\n",
    "print(so.isMatch(\"\", \"\"), True)\n",
    "print(so.isMatch(\"aa\", \"*\"), True)\n",
    "print(so.isMatch(\"acdcb\", \"a*c?b\"), False)\n",
    "print(so.isMatch(\"adceb\", \"*a*b\"), True)\n",
    "print(so.isMatch(\"adceb\", \"\"), False)\n",
    "print(so.isMatch(\"adceb\", \"?????\"), True)\n",
    "print(so.isMatch(\"adceb\", \"?***?\"), True)\n",
    "print(so.isMatch(\"mississippi\", \"m??*ss*?i*pi\"), False)\n",
    "print(so.isMatch(\"abefcdgiescdfimde\", \"ab*cd?i*de\"), True)\n",
    "print(so.isMatch(\"\", \"*\"), True)\n",
    "print(so.isMatch(\"mississippi\", \"m*si*\"), True)\n",
    "print(so.isMatch(\"abbaabbbbababaababababbabbbaaaabbbbaaabbbabaabbbbbabbbbabbabbaaabaaaabbbbbbaaabbabbbbababbbaaabbabbabb\",\n",
    "\"***b**a*a*b***b*a*b*bbb**baa*bba**b**bb***b*a*aab*a**\"), True)\n",
    "print(so.isMatch(\"bbaaaabaaaaabbabbabbabbababaabababaabbabaaabbaababababbabaabbabbbbbbaaaaaabaabbbbbabbbbabbabababaaaaa\",\n",
    "\"******aa*bbb*aa*a*bb*ab***bbba*a*babaab*b*aa*a****\"), False)"
   ]
  }
 ],
 "metadata": {
  "kernelspec": {
   "display_name": "Python 3",
   "language": "python",
   "name": "python3"
  },
  "language_info": {
   "codemirror_mode": {
    "name": "ipython",
    "version": 3
   },
   "file_extension": ".py",
   "mimetype": "text/x-python",
   "name": "python",
   "nbconvert_exporter": "python",
   "pygments_lexer": "ipython3",
   "version": "3.6.7"
  }
 },
 "nbformat": 4,
 "nbformat_minor": 2
}
