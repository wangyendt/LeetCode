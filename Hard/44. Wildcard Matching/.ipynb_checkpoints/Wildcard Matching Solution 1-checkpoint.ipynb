{
 "cells": [
  {
   "cell_type": "code",
   "execution_count": 97,
   "metadata": {
    "ExecuteTime": {
     "end_time": "2019-04-24T09:03:07.640769Z",
     "start_time": "2019-04-24T09:03:07.632783Z"
    }
   },
   "outputs": [],
   "source": [
    "class Solution:\n",
    "    def isMatch(self, s: str, p: str) -> bool:\n",
    "        print(s, p)\n",
    "        if s == p:\n",
    "            return True\n",
    "        if not p:\n",
    "            return False\n",
    "        if not s:\n",
    "            return all([q=='*' for q in p]) and p or not p\n",
    "        while s and p:\n",
    "            if s[0] == p[0] or p[0] == '?':\n",
    "                s = s[1:]\n",
    "                p = p[1:]\n",
    "            elif p[0] != '*':\n",
    "                return False\n",
    "            else:\n",
    "                break\n",
    "        while s and p:\n",
    "            if s[-1] == p[-1] or p[-1] == '?':\n",
    "                s = s[:-1]\n",
    "                p = p[:-1]\n",
    "            elif p[-1] != '*':\n",
    "                return False\n",
    "            else:\n",
    "                break\n",
    "        if p and all([q == '*' for q in p]):\n",
    "            return True\n",
    "        elif not p:\n",
    "            return not s\n",
    "        else:\n",
    "            # p is not None and not all p are *\n",
    "            if not s:\n",
    "                return False\n",
    "            else:  # s is not None\n",
    "                p = p.strip('*') # remove the * in double sides\n",
    "                \n",
    "                l, r = 0, len(s)-1\n",
    "                while l < r:\n",
    "                    if self.isMatch(s, p):\n",
    "                        return True\n",
    "                    elif (s[0] == p[0]\n",
    "    #             for i in range(len(s)-1):\n",
    "    #                 for j in range(i+1, len(s)):\n",
    "    #                     if self.isMatch(s[i:j], p):\n",
    "    #                         return True\n",
    "            return False"
   ]
  },
  {
   "cell_type": "code",
   "execution_count": 98,
   "metadata": {
    "ExecuteTime": {
     "end_time": "2019-04-24T09:03:08.198254Z",
     "start_time": "2019-04-24T09:03:08.193268Z"
    }
   },
   "outputs": [
    {
     "name": "stdout",
     "output_type": "stream",
     "text": [
      "abefcdgiescdfimde ab*cd?i*de\n",
      "efcdgiescdfim cd?i\n",
      "e cd?i\n",
      "ef cd?i\n",
      "efc cd?i\n",
      "efcd cd?i\n",
      "efcdg cd?i\n",
      "efcdgi cd?i\n",
      "efcdgie cd?i\n",
      "efcdgies cd?i\n",
      "efcdgiesc cd?i\n",
      "efcdgiescd cd?i\n",
      "efcdgiescdf cd?i\n",
      "efcdgiescdfi cd?i\n",
      "f cd?i\n",
      "fc cd?i\n",
      "fcd cd?i\n",
      "fcdg cd?i\n",
      "fcdgi cd?i\n",
      "fcdgie cd?i\n",
      "fcdgies cd?i\n",
      "fcdgiesc cd?i\n",
      "fcdgiescd cd?i\n",
      "fcdgiescdf cd?i\n",
      "fcdgiescdfi cd?i\n",
      "c cd?i\n",
      " d?i\n",
      "cd cd?i\n",
      " ?i\n",
      "cdg cd?i\n",
      " i\n",
      "cdgi cd?i\n",
      "True True\n"
     ]
    }
   ],
   "source": [
    "so = Solution()\n",
    "# print(so.isMatch('aa', 'ab'), False)\n",
    "# print(so.isMatch('aa', 'a?'), True)\n",
    "# print(so.isMatch(\"aa\", \"a\"), False)\n",
    "# print(so.isMatch(\"cb\", \"?a\"), False)\n",
    "# print(so.isMatch(\"\", \"\"), True)\n",
    "# print(so.isMatch(\"aa\", \"*\"), True)\n",
    "# print(so.isMatch(\"acdcb\", \"a*c?b\"), False)\n",
    "# print(so.isMatch(\"adceb\", \"*a*b\"), True)\n",
    "# print(so.isMatch(\"adceb\", \"\"), False)\n",
    "# print(so.isMatch(\"adceb\", \"?????\"), True)\n",
    "# print(so.isMatch(\"adceb\", \"?***?\"), True)\n",
    "# print(so.isMatch(\"mississippi\", \"m??*ss*?i*pi\"), False)\n",
    "print(so.isMatch(\"abefcdgiescdfimde\", \"ab*cd?i*de\"), True)"
   ]
  }
 ],
 "metadata": {
  "kernelspec": {
   "display_name": "Python 3",
   "language": "python",
   "name": "python3"
  },
  "language_info": {
   "codemirror_mode": {
    "name": "ipython",
    "version": 3
   },
   "file_extension": ".py",
   "mimetype": "text/x-python",
   "name": "python",
   "nbconvert_exporter": "python",
   "pygments_lexer": "ipython3",
   "version": "3.6.7"
  }
 },
 "nbformat": 4,
 "nbformat_minor": 2
}
