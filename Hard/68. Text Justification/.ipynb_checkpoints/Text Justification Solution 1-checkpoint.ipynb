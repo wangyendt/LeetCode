{
 "cells": [
  {
   "cell_type": "code",
   "execution_count": 19,
   "metadata": {
    "ExecuteTime": {
     "end_time": "2019-05-02T15:48:54.874731Z",
     "start_time": "2019-05-02T15:48:54.866711Z"
    }
   },
   "outputs": [],
   "source": [
    "class Solution:\n",
    "    def fullJustify(self, words: list, maxWidth: int) -> list:\n",
    "        ret, buffer = [], []\n",
    "        while words:\n",
    "            w = words[0]\n",
    "            if sum([len(b) for b in buffer]) + len(buffer) + len(w) <= maxWidth:\n",
    "                buffer.append(w)\n",
    "            else:\n",
    "                numSpaces = maxWidth - sum([len(b) for b in buffer])\n",
    "                if len(buffer) == 1:\n",
    "                    ret.append(buffer[0] + ' '*(maxWidth-len(buffer[0])))\n",
    "                else:\n",
    "                    line = ''\n",
    "                    gap = numSpaces // (len(buffer)-1)\n",
    "                    numMoreGap = numSpaces % (len(buffer)-1)\n",
    "                    for bi, bu in enumerate(buffer):\n",
    "                        line += bu\n",
    "                        if bi != len(buffer)-1:\n",
    "                            if numMoreGap:\n",
    "                                line += ' '*(gap+1)\n",
    "                            else:\n",
    "                                line += ' '*gap\n",
    "                            numMoreGap = max(0, numMoreGap-1)\n",
    "                    ret.append(line)\n",
    "                buffer = [w]\n",
    "            if len(words) == 1:\n",
    "                if len(buffer) == 1:\n",
    "                    ret.append(buffer[0] + ' '*(maxWidth-len(buffer[0])))\n",
    "                else:\n",
    "                    line = ''\n",
    "                    for bi, bu in enumerate(buffer):\n",
    "                        if bi != len(buffer)-1:\n",
    "                            line += bu + ' '\n",
    "                        else:\n",
    "                            line += bu + ' '*(maxWidth-sum([len(b) for b in buffer])-(len(buffer)-1))\n",
    "                    ret.append(line)\n",
    "            words.pop(0)\n",
    "        return ret"
   ]
  },
  {
   "cell_type": "code",
   "execution_count": 20,
   "metadata": {
    "ExecuteTime": {
     "end_time": "2019-05-02T15:48:55.078855Z",
     "start_time": "2019-05-02T15:48:55.072838Z"
    }
   },
   "outputs": [
    {
     "name": "stdout",
     "output_type": "stream",
     "text": [
      "['This    is    an', 'example  of text', 'justification.  '] ['This    is    an', 'example  of text', 'justification.  ']\n",
      "['Science  is  what we', 'understand      well', 'enough to explain to', 'a  computer.  Art is', 'everything  else  we', 'do                  ']\n",
      "['What   must   be', 'acknowledgment  ', 'shall be        ']\n"
     ]
    }
   ],
   "source": [
    "so = Solution()\n",
    "print(so.fullJustify([\"This\", \"is\", \"an\", \"example\", \"of\", \"text\", \"justification.\"], 16),[\n",
    "   \"This    is    an\",\n",
    "   \"example  of text\",\n",
    "   \"justification.  \"\n",
    "])\n",
    "print(so.fullJustify([\"Science\",\"is\",\"what\",\"we\",\"understand\",\"well\",\"enough\",\"to\",\"explain\", \"to\",\"a\",\"computer.\",\"Art\",\"is\",\"everything\",\"else\",\"we\",\"do\"],\n",
    "20))\n",
    "print(so.fullJustify([\"What\",\"must\",\"be\",\"acknowledgment\",\"shall\",\"be\"], 16))"
   ]
  }
 ],
 "metadata": {
  "kernelspec": {
   "display_name": "Python 3",
   "language": "python",
   "name": "python3"
  },
  "language_info": {
   "codemirror_mode": {
    "name": "ipython",
    "version": 3
   },
   "file_extension": ".py",
   "mimetype": "text/x-python",
   "name": "python",
   "nbconvert_exporter": "python",
   "pygments_lexer": "ipython3",
   "version": "3.7.0"
  },
  "latex_envs": {
   "LaTeX_envs_menu_present": true,
   "autoclose": false,
   "autocomplete": true,
   "bibliofile": "biblio.bib",
   "cite_by": "apalike",
   "current_citInitial": 1,
   "eqLabelWithNumbers": true,
   "eqNumInitial": 1,
   "hotkeys": {
    "equation": "Ctrl-E",
    "itemize": "Ctrl-I"
   },
   "labels_anchors": false,
   "latex_user_defs": false,
   "report_style_numbering": false,
   "user_envs_cfg": false
  }
 },
 "nbformat": 4,
 "nbformat_minor": 2
}
