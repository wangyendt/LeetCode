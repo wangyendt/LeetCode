{
 "cells": [
  {
   "cell_type": "code",
   "execution_count": 14,
   "metadata": {
    "ExecuteTime": {
     "end_time": "2019-04-30T06:25:07.360443Z",
     "start_time": "2019-04-30T06:25:07.353461Z"
    }
   },
   "outputs": [],
   "source": [
    "class Solution:\n",
    "    def insert(self, intervals: list(list()), newInterval: list) -> list(list()):\n",
    "        for i, inter in enumerate(intervals):\n",
    "            if newInterval[0] < inter[0]:\n",
    "                break\n",
    "        else:\n",
    "            i = len(intervals)\n",
    "        mergeIntervals = intervals[:i]\n",
    "        mergeIntervals.append(newInterval)\n",
    "        mergeIntervals += intervals[i:]\n",
    "        return self.merge(mergeIntervals)\n",
    "    \n",
    "    def merge(self, intervals: list(list())) -> list(list()):\n",
    "        intervals = sorted(intervals, key=lambda x: x[0])\n",
    "        ret = []\n",
    "        for inter in intervals:\n",
    "            if not ret:\n",
    "                ret.append(inter)\n",
    "                l, r = inter[0], inter[1]\n",
    "            else:\n",
    "                if r < inter[0]:\n",
    "                    ret.append(inter)\n",
    "                    r = inter[1]\n",
    "                elif r >= inter[1]:\n",
    "                    pass\n",
    "                else: # inter[0] <= r < inter[1]\n",
    "                    ret[-1] = [ret[-1][0], inter[1]]\n",
    "                    r = inter[1]\n",
    "        return ret"
   ]
  },
  {
   "cell_type": "code",
   "execution_count": 15,
   "metadata": {
    "ExecuteTime": {
     "end_time": "2019-04-30T06:25:07.572873Z",
     "start_time": "2019-04-30T06:25:07.568885Z"
    }
   },
   "outputs": [
    {
     "name": "stdout",
     "output_type": "stream",
     "text": [
      "[[1, 3], [2, 5], [6, 9]]\n",
      "[[1, 5], [6, 9]] [[1, 5], [6, 9]]\n"
     ]
    }
   ],
   "source": [
    "so = Solution()\n",
    "print(so.insert([[1,3],[6,9]], [2,5]), [[1,5],[6,9]])"
   ]
  }
 ],
 "metadata": {
  "kernelspec": {
   "display_name": "Python 3",
   "language": "python",
   "name": "python3"
  },
  "language_info": {
   "codemirror_mode": {
    "name": "ipython",
    "version": 3
   },
   "file_extension": ".py",
   "mimetype": "text/x-python",
   "name": "python",
   "nbconvert_exporter": "python",
   "pygments_lexer": "ipython3",
   "version": "3.6.7"
  }
 },
 "nbformat": 4,
 "nbformat_minor": 2
}
