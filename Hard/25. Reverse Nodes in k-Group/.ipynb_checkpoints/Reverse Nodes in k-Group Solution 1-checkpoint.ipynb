{
 "cells": [
  {
   "cell_type": "code",
   "execution_count": 1,
   "metadata": {
    "ExecuteTime": {
     "end_time": "2019-04-02T10:11:09.077609Z",
     "start_time": "2019-04-02T10:11:09.070596Z"
    }
   },
   "outputs": [],
   "source": [
    "# Definition for singly-linked list.\n",
    "class ListNode:\n",
    "    def __init__(self, x):\n",
    "        self.val = x\n",
    "        self.next = None\n",
    "\n",
    "class Solution:\n",
    "    def reverseKGroup(self, head: ListNode, k: int) -> ListNode:\n",
    "        p = q = ListNode(0)    \n",
    "        p.next = l = r = head\n",
    "        while True:\n",
    "            cnt = 0\n",
    "            while r and cnt < k:\n",
    "                r = r.next\n",
    "                cnt += 1\n",
    "            if cnt == k:\n",
    "                pre, cur = r, l\n",
    "                for _ in range(k):\n",
    "                    cur.next, cur, pre = pre, cur.next, cur\n",
    "                q.next, q, l = pre, l, r\n",
    "            else:\n",
    "                return p.next\n",
    "    \n",
    "    def generateListNode(self, *x):\n",
    "        ret, tmp = None, None\n",
    "        x = x[::-1]\n",
    "        for t in x:\n",
    "            ret = ListNode(t)\n",
    "            ret.next = tmp\n",
    "            tmp = ret\n",
    "        return ret\n",
    "    \n",
    "    def printListNode(self, listNode):\n",
    "        if not listNode:\n",
    "            return 'NULL'\n",
    "        ret = ''\n",
    "        while listNode:\n",
    "            ret += str(listNode.val)\n",
    "            if listNode.next != None:\n",
    "                ret += ' -> '\n",
    "            listNode = listNode.next\n",
    "        return ret"
   ]
  },
  {
   "cell_type": "code",
   "execution_count": 2,
   "metadata": {
    "ExecuteTime": {
     "end_time": "2019-04-02T10:11:09.343867Z",
     "start_time": "2019-04-02T10:11:09.334891Z"
    },
    "scrolled": true
   },
   "outputs": [
    {
     "name": "stdout",
     "output_type": "stream",
     "text": [
      "2 -> 1 -> 4 -> 3\n"
     ]
    }
   ],
   "source": [
    "so = Solution()\n",
    "ln = so.generateListNode(1,2,3,4)\n",
    "k = 2\n",
    "print(so.printListNode(so.reverseKGroup(ln, k)))"
   ]
  },
  {
   "cell_type": "code",
   "execution_count": 138,
   "metadata": {
    "ExecuteTime": {
     "end_time": "2019-04-02T08:16:11.305971Z",
     "start_time": "2019-04-02T08:16:11.300969Z"
    }
   },
   "outputs": [
    {
     "name": "stdout",
     "output_type": "stream",
     "text": [
      "1 -> 2 -> 3 -> 4 NULL\n",
      "2 -> 3 -> 4 1\n",
      "3 -> 4 2 -> 1\n",
      "4 3 -> 2 -> 1\n",
      "NULL 4 -> 3 -> 2 -> 1\n"
     ]
    }
   ],
   "source": [
    "a = so.generateListNode(1,2,3,4)\n",
    "l=r=a\n",
    "cnt = 0\n",
    "while cnt<4:\n",
    "    r = r.next\n",
    "    cnt+=1\n",
    "pre,cur=r,l\n",
    "print(so.printListNode(cur),so.printListNode(pre))\n",
    "for i in range(4):\n",
    "    cur.next,cur,pre=pre,cur.next,cur\n",
    "    print(so.printListNode(cur),so.printListNode(pre))"
   ]
  }
 ],
 "metadata": {
  "kernelspec": {
   "display_name": "Python 3",
   "language": "python",
   "name": "python3"
  },
  "language_info": {
   "codemirror_mode": {
    "name": "ipython",
    "version": 3
   },
   "file_extension": ".py",
   "mimetype": "text/x-python",
   "name": "python",
   "nbconvert_exporter": "python",
   "pygments_lexer": "ipython3",
   "version": "3.6.7"
  }
 },
 "nbformat": 4,
 "nbformat_minor": 2
}
