{
 "cells": [
  {
   "cell_type": "code",
   "execution_count": 109,
   "metadata": {
    "ExecuteTime": {
     "end_time": "2019-04-04T05:19:46.879880Z",
     "start_time": "2019-04-04T05:19:46.873892Z"
    }
   },
   "outputs": [],
   "source": [
    "# Definition for singly-linked list.\n",
    "class ListNode:\n",
    "    def __init__(self, x):\n",
    "        self.val = x\n",
    "        self.next = None\n",
    "\n",
    "class Solution:\n",
    "    def reverseKGroup(self, head: ListNode, k: int) -> ListNode:\n",
    "        p = q = ListNode(0)\n",
    "        p.next = l = r = head\n",
    "        while True:\n",
    "            cnt = 0\n",
    "            while r and cnt < k:\n",
    "                r = r.next\n",
    "                cnt += 1\n",
    "            if cnt == k:\n",
    "                cur, pre = l, r\n",
    "                for _ in range(k):\n",
    "                    cur.next, pre, cur = pre, cur, cur.next\n",
    "                q.next, q, l = pre, q.next, r\n",
    "            else:\n",
    "                return p.next\n",
    "    \n",
    "    def generateListNode(self, *x):\n",
    "        ret, tmp = None, None\n",
    "        x = x[::-1]\n",
    "        for t in x:\n",
    "            ret = ListNode(t)\n",
    "            ret.next = tmp\n",
    "            tmp = ret\n",
    "        return ret\n",
    "    \n",
    "    def printListNode(self, listNode):\n",
    "        if not listNode:\n",
    "            return 'NULL'\n",
    "        ret = ''\n",
    "        while listNode:\n",
    "            ret += str(listNode.val)\n",
    "            if listNode.next != None:\n",
    "                ret += ' -> '\n",
    "            listNode = listNode.next\n",
    "        return ret"
   ]
  },
  {
   "cell_type": "code",
   "execution_count": 110,
   "metadata": {
    "ExecuteTime": {
     "end_time": "2019-04-04T05:19:47.109671Z",
     "start_time": "2019-04-04T05:19:47.105681Z"
    },
    "scrolled": true
   },
   "outputs": [
    {
     "name": "stdout",
     "output_type": "stream",
     "text": [
      "6 -> 5 -> 4 -> 3 -> 2 -> 1 -> 12 -> 11 -> 10 -> 9 -> 8 -> 7 -> 18 -> 17 -> 16 -> 15 -> 14 -> 13\n"
     ]
    }
   ],
   "source": [
    "so = Solution()\n",
    "ln = so.generateListNode(1,2,3,4,5,6,7,8,9,10,11,12,13,14,15,16,17,18)\n",
    "k = 6\n",
    "print(so.printListNode(so.reverseKGroup(ln, k)))"
   ]
  }
 ],
 "metadata": {
  "kernelspec": {
   "display_name": "Python 3",
   "language": "python",
   "name": "python3"
  },
  "language_info": {
   "codemirror_mode": {
    "name": "ipython",
    "version": 3
   },
   "file_extension": ".py",
   "mimetype": "text/x-python",
   "name": "python",
   "nbconvert_exporter": "python",
   "pygments_lexer": "ipython3",
   "version": "3.6.7"
  }
 },
 "nbformat": 4,
 "nbformat_minor": 2
}
