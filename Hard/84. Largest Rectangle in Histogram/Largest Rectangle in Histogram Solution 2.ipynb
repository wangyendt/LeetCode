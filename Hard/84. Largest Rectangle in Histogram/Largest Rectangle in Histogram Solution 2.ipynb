{
 "cells": [
  {
   "cell_type": "code",
   "execution_count": 11,
   "metadata": {
    "ExecuteTime": {
     "end_time": "2019-05-21T18:13:07.472948Z",
     "start_time": "2019-05-21T18:13:07.413190Z"
    }
   },
   "outputs": [],
   "source": [
    "class Solution:\n",
    "    def largestRectangleArea(self, heights: list) -> int:\n",
    "        indices = sorted(range(len(heights)), key=lambda x: heights[x])\n",
    "        print(indices, heights)\n",
    "#     def largestRectangleArea(self, heights: list) -> int:\n",
    "#         up = [1]\n",
    "#         down = [1]\n",
    "#         for i in range(len(heights)-1):\n",
    "#             if heights[i+1] >= heights[i]:\n",
    "#                 up[]\n",
    "            \n",
    "            "
   ]
  },
  {
   "cell_type": "code",
   "execution_count": 12,
   "metadata": {
    "ExecuteTime": {
     "end_time": "2019-05-21T18:13:09.001270Z",
     "start_time": "2019-05-21T18:13:08.996255Z"
    }
   },
   "outputs": [
    {
     "name": "stdout",
     "output_type": "stream",
     "text": [
      "[1, 0, 4, 5, 2, 3] [2, 1, 5, 6, 2, 3]\n",
      "None 10\n"
     ]
    }
   ],
   "source": [
    "so = Solution()\n",
    "# print(so.largestRectangleArea([2]), 2)\n",
    "# print(so.largestRectangleArea([2,3]), 4)\n",
    "print(so.largestRectangleArea([2,1,5,6,2,3]), 10)\n",
    "# print(so.largestRectangleArea([]), 0)\n",
    "# print(so.largestRectangleArea([0,0,0,0,0,0]), 0)\n",
    "# print(so.largestRectangleArea(range(10000)), 5000**2)"
   ]
  }
 ],
 "metadata": {
  "kernelspec": {
   "display_name": "Python 3",
   "language": "python",
   "name": "python3"
  },
  "language_info": {
   "codemirror_mode": {
    "name": "ipython",
    "version": 3
   },
   "file_extension": ".py",
   "mimetype": "text/x-python",
   "name": "python",
   "nbconvert_exporter": "python",
   "pygments_lexer": "ipython3",
   "version": "3.7.0"
  },
  "latex_envs": {
   "LaTeX_envs_menu_present": true,
   "autoclose": false,
   "autocomplete": true,
   "bibliofile": "biblio.bib",
   "cite_by": "apalike",
   "current_citInitial": 1,
   "eqLabelWithNumbers": true,
   "eqNumInitial": 1,
   "hotkeys": {
    "equation": "Ctrl-E",
    "itemize": "Ctrl-I"
   },
   "labels_anchors": false,
   "latex_user_defs": false,
   "report_style_numbering": false,
   "user_envs_cfg": false
  }
 },
 "nbformat": 4,
 "nbformat_minor": 2
}
