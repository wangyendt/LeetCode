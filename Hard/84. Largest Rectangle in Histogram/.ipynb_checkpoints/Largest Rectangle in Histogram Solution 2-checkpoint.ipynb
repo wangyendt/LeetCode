{
 "cells": [
  {
   "cell_type": "code",
   "execution_count": 2,
   "metadata": {
    "ExecuteTime": {
     "end_time": "2019-05-22T18:04:49.324782Z",
     "start_time": "2019-05-22T18:04:49.321771Z"
    }
   },
   "outputs": [],
   "source": [
    "# Definition for a binary tree node.\n",
    "class TreeNode:\n",
    "    def __init__(self, x):\n",
    "        self.key = x\n",
    "        self.left = None\n",
    "        self.right = None\n",
    "        self.height = 0"
   ]
  },
  {
   "cell_type": "code",
   "execution_count": 31,
   "metadata": {
    "ExecuteTime": {
     "end_time": "2019-05-22T18:14:59.257218Z",
     "start_time": "2019-05-22T18:14:59.243184Z"
    },
    "code_folding": []
   },
   "outputs": [],
   "source": [
    "class AVLTree:\n",
    "    def __init__(self):\n",
    "        self.root = None\n",
    "\n",
    "    def height(self, node):\n",
    "        if node is None:\n",
    "            return -1\n",
    "        else:\n",
    "            return node.height\n",
    "\n",
    "    def _update_height(self, node):\n",
    "        node.height = max(self.height(node.left), self.height(node.right)) + 1\n",
    "\n",
    "    def _unbalance(self, node):\n",
    "        return abs(self.height(node.left) - self.height(node.right)) is 2\n",
    "\n",
    "    \"\"\"右旋处理LL\"\"\"\n",
    "    def _right_rotate(self, node):\n",
    "        node_right = node\n",
    "        node = node.left\n",
    "        node_right.left = node.right\n",
    "        node.right = node_right\n",
    "        \n",
    "        self._update_height(node_right)\n",
    "        self._update_height(node)\n",
    "        \n",
    "        return node\n",
    "\n",
    "    \"\"\"左旋处理RR\"\"\"\n",
    "    def _left_rotate(self, node):\n",
    "        node_left = node\n",
    "        node = node.right\n",
    "        node_left.right = node.left\n",
    "        node.left = node_left\n",
    "        \n",
    "        self._update_height(node_left)\n",
    "        self._update_height(node)\n",
    "        \n",
    "        return node\n",
    "\n",
    "    \"\"\"双向旋转（先左后右）平衡处理LR\"\"\"\n",
    "    def _left_right_rotate(self, node):\n",
    "        node.left = self._left_rotate(node.left)\n",
    "        return self._right_rotate(node)\n",
    "\n",
    "    \"\"\"双向旋转（先右后左）平衡处理RL\"\"\"\n",
    "    def _right_left_rotate(self, node):\n",
    "        node.right = self._right_rotate(node.right)\n",
    "        return self._left_rotate(node)\n",
    "\n",
    "    \"\"\"插入元素\"\"\"\n",
    "    def insert(self, key):\n",
    "        if self.root is None:\n",
    "            self.root = TreeNode(key)\n",
    "        else:\n",
    "            self.root = self._insert(key, self.root)\n",
    "            \n",
    "    def _insert(self, key, node):\n",
    "        if node is None:\n",
    "            node = TreeNode(key)\n",
    "\n",
    "        elif key < node.key: #左侧插入结点\n",
    "            node.left = self._insert(key, node.left)\n",
    "            if self._unbalance(node): #不平衡\n",
    "                if key < node.left.key: #LL不平衡\n",
    "                    node = self._right_rotate(node) #右旋\n",
    "                else: #LR不平衡\n",
    "                    node = self._left_right_rotate(node) #先左旋再右旋\n",
    "             \n",
    "        elif key > node.key: #右侧插入结点\n",
    "            node.right = self._insert(key, node.right)\n",
    "            if self._unbalance(node): #不平衡\n",
    "                if key < node.right.key: #LR不平衡\n",
    "                    node = self._right_left_rotate(node) #先右旋再左旋\n",
    "                else: #RR不平衡\n",
    "                    node = self._left_rotate(node) #左旋\n",
    "\n",
    "        self._update_height(node)\n",
    "        \n",
    "        return node\n",
    "    \n",
    "    # 查询val在树中介于哪两个数字之间\n",
    "    def query(self, val: int, maxVal: int) -> (int, int):\n",
    "        p = self.root\n",
    "        retL, retR = -1, maxVal\n",
    "        while p:\n",
    "            if val < p.key:\n",
    "                retR = min(retR, p.key)\n",
    "                p = p.left\n",
    "            else:\n",
    "                retL = max(retL, p.key)\n",
    "                p = p.right\n",
    "        return retL, retR"
   ]
  },
  {
   "cell_type": "code",
   "execution_count": 32,
   "metadata": {
    "ExecuteTime": {
     "end_time": "2019-05-22T18:14:59.509172Z",
     "start_time": "2019-05-22T18:14:59.506164Z"
    }
   },
   "outputs": [],
   "source": [
    "def maxDepth(root: TreeNode) -> int:\n",
    "    def recursive(tr, dep):\n",
    "        if not tr:\n",
    "            return dep\n",
    "        else:\n",
    "            return max(recursive(tr.left, dep+1), recursive(tr.right, dep+1))\n",
    "    return recursive(root, 0)"
   ]
  },
  {
   "cell_type": "code",
   "execution_count": 33,
   "metadata": {
    "ExecuteTime": {
     "end_time": "2019-05-22T18:15:00.174162Z",
     "start_time": "2019-05-22T18:15:00.170151Z"
    }
   },
   "outputs": [],
   "source": [
    "def showTreeNode(tree: TreeNode):\n",
    "    stack = [tree]\n",
    "    ret = []\n",
    "    while stack and len(ret) < 2**maxDepth(tree)-1:\n",
    "        tr = stack.pop(0)\n",
    "        if not tr:\n",
    "            ret.append('null')\n",
    "            stack.append(None)\n",
    "            stack.append(None)\n",
    "        else:\n",
    "            ret.append(tr.key)\n",
    "            stack.append(tr.left)\n",
    "            stack.append(tr.right)\n",
    "    return ret"
   ]
  },
  {
   "cell_type": "code",
   "execution_count": 36,
   "metadata": {
    "ExecuteTime": {
     "end_time": "2019-05-22T18:15:28.896638Z",
     "start_time": "2019-05-22T18:15:28.889619Z"
    },
    "code_folding": [
     4
    ]
   },
   "outputs": [],
   "source": [
    "class Solution:\n",
    "    def largestRectangleArea(self, heights: list) -> int:\n",
    "        if not heights:\n",
    "            return 0\n",
    "        indices = sorted(range(len(heights)), key=lambda x: heights[x])\n",
    "#         print(indices, heights)\n",
    "        stack = []\n",
    "        p = 0\n",
    "        tree = AVLTree()\n",
    "        maxAreas = [heights[0]]\n",
    "        while p <= len(indices)-1:\n",
    "            if not stack:\n",
    "                stack.append(indices[p])\n",
    "            else:\n",
    "                if heights[indices[p]] == heights[stack[0]]:\n",
    "                    stack.append(indices[p])\n",
    "                else:\n",
    "                    for s in stack:\n",
    "                        l, r = tree.query(s, len(indices))\n",
    "#                         print(l, r, heights[s])\n",
    "                        maxAreas.append((r-l-1) * heights[s])\n",
    "                    while stack:\n",
    "                        s = stack.pop()\n",
    "                        tree.insert(s)\n",
    "#                         print(showTreeNode(tree.root))\n",
    "                    continue\n",
    "            p += 1\n",
    "#         print(stack, maxAreas)\n",
    "        if stack:\n",
    "            if len(stack) == 1:\n",
    "                maxAreas.append(heights[stack[0]])\n",
    "            else:\n",
    "                for s in stack:\n",
    "                    l, r = tree.query(s, len(indices))\n",
    "                    if r == -1:\n",
    "                        r = len(heights)\n",
    "                    maxAreas.append((r-l-1) * heights[s])\n",
    "        return max(maxAreas)"
   ]
  },
  {
   "cell_type": "code",
   "execution_count": 39,
   "metadata": {
    "ExecuteTime": {
     "end_time": "2019-05-22T18:15:40.792102Z",
     "start_time": "2019-05-22T18:15:40.458306Z"
    }
   },
   "outputs": [
    {
     "name": "stdout",
     "output_type": "stream",
     "text": [
      "2 2\n",
      "4 4\n",
      "10 10\n",
      "0 0\n",
      "0 0\n",
      "25000000 25000000\n",
      "2 2\n",
      "60 60\n",
      "2 2\n",
      "3 3\n"
     ]
    }
   ],
   "source": [
    "so = Solution()\n",
    "print(so.largestRectangleArea([2]), 2)\n",
    "print(so.largestRectangleArea([2,3]), 4)\n",
    "print(so.largestRectangleArea([2,1,5,6,2,3]), 10)\n",
    "print(so.largestRectangleArea([]), 0)\n",
    "print(so.largestRectangleArea([0,0,0,0,0,0]), 0)\n",
    "print(so.largestRectangleArea(range(10000)), 5000**2)\n",
    "print(so.largestRectangleArea([1,1]), 2)\n",
    "print(so.largestRectangleArea([2,30,30]), 60)\n",
    "print(so.largestRectangleArea([2,0,2]), 2)\n",
    "print(so.largestRectangleArea([0,1,0,2,0,3,0]),3)"
   ]
  }
 ],
 "metadata": {
  "kernelspec": {
   "display_name": "Python 3",
   "language": "python",
   "name": "python3"
  },
  "language_info": {
   "codemirror_mode": {
    "name": "ipython",
    "version": 3
   },
   "file_extension": ".py",
   "mimetype": "text/x-python",
   "name": "python",
   "nbconvert_exporter": "python",
   "pygments_lexer": "ipython3",
   "version": "3.7.0"
  },
  "latex_envs": {
   "LaTeX_envs_menu_present": true,
   "autoclose": false,
   "autocomplete": true,
   "bibliofile": "biblio.bib",
   "cite_by": "apalike",
   "current_citInitial": 1,
   "eqLabelWithNumbers": true,
   "eqNumInitial": 1,
   "hotkeys": {
    "equation": "Ctrl-E",
    "itemize": "Ctrl-I"
   },
   "labels_anchors": false,
   "latex_user_defs": false,
   "report_style_numbering": false,
   "user_envs_cfg": false
  }
 },
 "nbformat": 4,
 "nbformat_minor": 2
}
