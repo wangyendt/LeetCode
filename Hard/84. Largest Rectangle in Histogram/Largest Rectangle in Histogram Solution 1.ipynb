{
 "cells": [
  {
   "cell_type": "code",
   "execution_count": 1,
   "metadata": {
    "ExecuteTime": {
     "end_time": "2019-05-21T08:54:13.462901Z",
     "start_time": "2019-05-21T08:54:13.453876Z"
    },
    "code_folding": []
   },
   "outputs": [],
   "source": [
    "class Solution:\n",
    "    def largestRectangleArea(self, heights: list) -> int:\n",
    "        ret = 0\n",
    "        for i, h in enumerate(heights):\n",
    "            left, right = i, i\n",
    "            while left >= 0:\n",
    "                if heights[left] < h:\n",
    "                    left += 1\n",
    "                    break\n",
    "                else:\n",
    "                    left -= 1\n",
    "            while right <= len(heights)-1:\n",
    "                if heights[right] < h:\n",
    "                    right -= 1\n",
    "                    break\n",
    "                else:\n",
    "                    right += 1\n",
    "            left = max(0, left)\n",
    "            right = min(len(heights)-1, right)\n",
    "#             print(left, right, h)\n",
    "            ret = max(ret, h*(right-left+1))\n",
    "#         print(ret)\n",
    "        return ret"
   ]
  },
  {
   "cell_type": "code",
   "execution_count": 7,
   "metadata": {
    "ExecuteTime": {
     "end_time": "2019-05-21T08:56:23.498737Z",
     "start_time": "2019-05-21T08:56:06.464456Z"
    },
    "scrolled": false
   },
   "outputs": [
    {
     "name": "stdout",
     "output_type": "stream",
     "text": [
      "2 2\n",
      "4 4\n",
      "10 10\n",
      "0 0\n",
      "0 0\n",
      "25000000 25000000\n"
     ]
    }
   ],
   "source": [
    "so = Solution()\n",
    "print(so.largestRectangleArea([2]), 2)\n",
    "print(so.largestRectangleArea([2,3]), 4)\n",
    "print(so.largestRectangleArea([2,1,5,6,2,3]), 10)\n",
    "print(so.largestRectangleArea([]), 0)\n",
    "print(so.largestRectangleArea([0,0,0,0,0,0]), 0)\n",
    "print(so.largestRectangleArea(range(10000)), 5000**2)"
   ]
  },
  {
   "cell_type": "code",
   "execution_count": 9,
   "metadata": {
    "ExecuteTime": {
     "end_time": "2019-05-21T08:59:03.739508Z",
     "start_time": "2019-05-21T08:58:57.368557Z"
    }
   },
   "outputs": [],
   "source": [
    "for i in range(10000**2):\n",
    "    j = 1"
   ]
  }
 ],
 "metadata": {
  "kernelspec": {
   "display_name": "Python 3",
   "language": "python",
   "name": "python3"
  },
  "language_info": {
   "codemirror_mode": {
    "name": "ipython",
    "version": 3
   },
   "file_extension": ".py",
   "mimetype": "text/x-python",
   "name": "python",
   "nbconvert_exporter": "python",
   "pygments_lexer": "ipython3",
   "version": "3.7.0"
  },
  "latex_envs": {
   "LaTeX_envs_menu_present": true,
   "autoclose": false,
   "autocomplete": true,
   "bibliofile": "biblio.bib",
   "cite_by": "apalike",
   "current_citInitial": 1,
   "eqLabelWithNumbers": true,
   "eqNumInitial": 1,
   "hotkeys": {
    "equation": "Ctrl-E",
    "itemize": "Ctrl-I"
   },
   "labels_anchors": false,
   "latex_user_defs": false,
   "report_style_numbering": false,
   "user_envs_cfg": false
  }
 },
 "nbformat": 4,
 "nbformat_minor": 2
}
