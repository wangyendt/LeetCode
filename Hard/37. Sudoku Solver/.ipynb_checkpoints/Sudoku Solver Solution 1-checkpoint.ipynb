{
 "cells": [
  {
   "cell_type": "code",
   "execution_count": 105,
   "metadata": {
    "ExecuteTime": {
     "end_time": "2019-04-16T04:55:12.673825Z",
     "start_time": "2019-04-16T04:55:12.656870Z"
    }
   },
   "outputs": [],
   "source": [
    "class Solution:\n",
    "    def solveSudoku(self, board: list(list())) -> None:\n",
    "        \"\"\"\n",
    "        Do not return anything, modify board in-place instead.\n",
    "        \"\"\"\n",
    "        self.inRow = [i for i in range(9) for _ in range(9)]\n",
    "        self.inCol = [i for _ in range(9) for i in range(9)]\n",
    "        self.inBlock = [i+j*3 for j in range(3) for __ in range(3) for i in range(3) for _ in range(3)]\n",
    "        self.sequence = [i for i in range(81)]\n",
    "        self.entry = [0 for _ in range(81)]\n",
    "        self.levelCnt = [0 for _ in range(82)]\n",
    "        self.seqPtr, self.cnt = 0, 0\n",
    "        self.board = board\n",
    "        \n",
    "        ones = 0b1111111110\n",
    "        self.block, self.row, self.col = [ones for _ in range(9)], [ones for _ in range(9)], [ones for _ in range(9)]\n",
    "        \n",
    "        self.board1d = [i for j in board for i in j]\n",
    "        for i in range(81):\n",
    "            if not '.' == self.board1d[i]:\n",
    "                self.initEntry(i, int(self.board1d[i]))\n",
    "        self.place(self.seqPtr)\n",
    "        \n",
    "    def initEntry(self, i, val):\n",
    "        validBit = 1 << val\n",
    "        self.entry[i] = validBit\n",
    "        self.block[self.inBlock[i]] &= ~validBit\n",
    "        self.row[self.inRow[i]] &= ~validBit\n",
    "        self.col[self.inCol[i]] &= ~validBit\n",
    "        seq2 = self.seqPtr\n",
    "        while seq2 < 81 and self.sequence[seq2] != i:\n",
    "            seq2 += 1\n",
    "        self.sequence[self.seqPtr], self.sequence[seq2] = self.sequence[seq2], self.sequence[self.seqPtr]\n",
    "        self.seqPtr += 1\n",
    "        \n",
    "    def log(self, value):\n",
    "        cnt = 0\n",
    "        while value:\n",
    "            value = value >> 1\n",
    "            cnt += 1\n",
    "        return cnt-1\n",
    "        \n",
    "    def success(self):\n",
    "        for i in range(9):\n",
    "            for j in range(9):\n",
    "                self.board[i][j] = str(self.log(self.entry[i*9+j]))\n",
    "        \n",
    "    def place(self, s):\n",
    "        self.levelCnt[s] += 1\n",
    "        self.cnt += 1\n",
    "        if s >= 81:\n",
    "            # succeed!!!\n",
    "            self.success()\n",
    "            return\n",
    "        s2 = self.findNextMinPossibilitiesSeqInd(s)\n",
    "        self.sequence[s], self.sequence[s2] = self.sequence[s2], self.sequence[s]\n",
    "        square = self.sequence[s]\n",
    "        blockInd, rowInd, colInd = self.inBlock[square], self.inRow[square], self.inCol[square]\n",
    "        possibles = self.block[blockInd] & self.row[rowInd] & self.col[colInd]\n",
    "        while possibles:\n",
    "            valBit = possibles & -possibles\n",
    "            possibles &= ~valBit\n",
    "            self.entry[square] = valBit\n",
    "            self.block[blockInd] &= ~valBit\n",
    "            self.row[rowInd] &= ~valBit\n",
    "            self.col[colInd] &= ~valBit\n",
    "            self.place(s+1)\n",
    "            self.entry[square] = 0\n",
    "            self.block[blockInd] |= valBit\n",
    "            self.row[rowInd] |= valBit\n",
    "            self.col[colInd] |= valBit\n",
    "        self.sequence[s], self.sequence[s2] = self.sequence[s2], self.sequence[s]\n",
    "        \n",
    "    def findNextMinPossibilitiesSeqInd(self, s):\n",
    "        assert(s < 81)\n",
    "        minBitCnt = 100  # (9+1)*(9+1)\n",
    "        s2 = s\n",
    "        for t in range(s, 81):\n",
    "            square = self.sequence[t]\n",
    "            possibles = self.block[self.inBlock[square]] & self.row[self.inRow[square]] & self.col[self.inCol[square]]\n",
    "            bitCnt = 0\n",
    "            while possibles:\n",
    "                possibles &= ~(possibles & -possibles)\n",
    "                bitCnt += 1\n",
    "            if bitCnt < minBitCnt:\n",
    "                minBitCnt = bitCnt\n",
    "                s2 = t\n",
    "        return s2"
   ]
  },
  {
   "cell_type": "code",
   "execution_count": 106,
   "metadata": {
    "ExecuteTime": {
     "end_time": "2019-04-16T04:55:13.253305Z",
     "start_time": "2019-04-16T04:55:13.247291Z"
    }
   },
   "outputs": [
    {
     "name": "stdout",
     "output_type": "stream",
     "text": [
      "[['5', '3', '4', '6', '7', '8', '9', '1', '2'], ['6', '7', '2', '1', '9', '5', '3', '4', '8'], ['1', '9', '8', '3', '4', '2', '5', '6', '7'], ['8', '5', '9', '7', '6', '1', '4', '2', '3'], ['4', '2', '6', '8', '5', '3', '7', '9', '1'], ['7', '1', '3', '9', '2', '4', '8', '5', '6'], ['9', '6', '1', '5', '3', '7', '2', '8', '4'], ['2', '8', '7', '4', '1', '9', '6', '3', '5'], ['3', '4', '5', '2', '8', '6', '1', '7', '9']]\n"
     ]
    }
   ],
   "source": [
    "so = Solution()\n",
    "board = [[\"5\",\"3\",\".\",\".\",\"7\",\".\",\".\",\".\",\".\"],\n",
    "         [\"6\",\".\",\".\",\"1\",\"9\",\"5\",\".\",\".\",\".\"],\n",
    "         [\".\",\"9\",\"8\",\".\",\".\",\".\",\".\",\"6\",\".\"],\n",
    "         [\"8\",\".\",\".\",\".\",\"6\",\".\",\".\",\".\",\"3\"],\n",
    "         [\"4\",\".\",\".\",\"8\",\".\",\"3\",\".\",\".\",\"1\"],\n",
    "         [\"7\",\".\",\".\",\".\",\"2\",\".\",\".\",\".\",\"6\"],\n",
    "         [\".\",\"6\",\".\",\".\",\".\",\".\",\"2\",\"8\",\".\"],\n",
    "         [\".\",\".\",\".\",\"4\",\"1\",\"9\",\".\",\".\",\"5\"],\n",
    "         [\".\",\".\",\".\",\".\",\"8\",\".\",\".\",\"7\",\"9\"]]\n",
    "so.solveSudoku(board)\n",
    "print(board)"
   ]
  }
 ],
 "metadata": {
  "kernelspec": {
   "display_name": "Python 3",
   "language": "python",
   "name": "python3"
  },
  "language_info": {
   "codemirror_mode": {
    "name": "ipython",
    "version": 3
   },
   "file_extension": ".py",
   "mimetype": "text/x-python",
   "name": "python",
   "nbconvert_exporter": "python",
   "pygments_lexer": "ipython3",
   "version": "3.6.7"
  }
 },
 "nbformat": 4,
 "nbformat_minor": 2
}
