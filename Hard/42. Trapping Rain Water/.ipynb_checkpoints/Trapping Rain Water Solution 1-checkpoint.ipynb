{
 "cells": [
  {
   "cell_type": "code",
   "execution_count": 38,
   "metadata": {
    "ExecuteTime": {
     "end_time": "2019-04-22T16:21:04.297021Z",
     "start_time": "2019-04-22T16:21:04.290004Z"
    }
   },
   "outputs": [],
   "source": [
    "class Solution:\n",
    "    def trap(self, height: list) -> int:\n",
    "        if len(height) <= 2:\n",
    "            return 0\n",
    "        l, r = 0, 1\n",
    "        ret = 0\n",
    "        while r < len(height):\n",
    "            while l+1 < len(height) and height[l] <= height[l+1]:\n",
    "                l += 1\n",
    "                r += 1\n",
    "            if l == len(height)-1:\n",
    "                return ret\n",
    "            max_val, max_ind = 0, r\n",
    "            while r < len(height):\n",
    "                if height[l] <= height[r]:\n",
    "                    max_val, max_ind = height[r], r\n",
    "                    break\n",
    "                else:\n",
    "                    if max_val < height[r]:\n",
    "                        max_val = height[r]\n",
    "                        max_ind = r\n",
    "                r += 1\n",
    "            if r >= len(height)-1:\n",
    "                if max_ind == len(height)-1:\n",
    "                    lowBound = min(height[l], height[max_ind])\n",
    "                    for i in range(l, len(height)):\n",
    "                        ret += max(0, lowBound-height[i])\n",
    "                    return ret\n",
    "                else:\n",
    "                    for i in range(l, max_ind):\n",
    "                        ret += max(0, height[max_ind] - height[i])\n",
    "                    l, r = max_ind, max_ind+1\n",
    "            else:\n",
    "                for i in range(l, r):\n",
    "                    ret += max(0, height[l] - height[i])\n",
    "                l, r = r, r + 1\n",
    "        return ret"
   ]
  },
  {
   "cell_type": "code",
   "execution_count": 40,
   "metadata": {
    "ExecuteTime": {
     "end_time": "2019-04-22T16:21:09.637083Z",
     "start_time": "2019-04-22T16:21:09.633572Z"
    }
   },
   "outputs": [
    {
     "name": "stdout",
     "output_type": "stream",
     "text": [
      "6 6\n",
      "9651 9651\n"
     ]
    }
   ],
   "source": [
    "so = Solution()\n",
    "print(so.trap([0,1,0,2,1,0,1,3,2,1,2,1]), 6)\n",
    "print(so.trap([1,2,3,456,7,7,87,8,654,754,64,56,546,45,234,234,23,5,32,532,46,43,6,3456]), 9651)"
   ]
  }
 ],
 "metadata": {
  "kernelspec": {
   "display_name": "Python 3",
   "language": "python",
   "name": "python3"
  },
  "language_info": {
   "codemirror_mode": {
    "name": "ipython",
    "version": 3
   },
   "file_extension": ".py",
   "mimetype": "text/x-python",
   "name": "python",
   "nbconvert_exporter": "python",
   "pygments_lexer": "ipython3",
   "version": "3.6.7"
  },
  "latex_envs": {
   "LaTeX_envs_menu_present": true,
   "autoclose": false,
   "autocomplete": true,
   "bibliofile": "biblio.bib",
   "cite_by": "apalike",
   "current_citInitial": 1,
   "eqLabelWithNumbers": true,
   "eqNumInitial": 1,
   "hotkeys": {
    "equation": "Ctrl-E",
    "itemize": "Ctrl-I"
   },
   "labels_anchors": false,
   "latex_user_defs": false,
   "report_style_numbering": false,
   "user_envs_cfg": false
  },
  "varInspector": {
   "cols": {
    "lenName": 16,
    "lenType": 16,
    "lenVar": 40
   },
   "kernels_config": {
    "python": {
     "delete_cmd_postfix": "",
     "delete_cmd_prefix": "del ",
     "library": "var_list.py",
     "varRefreshCmd": "print(var_dic_list())"
    },
    "r": {
     "delete_cmd_postfix": ") ",
     "delete_cmd_prefix": "rm(",
     "library": "var_list.r",
     "varRefreshCmd": "cat(var_dic_list()) "
    }
   },
   "types_to_exclude": [
    "module",
    "function",
    "builtin_function_or_method",
    "instance",
    "_Feature"
   ],
   "window_display": false
  }
 },
 "nbformat": 4,
 "nbformat_minor": 2
}
