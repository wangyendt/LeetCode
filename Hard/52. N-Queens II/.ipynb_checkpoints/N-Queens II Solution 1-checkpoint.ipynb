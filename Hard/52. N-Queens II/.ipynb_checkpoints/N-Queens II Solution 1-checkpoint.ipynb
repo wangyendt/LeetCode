{
 "cells": [
  {
   "cell_type": "code",
   "execution_count": 74,
   "metadata": {
    "ExecuteTime": {
     "end_time": "2019-04-30T05:52:41.933900Z",
     "start_time": "2019-04-30T05:52:41.926918Z"
    }
   },
   "outputs": [],
   "source": [
    "class Solution:\n",
    "    def totalNQueens(self, n: int) -> int:\n",
    "        # nums of returns when row == 0 and n % 2 == 1 and when choose n // 2 in row one.\n",
    "        # nums of returns otherwise\n",
    "        # whether n // in row one is chosen\n",
    "        ret = [0, 0, 0]\n",
    "        ones = (1<<n)-1\n",
    "        def solve(mask, row):\n",
    "            if row > n - 1 or mask[row] == 0:\n",
    "                return\n",
    "            else:\n",
    "                while mask[row]:\n",
    "                    nextTry = mask[row] & -mask[row]\n",
    "                    if row == 0:\n",
    "                        if n % 2:\n",
    "                            if nextTry > (1<<(n//2)):\n",
    "                                return\n",
    "                            elif nextTry == (1<<(n//2)):\n",
    "                                ret[2] = 1\n",
    "                        else:\n",
    "                            if nextTry > (1<<(n//2-1)):\n",
    "                                return\n",
    "                    nextMask = mask[:]\n",
    "                    nextMask[row] = 0\n",
    "                    for r in range(row+1, n):\n",
    "                        dis = abs(r - row)\n",
    "                        localMask = 0\n",
    "                        if nextTry >= 1 << dis:\n",
    "                            localMask |= nextTry >> dis\n",
    "                        if nextTry < 1 << (n-dis):\n",
    "                            localMask |= nextTry << dis\n",
    "                        localMask |= nextTry\n",
    "                        nextMask[r] &= ~localMask              \n",
    "                    if row == n - 1:\n",
    "                        if ret[2]:\n",
    "                            ret[0] += 1\n",
    "                        else:\n",
    "                            ret[1] += 1\n",
    "                    solve(nextMask, row+1)\n",
    "                    mask[row] &= ~nextTry # prepare for next try\n",
    "        solve([ones for _ in range(n)], 0)\n",
    "        return ret[0] + 2*ret[1]"
   ]
  },
  {
   "cell_type": "code",
   "execution_count": 75,
   "metadata": {
    "ExecuteTime": {
     "end_time": "2019-04-30T05:52:43.438382Z",
     "start_time": "2019-04-30T05:52:42.229405Z"
    }
   },
   "outputs": [
    {
     "name": "stdout",
     "output_type": "stream",
     "text": [
      "0 0\n",
      "1 1\n",
      "2 0\n",
      "3 0\n",
      "4 2\n",
      "5 10\n",
      "6 4\n",
      "7 40\n",
      "8 92\n",
      "9 352\n",
      "10 724\n",
      "11 2680\n",
      "12 14200\n"
     ]
    },
    {
     "data": {
      "text/plain": [
       "[None, None, None, None, None, None, None, None, None, None, None, None, None]"
      ]
     },
     "execution_count": 75,
     "metadata": {},
     "output_type": "execute_result"
    }
   ],
   "source": [
    "so = Solution()\n",
    "[print(i, +so.totalNQueens(i)) for i in range(13)]"
   ]
  }
 ],
 "metadata": {
  "kernelspec": {
   "display_name": "Python 3",
   "language": "python",
   "name": "python3"
  },
  "language_info": {
   "codemirror_mode": {
    "name": "ipython",
    "version": 3
   },
   "file_extension": ".py",
   "mimetype": "text/x-python",
   "name": "python",
   "nbconvert_exporter": "python",
   "pygments_lexer": "ipython3",
   "version": "3.6.7"
  }
 },
 "nbformat": 4,
 "nbformat_minor": 2
}
