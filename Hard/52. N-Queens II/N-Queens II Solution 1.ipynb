{
 "cells": [
  {
   "cell_type": "code",
   "execution_count": 1,
   "metadata": {
    "ExecuteTime": {
     "end_time": "2019-05-21T09:38:24.824687Z",
     "start_time": "2019-05-21T09:38:24.816668Z"
    }
   },
   "outputs": [],
   "source": [
    "class Solution:\n",
    "    def totalNQueens(self, n: int) -> int:\n",
    "        # nums of returns when row == 0 and n % 2 == 1 and when choose n // 2 in row one.\n",
    "        # nums of returns otherwise\n",
    "        # whether n // in row one is chosen\n",
    "        ret = [0, 0, 0]\n",
    "        ones = (1<<n)-1\n",
    "        def solve(mask, row):\n",
    "            if row > n - 1 or mask[row] == 0:\n",
    "                return\n",
    "            else:\n",
    "                while mask[row]:\n",
    "                    nextTry = mask[row] & -mask[row]\n",
    "                    if row == 0:\n",
    "                        if n % 2:\n",
    "                            if nextTry > (1<<(n//2)):\n",
    "                                return\n",
    "                            elif nextTry == (1<<(n//2)):\n",
    "                                ret[2] = 1\n",
    "                        else:\n",
    "                            if nextTry > (1<<(n//2-1)):\n",
    "                                return\n",
    "                    nextMask = mask[:]\n",
    "                    nextMask[row] = 0\n",
    "                    for r in range(row+1, n):\n",
    "                        dis = abs(r - row)\n",
    "                        localMask = 0\n",
    "                        if nextTry >= 1 << dis:\n",
    "                            localMask |= nextTry >> dis\n",
    "                        if nextTry < 1 << (n-dis):\n",
    "                            localMask |= nextTry << dis\n",
    "                        localMask |= nextTry\n",
    "                        nextMask[r] &= ~localMask              \n",
    "                    if row == n - 1:\n",
    "                        if ret[2]:\n",
    "                            ret[0] += 1\n",
    "                        else:\n",
    "                            ret[1] += 1\n",
    "                    solve(nextMask, row+1)\n",
    "                    mask[row] &= ~nextTry # prepare for next try\n",
    "        solve([ones for _ in range(n)], 0)\n",
    "        return ret[0] + 2*ret[1]"
   ]
  },
  {
   "cell_type": "code",
   "execution_count": null,
   "metadata": {
    "ExecuteTime": {
     "start_time": "2019-05-21T09:38:25.162Z"
    }
   },
   "outputs": [
    {
     "name": "stdout",
     "output_type": "stream",
     "text": [
      "0 0\n",
      "1 1\n",
      "2 0\n",
      "3 0\n",
      "4 2\n",
      "5 10\n",
      "6 4\n",
      "7 40\n",
      "8 92\n",
      "9 352\n",
      "10 724\n",
      "11 2680\n",
      "12 14200\n",
      "13 73712\n",
      "14 365596\n"
     ]
    }
   ],
   "source": [
    "so = Solution()\n",
    "[print(i, +so.totalNQueens(i)) for i in range(16)]"
   ]
  }
 ],
 "metadata": {
  "kernelspec": {
   "display_name": "Python 3",
   "language": "python",
   "name": "python3"
  },
  "language_info": {
   "codemirror_mode": {
    "name": "ipython",
    "version": 3
   },
   "file_extension": ".py",
   "mimetype": "text/x-python",
   "name": "python",
   "nbconvert_exporter": "python",
   "pygments_lexer": "ipython3",
   "version": "3.7.0"
  },
  "latex_envs": {
   "LaTeX_envs_menu_present": true,
   "autoclose": false,
   "autocomplete": true,
   "bibliofile": "biblio.bib",
   "cite_by": "apalike",
   "current_citInitial": 1,
   "eqLabelWithNumbers": true,
   "eqNumInitial": 1,
   "hotkeys": {
    "equation": "Ctrl-E",
    "itemize": "Ctrl-I"
   },
   "labels_anchors": false,
   "latex_user_defs": false,
   "report_style_numbering": false,
   "user_envs_cfg": false
  }
 },
 "nbformat": 4,
 "nbformat_minor": 2
}
