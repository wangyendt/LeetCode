{
 "cells": [
  {
   "cell_type": "code",
   "execution_count": 61,
   "metadata": {
    "ExecuteTime": {
     "end_time": "2019-04-22T14:53:02.145656Z",
     "start_time": "2019-04-22T14:53:02.141664Z"
    }
   },
   "outputs": [],
   "source": [
    "class Solution:\n",
    "    def firstMissingPositive(self, nums: list) -> int:\n",
    "        nums = list(set(nums))\n",
    "        max_valid = len(nums)\n",
    "        p = 0\n",
    "        while p < len(nums):\n",
    "            if nums[p] <= 0:\n",
    "                max_valid -= 1\n",
    "                nums.pop(p)\n",
    "            elif nums[p] > max_valid:\n",
    "                max_valid -= 1\n",
    "                nums.pop(p)\n",
    "            else:\n",
    "                p += 1\n",
    "        print(nums, p)\n",
    "        while p > 0:\n",
    "            if nums[p-1] > max_valid:\n",
    "                max_valid -= 1\n",
    "                nums.pop(p-1)\n",
    "            p -= 1\n",
    "        return max_valid + 1"
   ]
  },
  {
   "cell_type": "code",
   "execution_count": 62,
   "metadata": {
    "ExecuteTime": {
     "end_time": "2019-04-22T14:53:02.465005Z",
     "start_time": "2019-04-22T14:53:02.461494Z"
    }
   },
   "outputs": [
    {
     "name": "stdout",
     "output_type": "stream",
     "text": [
      "[1, 2, 4, 5] 4\n",
      "3 3\n",
      "[1, 2, 3, 4, 5, 7, 8, 9] 8\n",
      "6 6\n"
     ]
    }
   ],
   "source": [
    "so = Solution()\n",
    "print(so.firstMissingPositive([1,2,4,5,6]), 3)\n",
    "print(so.firstMissingPositive([4,19,18,32,5,1,7,2,8,3,9]),6)"
   ]
  }
 ],
 "metadata": {
  "kernelspec": {
   "display_name": "Python 3",
   "language": "python",
   "name": "python3"
  },
  "language_info": {
   "codemirror_mode": {
    "name": "ipython",
    "version": 3
   },
   "file_extension": ".py",
   "mimetype": "text/x-python",
   "name": "python",
   "nbconvert_exporter": "python",
   "pygments_lexer": "ipython3",
   "version": "3.6.7"
  },
  "latex_envs": {
   "LaTeX_envs_menu_present": true,
   "autoclose": false,
   "autocomplete": true,
   "bibliofile": "biblio.bib",
   "cite_by": "apalike",
   "current_citInitial": 1,
   "eqLabelWithNumbers": true,
   "eqNumInitial": 1,
   "hotkeys": {
    "equation": "Ctrl-E",
    "itemize": "Ctrl-I"
   },
   "labels_anchors": false,
   "latex_user_defs": false,
   "report_style_numbering": false,
   "user_envs_cfg": false
  },
  "varInspector": {
   "cols": {
    "lenName": 16,
    "lenType": 16,
    "lenVar": 40
   },
   "kernels_config": {
    "python": {
     "delete_cmd_postfix": "",
     "delete_cmd_prefix": "del ",
     "library": "var_list.py",
     "varRefreshCmd": "print(var_dic_list())"
    },
    "r": {
     "delete_cmd_postfix": ") ",
     "delete_cmd_prefix": "rm(",
     "library": "var_list.r",
     "varRefreshCmd": "cat(var_dic_list()) "
    }
   },
   "types_to_exclude": [
    "module",
    "function",
    "builtin_function_or_method",
    "instance",
    "_Feature"
   ],
   "window_display": false
  }
 },
 "nbformat": 4,
 "nbformat_minor": 2
}
