{
 "cells": [
  {
   "cell_type": "code",
   "execution_count": 5,
   "metadata": {
    "ExecuteTime": {
     "end_time": "2019-04-30T05:28:46.035879Z",
     "start_time": "2019-04-30T05:28:46.027900Z"
    }
   },
   "outputs": [],
   "source": [
    "class Solution:\n",
    "    def solveNQueens(self, n: int) -> list(list()):\n",
    "        ones = (1<<n)-1\n",
    "        postions = [-1]*n\n",
    "        ret = []\n",
    "        def solve(mask, row):\n",
    "            if row > n - 1 or mask[row] == 0:\n",
    "                return\n",
    "            else:\n",
    "                while mask[row]:\n",
    "                    nextTryPos = 0 # position from right to left\n",
    "                    nextTryCopy = nextTry = mask[row] & -mask[row]\n",
    "                    while nextTryCopy:\n",
    "                        nextTryPos += 1\n",
    "                        nextTryCopy >>= 1\n",
    "                    postions[row] = nextTryPos\n",
    "                    nextMask = mask[:]\n",
    "                    nextMask[row] = 0\n",
    "                    for r in range(n):\n",
    "                        if r != row:\n",
    "                            dis = abs(r - row)\n",
    "                            localMask = 0\n",
    "                            if nextTry >= 1 << dis:\n",
    "                                localMask |= nextTry >> dis\n",
    "                            if nextTry < 1 << (n-dis):\n",
    "                                localMask |= nextTry << dis\n",
    "                            localMask |= nextTry\n",
    "                            nextMask[r] &= ~localMask\n",
    "                    if row == n - 1:\n",
    "                        ret.append(\n",
    "                            ['.'*(n-p)+'Q'+'.'*(p-1) for p in postions]\n",
    "                        )\n",
    "                    solve(nextMask, row+1)\n",
    "                    mask[row] &= ~nextTry\n",
    "        solve([ones for _ in range(n)], 0)\n",
    "        return ret"
   ]
  },
  {
   "cell_type": "code",
   "execution_count": 6,
   "metadata": {
    "ExecuteTime": {
     "end_time": "2019-04-30T05:28:46.312140Z",
     "start_time": "2019-04-30T05:28:46.300172Z"
    }
   },
   "outputs": [
    {
     "name": "stdout",
     "output_type": "stream",
     "text": [
      "92\n"
     ]
    }
   ],
   "source": [
    "so = Solution()\n",
    "print(len(so.solveNQueens(8)))\n",
    "# print(so.solveNQueens(8))"
   ]
  }
 ],
 "metadata": {
  "kernelspec": {
   "display_name": "Python 3",
   "language": "python",
   "name": "python3"
  },
  "language_info": {
   "codemirror_mode": {
    "name": "ipython",
    "version": 3
   },
   "file_extension": ".py",
   "mimetype": "text/x-python",
   "name": "python",
   "nbconvert_exporter": "python",
   "pygments_lexer": "ipython3",
   "version": "3.6.7"
  }
 },
 "nbformat": 4,
 "nbformat_minor": 2
}
