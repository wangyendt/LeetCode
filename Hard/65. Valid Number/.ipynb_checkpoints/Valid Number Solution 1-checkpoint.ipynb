{
 "cells": [
  {
   "cell_type": "code",
   "execution_count": 34,
   "metadata": {
    "ExecuteTime": {
     "end_time": "2019-04-30T07:01:34.247581Z",
     "start_time": "2019-04-30T07:01:34.240599Z"
    },
    "code_folding": [
     11
    ]
   },
   "outputs": [],
   "source": [
    "class Solution:\n",
    "    def isNumber(self, s: str) -> bool:\n",
    "        s = s.strip()\n",
    "        strSign = ['-','+']\n",
    "        strLetter = ['e']\n",
    "        strDigit = [str(i) for i in range(10)]\n",
    "        strDot = ['.']\n",
    "        if not s:\n",
    "            return False\n",
    "        hasDot, hasE, hasSign, hasDig = False, False, False, False\n",
    "        for si, su in enumerate(s):\n",
    "            if not su in strSign + strLetter + strDigit + strDot:\n",
    "                return False\n",
    "            if si == 0:\n",
    "                if su in strLetter:\n",
    "                    return False\n",
    "            if su in strDot:\n",
    "                if hasDot or hasE:\n",
    "                    return False\n",
    "                else:\n",
    "                    hasDot = True\n",
    "            if su in strLetter:\n",
    "                if hasE or not hasDig or si == len(s)-1:\n",
    "                    return False\n",
    "                else:\n",
    "                    hasE = True\n",
    "                    hasSign = False\n",
    "            if su in strSign:\n",
    "                if hasSign or (si != 0 and not hasE) or (not s[si-1] in strLetter and hasE) or si == len(s)-1:\n",
    "                    return False\n",
    "                else:\n",
    "                    hasSign = True\n",
    "            if su in strDigit:\n",
    "                hasDig = True\n",
    "        return hasDig"
   ]
  },
  {
   "cell_type": "code",
   "execution_count": 37,
   "metadata": {
    "ExecuteTime": {
     "end_time": "2019-04-30T07:01:57.933918Z",
     "start_time": "2019-04-30T07:01:57.926931Z"
    }
   },
   "outputs": [
    {
     "name": "stdout",
     "output_type": "stream",
     "text": [
      "False False\n",
      "False False\n",
      "True True\n",
      "True True\n",
      "False False\n",
      "False False\n",
      "True True\n",
      "True True\n",
      "False False\n",
      "False False\n",
      "True True\n",
      "False False\n",
      "True True\n",
      "False False\n",
      "False False\n",
      "False False\n",
      "True True\n",
      "True True\n",
      "True True\n",
      "False False\n",
      "False False\n",
      "False False\n",
      "True True\n",
      "False False\n"
     ]
    }
   ],
   "source": [
    "so = Solution()\n",
    "print(so.isNumber(\"\"), False)\n",
    "print(so.isNumber(\"  \"), False)\n",
    "print(so.isNumber(\"0\"), True)\n",
    "print(so.isNumber(\" 0.1 \"), True)\n",
    "print(so.isNumber(\"abc\"), False)\n",
    "print(so.isNumber(\"1 a\"), False)\n",
    "print(so.isNumber(\"2e10\"), True)\n",
    "print(so.isNumber(\" -90e3   \"), True)\n",
    "print(so.isNumber(\" 1e\"), False)\n",
    "print(so.isNumber(\"e3\"), False)\n",
    "print(so.isNumber(\" 6e-1\"), True)\n",
    "print(so.isNumber(\" 99e2.5 \"), False)\n",
    "print(so.isNumber(\"53.5e93\"), True)\n",
    "print(so.isNumber(\" --6 \"), False)\n",
    "print(so.isNumber(\"-+3\"), False)\n",
    "print(so.isNumber(\"95a54e53\"), False)\n",
    "print(so.isNumber(\".01\"), True)\n",
    "print(so.isNumber(\"+2.\"), True)\n",
    "print(so.isNumber(\"+2.e+8\"), True)\n",
    "print(so.isNumber(\".\"), False)\n",
    "print(so.isNumber(\".e2\"), False)\n",
    "print(so.isNumber(\"6+1\"), False)\n",
    "print(so.isNumber(\"6e+1\"), True)\n",
    "print(so.isNumber(\"6e1+1\"), False)"
   ]
  }
 ],
 "metadata": {
  "kernelspec": {
   "display_name": "Python 3",
   "language": "python",
   "name": "python3"
  },
  "language_info": {
   "codemirror_mode": {
    "name": "ipython",
    "version": 3
   },
   "file_extension": ".py",
   "mimetype": "text/x-python",
   "name": "python",
   "nbconvert_exporter": "python",
   "pygments_lexer": "ipython3",
   "version": "3.6.7"
  }
 },
 "nbformat": 4,
 "nbformat_minor": 2
}
