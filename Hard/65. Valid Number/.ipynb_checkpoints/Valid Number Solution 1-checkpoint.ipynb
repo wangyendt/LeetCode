{
 "cells": [
  {
   "cell_type": "code",
   "execution_count": 1,
   "metadata": {
    "ExecuteTime": {
     "end_time": "2019-04-30T06:28:15.027391Z",
     "start_time": "2019-04-30T06:28:15.023402Z"
    }
   },
   "outputs": [],
   "source": [
    "class Solution:\n",
    "    def isNumber(self, s: str) -> bool:\n",
    "        pass"
   ]
  },
  {
   "cell_type": "code",
   "execution_count": 3,
   "metadata": {
    "ExecuteTime": {
     "end_time": "2019-04-30T06:31:19.744285Z",
     "start_time": "2019-04-30T06:31:19.733313Z"
    }
   },
   "outputs": [
    {
     "name": "stdout",
     "output_type": "stream",
     "text": [
      "None True\n",
      "None True\n",
      "None False\n",
      "None False\n",
      "None True\n",
      "None True\n",
      "None False\n",
      "None False\n",
      "None True\n",
      "None False\n",
      "None True\n",
      "None False\n",
      "None False\n",
      "None False\n"
     ]
    }
   ],
   "source": [
    "so = Solution()\n",
    "print(so.isNumber(\"0\"), True)\n",
    "print(so.isNumber(\" 0.1 \"), True)\n",
    "print(so.isNumber(\"abc\"), False)\n",
    "print(so.isNumber(\"1 a\"), False)\n",
    "print(so.isNumber(\"2e10\"), True)\n",
    "print(so.isNumber(\" -90e3   \"), True)\n",
    "print(so.isNumber(\" 1e\"), False)\n",
    "print(so.isNumber(\"e3\"), False)\n",
    "print(so.isNumber(\" 6e-1\"), True)\n",
    "print(so.isNumber(\" 99e2.5 \"), False)\n",
    "print(so.isNumber(\"53.5e93\"), True)\n",
    "print(so.isNumber(\" --6 \"), False)\n",
    "print(so.isNumber(\"-+3\"), False)\n",
    "print(so.isNumber(\"95a54e53\"), False)\n",
    "print(so.isNumber(\".01\"), True)"
   ]
  }
 ],
 "metadata": {
  "kernelspec": {
   "display_name": "Python 3",
   "language": "python",
   "name": "python3"
  },
  "language_info": {
   "codemirror_mode": {
    "name": "ipython",
    "version": 3
   },
   "file_extension": ".py",
   "mimetype": "text/x-python",
   "name": "python",
   "nbconvert_exporter": "python",
   "pygments_lexer": "ipython3",
   "version": "3.6.7"
  }
 },
 "nbformat": 4,
 "nbformat_minor": 2
}
