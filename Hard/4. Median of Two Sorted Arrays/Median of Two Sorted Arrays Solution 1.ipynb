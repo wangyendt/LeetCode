{
 "cells": [
  {
   "cell_type": "code",
   "execution_count": 37,
   "metadata": {
    "ExecuteTime": {
     "end_time": "2019-03-20T14:09:41.422449Z",
     "start_time": "2019-03-20T14:09:41.416434Z"
    }
   },
   "outputs": [],
   "source": [
    "class Solution:\n",
    "    def findMedianSortedArrays(self, nums1, nums2):\n",
    "        # The question is to find the medium of two given arrays.\n",
    "        if (len(nums1) + len(nums2)) % 2 == 1:\n",
    "            return self.recursive(nums1, nums2, (len(nums1)+len(nums2)) // 2)\n",
    "        else:\n",
    "            return (self.recursive(nums1, nums2, (len(nums1)+len(nums2)) // 2) + self.recursive(nums1, nums2, (len(nums1)+len(nums2)) // 2 - 1)) / 2.   \n",
    "\n",
    "    # find specific index of (arr1 and arr2) recursively\n",
    "    def recursive(self, arr1, arr2, ind):\n",
    "        print(arr1, arr2)\n",
    "        if not arr1:\n",
    "            return arr2[ind]\n",
    "        if not arr2:\n",
    "            return arr1[ind]\n",
    "        # Basically, we can choose i1, i2 randomly\n",
    "        i1, i2 = len(arr1) // 2 , len(arr2) // 2\n",
    "        m1, m2 = arr1[i1], arr2[i2]\n",
    "        print(i1, i2, len(arr1), len(arr2), ind)\n",
    "        if i1 + i2 < ind:\n",
    "            if m1 > m2:\n",
    "                return self.recursive(arr1, arr2[i2 + 1:], ind - i2 - 1)\n",
    "            else:\n",
    "                return self.recursive(arr1[i1 + 1:], arr2, ind - i1 - 1)\n",
    "        else:\n",
    "            if m1 > m2:\n",
    "                return self.recursive(arr1[:i1], arr2, ind)\n",
    "            else:\n",
    "                return self.recursive(arr1, arr2[:i2], ind)"
   ]
  },
  {
   "cell_type": "code",
   "execution_count": 38,
   "metadata": {
    "ExecuteTime": {
     "end_time": "2019-03-20T14:09:41.701395Z",
     "start_time": "2019-03-20T14:09:41.694379Z"
    }
   },
   "outputs": [
    {
     "name": "stdout",
     "output_type": "stream",
     "text": [
      "[1, 2, 3, 4, 5] [6, 7, 8, 9, 10]\n",
      "2 2 5 5 5\n",
      "[4, 5] [6, 7, 8, 9, 10]\n",
      "1 2 2 5 2\n",
      "[4, 5] [6, 7]\n",
      "1 1 2 2 2\n",
      "[4, 5] [6]\n",
      "1 0 2 1 2\n",
      "[] [6]\n",
      "[1, 2, 3, 4, 5] [6, 7, 8, 9, 10]\n",
      "2 2 5 5 4\n",
      "[1, 2, 3, 4, 5] [6, 7]\n",
      "2 1 5 2 4\n",
      "[4, 5] [6, 7]\n",
      "1 1 2 2 1\n",
      "[4, 5] [6]\n",
      "1 0 2 1 1\n",
      "[4, 5] []\n",
      "5.5\n"
     ]
    }
   ],
   "source": [
    "so = Solution()\n",
    "# print(so.findMedianSortedArrays([1,10,100,1000,10000,100000],[20,200,2000,20000,200000,2000000]))\n",
    "# print(so.findMedianSortedArrays([1,2,3,4,5],[-1,0,3,6,7]))\n",
    "print(so.findMedianSortedArrays([1,2,3,4,5],[6,7,8,9,10]))"
   ]
  },
  {
   "cell_type": "code",
   "execution_count": 30,
   "metadata": {
    "ExecuteTime": {
     "end_time": "2019-03-20T14:03:20.164983Z",
     "start_time": "2019-03-20T14:03:20.158969Z"
    }
   },
   "outputs": [],
   "source": [
    "# class Solution:\n",
    "#     def findMedianSortedArrays(self, nums1, nums2):\n",
    "#         if nums1[-1] <= nums2[0]:\n",
    "#             return (nums1[-1] + nums2[0]) / 2\n",
    "#         if nums2[-1] <= nums1[0]:\n",
    "#             return (nums2[-1] + nums1[0]) / 2\n",
    "#         if (len(nums1) + len(nums2)) % 2 == 0:  # m+n是偶数\n",
    "#             if len(nums1) % 2 == 1:\n",
    "#                 if nums1[len(nums1)//2] == nums2[len(nums2)//2]:\n",
    "#                     return nums1[len(nums1)//2]\n",
    "#                 if nums2[len(nums2)//2-1] <= nums1[len(nums1)//2] <= nums2[len(nums2)//2] and \\\n",
    "#                    nums1[len(nums1)//2-1] <= nums2[len(nums2)//2] <= nums1[len(nums1)//2]:\n",
    "#                         return (nums1[len(nums1)//2] + nums2[len(nums2)//2]) / 2\n",
    "#                 if nums1[len(nums1)//2] < nums2[len(nums2)//2]:\n",
    "#                     return self.recursive(nums1[len(nums1)//2:], nums2[:len(nums2)//2+1])\n",
    "#                 else:\n",
    "#                     return self.recursive(nums1[:len(nums1)//2+1], nums2[len(nums2)//2:])\n",
    "#             else:\n",
    "#                 if nums1[len(nums1)//2-1] > nums2[len(nums2)//2]:\n",
    "#                     return self.recursive(nums1[:len(nums1)//2], nums2[len(nums2)//2:])\n",
    "#                 elif nums1[len(nums1)//2] < nums2[len(nums2)//2-1]:\n",
    "#                     return self.recursive(nums1[len(nums1)//2:], nums2[:len(nums2)//2])\n",
    "#                 else:\n",
    "                    \n",
    "#         else:  # m+n是奇数\n",
    "#             if len(nums1) % 2 == 1:  # m奇，n偶\n",
    "#                 if nums2[len(nums2)//2-1] <= nums1[len(nums1)//2] <= nums2[len(nums2)//2]:\n",
    "#                     return nums1[len(nums1)//2]\n",
    "#                 elif nums1[len(nums1)//2] < nums2[len(nums2)//2-1]:\n",
    "#                     return self.recursive(nums1[len(nums1)//2:], nums2[:len(nums2)//2])\n",
    "#                 else:\n",
    "#                     return self.recursive(nums1[:len(nums1)//2+1], nums2[len(nums2)//2:])\n",
    "#             else:  # m偶，n奇\n",
    "#                 if nums1[len(nums1)//2-1] <= nums2[len(nums2)//2] <= nums1[len(nums1)//2]:\n",
    "#                     return nums2[len(nums2)//2]\n",
    "#                 elif nums2[len(nums2)//2] < nums1[len(nums1)//2-1]:\n",
    "#                     return self.recursive(nums2[len(nums2)//2:], nums1[:len(nums1)//2])\n",
    "#                 else:\n",
    "#                     return self.recursive(nums2[:len(nums2)//2+1], nums1[len(nums1)//2:])\n",
    "    \n",
    "#     def recursive(self, arr1, arr2):\n",
    "#         pass\n",
    "        \n",
    "        \n",
    "            \n",
    "#     # getMid() returns three variables\n",
    "#     # 1. the median of the array\n",
    "#     # 2. the rest numbers beside the median\n",
    "#     # 3. a tuple whose entries denote the left side and the right side of the median respectively\n",
    "#     def getMid(self, arr):\n",
    "#         l = len(arr)\n",
    "#         if l % 2 ==0:\n",
    "#             return arr[l//2-1], l//2-1\n",
    "#         else:\n",
    "#             return arr[l//2], l//2"
   ]
  },
  {
   "cell_type": "markdown",
   "metadata": {},
   "source": [
    "1,10,20,100,200,1000,2000,10000,20000,100000,200000,2000000\n",
    "\n",
    "\n",
    "median is 1500"
   ]
  }
 ],
 "metadata": {
  "kernelspec": {
   "display_name": "Python 3",
   "language": "python",
   "name": "python3"
  },
  "language_info": {
   "codemirror_mode": {
    "name": "ipython",
    "version": 3
   },
   "file_extension": ".py",
   "mimetype": "text/x-python",
   "name": "python",
   "nbconvert_exporter": "python",
   "pygments_lexer": "ipython3",
   "version": "3.7.0"
  },
  "latex_envs": {
   "LaTeX_envs_menu_present": true,
   "autoclose": false,
   "autocomplete": true,
   "bibliofile": "biblio.bib",
   "cite_by": "apalike",
   "current_citInitial": 1,
   "eqLabelWithNumbers": true,
   "eqNumInitial": 1,
   "hotkeys": {
    "equation": "Ctrl-E",
    "itemize": "Ctrl-I"
   },
   "labels_anchors": false,
   "latex_user_defs": false,
   "report_style_numbering": false,
   "user_envs_cfg": false
  },
  "varInspector": {
   "cols": {
    "lenName": 16,
    "lenType": 16,
    "lenVar": 40
   },
   "kernels_config": {
    "python": {
     "delete_cmd_postfix": "",
     "delete_cmd_prefix": "del ",
     "library": "var_list.py",
     "varRefreshCmd": "print(var_dic_list())"
    },
    "r": {
     "delete_cmd_postfix": ") ",
     "delete_cmd_prefix": "rm(",
     "library": "var_list.r",
     "varRefreshCmd": "cat(var_dic_list()) "
    }
   },
   "types_to_exclude": [
    "module",
    "function",
    "builtin_function_or_method",
    "instance",
    "_Feature"
   ],
   "window_display": false
  }
 },
 "nbformat": 4,
 "nbformat_minor": 2
}
