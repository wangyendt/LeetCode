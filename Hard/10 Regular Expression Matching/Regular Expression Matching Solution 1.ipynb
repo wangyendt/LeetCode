{
 "cells": [
  {
   "cell_type": "code",
   "execution_count": 44,
   "metadata": {
    "ExecuteTime": {
     "end_time": "2019-03-22T06:35:17.592689Z",
     "start_time": "2019-03-22T06:35:17.582683Z"
    }
   },
   "outputs": [],
   "source": [
    "class Solution:\n",
    "    def isMatch(self, s: str, p: str) -> bool:\n",
    "        return self.recursive(s, p)\n",
    "\n",
    "    def recursive(self, s, p):\n",
    "        if (not '.' in p) and (not '*' in p) and p != s:\n",
    "            return False\n",
    "        print(s, p)\n",
    "        if s == p:\n",
    "            return True\n",
    "        if (not s and p):\n",
    "            if len(p) == 2:\n",
    "                if p[1] == '*':\n",
    "                    return True\n",
    "            else:\n",
    "                return False\n",
    "        if (not s and p) or (not p and s):\n",
    "            return False\n",
    "        if not (p or s):\n",
    "            return True\n",
    "        if s[-1] == p[-1]:\n",
    "            return self.recursive(s[:-1], p[:-1])\n",
    "        else:\n",
    "            if p[-1] != '.' and p[-1] != '*':\n",
    "                return False\n",
    "            elif p[-1] == '.':\n",
    "                return self.recursive(s[:-1], p[:-1])\n",
    "            else:  # p[-1] == '*'\n",
    "                if len(p) == 1:\n",
    "                    return False\n",
    "                else:\n",
    "                    if p[-2] == '.':\n",
    "                        ind = 0\n",
    "                        while ind < len(s):\n",
    "                            ret = self.recursive(s[:-1 - ind], p[:-2])\n",
    "                            if ret:\n",
    "                                return ret\n",
    "                            ind += 1\n",
    "                        return False\n",
    "                    else:\n",
    "                        ind = 0\n",
    "                        while ind < len(s):\n",
    "                            if ind >= 1 and s[len(s)-1-ind] != s[len(s)-1-ind-1]:\n",
    "                                return False\n",
    "                            if p[-2] != s[len(s)-1-ind]:\n",
    "                                ret = self.recursive(s[:len(s) - ind], p[:-2])\n",
    "                                if ret:\n",
    "                                    return ret\n",
    "                            if p[-2] == s[len(s)-1-ind]:\n",
    "                                ret = self.recursive(s[:len(s) - ind], p[:-1])\n",
    "                                if ret:\n",
    "                                    return ret\n",
    "                            ind += 1\n",
    "                        return False\n"
   ]
  },
  {
   "cell_type": "code",
   "execution_count": 45,
   "metadata": {
    "ExecuteTime": {
     "end_time": "2019-03-22T06:35:18.083652Z",
     "start_time": "2019-03-22T06:35:18.078695Z"
    }
   },
   "outputs": [
    {
     "name": "stdout",
     "output_type": "stream",
     "text": [
      "mississippi mis*is*p*.\n",
      "p最后一位是点\n",
      "mississipp mis*is*p*\n",
      "mississipp mis*is*p\n",
      "s和p最后一位相同，进入下一次迭代\n",
      "mississip mis*is*\n",
      "mississip mis*i\n",
      "p最后一位是普通字母，返回false\n",
      "s到len(s)-1-ind位，p到倒数第一位，迭代成功，返回true\n",
      "mississi mis*i\n",
      "s和p最后一位相同，进入下一次迭代\n",
      "mississ mis*\n",
      "mississ mis\n",
      "s和p最后一位相同，进入下一次迭代\n",
      "missis mi\n",
      "p最后一位是普通字母，返回false\n",
      "s到len(s)-ind位，p到倒数第二位，迭代成功，返回true\n",
      "missis mis\n",
      "s和p最后一位相同，进入下一次迭代\n",
      "missi mi\n",
      "s和p最后一位相同，进入下一次迭代\n",
      "miss m\n",
      "p最后一位是普通字母，返回false\n",
      "s到len(s)-ind位，p到倒数第二位，迭代成功，返回true\n",
      "missi mis\n",
      "p最后一位是普通字母，返回false\n",
      "s到len(s)-ind位，p到倒数第二位，迭代成功，返回true\n",
      "miss mis\n",
      "s和p最后一位相同，进入下一次迭代\n",
      "mis mi\n",
      "p最后一位是普通字母，返回false\n",
      "s到len(s)-ind位，p到倒数第二位，迭代成功，返回true\n",
      "mis mis\n",
      "s到len(s)-ind位，p到倒数第二位，迭代成功，返回true\n",
      "s到len(s)-1-ind位，p到倒数第一位，迭代成功，返回true\n",
      "s到len(s)-ind位，p到倒数第二位，迭代成功，返回true\n",
      "True\n"
     ]
    }
   ],
   "source": [
    "so = Solution()\n",
    "# print(so.isMatch('aa','a'))\n",
    "# print(so.isMatch('aa','a*'))\n",
    "# print(so.isMatch('ab','.*'))\n",
    "# print(so.isMatch('aab','c*a*b'))\n",
    "# print(so.isMatch('mississippi', 'mis*is*p*.'))\n",
    "# print(so.isMatch('aaa', 'ab*ac*a'))\n",
    "print(so.isMatch('mississippi', 'mis*is*p*.'))"
   ]
  }
 ],
 "metadata": {
  "kernelspec": {
   "display_name": "Python 3",
   "language": "python",
   "name": "python3"
  },
  "language_info": {
   "codemirror_mode": {
    "name": "ipython",
    "version": 3
   },
   "file_extension": ".py",
   "mimetype": "text/x-python",
   "name": "python",
   "nbconvert_exporter": "python",
   "pygments_lexer": "ipython3",
   "version": "3.6.7"
  }
 },
 "nbformat": 4,
 "nbformat_minor": 2
}
