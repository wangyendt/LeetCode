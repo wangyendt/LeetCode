{
 "cells": [
  {
   "cell_type": "code",
   "execution_count": 7,
   "metadata": {
    "ExecuteTime": {
     "end_time": "2019-03-21T10:12:04.387476Z",
     "start_time": "2019-03-21T10:12:04.380447Z"
    }
   },
   "outputs": [],
   "source": [
    "class Solution:\n",
    "    def isMatch(self, s: str, p: str) -> bool:\n",
    "        return self.recursive(s, p)\n",
    "                \n",
    "    def recursive(self, s, p):\n",
    "        print(s, p)\n",
    "        if (not s and p) or (not p and s):\n",
    "            return False\n",
    "        if not (p or s):\n",
    "            return True\n",
    "        if s[-1] == p[-1]:\n",
    "            return self.recursive(s[:-1], p[:-1])\n",
    "        else:\n",
    "            if p[-1] != '.' or p[-1] != '*':\n",
    "                return False\n",
    "            elif p[-1] == '.':\n",
    "                return self.recursive(s[:-1], p[:-1])\n",
    "            else:  # p[-1] == '*'\n",
    "                if len(p) == 1:\n",
    "                    return False\n",
    "                else:\n",
    "                    if p[-2] == '.':\n",
    "                        ind = 0\n",
    "                        while ind < len(s):\n",
    "                            if self.recursive(s[:-1-ind], p[:-2]):\n",
    "                                return True\n",
    "                            ind += 1\n",
    "                        return False\n",
    "                    else:\n",
    "                        ind = 0\n",
    "                        while ind < len(s):\n",
    "                            if s[-1-ind] != p[-2]:\n",
    "                                return False\n",
    "                            if self.recursive(s[:-1-ind], p[:-1]):\n",
    "                                return True\n",
    "                            ind += 1\n",
    "                        return False\n",
    "            "
   ]
  },
  {
   "cell_type": "code",
   "execution_count": 8,
   "metadata": {
    "ExecuteTime": {
     "end_time": "2019-03-21T10:12:04.967419Z",
     "start_time": "2019-03-21T10:12:04.963431Z"
    }
   },
   "outputs": [
    {
     "name": "stdout",
     "output_type": "stream",
     "text": [
      "aa a\n",
      "a \n",
      "False\n",
      "aa a*\n",
      "False\n",
      "ab .*\n",
      "False\n",
      "aab c*a*b\n",
      "aa c*a*\n",
      "False\n",
      "mississippi mis*is*p*.\n",
      "False\n"
     ]
    }
   ],
   "source": [
    "so = Solution()\n",
    "print(so.isMatch('aa','a'))\n",
    "print(so.isMatch('aa','a*'))\n",
    "print(so.isMatch('ab','.*'))\n",
    "print(so.isMatch('aab','c*a*b'))\n",
    "print(so.isMatch('mississippi', 'mis*is*p*.'))"
   ]
  }
 ],
 "metadata": {
  "kernelspec": {
   "display_name": "Python 3",
   "language": "python",
   "name": "python3"
  },
  "language_info": {
   "codemirror_mode": {
    "name": "ipython",
    "version": 3
   },
   "file_extension": ".py",
   "mimetype": "text/x-python",
   "name": "python",
   "nbconvert_exporter": "python",
   "pygments_lexer": "ipython3",
   "version": "3.6.7"
  }
 },
 "nbformat": 4,
 "nbformat_minor": 2
}
