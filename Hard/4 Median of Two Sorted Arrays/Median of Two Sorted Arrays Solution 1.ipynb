{
 "cells": [
  {
   "cell_type": "code",
   "execution_count": 7,
   "metadata": {
    "ExecuteTime": {
     "end_time": "2019-03-19T10:11:12.706812Z",
     "start_time": "2019-03-19T10:11:12.699820Z"
    }
   },
   "outputs": [],
   "source": [
    "class Solution:\n",
    "    def findMedianSortedArrays(self, nums1, nums2):\n",
    "        if nums1[-1] <= nums2[0]:\n",
    "            return (nums1[-1] + nums2[0]) / 2\n",
    "        if nums2[-1] <= nums1[0]:\n",
    "            return (nums2[-1] + nums1[0]) / 2\n",
    "        med1, rest1, (left1, right1) = self.getMed(nums1)\n",
    "        med2, rest2, (left2, right2) = self.getMed(nums2)\n",
    "        if med1 == med2:\n",
    "            return med1\n",
    "        elif med1 < med2:\n",
    "            pass\n",
    "        else:\n",
    "            pass\n",
    "            \n",
    "    \n",
    "    def recursive(self, arr1, arr2):\n",
    "        if len(arr1) < len(arr2):\n",
    "            med, rest = self.getMed(arr1)\n",
    "            \n",
    "    # getMed() returns three variables\n",
    "    # 1. the median of the array\n",
    "    # 2. the rest numbers beside the median\n",
    "    # 3. a tuple whose entries denote the left side and the right side of the median respectively\n",
    "    def getMed(self, arr):\n",
    "        l = len(arr)\n",
    "        if l % 2 ==0:\n",
    "            return (arr[l//2-1]+arr[l//2])/2, l//2, (arr[l//2-1], arr[l//2])\n",
    "        else:\n",
    "            return arr[l//2], l//2, (arr[l//2], arr[l//2])"
   ]
  },
  {
   "cell_type": "markdown",
   "metadata": {},
   "source": [
    "1,10,20,100,200,1000,2000,10000,20000,100000,200000,2000000\n",
    "\n",
    "\n",
    "median is 1500"
   ]
  },
  {
   "cell_type": "code",
   "execution_count": 8,
   "metadata": {
    "ExecuteTime": {
     "end_time": "2019-03-19T10:11:13.608001Z",
     "start_time": "2019-03-19T10:11:13.604012Z"
    }
   },
   "outputs": [
    {
     "name": "stdout",
     "output_type": "stream",
     "text": [
      "None\n",
      "3\n"
     ]
    }
   ],
   "source": [
    "so = Solution()\n",
    "print(so.findMedianSortedArrays([1,10,100,1000,10000,100000],[20,200,2000,20000,200000,2000000]))\n",
    "print(so.findMedianSortedArrays([1,2,3,4,5],[-1,0,3,6,7]))"
   ]
  },
  {
   "cell_type": "code",
   "execution_count": 4,
   "metadata": {
    "ExecuteTime": {
     "end_time": "2019-03-19T09:53:11.147751Z",
     "start_time": "2019-03-19T09:53:11.144758Z"
    }
   },
   "outputs": [
    {
     "name": "stdout",
     "output_type": "stream",
     "text": [
      "1\n"
     ]
    }
   ],
   "source": [
    "a = so.getMed([1])\n",
    "print(a)"
   ]
  }
 ],
 "metadata": {
  "kernelspec": {
   "display_name": "Python 3",
   "language": "python",
   "name": "python3"
  },
  "language_info": {
   "codemirror_mode": {
    "name": "ipython",
    "version": 3
   },
   "file_extension": ".py",
   "mimetype": "text/x-python",
   "name": "python",
   "nbconvert_exporter": "python",
   "pygments_lexer": "ipython3",
   "version": "3.6.7"
  },
  "latex_envs": {
   "LaTeX_envs_menu_present": true,
   "autoclose": false,
   "autocomplete": true,
   "bibliofile": "biblio.bib",
   "cite_by": "apalike",
   "current_citInitial": 1,
   "eqLabelWithNumbers": true,
   "eqNumInitial": 1,
   "hotkeys": {
    "equation": "Ctrl-E",
    "itemize": "Ctrl-I"
   },
   "labels_anchors": false,
   "latex_user_defs": false,
   "report_style_numbering": false,
   "user_envs_cfg": false
  },
  "varInspector": {
   "cols": {
    "lenName": 16,
    "lenType": 16,
    "lenVar": 40
   },
   "kernels_config": {
    "python": {
     "delete_cmd_postfix": "",
     "delete_cmd_prefix": "del ",
     "library": "var_list.py",
     "varRefreshCmd": "print(var_dic_list())"
    },
    "r": {
     "delete_cmd_postfix": ") ",
     "delete_cmd_prefix": "rm(",
     "library": "var_list.r",
     "varRefreshCmd": "cat(var_dic_list()) "
    }
   },
   "types_to_exclude": [
    "module",
    "function",
    "builtin_function_or_method",
    "instance",
    "_Feature"
   ],
   "window_display": false
  }
 },
 "nbformat": 4,
 "nbformat_minor": 2
}
