{
 "cells": [
  {
   "cell_type": "code",
   "execution_count": 1,
   "metadata": {
    "ExecuteTime": {
     "end_time": "2019-06-01T17:43:24.752848Z",
     "start_time": "2019-06-01T17:43:24.744321Z"
    }
   },
   "outputs": [],
   "source": [
    "class Solution:\n",
    "    def assignBikes(self, workers: list(list()), bikes: list(list())) -> int:\n",
    "        def manhattan(arr1, arr2):\n",
    "            return abs(arr1[0]-arr2[0])+abs(arr1[1]-arr2[1])\n",
    "        self.m, self.n, self.minDist = len(workers), len(bikes), 0\n",
    "        self.dist = [[0 for _ in range(self.n)] for _ in range(self.m)]\n",
    "        self.memo = {}\n",
    "        for i in range(self.m):\n",
    "            for j in range(self.n):\n",
    "                self.dist[i][j] = manhattan(workers[i], bikes[j])\n",
    "                self.minDist += self.dist[i][j]\n",
    "        return self.recursive(0, list(range(self.n)))\n",
    "    \n",
    "    def recursive(self, wi, leftBikes):\n",
    "        if wi == self.m:\n",
    "            return 0\n",
    "        else:\n",
    "            if (wi,tuple(leftBikes)) in self.memo:\n",
    "                return self.memo[(wi,tuple(leftBikes))]\n",
    "            else:\n",
    "                tmp = self.minDist\n",
    "                for bi, b in enumerate(leftBikes):\n",
    "                    tmp = min(tmp, self.recursive(wi+1,leftBikes[:bi]+leftBikes[bi+1:])+self.dist[wi][b])\n",
    "                self.memo[(wi,tuple(leftBikes))] = tmp\n",
    "            return tmp"
   ]
  },
  {
   "cell_type": "code",
   "execution_count": 2,
   "metadata": {
    "ExecuteTime": {
     "end_time": "2019-06-01T17:43:27.016896Z",
     "start_time": "2019-06-01T17:43:26.998846Z"
    }
   },
   "outputs": [
    {
     "name": "stdout",
     "output_type": "stream",
     "text": [
      "6\n",
      "4\n",
      "4995\n",
      "7992\n"
     ]
    }
   ],
   "source": [
    "so = Solution()\n",
    "print(so.assignBikes([[0,0],[2,1]],[[1,2],[3,3]]))\n",
    "print(so.assignBikes([[0,0],[1,1],[2,0]],[[1,0],[2,2],[2,1]]))\n",
    "print(so.assignBikes([[0,0],[1,0],[2,0],[3,0],[4,0]],[[0,999],[1,999],[2,999],[3,999],[4,999]]))\n",
    "print(so.assignBikes([[0,0],[1,0],[2,0],[3,0],[4,0],[5,0],[6,0],[7,0]],[[0,999],[1,999],[2,999],[3,999],[4,999],[5,999],[6,999],[7,999],[8,999],[9,999]]))"
   ]
  }
 ],
 "metadata": {
  "hide_input": false,
  "kernelspec": {
   "display_name": "Python 3",
   "language": "python",
   "name": "python3"
  },
  "language_info": {
   "codemirror_mode": {
    "name": "ipython",
    "version": 3
   },
   "file_extension": ".py",
   "mimetype": "text/x-python",
   "name": "python",
   "nbconvert_exporter": "python",
   "pygments_lexer": "ipython3",
   "version": "3.6.5"
  },
  "latex_envs": {
   "LaTeX_envs_menu_present": true,
   "autoclose": false,
   "autocomplete": true,
   "bibliofile": "biblio.bib",
   "cite_by": "apalike",
   "current_citInitial": 1,
   "eqLabelWithNumbers": true,
   "eqNumInitial": 1,
   "hotkeys": {
    "equation": "Ctrl-E",
    "itemize": "Ctrl-I"
   },
   "labels_anchors": false,
   "latex_user_defs": false,
   "report_style_numbering": false,
   "user_envs_cfg": false
  },
  "nbTranslate": {
   "displayLangs": [
    "*"
   ],
   "hotkey": "alt-t",
   "langInMainMenu": true,
   "sourceLang": "en",
   "targetLang": "fr",
   "useGoogleTranslate": true
  },
  "toc": {
   "base_numbering": 1,
   "nav_menu": {},
   "number_sections": true,
   "sideBar": true,
   "skip_h1_title": false,
   "title_cell": "Table of Contents",
   "title_sidebar": "Contents",
   "toc_cell": false,
   "toc_position": {},
   "toc_section_display": true,
   "toc_window_display": false
  },
  "varInspector": {
   "cols": {
    "lenName": 16,
    "lenType": 16,
    "lenVar": 40
   },
   "kernels_config": {
    "python": {
     "delete_cmd_postfix": "",
     "delete_cmd_prefix": "del ",
     "library": "var_list.py",
     "varRefreshCmd": "print(var_dic_list())"
    },
    "r": {
     "delete_cmd_postfix": ") ",
     "delete_cmd_prefix": "rm(",
     "library": "var_list.r",
     "varRefreshCmd": "cat(var_dic_list()) "
    }
   },
   "types_to_exclude": [
    "module",
    "function",
    "builtin_function_or_method",
    "instance",
    "_Feature"
   ],
   "window_display": false
  }
 },
 "nbformat": 4,
 "nbformat_minor": 2
}
