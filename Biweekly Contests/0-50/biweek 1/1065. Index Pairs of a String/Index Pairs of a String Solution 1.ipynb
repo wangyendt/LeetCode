{
 "cells": [
  {
   "cell_type": "code",
   "execution_count": 24,
   "metadata": {
    "ExecuteTime": {
     "end_time": "2019-06-01T14:50:53.717592Z",
     "start_time": "2019-06-01T14:50:53.712579Z"
    }
   },
   "outputs": [],
   "source": [
    "class Solution:\n",
    "    def indexPairs(self, text: str, words: list) -> list(list()):\n",
    "        dic = {}\n",
    "        for w in words:\n",
    "            if dic.get(len(w)):\n",
    "                dic[len(w)].append(w)\n",
    "            else:\n",
    "                dic[len(w)] = [w]\n",
    "        ret = []\n",
    "        print(dic)\n",
    "        for k in dic.keys():\n",
    "            for i in range(len(text)+1-k):\n",
    "                if text[i:i+k] in dic[k]:\n",
    "                    ret.append([i,i+k-1])\n",
    "        return sorted(ret)"
   ]
  },
  {
   "cell_type": "code",
   "execution_count": 25,
   "metadata": {
    "ExecuteTime": {
     "end_time": "2019-06-01T14:50:53.998066Z",
     "start_time": "2019-06-01T14:50:53.993055Z"
    }
   },
   "outputs": [
    {
     "name": "stdout",
     "output_type": "stream",
     "text": [
      "{5: ['story', 'fleet'], 8: ['leetcode']}\n",
      "[[3, 7], [9, 13], [10, 17]]\n",
      "{3: ['aba'], 2: ['ab']}\n",
      "[[0, 1], [0, 2], [2, 3], [2, 4]]\n"
     ]
    }
   ],
   "source": [
    "so = Solution()\n",
    "print(so.indexPairs(\"thestoryofleetcodeandme\",[\"story\",\"fleet\",\"leetcode\"]))\n",
    "print(so.indexPairs(\"ababa\",[\"aba\",\"ab\"]))"
   ]
  }
 ],
 "metadata": {
  "hide_input": false,
  "kernelspec": {
   "display_name": "Python 3",
   "language": "python",
   "name": "python3"
  },
  "language_info": {
   "codemirror_mode": {
    "name": "ipython",
    "version": 3
   },
   "file_extension": ".py",
   "mimetype": "text/x-python",
   "name": "python",
   "nbconvert_exporter": "python",
   "pygments_lexer": "ipython3",
   "version": "3.6.5"
  },
  "latex_envs": {
   "LaTeX_envs_menu_present": true,
   "autoclose": false,
   "autocomplete": true,
   "bibliofile": "biblio.bib",
   "cite_by": "apalike",
   "current_citInitial": 1,
   "eqLabelWithNumbers": true,
   "eqNumInitial": 1,
   "hotkeys": {
    "equation": "Ctrl-E",
    "itemize": "Ctrl-I"
   },
   "labels_anchors": false,
   "latex_user_defs": false,
   "report_style_numbering": false,
   "user_envs_cfg": false
  },
  "nbTranslate": {
   "displayLangs": [
    "*"
   ],
   "hotkey": "alt-t",
   "langInMainMenu": true,
   "sourceLang": "en",
   "targetLang": "fr",
   "useGoogleTranslate": true
  },
  "toc": {
   "base_numbering": 1,
   "nav_menu": {},
   "number_sections": true,
   "sideBar": true,
   "skip_h1_title": false,
   "title_cell": "Table of Contents",
   "title_sidebar": "Contents",
   "toc_cell": false,
   "toc_position": {},
   "toc_section_display": true,
   "toc_window_display": false
  },
  "varInspector": {
   "cols": {
    "lenName": 16,
    "lenType": 16,
    "lenVar": 40
   },
   "kernels_config": {
    "python": {
     "delete_cmd_postfix": "",
     "delete_cmd_prefix": "del ",
     "library": "var_list.py",
     "varRefreshCmd": "print(var_dic_list())"
    },
    "r": {
     "delete_cmd_postfix": ") ",
     "delete_cmd_prefix": "rm(",
     "library": "var_list.r",
     "varRefreshCmd": "cat(var_dic_list()) "
    }
   },
   "types_to_exclude": [
    "module",
    "function",
    "builtin_function_or_method",
    "instance",
    "_Feature"
   ],
   "window_display": false
  }
 },
 "nbformat": 4,
 "nbformat_minor": 2
}
