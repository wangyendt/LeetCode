{
 "cells": [
  {
   "cell_type": "code",
   "execution_count": 4,
   "metadata": {
    "ExecuteTime": {
     "end_time": "2019-04-08T09:18:19.209070Z",
     "start_time": "2019-04-08T09:18:19.205107Z"
    }
   },
   "outputs": [],
   "source": [
    "# list all non-negative solutions of equation: {x1+x2+...+xh = s}\n",
    "def fixedSumGenerateCombinations(s, hole):\n",
    "    # s denotes sum of available '('\n",
    "    # hole denotes how many holes to insert, like 1,2,3,4,...\n",
    "    if hole == 1:\n",
    "        ret = [[s]]\n",
    "    else:\n",
    "        ret = []\n",
    "        for i in range(s+1):\n",
    "            result = fixedSumGenerateCombinations(s-i, hole-1)\n",
    "            for res in result:\n",
    "                tmp = [i]\n",
    "                tmp.extend(res)\n",
    "                ret.append(tmp)\n",
    "    return ret"
   ]
  },
  {
   "cell_type": "code",
   "execution_count": 5,
   "metadata": {
    "ExecuteTime": {
     "end_time": "2019-04-08T09:18:19.453725Z",
     "start_time": "2019-04-08T09:18:19.445734Z"
    }
   },
   "outputs": [
    {
     "name": "stdout",
     "output_type": "stream",
     "text": [
      "[[0, 0, 5], [0, 1, 4], [0, 2, 3], [0, 3, 2], [0, 4, 1], [0, 5, 0], [1, 0, 4], [1, 1, 3], [1, 2, 2], [1, 3, 1], [1, 4, 0], [2, 0, 3], [2, 1, 2], [2, 2, 1], [2, 3, 0], [3, 0, 2], [3, 1, 1], [3, 2, 0], [4, 0, 1], [4, 1, 0], [5, 0, 0]]\n"
     ]
    }
   ],
   "source": [
    "print(fixedSumGenerateCombinations(5,3))"
   ]
  }
 ],
 "metadata": {
  "kernelspec": {
   "display_name": "Python 3",
   "language": "python",
   "name": "python3"
  },
  "language_info": {
   "codemirror_mode": {
    "name": "ipython",
    "version": 3
   },
   "file_extension": ".py",
   "mimetype": "text/x-python",
   "name": "python",
   "nbconvert_exporter": "python",
   "pygments_lexer": "ipython3",
   "version": "3.6.7"
  }
 },
 "nbformat": 4,
 "nbformat_minor": 2
}
