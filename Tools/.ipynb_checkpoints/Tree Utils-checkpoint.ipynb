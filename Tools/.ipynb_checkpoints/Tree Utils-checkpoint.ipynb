{
 "cells": [
  {
   "cell_type": "code",
   "execution_count": 2,
   "metadata": {
    "ExecuteTime": {
     "end_time": "2019-05-07T11:51:35.982266Z",
     "start_time": "2019-05-07T11:51:35.979258Z"
    }
   },
   "outputs": [],
   "source": [
    "# Definition for a binary tree node.\n",
    "class TreeNode:\n",
    "    def __init__(self, x):\n",
    "        self.key = x\n",
    "        self.left = None\n",
    "        self.right = None\n",
    "        self.height = 0"
   ]
  },
  {
   "cell_type": "code",
   "execution_count": 3,
   "metadata": {
    "ExecuteTime": {
     "end_time": "2019-05-07T11:51:36.149964Z",
     "start_time": "2019-05-07T11:51:36.144983Z"
    }
   },
   "outputs": [],
   "source": [
    "def maxDepth(root: TreeNode) -> int:\n",
    "    def recursive(tr, dep):\n",
    "        if not tr:\n",
    "            return dep\n",
    "        else:\n",
    "            return max(recursive(tr.left, dep+1), recursive(tr.right, dep+1))\n",
    "    return recursive(root, 0)"
   ]
  },
  {
   "cell_type": "code",
   "execution_count": 4,
   "metadata": {
    "ExecuteTime": {
     "end_time": "2019-05-07T11:51:36.297615Z",
     "start_time": "2019-05-07T11:51:36.290628Z"
    }
   },
   "outputs": [],
   "source": [
    "def parseTreeNode(l):\n",
    "    if not l:\n",
    "        return None\n",
    "    tree = TreeNode(l[0])\n",
    "    leaves = [tree]\n",
    "    l.pop(0)\n",
    "    while l:\n",
    "        leavesTmp = []\n",
    "        for t in leaves:\n",
    "            if l[0] == 'null':\n",
    "                t.left = None\n",
    "            else:\n",
    "                t.left = TreeNode(l[0])\n",
    "                leavesTmp.append(t.left)\n",
    "            l.pop(0)\n",
    "            if l:\n",
    "                if l[0] == 'null':\n",
    "                    t.right = None\n",
    "                else:\n",
    "                    t.right = TreeNode(l[0])\n",
    "                    leavesTmp.append(t.right)\n",
    "                l.pop(0)\n",
    "            if not l:\n",
    "                break\n",
    "            leaves = leavesTmp\n",
    "    return tree        "
   ]
  },
  {
   "cell_type": "code",
   "execution_count": 5,
   "metadata": {
    "ExecuteTime": {
     "end_time": "2019-05-07T11:51:37.007569Z",
     "start_time": "2019-05-07T11:51:37.003563Z"
    }
   },
   "outputs": [],
   "source": [
    "def showTreeNode(tree: TreeNode):\n",
    "    stack = [tree]\n",
    "    ret = []\n",
    "    while stack and len(ret) < 2**maxDepth(tree)-1:\n",
    "        tr = stack.pop(0)\n",
    "        if not tr:\n",
    "            ret.append('null')\n",
    "            stack.append(None)\n",
    "            stack.append(None)\n",
    "        else:\n",
    "            ret.append(tr.val)\n",
    "            stack.append(tr.left)\n",
    "            stack.append(tr.right)\n",
    "    return ret"
   ]
  },
  {
   "cell_type": "code",
   "execution_count": null,
   "metadata": {},
   "outputs": [],
   "source": [
    "class AVLTree:\n",
    "    def __init__(self):\n",
    "        self.root = None\n",
    "\n",
    "    def height(self, node):\n",
    "        if node is None:\n",
    "            return -1\n",
    "        else:\n",
    "            return node.height\n",
    "\n",
    "    def _update_height(self, node):\n",
    "        node.height = max(self.height(node.left), self.height(node.right)) + 1\n",
    "\n",
    "    def _unbalance(self, node):\n",
    "        return abs(self.height(node.left) - self.height(node.right)) is 2\n",
    "\n",
    "    \"\"\"右旋处理LL\"\"\"\n",
    "    def _right_rotate(self, node):\n",
    "        node_right = node\n",
    "        node = node.left\n",
    "        node_right.left = node.right\n",
    "        node.right = node_right\n",
    "        \n",
    "        self._update_height(node_right)\n",
    "        self._update_height(node)\n",
    "        \n",
    "        return node\n",
    "\n",
    "    \"\"\"左旋处理RR\"\"\"\n",
    "    def _left_rotate(self, node):\n",
    "        node_left = node\n",
    "        node = node.right\n",
    "        node_left.right = node.left\n",
    "        node.left = node_left\n",
    "        \n",
    "        self._update_height(node_left)\n",
    "        self._update_height(node)\n",
    "        \n",
    "        return node\n",
    "\n",
    "    \"\"\"双向旋转（先左后右）平衡处理LR\"\"\"\n",
    "    def _left_right_rotate(self, node):\n",
    "        node.left = self._left_rotate(node.left)\n",
    "        return self._right_rotate(node)\n",
    "\n",
    "    \"\"\"双向旋转（先右后左）平衡处理RL\"\"\"\n",
    "    def _right_left_rotate(self, node):\n",
    "        node.right = self._right_rotate(node.right)\n",
    "        return self._left_rotate(node)\n",
    "\n",
    "    \"\"\"插入元素\"\"\"\n",
    "    def insert(self, key):\n",
    "        if self.root is None:\n",
    "            self.root = TreeNode(key)\n",
    "        else:\n",
    "            self.root = self._insert(key, self.root)\n",
    "            \n",
    "    def _insert(self, key, node):\n",
    "        if node is None:\n",
    "            node = TreeNode(key)\n",
    "\n",
    "        elif key < node.key: #左侧插入结点\n",
    "            node.left = self._insert(key, node.left)\n",
    "            if self._unbalance(node): #不平衡\n",
    "                if key < node.left.key: #LL不平衡\n",
    "                    node = self._right_rotate(node) #右旋\n",
    "                else: #LR不平衡\n",
    "                    node = self._left_right_rotate(node) #先左旋再右旋\n",
    "             \n",
    "        elif key > node.key: #右侧插入结点\n",
    "            node.right = self._insert(key, node.right)\n",
    "            if self._unbalance(node): #不平衡\n",
    "                if key < node.right.key: #LR不平衡\n",
    "                    node = self._right_left_rotate(node) #先右旋再左旋\n",
    "                else: #RR不平衡\n",
    "                    node = self._left_rotate(node) #左旋\n",
    "\n",
    "        self._update_height(node)\n",
    "        \n",
    "        return node\n",
    "    \n",
    "    # 查询val在树中介于哪两个数字之间\n",
    "    def query(self, val: int) -> (int, int):\n",
    "        p = self.root\n",
    "        while p:\n",
    "            if val < p.key:\n",
    "                if p.left:\n",
    "                    if val < p.left.key:\n",
    "                        p = p.left\n",
    "                    else:\n",
    "                        return p.left.key, p.key\n",
    "                else:\n",
    "                    return -1, p.key\n",
    "            else:\n",
    "                if p.right:\n",
    "                    if val > p.right.key:\n",
    "                        p = p.right\n",
    "                    else:\n",
    "                        return p.key, p.right.key\n",
    "                else:\n",
    "                    return p.key, -1\n",
    "        return -1, -1"
   ]
  }
 ],
 "metadata": {
  "kernelspec": {
   "display_name": "Python 3",
   "language": "python",
   "name": "python3"
  },
  "language_info": {
   "codemirror_mode": {
    "name": "ipython",
    "version": 3
   },
   "file_extension": ".py",
   "mimetype": "text/x-python",
   "name": "python",
   "nbconvert_exporter": "python",
   "pygments_lexer": "ipython3",
   "version": "3.7.0"
  },
  "latex_envs": {
   "LaTeX_envs_menu_present": true,
   "autoclose": false,
   "autocomplete": true,
   "bibliofile": "biblio.bib",
   "cite_by": "apalike",
   "current_citInitial": 1,
   "eqLabelWithNumbers": true,
   "eqNumInitial": 1,
   "hotkeys": {
    "equation": "Ctrl-E",
    "itemize": "Ctrl-I"
   },
   "labels_anchors": false,
   "latex_user_defs": false,
   "report_style_numbering": false,
   "user_envs_cfg": false
  }
 },
 "nbformat": 4,
 "nbformat_minor": 2
}
